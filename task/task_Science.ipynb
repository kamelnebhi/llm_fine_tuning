{
  "cells": [
    {
      "attachments": {},
      "cell_type": "markdown",
      "metadata": {
        "id": "06c0Cuh0kfQ7"
      },
      "source": [
        "# ML Engineer Take-home Project\n",
        "\n",
        "## Getting started (Please make a copy and submit the completed project via the submission link in the email)\n",
        "To start, copy this read-only project into a new notebook.\n",
        "\n",
        "Make sure that you connect to a GPU instance to make training faster:\n",
        "- Next to the `Connect` button on the top right, click the arrow and then `Change runtime type`.\n",
        "- Select `T4 GPU`.\n",
        "- Click `Connect`.\n",
        "\n",
        "## The project\n",
        "The goal of this project is to analyze the performance of a classifier, identify gaps and iterate on the model training based on those gaps.\n",
        "The model is trained on a text dataset to distinguish between short sentences about science and technology and other topics.\n",
        "\n",
        "The code provided trains a model\n",
        "on the [`ag_news` dataset](https://huggingface.co/datasets/ag_news) from Hugging Face. To simplify, we transform that dataset into a binary\n",
        "classification problem where the positive class corresponds to titles about Science and Technology, and all remaining topics are bundled in the negative class.\n",
        "\n",
        "You can follow the notebook to first train a model and then evaluate it on a single input prompt.\n",
        "\n",
        "### What is expected from the project\n",
        "In addition to your experimental code, we would like to see a TLDR of the project that summarizes the assumptions you made, why you decided to tackle it the way you did, and what you would do in follow up steps. We would also like to see a summary of your findings in your own words.\n",
        "\n",
        "**In summary, you should upload a Jupyter notebook with the following**:\n",
        "- All the code your ran with populated outputs.\n",
        "- At the top of the notebook, a markdown cell with the TLDR of your project.\n",
        "\n",
        "In order to make sure that the outputs are saved, go to Edit > Notebook Settings and make sure that the box 'Omit code cell output when saving this notebook' is **unchecked**.\n",
        "\n",
        "### Goal\n",
        "You are part of a team that wants to expand this initial model into a production-ready model. This model should be able to classify any short string into Science/Technology vs other topics, regardless of its source. The model trained on this dataset is the initial iteration, but you are aware that there are many blindspots and that the work has just begun: we are far from production-ready.\n",
        "\n",
        "Your main goal is simple: get an understanding of what is wrong with the model and improve it. You are free to clarify on which dimensions you want to focus your analysis and to define what production-ready means.\n",
        "\n",
        "We are particularly interested in how you approach the problem. Ideally, we would like to see:\n",
        "- That you start by writing explicit tests and identifying where the model falls short.\n",
        "- That you prioritize onboarding the data that needs to be collected next and find creative ways to get it.\n",
        "- How you measure the model's robustness and write training time augmentations to make the model more robust (there is an `augment_dataset` placeholder).\n",
        "\n",
        "We provide an OpenAI key for this project which you can use to generate data if needed.\n",
        "\n",
        "Assumptions:\n",
        "- For simplicity and to reduce training time, we assume that all inputs in production will be\n",
        "under 64 tokens and therefore we are truncating inputs to 64 tokens. Feel free to discuss the implications of this assumption.\n",
        "\n",
        "\n",
        "**Note**:\n",
        "- This exercise is open-ended, there is no unique solution or approach. We are interested in how you think about the problem, how you approach testing and prioritizing the gaps to be filled. Given the breadth of the task, we will focus on your approach and achieving a few key milestones, rather than starting a lot of different things that don't get to the finish line.\n",
        "- You don't *have* to use this notebook. Feel free to download this code and work locally if you find it easier, though training times may be much longer if you don't have a GPU on your machine.\n"
      ]
    },
    {
      "cell_type": "markdown",
      "metadata": {
        "id": "Se7048W2mClu"
      },
      "source": [
        "Let's install the necessary packages."
      ]
    },
    {
      "cell_type": "code",
      "execution_count": 1,
      "metadata": {
        "id": "GnElvIwrgmjN"
      },
      "outputs": [],
      "source": [
        "#%pip install transformers>=4.40.1\n",
        "#%pip install datasets>=2.19.0\n",
        "#%pip install evaluate>=0.4.1\n",
        "#%pip install accelerate>=0.29.3\n",
        "#%pip install scikit-learn>=1.4.2\n",
        "#%pip install torch>=2.3.0"
      ]
    },
    {
      "cell_type": "code",
      "execution_count": 1,
      "metadata": {},
      "outputs": [],
      "source": [
        "import torch\n",
        "torch.cuda.empty_cache()"
      ]
    },
    {
      "cell_type": "code",
      "execution_count": 2,
      "metadata": {
        "id": "vupiJ8mZhM8-"
      },
      "outputs": [],
      "source": [
        "import evaluate\n",
        "import numpy as np\n",
        "import pandas as pd\n",
        "\n",
        "from datasets import load_dataset\n",
        "from datasets import DatasetDict, Dataset\n",
        "from transformers import AutoTokenizer\n",
        "from transformers import AutoModelForSequenceClassification, TrainingArguments, Trainer"
      ]
    },
    {
      "cell_type": "markdown",
      "metadata": {
        "id": "cl_R-j7_mVcD"
      },
      "source": [
        "Now, let's write down the functions needed to load and prepare our data, as well as train the model on a few epochs.\n",
        "\n",
        "**Notice that there are some placeholders for you to add augmentations if needed**."
      ]
    },
    {
      "cell_type": "code",
      "execution_count": 3,
      "metadata": {
        "id": "kTYjnJlAhPEW"
      },
      "outputs": [],
      "source": [
        "def augment_dataset(df: pd.DataFrame) -> pd.DataFrame:\n",
        "    \"\"\"TODO: write agumentation code to make the model more robust\"\"\"\n",
        "    return df\n",
        "\n",
        "\n",
        "def load_and_prepare_dataset() -> DatasetDict:\n",
        "    \"\"\"Loads the dataset from HF and creates train/test splits.\"\"\"\n",
        "\n",
        "    # Classify science vs non-science.\n",
        "    science_index = 3\n",
        "    dataset = load_dataset(\"ag_news\")\n",
        "\n",
        "    train_df = process_dataset(dataset[\"train\"], science_index)\n",
        "    test_df = process_dataset(dataset[\"test\"], science_index)\n",
        "\n",
        "    return DatasetDict(\n",
        "        {\n",
        "            \"train\": Dataset.from_pandas(train_df),\n",
        "            \"test\": Dataset.from_pandas(test_df),\n",
        "        }\n",
        "    ), train_df, test_df\n",
        "\n",
        "\n",
        "def process_dataset(dataset: Dataset, class_index: int) -> pd.DataFrame:\n",
        "    \"\"\"Converts a HF dataset to Pandas and performs pre-processing.\"\"\"\n",
        "    df = dataset.to_pandas()\n",
        "    df[\"label\"] = df[\"label\"].apply(lambda id: int(id == class_index))\n",
        "    # Balance the dataset\n",
        "    df = pd.concat(\n",
        "        [\n",
        "            df[df[\"label\"] == 0].sample(frac=1.0 / 3, random_state=42),\n",
        "            df[df[\"label\"] == 1].sample(frac=1.0, random_state=42),\n",
        "        ]\n",
        "    )\n",
        "    # TODO: Here, you can add augmentations\n",
        "    df = augment_dataset(df)\n",
        "    # Shuffle and return the dataset.\n",
        "    return df.sample(frac=1, random_state=42)\n",
        "\n",
        "\n",
        "def train(dataset) -> None:\n",
        "    \"\"\"Trains a model on a HF dataset using TinyBERT.\"\"\"\n",
        "\n",
        "    # Create the tokenizer\n",
        "    tokenizer = AutoTokenizer.from_pretrained(\"prajjwal1/bert-tiny\")\n",
        "\n",
        "    def preprocess_function(examples, max_length: int = 64):\n",
        "        # To make training faster, we consider only short inputs of max 64 tokens.\n",
        "        return tokenizer(\n",
        "            examples[\"text\"],\n",
        "            truncation=True,\n",
        "            padding=\"max_length\",\n",
        "            max_length=max_length,\n",
        "            return_tensors=\"pt\",\n",
        "        )\n",
        "\n",
        "    # Tokenize the dataset\n",
        "    tokenized_dataset = dataset.map(preprocess_function, batched=True)\n",
        "\n",
        "    # Initialize the model\n",
        "    model = AutoModelForSequenceClassification.from_pretrained(\n",
        "        \"prajjwal1/bert-tiny\", num_labels=2\n",
        "    )\n",
        "    # Make sure you are running on a GPU instance to accelerate training.\n",
        "    model.to(\"cuda\")\n",
        "\n",
        "    for param in model.parameters():\n",
        "      param.data = param.data.contiguous()\n",
        "\n",
        "    # Define the metric of choice (here, accuracy)\n",
        "    accuracy = evaluate.load(\"accuracy\")\n",
        "    precision = evaluate.load(\"precision\")\n",
        "    recall = evaluate.load(\"recall\")\n",
        "\n",
        "    def compute_metrics(eval_pred):\n",
        "        predictions, labels = eval_pred\n",
        "        predictions = np.argmax(predictions, axis=1)\n",
        "        return {\n",
        "            \"accuracy\": accuracy.compute(predictions=predictions, references=labels),\n",
        "            \"precision\": precision.compute(predictions=predictions, references=labels),\n",
        "            \"recall\": recall.compute(predictions=predictions, references=labels),\n",
        "        }\n",
        "\n",
        "    # Training arguments. The checkpoints are saved in ./results after every epoch.\n",
        "    training_args = TrainingArguments(\n",
        "        report_to=\"none\",  # Disable WanDB\n",
        "        output_dir=\"./results\",\n",
        "        per_device_train_batch_size=128,\n",
        "        per_device_eval_batch_size=128,\n",
        "        evaluation_strategy=\"steps\",\n",
        "        save_strategy=\"steps\",\n",
        "        save_steps=500,\n",
        "        eval_steps=1000,\n",
        "        num_train_epochs=3,\n",
        "    )\n",
        "\n",
        "    trainer = Trainer(\n",
        "        model=model,\n",
        "        args=training_args,\n",
        "        train_dataset=tokenized_dataset[\"train\"],\n",
        "        eval_dataset=tokenized_dataset[\"test\"],\n",
        "        compute_metrics=compute_metrics,\n",
        "    )\n",
        "\n",
        "    # Train the model\n",
        "    trainer.train()"
      ]
    },
    {
      "cell_type": "markdown",
      "metadata": {
        "id": "IPYJtGkVmKc0"
      },
      "source": [
        "Let's load the dataset and train the model! The results with be available in the `results` directory, which you can find by clicking on the file icon on the left."
      ]
    },
    {
      "cell_type": "code",
      "execution_count": 4,
      "metadata": {
        "id": "mhnQHH1HhSvR"
      },
      "outputs": [],
      "source": [
        "dataset, train_df, test_df = load_and_prepare_dataset()"
      ]
    },
    {
      "cell_type": "code",
      "execution_count": 42,
      "metadata": {},
      "outputs": [
        {
          "data": {
            "text/plain": [
              "DatasetDict({\n",
              "    train: Dataset({\n",
              "        features: ['text', 'label', '__index_level_0__'],\n",
              "        num_rows: 60000\n",
              "    })\n",
              "    test: Dataset({\n",
              "        features: ['text', 'label', '__index_level_0__'],\n",
              "        num_rows: 3800\n",
              "    })\n",
              "})"
            ]
          },
          "execution_count": 42,
          "metadata": {},
          "output_type": "execute_result"
        }
      ],
      "source": [
        "dataset"
      ]
    },
    {
      "cell_type": "code",
      "execution_count": 46,
      "metadata": {},
      "outputs": [
        {
          "data": {
            "text/plain": [
              "0    30000\n",
              "1    30000\n",
              "Name: label, dtype: int64"
            ]
          },
          "execution_count": 46,
          "metadata": {},
          "output_type": "execute_result"
        }
      ],
      "source": [
        "train_df[\"label\"].value_counts()"
      ]
    },
    {
      "cell_type": "code",
      "execution_count": null,
      "metadata": {},
      "outputs": [],
      "source": [
        "train(dataset)"
      ]
    },
    {
      "cell_type": "markdown",
      "metadata": {
        "id": "NfzY8uBcmsyd"
      },
      "source": [
        "The following code is used to evaluate the model on a single input. Modify this and extend it in any way you wish to get a better view on model performance."
      ]
    },
    {
      "cell_type": "code",
      "execution_count": 5,
      "metadata": {
        "id": "nfOXWFgckzjE"
      },
      "outputs": [
        {
          "name": "stdout",
          "output_type": "stream",
          "text": [
            "              precision    recall  f1-score   support\n",
            "\n",
            " Non-Science       0.94      0.92      0.93      1900\n",
            "     Science       0.92      0.94      0.93      1900\n",
            "\n",
            "    accuracy                           0.93      3800\n",
            "   macro avg       0.93      0.93      0.93      3800\n",
            "weighted avg       0.93      0.93      0.93      3800\n",
            "\n"
          ]
        },
        {
          "data": {
            "image/png": "[encoded data removed]",
            "text/plain": [
              "<Figure size 800x600 with 2 Axes>"
            ]
          },
          "metadata": {},
          "output_type": "display_data"
        },
        {
          "name": "stdout",
          "output_type": "stream",
          "text": [
            "Misclassified samples saved to 'data/misclassified_samples.csv'.\n",
            "\n",
            "Text: Advanced Micro Devices meets reduced forecast for third quarter SAN FRANCISCO - Advanced Micro Devices Inc. reported a third-quarter profit from a loss a year-earlier on today, but sales fell from the second quarter in line with the chip maker #39;s recently reduced outlook.\n",
            "True Label: 0, Predicted Label: 1\n"
          ]
        }
      ],
      "source": [
        "import torch\n",
        "\n",
        "from transformers import AutoModelForSequenceClassification, AutoTokenizer\n",
        "from sklearn.metrics import classification_report, confusion_matrix\n",
        "import seaborn as sns\n",
        "import matplotlib.pyplot as plt\n",
        "from lime.lime_text import LimeTextExplainer  # Importing LIME\n",
        "\n",
        "\n",
        "def plot_confusion_matrix(y_true, y_pred):\n",
        "    cm = confusion_matrix(y_true, y_pred)\n",
        "    plt.figure(figsize=(8, 6))\n",
        "    sns.heatmap(cm, annot=True, fmt=\"d\", cmap=\"Blues\", \n",
        "                xticklabels=[\"Non-Science\", \"Science\"], \n",
        "                yticklabels=[\"Non-Science\", \"Science\"])\n",
        "    plt.ylabel(\"Actual\")\n",
        "    plt.xlabel(\"Predicted\")\n",
        "    plt.title(\"Confusion Matrix\")\n",
        "    plt.show()\n",
        "\n",
        "\n",
        "# Define a wrapper function for the model that returns probabilities (for LIME)\n",
        "def predict_proba(texts, model, tokenizer):\n",
        "    inputs = tokenizer(texts, truncation=True, padding=True, max_length=64, return_tensors=\"pt\")\n",
        "    with torch.no_grad():\n",
        "        outputs = model(**inputs)\n",
        "    logits = outputs.logits\n",
        "    probs = torch.softmax(logits, dim=-1).numpy()  # Get probabilities for each class\n",
        "    return probs\n",
        "\n",
        "\n",
        "def eval():\n",
        "    # Provide the path to the checkpoint directory.\n",
        "    model_checkpoint = \"./results/checkpoint-1000\"\n",
        "   \n",
        "    # Load the test dataset from the DatasetDict\n",
        "    #test_dataset = dataset[\"test\"].select(range(100))\n",
        "    test_dataset = dataset[\"test\"]\n",
        "\n",
        "    # Load the trained model\n",
        "    tokenizer = AutoTokenizer.from_pretrained(\"prajjwal1/bert-tiny\")\n",
        "    model = AutoModelForSequenceClassification.from_pretrained(\n",
        "        model_checkpoint, num_labels=2\n",
        "    )\n",
        "\n",
        "    # Tokenize the test dataset\n",
        "    test_encodings = tokenizer(\n",
        "        test_dataset['text'],  # Access the 'text' field directly\n",
        "        truncation=True,\n",
        "        padding=True,\n",
        "        max_length=64,\n",
        "        return_tensors=\"pt\"\n",
        "    )\n",
        "\n",
        "    # Make predictions on the test dataset\n",
        "    model.eval()  # Set the model to evaluation mode\n",
        "    with torch.no_grad():\n",
        "        outputs = model(**test_encodings)\n",
        "\n",
        "    # predicted classes and prediction probabilities\n",
        "    logits = outputs.logits\n",
        "    predictions = np.argmax(logits.numpy(), axis=1)\n",
        "    probabilities = torch.softmax(logits, dim=1).numpy()  # Convert logits to probabilities\n",
        "\n",
        "    # Calculate metrics\n",
        "    y_true = test_dataset['label']  # Convert labels to numpy array for metric calculations\n",
        "\n",
        "    print(classification_report(y_true, predictions, target_names=[\"Non-Science\", \"Science\"]))\n",
        "    plot_confusion_matrix(y_true, predictions)\n",
        "\n",
        "    # Identify misclassified samples\n",
        "    incorrect_indices = np.where(predictions != y_true)[0]  # Indices where predictions are wrong\n",
        "\n",
        "    # Prepare data for the CSV file, including probability of predicted class\n",
        "    misclassified_data = {\n",
        "        \"Text\": [test_dataset['text'][idx] for idx in incorrect_indices],\n",
        "        \"True Label\": [y_true[idx] for idx in incorrect_indices],\n",
        "        \"Predicted Label\": [predictions[idx] for idx in incorrect_indices],\n",
        "        \"Probability of Predicted Class\": [probabilities[idx][predictions[idx]] for idx in incorrect_indices],  # Probability of the predicted class\n",
        "    }\n",
        "\n",
        "    # Save to CSV using pandas\n",
        "    df_misclassified = pd.DataFrame(misclassified_data)\n",
        "    df_misclassified.to_csv(\"eval/misclassified_samples.csv\", index=False)\n",
        "\n",
        "    print(f\"Misclassified samples saved to 'data/misclassified_samples.csv'.\")\n",
        "\n",
        "\n",
        "    # Initialize LIME explainer\n",
        "    explainer = LimeTextExplainer(class_names=[\"Non-Science\", \"Science\"])\n",
        "\n",
        "    # Provide explanations for misclassified samples\n",
        "    for idx in incorrect_indices[:5]:  # Limit to 5 explanations for demonstration purposes\n",
        "        text_to_explain = test_dataset['text'][idx]\n",
        "        true_label = y_true[idx]\n",
        "        predicted_label = predictions[idx]\n",
        "\n",
        "        # Explain the prediction using LIME\n",
        "        exp = explainer.explain_instance(text_to_explain, \n",
        "                                         lambda x: predict_proba(x, model, tokenizer), \n",
        "                                         num_features=10)\n",
        "\n",
        "        print(f\"\\nText: {text_to_explain}\")\n",
        "        print(f\"True Label: {true_label}, Predicted Label: {predicted_label}\")\n",
        "        exp.show_in_notebook(text=True)  # Show explanation in a Jupyter notebook (optional)\n",
        "        exp.save_to_file(f\"eval/lime_explanation_{idx}.html\")  # Save to an HTML file for later review\n",
        "\n",
        "\n",
        "    '''\n",
        "     # Provide the input text you wish to evaluate.\n",
        "    text = \"Card fraud unit nets 36,000 cards In its first two years, the UK's dedicated card fraud unit, has recovered 36,000 stolen cards and 171 arrests - and estimates it saved 65m.\"\n",
        "\n",
        "    inputs = tokenizer(text, return_tensors=\"pt\")\n",
        "    # Make a prediction\n",
        "    with torch.no_grad():\n",
        "        outputs = model(**inputs)\n",
        "\n",
        "    print(f\"Predicted class: {outputs.logits[0].numpy().argmax()}\")\n",
        "    '''\n",
        "    \n",
        "\n",
        "eval()"
      ]
    }
  ],
  "metadata": {
    "accelerator": "GPU",
    "colab": {
      "gpuType": "T4",
      "provenance": [],
      "toc_visible": true
    },
    "kernelspec": {
      "display_name": "Python 3",
      "name": "python3"
    },
    "language_info": {
      "codemirror_mode": {
        "name": "ipython",
        "version": 3
      },
      "file_extension": ".py",
      "mimetype": "text/x-python",
      "name": "python",
      "nbconvert_exporter": "python",
      "pygments_lexer": "ipython3",
      "version": "3.10.14"
    }
  },
  "nbformat": 4,
  "nbformat_minor": 0
}
