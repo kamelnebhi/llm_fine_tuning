{
 "cells": [
  {
   "cell_type": "code",
   "execution_count": 1,
   "metadata": {},
   "outputs": [
    {
     "name": "stdout",
     "output_type": "stream",
     "text": [
      "cuda:0\n"
     ]
    }
   ],
   "source": [
    "import torch\n",
    "from transformers import BartForSequenceClassification, BartTokenizer\n",
    "\n",
    "DEVICE = \"cuda:0\" if torch.cuda.is_available() else \"cpu\"\n",
    "#DEVICE = \"cpu\"\n",
    "\n",
    "print(DEVICE)\n",
    "\n",
    "class BartZeroShot:\n",
    "    def __init__(self):\n",
    "        self.nli_model = BartForSequenceClassification.from_pretrained(\n",
    "            \"facebook/bart-large-mnli\"\n",
    "        ).to(DEVICE)\n",
    "        self.tokenizer = BartTokenizer.from_pretrained(\"facebook/bart-large-mnli\")\n",
    "\n",
    "    def predict(self, sentence, label):\n",
    "        x = self.tokenizer.encode(\n",
    "            sentence,\n",
    "            f\"This example is {label}\",\n",
    "            return_tensors=\"pt\",\n",
    "            truncation=\"only_first\",\n",
    "        ).to(DEVICE)\n",
    "        logits = self.nli_model(x.to(DEVICE))[0]\n",
    "        \n",
    "        entail_contradiction_logits = logits[:, [0, 2]]\n",
    "        probs = entail_contradiction_logits.softmax(1)\n",
    "        prob_label_is_true = probs[:, 1].item()\n",
    "        return prob_label_is_true"
   ]
  },
  {
   "cell_type": "code",
   "execution_count": 2,
   "metadata": {},
   "outputs": [
    {
     "name": "stderr",
     "output_type": "stream",
     "text": [
      "/home/ec2-user/anaconda3/envs/pytorch_p310/lib/python3.10/site-packages/transformers/tokenization_utils_base.py:1601: FutureWarning: `clean_up_tokenization_spaces` was not set. It will be set to `True` by default. This behavior will be depracted in transformers v4.45, and will be then set to `False` by default. For more details check this issue: https://github.com/huggingface/transformers/issues/31884\n",
      "  warnings.warn(\n"
     ]
    }
   ],
   "source": [
    "bz = BartZeroShot()"
   ]
  },
  {
   "cell_type": "code",
   "execution_count": 3,
   "metadata": {},
   "outputs": [
    {
     "data": {
      "text/plain": [
       "0.0009476275881752372"
      ]
     },
     "execution_count": 3,
     "metadata": {},
     "output_type": "execute_result"
    }
   ],
   "source": [
    "bz.predict(\"I really really hate my life\", \"positive\")"
   ]
  },
  {
   "cell_type": "code",
   "execution_count": 4,
   "metadata": {},
   "outputs": [
    {
     "data": {
      "text/plain": [
       "0.9730832576751709"
      ]
     },
     "execution_count": 4,
     "metadata": {},
     "output_type": "execute_result"
    }
   ],
   "source": [
    "bz.predict(\"I really really love my life\", \"positive\")"
   ]
  },
  {
   "cell_type": "code",
   "execution_count": 18,
   "metadata": {},
   "outputs": [],
   "source": [
    "# load data from s3 bucket\n",
    "import boto3\n",
    "import sagemaker\n",
    "\n",
    "region_name = 'eu-central-1'\n",
    "\n",
    "session = boto3.Session(region_name=region_name)\n",
    "s3_sess = session.client('s3')\n",
    "sm_session = sagemaker.Session(boto_session=session)"
   ]
  },
  {
   "cell_type": "code",
   "execution_count": 30,
   "metadata": {},
   "outputs": [],
   "source": [
    "!rm -rf ~/.cache/huggingface/datasets\n"
   ]
  },
  {
   "cell_type": "code",
   "execution_count": 31,
   "metadata": {},
   "outputs": [
    {
     "data": {
      "application/vnd.jupyter.widget-view+json": {
       "model_id": "0ff531af8780458e8afd1a085b109712",
       "version_major": 2,
       "version_minor": 0
      },
      "text/plain": [
       "Downloading data:   0%|          | 0.00/964k [00:00<?, ?B/s]"
      ]
     },
     "metadata": {},
     "output_type": "display_data"
    },
    {
     "data": {
      "application/vnd.jupyter.widget-view+json": {
       "model_id": "498ca5bff94245ceba340ed9aad9f190",
       "version_major": 2,
       "version_minor": 0
      },
      "text/plain": [
       "Generating validation split: 0 examples [00:00, ? examples/s]"
      ]
     },
     "metadata": {},
     "output_type": "display_data"
    },
    {
     "data": {
      "text/plain": [
       "Dataset({\n",
       "    features: ['text', 'label'],\n",
       "    num_rows: 10000\n",
       "})"
      ]
     },
     "execution_count": 31,
     "metadata": {},
     "output_type": "execute_result"
    }
   ],
   "source": [
    "from datasets import load_dataset\n",
    "\n",
    "input_path = f's3://{sm_session.default_bucket()}/datasets/twitter_ds/'\n",
    "\n",
    "validation_dataset_s3_path = f\"{input_path}/validation/dataset.json\"\n",
    "\n",
    "dataset = load_dataset(\n",
    "    'json',\n",
    "    data_files={'validation': validation_dataset_s3_path},\n",
    "    split='validation',\n",
    "    download_mode=\"force_redownload\"\n",
    ")\n",
    "\n",
    "dataset"
   ]
  },
  {
   "cell_type": "code",
   "execution_count": 32,
   "metadata": {},
   "outputs": [
    {
     "data": {
      "text/plain": [
       "{'text': '@nicepaul &quot;guerilla&quot; usability tests... nice one ',\n",
       " 'label': 1}"
      ]
     },
     "execution_count": 32,
     "metadata": {},
     "output_type": "execute_result"
    }
   ],
   "source": [
    "dataset[0]"
   ]
  },
  {
   "cell_type": "code",
   "execution_count": 33,
   "metadata": {},
   "outputs": [
    {
     "data": {
      "text/plain": [
       "Dataset({\n",
       "    features: ['text', 'label'],\n",
       "    num_rows: 10000\n",
       "})"
      ]
     },
     "execution_count": 33,
     "metadata": {},
     "output_type": "execute_result"
    }
   ],
   "source": [
    "# Select 60 samples\n",
    "#subset = dataset.select(range(60))\n",
    "subset = dataset\n",
    "# Print the first sample to verify\n",
    "subset"
   ]
  },
  {
   "cell_type": "code",
   "execution_count": 34,
   "metadata": {},
   "outputs": [],
   "source": [
    "def is_positive(text):\n",
    "    # Call bz.predict to get the probability\n",
    "    prob = bz.predict(text, \"positive\")\n",
    "    \n",
    "    # Convert the probability to binary (0 or 1)\n",
    "    return 1 if prob > 0.5 else 0"
   ]
  },
  {
   "cell_type": "code",
   "execution_count": 35,
   "metadata": {},
   "outputs": [
    {
     "data": {
      "text/plain": [
       "0"
      ]
     },
     "execution_count": 35,
     "metadata": {},
     "output_type": "execute_result"
    }
   ],
   "source": [
    "is_positive(\"I really really hate my life\")"
   ]
  },
  {
   "cell_type": "code",
   "execution_count": 36,
   "metadata": {},
   "outputs": [],
   "source": [
    "from sklearn.metrics import accuracy_score\n",
    "\n",
    "# Process the dataset\n",
    "def process_dataset(dataset):\n",
    "    predictions = []\n",
    "    true_labels = []\n",
    "    \n",
    "    for example in dataset:\n",
    "        text = example['text']  # Adjust based on your dataset's feature names\n",
    "        label = example['label']  # Adjust based on your dataset's feature names\n",
    "        true_labels.append(label)\n",
    "        \n",
    "        # Get the prediction\n",
    "        prediction = is_positive(text)\n",
    "        predictions.append(prediction)\n",
    "    \n",
    "    return predictions, true_labels\n",
    "\n",
    "# Compute accuracy\n",
    "def compute_metrics(predictions, true_labels):\n",
    "    accuracy = accuracy_score(true_labels, predictions)\n",
    "    return {\"accuracy\": accuracy}"
   ]
  },
  {
   "cell_type": "code",
   "execution_count": 37,
   "metadata": {},
   "outputs": [
    {
     "name": "stdout",
     "output_type": "stream",
     "text": [
      "{'accuracy': 0.7075}\n"
     ]
    }
   ],
   "source": [
    "# Process the dataset\n",
    "predictions, true_labels = process_dataset(subset)\n",
    "\n",
    "# Compute and print metrics\n",
    "metrics = compute_metrics(predictions, true_labels)\n",
    "print(metrics)"
   ]
  }
 ],
 "metadata": {
  "kernelspec": {
   "display_name": "Python 3",
   "language": "python",
   "name": "python3"
  },
  "language_info": {
   "codemirror_mode": {
    "name": "ipython",
    "version": 3
   },
   "file_extension": ".py",
   "mimetype": "text/x-python",
   "name": "python",
   "nbconvert_exporter": "python",
   "pygments_lexer": "ipython3",
   "version": "3.10.14"
  }
 },
 "nbformat": 4,
 "nbformat_minor": 4
}
