{
 "cells": [
  {
   "cell_type": "markdown",
   "metadata": {},
   "source": [
    "## SetUp"
   ]
  },
  {
   "cell_type": "code",
   "execution_count": 1,
   "metadata": {},
   "outputs": [],
   "source": [
    "#!pip install evaluate datasets transformers accelerate==1.9.0 wandb safetensors==0.4.3"
   ]
  },
  {
   "cell_type": "code",
   "execution_count": null,
   "metadata": {},
   "outputs": [],
   "source": [
    "#!pip install evaluate datasets transformers accelerate==1.9.0 wandb safetensors==0.4.3"
   ]
  },
  {
   "cell_type": "code",
   "execution_count": 27,
   "metadata": {},
   "outputs": [
    {
     "name": "stderr",
     "output_type": "stream",
     "text": [
      "huggingface/tokenizers: The current process just got forked, after parallelism has already been used. Disabling parallelism to avoid deadlocks...\n",
      "To disable this warning, you can either:\n",
      "\t- Avoid using `tokenizers` before the fork if possible\n",
      "\t- Explicitly set the environment variable TOKENIZERS_PARALLELISM=(true | false)\n",
      "huggingface/tokenizers: The current process just got forked, after parallelism has already been used. Disabling parallelism to avoid deadlocks...\n",
      "To disable this warning, you can either:\n",
      "\t- Avoid using `tokenizers` before the fork if possible\n",
      "\t- Explicitly set the environment variable TOKENIZERS_PARALLELISM=(true | false)\n"
     ]
    }
   ],
   "source": [
    "#!pip install -q datasets evaluate\n",
    "#!pip install -q sacrebleu"
   ]
  },
  {
   "cell_type": "markdown",
   "metadata": {},
   "source": [
    "## Timing performance sur example de model"
   ]
  },
  {
   "cell_type": "code",
   "execution_count": 14,
   "metadata": {},
   "outputs": [
    {
     "name": "stdout",
     "output_type": "stream",
     "text": [
      "CPU cores: 8\n",
      "RAM total: 30.99 GB\n"
     ]
    }
   ],
   "source": [
    "import psutil\n",
    "\n",
    "print(\"CPU cores:\", psutil.cpu_count(logical=True))\n",
    "print(\"RAM total:\", round(psutil.virtual_memory().total / 1024**3, 2), \"GB\")"
   ]
  },
  {
   "cell_type": "code",
   "execution_count": 19,
   "metadata": {},
   "outputs": [
    {
     "name": "stdout",
     "output_type": "stream",
     "text": [
      "Using device: cpu\n",
      "Num threads: 1\n",
      "Corrected: This sentence has bad grammar.\n",
      "Inference time: 0.782 seconds\n"
     ]
    }
   ],
   "source": [
    "import torch\n",
    "from transformers import AutoTokenizer, AutoModelForSeq2SeqLM\n",
    "import time\n",
    "\n",
    "# ----------- 1. Forcer CPU et nombre de threads -----------\n",
    "device = torch.device(\"cpu\")\n",
    "torch.set_num_threads(2)  # Limite PyTorch à 2 CPU\n",
    "print(\"Using device:\", device)\n",
    "print(\"Num threads:\", torch.get_num_threads())\n",
    "\n",
    "# ----------- 2. Charger le modèle et le tokenizer -----------\n",
    "model_name = \"vennify/t5-base-grammar-correction\"\n",
    "tokenizer = AutoTokenizer.from_pretrained(model_name)\n",
    "model = AutoModelForSeq2SeqLM.from_pretrained(model_name).to(device)\n",
    "\n",
    "# ----------- 3. Phrase à corriger -----------\n",
    "text = \"This sentences has has bads grammar.\"\n",
    "input_text = \"grammar: \" + text\n",
    "\n",
    "# Tokenization\n",
    "inputs = tokenizer(input_text, return_tensors=\"pt\").to(device)\n",
    "\n",
    "# ----------- 4. Génération avec mesure du temps -----------\n",
    "with torch.inference_mode():  # économise la mémoire\n",
    "    start_time = time.time()\n",
    "    outputs = model.generate(\n",
    "        **inputs,\n",
    "        num_beams=5,\n",
    "        min_length=1\n",
    "    )\n",
    "    end_time = time.time()\n",
    "\n",
    "# Décodage du texte\n",
    "corrected_text = tokenizer.decode(outputs[0], skip_special_tokens=True)\n",
    "print(\"Corrected:\", corrected_text)\n",
    "print(f\"Inference time: {end_time - start_time:.3f} seconds\")\n"
   ]
  },
  {
   "cell_type": "code",
   "execution_count": 18,
   "metadata": {},
   "outputs": [
    {
     "name": "stdout",
     "output_type": "stream",
     "text": [
      "Using device: cpu\n",
      "Num threads: 4\n",
      "Corrected: This sentence has bad grammar.\n",
      "Inference time: 0.415 seconds\n"
     ]
    }
   ],
   "source": [
    "import torch\n",
    "from transformers import AutoTokenizer, AutoModelForSeq2SeqLM\n",
    "import time\n",
    "\n",
    "# ----------- 1. Forcer CPU et nombre de threads -----------\n",
    "device = torch.device(\"cpu\")\n",
    "torch.set_num_threads(4)  # Limite PyTorch à 2 CPU\n",
    "print(\"Using device:\", device)\n",
    "print(\"Num threads:\", torch.get_num_threads())\n",
    "\n",
    "# ----------- 2. Charger le modèle et le tokenizer -----------\n",
    "model_name = \"vennify/t5-base-grammar-correction\"\n",
    "tokenizer = AutoTokenizer.from_pretrained(model_name)\n",
    "model = AutoModelForSeq2SeqLM.from_pretrained(model_name).to(device)\n",
    "\n",
    "# ----------- 3. Phrase à corriger -----------\n",
    "text = \"This sentences has has bads grammar.\"\n",
    "input_text = \"grammar: \" + text\n",
    "\n",
    "# Tokenization\n",
    "inputs = tokenizer(input_text, return_tensors=\"pt\").to(device)\n",
    "\n",
    "# ----------- 4. Génération avec mesure du temps -----------\n",
    "with torch.inference_mode():  # économise la mémoire\n",
    "    start_time = time.time()\n",
    "    outputs = model.generate(\n",
    "        **inputs,\n",
    "        num_beams=5,\n",
    "        min_length=1\n",
    "    )\n",
    "    end_time = time.time()\n",
    "\n",
    "# Décodage du texte\n",
    "corrected_text = tokenizer.decode(outputs[0], skip_special_tokens=True)\n",
    "print(\"Corrected:\", corrected_text)\n",
    "print(f\"Inference time: {end_time - start_time:.3f} seconds\")\n"
   ]
  },
  {
   "cell_type": "markdown",
   "metadata": {},
   "source": [
    "## Dataset Transform"
   ]
  },
  {
   "cell_type": "code",
   "execution_count": 1,
   "metadata": {},
   "outputs": [],
   "source": [
    "import pandas as pd"
   ]
  },
  {
   "cell_type": "code",
   "execution_count": 8,
   "metadata": {},
   "outputs": [],
   "source": [
    "df = pd.read_csv(\"writing_corrections_2024-12-17_17_23_54_n=1000.csv\")\n"
   ]
  },
  {
   "cell_type": "code",
   "execution_count": 9,
   "metadata": {},
   "outputs": [
    {
     "data": {
      "text/html": [
       "<div>\n",
       "<style scoped>\n",
       "    .dataframe tbody tr th:only-of-type {\n",
       "        vertical-align: middle;\n",
       "    }\n",
       "\n",
       "    .dataframe tbody tr th {\n",
       "        vertical-align: top;\n",
       "    }\n",
       "\n",
       "    .dataframe thead th {\n",
       "        text-align: right;\n",
       "    }\n",
       "</style>\n",
       "<table border=\"1\" class=\"dataframe\">\n",
       "  <thead>\n",
       "    <tr style=\"text-align: right;\">\n",
       "      <th></th>\n",
       "      <th>writing_id</th>\n",
       "      <th>activity_instructions</th>\n",
       "      <th>writing_content</th>\n",
       "      <th>corrected_writing</th>\n",
       "    </tr>\n",
       "  </thead>\n",
       "  <tbody>\n",
       "    <tr>\n",
       "      <th>0</th>\n",
       "      <td>f384a75d-cf08-4292-99e9-dd64ceae8088</td>\n",
       "      <td>Read Ken's email and then email Josh and Ken a...</td>\n",
       "      <td>Ken,\\n\\nI appreciate the thorough summary of o...</td>\n",
       "      <td>Ken,\\n\\nI appreciate the thorough summary of o...</td>\n",
       "    </tr>\n",
       "    <tr>\n",
       "      <th>1</th>\n",
       "      <td>296465d9-5d4f-402a-83dc-dd89c8766539</td>\n",
       "      <td>Think about a business situation you have been...</td>\n",
       "      <td>A client expressed dissatisfaction with a dela...</td>\n",
       "      <td>A client expressed dissatisfaction with the de...</td>\n",
       "    </tr>\n",
       "    <tr>\n",
       "      <th>2</th>\n",
       "      <td>cc271da5-1d25-4255-8f37-376b2591b2b4</td>\n",
       "      <td>You're going to read a hotel review, then writ...</td>\n",
       "      <td>I recently stayed at the Grandview Hotel in Pa...</td>\n",
       "      <td>I recently stayed at the Grandview Hotel in Pa...</td>\n",
       "    </tr>\n",
       "    <tr>\n",
       "      <th>3</th>\n",
       "      <td>58180ef5-c741-45c3-9720-1c69b30b4d4f</td>\n",
       "      <td>Write a paragraph describing how robots are be...</td>\n",
       "      <td>Robotics is advancing more and more in Brazil,...</td>\n",
       "      <td>Robotics is advancing rapidly in Brazil, both ...</td>\n",
       "    </tr>\n",
       "    <tr>\n",
       "      <th>4</th>\n",
       "      <td>a0a79b53-734d-465a-ada7-89fa5545525e</td>\n",
       "      <td>Write a paragraph about your favorite holiday ...</td>\n",
       "      <td>My favorite holiday is Christimas. Christimas ...</td>\n",
       "      <td>My favorite holiday is Christmas. Christmas is...</td>\n",
       "    </tr>\n",
       "  </tbody>\n",
       "</table>\n",
       "</div>"
      ],
      "text/plain": [
       "                             writing_id  \\\n",
       "0  f384a75d-cf08-4292-99e9-dd64ceae8088   \n",
       "1  296465d9-5d4f-402a-83dc-dd89c8766539   \n",
       "2  cc271da5-1d25-4255-8f37-376b2591b2b4   \n",
       "3  58180ef5-c741-45c3-9720-1c69b30b4d4f   \n",
       "4  a0a79b53-734d-465a-ada7-89fa5545525e   \n",
       "\n",
       "                               activity_instructions  \\\n",
       "0  Read Ken's email and then email Josh and Ken a...   \n",
       "1  Think about a business situation you have been...   \n",
       "2  You're going to read a hotel review, then writ...   \n",
       "3  Write a paragraph describing how robots are be...   \n",
       "4  Write a paragraph about your favorite holiday ...   \n",
       "\n",
       "                                     writing_content  \\\n",
       "0  Ken,\\n\\nI appreciate the thorough summary of o...   \n",
       "1  A client expressed dissatisfaction with a dela...   \n",
       "2  I recently stayed at the Grandview Hotel in Pa...   \n",
       "3  Robotics is advancing more and more in Brazil,...   \n",
       "4  My favorite holiday is Christimas. Christimas ...   \n",
       "\n",
       "                                   corrected_writing  \n",
       "0  Ken,\\n\\nI appreciate the thorough summary of o...  \n",
       "1  A client expressed dissatisfaction with the de...  \n",
       "2  I recently stayed at the Grandview Hotel in Pa...  \n",
       "3  Robotics is advancing rapidly in Brazil, both ...  \n",
       "4  My favorite holiday is Christmas. Christmas is...  "
      ]
     },
     "execution_count": 9,
     "metadata": {},
     "output_type": "execute_result"
    }
   ],
   "source": [
    "df = df[[\"writing_id\", \"activity_instructions\", \"writing_content\", \"corrected_writing\"]]\n",
    "df.head()"
   ]
  },
  {
   "cell_type": "code",
   "execution_count": 24,
   "metadata": {},
   "outputs": [
    {
     "name": "stdout",
     "output_type": "stream",
     "text": [
      "DatasetDict({\n",
      "    train: Dataset({\n",
      "        features: ['_id', 'task', 'src', 'tgt'],\n",
      "        num_rows: 700\n",
      "    })\n",
      "    validation: Dataset({\n",
      "        features: ['_id', 'task', 'src', 'tgt'],\n",
      "        num_rows: 150\n",
      "    })\n",
      "    test: Dataset({\n",
      "        features: ['_id', 'task', 'src', 'tgt'],\n",
      "        num_rows: 150\n",
      "    })\n",
      "})\n"
     ]
    }
   ],
   "source": [
    "from datasets import Dataset, DatasetDict\n",
    "\n",
    "from datasets import Dataset, DatasetDict\n",
    "\n",
    "df_hf = df.rename(columns={\n",
    "    \"writing_id\": \"_id\",\n",
    "    \"activity_instructions\": \"task\",\n",
    "    \"writing_content\": \"src\",\n",
    "    \"corrected_writing\": \"tgt\"\n",
    "})\n",
    "\n",
    "dataset = Dataset.from_pandas(df_hf, preserve_index=False)\n",
    "\n",
    "split1 = dataset.train_test_split(test_size=0.3, seed=42)  # 70% train, 30% remaining\n",
    "split2 = split1['test'].train_test_split(test_size=0.5, seed=42)  # 15% val, 15% test\n",
    "\n",
    "ds_ft = DatasetDict({\n",
    "    \"train\": split1['train'],\n",
    "    \"validation\": split2['train'],\n",
    "    \"test\": split2['test']\n",
    "})\n",
    "\n",
    "print(ds_ft)"
   ]
  },
  {
   "cell_type": "markdown",
   "metadata": {},
   "source": [
    "## SFT"
   ]
  },
  {
   "cell_type": "code",
   "execution_count": 25,
   "metadata": {},
   "outputs": [],
   "source": [
    "MODELNAME = \"t5-base\"\n",
    "PREFIX = \"grammar: \""
   ]
  },
  {
   "cell_type": "code",
   "execution_count": 14,
   "metadata": {},
   "outputs": [
    {
     "name": "stderr",
     "output_type": "stream",
     "text": [
      "/home/ec2-user/anaconda3/envs/pytorch_p310/lib/python3.10/site-packages/torch/cuda/__init__.py:61: FutureWarning: The pynvml package is deprecated. Please install nvidia-ml-py instead. If you did not install pynvml directly, please report this to the maintainers of the package that installed pynvml for you.\n",
      "  import pynvml  # type: ignore[import]\n"
     ]
    }
   ],
   "source": [
    "import torch\n",
    "training_device = torch.device(\"cuda\") if torch.cuda.is_available() else torch.device(\"cpu\")\n",
    "training_device\n",
    "import numpy as np"
   ]
  },
  {
   "cell_type": "code",
   "execution_count": 15,
   "metadata": {},
   "outputs": [
    {
     "name": "stderr",
     "output_type": "stream",
     "text": [
      "You are using the default legacy behaviour of the <class 'transformers.models.t5.tokenization_t5.T5Tokenizer'>. This is expected, and simply means that the `legacy` (previous) behavior will be used so nothing changes for you. If you want to use the new behaviour, set `legacy=False`. This should only be set if you understand what it means, and thoroughly read the reason why this was added as explained in https://github.com/huggingface/transformers/pull/24565\n"
     ]
    }
   ],
   "source": [
    "from transformers import T5Tokenizer, T5ForConditionalGeneration\n",
    "\n",
    "tokenizer = T5Tokenizer.from_pretrained(MODELNAME)\n",
    "model = T5ForConditionalGeneration.from_pretrained(MODELNAME)"
   ]
  },
  {
   "cell_type": "markdown",
   "metadata": {},
   "source": [
    "## Dataset"
   ]
  },
  {
   "cell_type": "code",
   "execution_count": 16,
   "metadata": {},
   "outputs": [
    {
     "data": {
      "text/plain": [
       "\"\\n{'_id': '0', 'task': 'gec', \\n'src': 'Remove all grammatical errors from this text: For example, countries with a lot of deserts can terraform their desert to increase their habitable land and using irrigation to provide clean water to the desert.', \\n'tgt': 'For example, countries with a lot of deserts can transform their desert to increase their habitable land and use irrigation to provide clean water to the desert.'}\\n\""
      ]
     },
     "execution_count": 16,
     "metadata": {},
     "output_type": "execute_result"
    }
   ],
   "source": [
    "from datasets import load_dataset\n",
    "\n",
    "#ds = load_dataset(\"dim/grammarly_coedit\")\n",
    "\n",
    "#print(ds)\n",
    "\n",
    "\"\"\"\n",
    "DatasetDict({\n",
    "    train: Dataset({\n",
    "        features: ['_id', 'task', 'src', 'tgt'],\n",
    "        num_rows: 82466\n",
    "    })\n",
    "})\n",
    "\"\"\"\n",
    "\n",
    "#print(ds[\"train\"][0])\n",
    "\n",
    "\"\"\"\n",
    "{'_id': '0', 'task': 'gec', \n",
    "'src': 'Remove all grammatical errors from this text: For example, countries with a lot of deserts can terraform their desert to increase their habitable land and using irrigation to provide clean water to the desert.', \n",
    "'tgt': 'For example, countries with a lot of deserts can transform their desert to increase their habitable land and use irrigation to provide clean water to the desert.'}\n",
    "\"\"\""
   ]
  },
  {
   "cell_type": "code",
   "execution_count": 26,
   "metadata": {},
   "outputs": [
    {
     "data": {
      "application/vnd.jupyter.widget-view+json": {
       "model_id": "ab3549c3bbfc4b8ebba29ffad315f025",
       "version_major": 2,
       "version_minor": 0
      },
      "text/plain": [
       "Map:   0%|          | 0/700 [00:00<?, ? examples/s]"
      ]
     },
     "metadata": {},
     "output_type": "display_data"
    }
   ],
   "source": [
    "def fix(example):\n",
    "    # Remove the numeric prefix before colon\n",
    "    string_list = example[\"src\"].split(\":\")\n",
    "    text = \" \".join(string_list[1:]).strip()\n",
    "    example[\"src\"] = text\n",
    "    return example\n",
    "\n",
    "# Apply the cleaning function\n",
    "ds_ft[\"train\"] = ds_ft[\"train\"].map(fix)"
   ]
  },
  {
   "cell_type": "code",
   "execution_count": 27,
   "metadata": {},
   "outputs": [
    {
     "name": "stdout",
     "output_type": "stream",
     "text": [
      "{'_id': '92aa6cc2-3cf0-4e82-8fd0-30929e384c8b', 'task': \"You're going to reply to Alice's blog post about cross-cultural communication. Give advice about your own culture. Type in the input box. Write 50-75 words. Use your own words where possible.\", 'src': '', 'tgt': \"I work for a global company. I've been lucky enough to travel around the world and do business with many different people in many different countries. What I've learned is that understanding cross-cultural differences is critical for successful communication.\\n\\nFor example, people from my culture are apt to maintain eye contact in a conversation. In some countries I've visited, however, maintaining eye contact can be considered rather rude or even aggressive. \"}\n"
     ]
    }
   ],
   "source": [
    "print(ds_ft[\"train\"][0])"
   ]
  },
  {
   "cell_type": "code",
   "execution_count": 28,
   "metadata": {},
   "outputs": [
    {
     "name": "stdout",
     "output_type": "stream",
     "text": [
      "🔤 Max src length: 2308\n",
      "🔤 Max tgt length: 8087\n",
      "📊 95th percentile src length: 241.0\n",
      "📊 95th percentile tgt length: 319.04999999999995\n"
     ]
    },
    {
     "data": {
      "image/png": "[encoded data removed]",
      "text/plain": [
       "<Figure size 640x480 with 1 Axes>"
      ]
     },
     "metadata": {},
     "output_type": "display_data"
    },
    {
     "data": {
      "text/plain": [
       "'\\n🔤 Max src length: 199\\n🔤 Max tgt length: 199\\n📊 95th percentile src length: 52.0\\n📊 95th percentile tgt length: 49.0\\n'"
      ]
     },
     "execution_count": 28,
     "metadata": {},
     "output_type": "execute_result"
    }
   ],
   "source": [
    "import numpy as np\n",
    "import matplotlib.pyplot as plt\n",
    "\n",
    "# Calculate lengths\n",
    "src_lengths = [len(tokenizer.encode(\"grammar: \" + x[\"src\"])) for x in ds_ft[\"train\"]]\n",
    "tgt_lengths = [len(tokenizer.encode(x[\"tgt\"])) for x in ds_ft[\"train\"]]\n",
    "\n",
    "# Stats\n",
    "print(f\"🔤 Max src length: {max(src_lengths)}\")\n",
    "print(f\"🔤 Max tgt length: {max(tgt_lengths)}\")\n",
    "print(f\"📊 95th percentile src length: {np.percentile(src_lengths, 95)}\")\n",
    "print(f\"📊 95th percentile tgt length: {np.percentile(tgt_lengths, 95)}\")\n",
    "\n",
    "# Optional: Plot histograms\n",
    "plt.hist(src_lengths, bins=50, alpha=0.6, label='src (grammar: input)')\n",
    "plt.hist(tgt_lengths, bins=50, alpha=0.6, label='tgt (corrected)')\n",
    "plt.axvline(128, color='red', linestyle='--', label='max_length=128')\n",
    "plt.xlabel('Token Length')\n",
    "plt.ylabel('Frequency')\n",
    "plt.legend()\n",
    "plt.title('Distribution of Token Lengths')\n",
    "plt.show()\n",
    "\n",
    "\"\"\"\n",
    "🔤 Max src length: 199\n",
    "🔤 Max tgt length: 199\n",
    "📊 95th percentile src length: 52.0\n",
    "📊 95th percentile tgt length: 49.0\n",
    "\"\"\""
   ]
  },
  {
   "cell_type": "code",
   "execution_count": 29,
   "metadata": {},
   "outputs": [],
   "source": [
    "dataset = ds_ft[\"train\"].train_test_split(test_size=0.1, seed=42)\n",
    "train_ds = ds_ft[\"train\"]\n",
    "val_ds = ds_ft[\"validation\"]"
   ]
  },
  {
   "cell_type": "code",
   "execution_count": 30,
   "metadata": {},
   "outputs": [
    {
     "data": {
      "application/vnd.jupyter.widget-view+json": {
       "model_id": "551d5b30db29437eb609fa33cc4bfa25",
       "version_major": 2,
       "version_minor": 0
      },
      "text/plain": [
       "Map:   0%|          | 0/700 [00:00<?, ? examples/s]"
      ]
     },
     "metadata": {},
     "output_type": "display_data"
    },
    {
     "data": {
      "application/vnd.jupyter.widget-view+json": {
       "model_id": "f3b029bab7ca475b86e28b17f321f915",
       "version_major": 2,
       "version_minor": 0
      },
      "text/plain": [
       "Map:   0%|          | 0/150 [00:00<?, ? examples/s]"
      ]
     },
     "metadata": {},
     "output_type": "display_data"
    }
   ],
   "source": [
    "def preprocess(example):\n",
    "    input_text = PREFIX + example[\"src\"]\n",
    "    target_text = example[\"tgt\"]\n",
    "    model_inputs = tokenizer(input_text, truncation=True, padding=\"max_length\", max_length=256)\n",
    "    labels = tokenizer(target_text, truncation=True, padding=\"max_length\", max_length=256)\n",
    "\n",
    "    model_inputs[\"labels\"] = labels[\"input_ids\"]\n",
    "    return model_inputs\n",
    "\n",
    "tokenized_train = train_ds.map(preprocess, batched=False)\n",
    "tokenized_val = val_ds.map(preprocess, batched=False)"
   ]
  },
  {
   "cell_type": "code",
   "execution_count": 31,
   "metadata": {},
   "outputs": [],
   "source": [
    "import evaluate\n",
    "import sacrebleu\n",
    "import numpy as np\n",
    "\n",
    "exact_match = evaluate.load(\"exact_match\")\n",
    "\n",
    "def compute_metrics(eval_pred):\n",
    "    predictions, labels = eval_pred\n",
    "    decoded_preds = tokenizer.batch_decode(predictions, skip_special_tokens=True)\n",
    "\n",
    "    labels = np.where(labels != -100, labels, tokenizer.pad_token_id)\n",
    "    decoded_labels = tokenizer.batch_decode(labels, skip_special_tokens=True)\n",
    "\n",
    "    # Exact match\n",
    "    em = exact_match.compute(predictions=decoded_preds, references=decoded_labels)[\"exact_match\"]\n",
    "\n",
    "    # BLEU via sacrebleu\n",
    "    bleu = sacrebleu.corpus_bleu(decoded_preds, [decoded_labels])\n",
    "    bleu_score = bleu.score\n",
    "\n",
    "    return {\"exact_match\": em, \"bleu\": bleu_score}"
   ]
  },
  {
   "cell_type": "code",
   "execution_count": 32,
   "metadata": {},
   "outputs": [
    {
     "name": "stderr",
     "output_type": "stream",
     "text": [
      "/tmp/ipykernel_25414/1404983597.py:18: FutureWarning: `tokenizer` is deprecated and will be removed in version 5.0.0 for `Seq2SeqTrainer.__init__`. Use `processing_class` instead.\n",
      "  trainer = Seq2SeqTrainer(\n"
     ]
    },
    {
     "data": {
      "text/html": [
       "\n",
       "    <div>\n",
       "      \n",
       "      <progress value='85' max='264' style='width:300px; height:20px; vertical-align: middle;'></progress>\n",
       "      [ 85/264 00:20 < 00:43, 4.14 it/s, Epoch 0.95/3]\n",
       "    </div>\n",
       "    <table border=\"1\" class=\"dataframe\">\n",
       "  <thead>\n",
       " <tr style=\"text-align: left;\">\n",
       "      <th>Step</th>\n",
       "      <th>Training Loss</th>\n",
       "    </tr>\n",
       "  </thead>\n",
       "  <tbody>\n",
       "  </tbody>\n",
       "</table><p>"
      ],
      "text/plain": [
       "<IPython.core.display.HTML object>"
      ]
     },
     "metadata": {},
     "output_type": "display_data"
    },
    {
     "data": {
      "text/plain": [
       "\"\\nEpoch Training Loss Validation Loss\\n1 0.185000 0.165196\\n2 0.178100 0.161055\\n3 0.171300 0.160168\\nTrainOutput(global_step=27834, training_loss=0.1946344326956995, metrics={'train_runtime': 2212.8832, 'train_samples_per_second': 100.619, 'train_steps_per_second': 12.578, 'total_flos': 7533699872587776.0, 'train_loss': 0.1946344326956995, 'epoch': 3.0})\\n\""
      ]
     },
     "execution_count": 32,
     "metadata": {},
     "output_type": "execute_result"
    }
   ],
   "source": [
    "import torch\n",
    "from transformers import T5ForConditionalGeneration, Seq2SeqTrainingArguments, Seq2SeqTrainer\n",
    "\n",
    "training_args = Seq2SeqTrainingArguments(\n",
    "    output_dir=\"./t5-grammar-corrector\",\n",
    "    do_eval=True,\n",
    "    learning_rate=3e-5,\n",
    "    per_device_train_batch_size=8,\n",
    "    per_device_eval_batch_size=8,\n",
    "    weight_decay=0.01,\n",
    "    save_total_limit=3,\n",
    "    num_train_epochs=3,\n",
    "    predict_with_generate=True,\n",
    "    fp16=torch.cuda.is_available(),\n",
    "    report_to=\"none\",\n",
    ")\n",
    "\n",
    "trainer = Seq2SeqTrainer(\n",
    "    model=model,                             # The model to train\n",
    "    args=training_args,                      # Training configurations\n",
    "    train_dataset=tokenized_train,           # Tokenized training data\n",
    "    eval_dataset=tokenized_val,              # Tokenized validation data\n",
    "    tokenizer=tokenizer,                     # Tokenizer (for padding, decoding, etc.)\n",
    ")\n",
    "\n",
    "trainer.train()\n",
    "\n",
    "\"\"\"\n",
    "Epoch Training Loss Validation Loss\n",
    "1 0.185000 0.165196\n",
    "2 0.178100 0.161055\n",
    "3 0.171300 0.160168\n",
    "TrainOutput(global_step=27834, training_loss=0.1946344326956995, metrics={'train_runtime': 2212.8832, 'train_samples_per_second': 100.619, 'train_steps_per_second': 12.578, 'total_flos': 7533699872587776.0, 'train_loss': 0.1946344326956995, 'epoch': 3.0})\n",
    "\"\"\""
   ]
  },
  {
   "cell_type": "code",
   "execution_count": 33,
   "metadata": {},
   "outputs": [
    {
     "data": {
      "text/plain": [
       "\"\\n('./t5-grammar-corrector/tokenizer_config.json',\\n './t5-grammar-corrector/special_tokens_map.json',\\n './t5-grammar-corrector/spiece.model',\\n './t5-grammar-corrector/added_tokens.json')\\n\""
      ]
     },
     "execution_count": 33,
     "metadata": {},
     "output_type": "execute_result"
    }
   ],
   "source": [
    "model.save_pretrained(\"./t5-grammar-corrector\")\n",
    "tokenizer.save_pretrained(\"./t5-grammar-corrector\")\n",
    "\n",
    "\"\"\"\n",
    "('./t5-grammar-corrector/tokenizer_config.json',\n",
    " './t5-grammar-corrector/special_tokens_map.json',\n",
    " './t5-grammar-corrector/spiece.model',\n",
    " './t5-grammar-corrector/added_tokens.json')\n",
    "\"\"\""
   ]
  },
  {
   "cell_type": "code",
   "execution_count": 34,
   "metadata": {},
   "outputs": [
    {
     "data": {
      "text/html": [
       "\n",
       "    <div>\n",
       "      \n",
       "      <progress value='3' max='19' style='width:300px; height:20px; vertical-align: middle;'></progress>\n",
       "      [ 3/19 00:00 < 00:01, 15.24 it/s]\n",
       "    </div>\n",
       "    "
      ],
      "text/plain": [
       "<IPython.core.display.HTML object>"
      ]
     },
     "metadata": {},
     "output_type": "display_data"
    },
    {
     "name": "stdout",
     "output_type": "stream",
     "text": [
      "📊 Evaluation Results: {'eval_loss': 0.34969887137413025, 'eval_runtime': 1.2431, 'eval_samples_per_second': 120.663, 'eval_steps_per_second': 15.284, 'epoch': 3.0}\n"
     ]
    },
    {
     "data": {
      "text/plain": [
       "\" \\n[1031/1031 00:25]\\n📊 Evaluation Results: {'eval_loss': 0.1601683497428894, 'eval_runtime': 25.8443, 'eval_samples_per_second': 319.104, 'eval_steps_per_second': 39.893, 'epoch': 3.0}\\n\""
      ]
     },
     "execution_count": 34,
     "metadata": {},
     "output_type": "execute_result"
    }
   ],
   "source": [
    "eval_results = trainer.evaluate()\n",
    "print(\"📊 Evaluation Results:\", eval_results)\n",
    "\n",
    "\"\"\" \n",
    "[1031/1031 00:25]\n",
    "📊 Evaluation Results: {'eval_loss': 0.1601683497428894, 'eval_runtime': 25.8443, 'eval_samples_per_second': 319.104, 'eval_steps_per_second': 39.893, 'epoch': 3.0}\n",
    "\"\"\""
   ]
  },
  {
   "cell_type": "markdown",
   "metadata": {},
   "source": [
    "## Inference "
   ]
  },
  {
   "cell_type": "code",
   "execution_count": 37,
   "metadata": {},
   "outputs": [
    {
     "data": {
      "text/plain": [
       "'\\n\\n❌ Original:  He go to school every day.\\n✅ Corrected: He goes to school every day.\\n'"
      ]
     },
     "execution_count": 37,
     "metadata": {},
     "output_type": "execute_result"
    }
   ],
   "source": [
    "model = T5ForConditionalGeneration.from_pretrained(\"./t5-grammar-corrector\")\n",
    "tokenizer = T5Tokenizer.from_pretrained(\"./t5-grammar-corrector\")\n",
    "\n",
    "def correct_grammar(text: str):\n",
    "    input_text = f\"grammar: {text}\"\n",
    "    input_ids = tokenizer.encode(input_text, return_tensors=\"pt\", truncation=True)\n",
    "\n",
    "    # Move to GPU if available\n",
    "    input_ids = input_ids.to(model.device)\n",
    "\n",
    "    output_ids = model.generate(input_ids, max_length=256, num_beams=4)\n",
    "    return tokenizer.decode(output_ids[0], skip_special_tokens=True)\n",
    "\n",
    "\"\"\"\n",
    "\n",
    "❌ Original:  He go to school every day.\n",
    "✅ Corrected: He goes to school every day.\n",
    "\"\"\""
   ]
  },
  {
   "cell_type": "code",
   "execution_count": 38,
   "metadata": {},
   "outputs": [
    {
     "name": "stderr",
     "output_type": "stream",
     "text": [
      "Asking to truncate to max_length but no maximum length is provided and the model has no predefined maximum length. Default to no truncation.\n"
     ]
    },
    {
     "name": "stdout",
     "output_type": "stream",
     "text": [
      "\n",
      "❌ Original:  \n",
      "Ken, I appreciate the thorough summary of our situation. Here's a potential third option that might balance the pros and cons of both our current ideas: We could consider a mixed model where we maintain a smaller downtown showroom primarily for consultations and initial measurements, but move the production facility to a more cost-effective location. This way, we can still benefit from our established presence and long-term customer base in the fashionable district while significantly reducing our operational costs.\n",
      "The showroom can serve as a sleek, appointment-only boutique where clients can enjoy personalized service in a more exclusive setting, thus preserving the close relationships we've built. Meanwhile, the production move will enable us to cut costs and potentially invest in a more robust online presence, enhancing our web platform for better accessibility and convenience.\n",
      "\n",
      "This hybrid approach might provide us with the flexibility we need to manage costs while still maintaining a high level of customer service and engagement.\n",
      "\n",
      "Looking forward to your thoughts.\n",
      "\n",
      "Best, Josh\n",
      "\n",
      "✅ Corrected: \n"
     ]
    }
   ],
   "source": [
    "# Try on a sample sentence\n",
    "test_sentence = '''\n",
    "Ken, I appreciate the thorough summary of our situation. Here's a potential third option that might balance the pros and cons of both our current ideas: We could consider a mixed model where we maintain a smaller downtown showroom primarily for consultations and initial measurements, but move the production facility to a more cost-effective location. This way, we can still benefit from our established presence and long-term customer base in the fashionable district while significantly reducing our operational costs.\n",
    "The showroom can serve as a sleek, appointment-only boutique where clients can enjoy personalized service in a more exclusive setting, thus preserving the close relationships we've built. Meanwhile, the production move will enable us to cut costs and potentially invest in a more robust online presence, enhancing our web platform for better accessibility and convenience.\n",
    "\n",
    "This hybrid approach might provide us with the flexibility we need to manage costs while still maintaining a high level of customer service and engagement.\n",
    "\n",
    "Looking forward to your thoughts.\n",
    "\n",
    "Best, Josh\n",
    "'''\n",
    "\n",
    "corrected = correct_grammar(test_sentence)\n",
    "print(f\"\\n❌ Original:  {test_sentence}\")\n",
    "print(f\"✅ Corrected: {corrected}\")\n"
   ]
  },
  {
   "cell_type": "code",
   "execution_count": null,
   "metadata": {},
   "outputs": [],
   "source": []
  },
  {
   "cell_type": "code",
   "execution_count": null,
   "metadata": {},
   "outputs": [],
   "source": []
  }
 ],
 "metadata": {
  "kernelspec": {
   "display_name": "pytorch_p310",
   "language": "python",
   "name": "python3"
  },
  "language_info": {
   "codemirror_mode": {
    "name": "ipython",
    "version": 3
   },
   "file_extension": ".py",
   "mimetype": "text/x-python",
   "name": "python",
   "nbconvert_exporter": "python",
   "pygments_lexer": "ipython3",
   "version": "3.10.18"
  },
  "orig_nbformat": 4
 },
 "nbformat": 4,
 "nbformat_minor": 2
}
