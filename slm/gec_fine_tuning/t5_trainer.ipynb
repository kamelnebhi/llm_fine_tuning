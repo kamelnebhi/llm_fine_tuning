{
 "cells": [
  {
   "cell_type": "markdown",
   "metadata": {},
   "source": [
    "## SetUp"
   ]
  },
  {
   "cell_type": "code",
   "execution_count": null,
   "metadata": {},
   "outputs": [],
   "source": [
    "#!pip install pyarrow==12.0.0 --prefer-binary\n",
    "#!pip install evaluate transformers datasets accelerate==1.9.0 wandb safetensors==0.4.3 --prefer-binary\n",
    "#!conda install -c conda-forge sentencepiece"
   ]
  },
  {
   "cell_type": "code",
   "execution_count": 2,
   "metadata": {},
   "outputs": [],
   "source": [
    "#!pip install -q sacrebleu"
   ]
  },
  {
   "cell_type": "markdown",
   "metadata": {},
   "source": [
    "## Timing performance"
   ]
  },
  {
   "cell_type": "code",
   "execution_count": 14,
   "metadata": {},
   "outputs": [
    {
     "name": "stdout",
     "output_type": "stream",
     "text": [
      "CPU cores: 8\n",
      "RAM total: 30.99 GB\n"
     ]
    }
   ],
   "source": [
    "import psutil\n",
    "\n",
    "print(\"CPU cores:\", psutil.cpu_count(logical=True))\n",
    "print(\"RAM total:\", round(psutil.virtual_memory().total / 1024**3, 2), \"GB\")"
   ]
  },
  {
   "cell_type": "code",
   "execution_count": 19,
   "metadata": {},
   "outputs": [
    {
     "name": "stdout",
     "output_type": "stream",
     "text": [
      "Using device: cpu\n",
      "Num threads: 1\n",
      "Corrected: This sentence has bad grammar.\n",
      "Inference time: 0.782 seconds\n"
     ]
    }
   ],
   "source": [
    "import torch\n",
    "from transformers import AutoTokenizer, AutoModelForSeq2SeqLM\n",
    "import time\n",
    "\n",
    "# ----------- 1. Forcer CPU et nombre de threads -----------\n",
    "device = torch.device(\"cpu\")\n",
    "torch.set_num_threads(2)  # Limite PyTorch à 2 CPU\n",
    "print(\"Using device:\", device)\n",
    "print(\"Num threads:\", torch.get_num_threads())\n",
    "\n",
    "# ----------- 2. Charger le modèle et le tokenizer -----------\n",
    "model_name = \"vennify/t5-base-grammar-correction\"\n",
    "tokenizer = AutoTokenizer.from_pretrained(model_name)\n",
    "model = AutoModelForSeq2SeqLM.from_pretrained(model_name).to(device)\n",
    "\n",
    "# ----------- 3. Phrase à corriger -----------\n",
    "text = \"This sentences has has bads grammar.\"\n",
    "input_text = \"grammar: \" + text\n",
    "\n",
    "# Tokenization\n",
    "inputs = tokenizer(input_text, return_tensors=\"pt\").to(device)\n",
    "\n",
    "# ----------- 4. Génération avec mesure du temps -----------\n",
    "with torch.inference_mode():  # économise la mémoire\n",
    "    start_time = time.time()\n",
    "    outputs = model.generate(\n",
    "        **inputs,\n",
    "        num_beams=5,\n",
    "        min_length=1\n",
    "    )\n",
    "    end_time = time.time()\n",
    "\n",
    "# Décodage du texte\n",
    "corrected_text = tokenizer.decode(outputs[0], skip_special_tokens=True)\n",
    "print(\"Corrected:\", corrected_text)\n",
    "print(f\"Inference time: {end_time - start_time:.3f} seconds\")\n"
   ]
  },
  {
   "cell_type": "code",
   "execution_count": 18,
   "metadata": {},
   "outputs": [
    {
     "name": "stdout",
     "output_type": "stream",
     "text": [
      "Using device: cpu\n",
      "Num threads: 4\n",
      "Corrected: This sentence has bad grammar.\n",
      "Inference time: 0.415 seconds\n"
     ]
    }
   ],
   "source": [
    "import torch\n",
    "from transformers import AutoTokenizer, AutoModelForSeq2SeqLM\n",
    "import time\n",
    "\n",
    "# ----------- 1. Forcer CPU et nombre de threads -----------\n",
    "device = torch.device(\"cpu\")\n",
    "torch.set_num_threads(4)  # Limite PyTorch à 2 CPU\n",
    "print(\"Using device:\", device)\n",
    "print(\"Num threads:\", torch.get_num_threads())\n",
    "\n",
    "# ----------- 2. Charger le modèle et le tokenizer -----------\n",
    "model_name = \"vennify/t5-base-grammar-correction\"\n",
    "tokenizer = AutoTokenizer.from_pretrained(model_name)\n",
    "model = AutoModelForSeq2SeqLM.from_pretrained(model_name).to(device)\n",
    "\n",
    "# ----------- 3. Phrase à corriger -----------\n",
    "text = \"This sentences has has bads grammar.\"\n",
    "input_text = \"grammar: \" + text\n",
    "\n",
    "# Tokenization\n",
    "inputs = tokenizer(input_text, return_tensors=\"pt\").to(device)\n",
    "\n",
    "# ----------- 4. Génération avec mesure du temps -----------\n",
    "with torch.inference_mode():  # économise la mémoire\n",
    "    start_time = time.time()\n",
    "    outputs = model.generate(\n",
    "        **inputs,\n",
    "        num_beams=5,\n",
    "        min_length=1\n",
    "    )\n",
    "    end_time = time.time()\n",
    "\n",
    "# Décodage du texte\n",
    "corrected_text = tokenizer.decode(outputs[0], skip_special_tokens=True)\n",
    "print(\"Corrected:\", corrected_text)\n",
    "print(f\"Inference time: {end_time - start_time:.3f} seconds\")\n"
   ]
  },
  {
   "cell_type": "markdown",
   "metadata": {},
   "source": [
    "## Dataset Transform"
   ]
  },
  {
   "cell_type": "code",
   "execution_count": 11,
   "metadata": {},
   "outputs": [
    {
     "name": "stdout",
     "output_type": "stream",
     "text": [
      "(25202, 46)\n"
     ]
    },
    {
     "data": {
      "text/html": [
       "<div>\n",
       "<style scoped>\n",
       "    .dataframe tbody tr th:only-of-type {\n",
       "        vertical-align: middle;\n",
       "    }\n",
       "\n",
       "    .dataframe tbody tr th {\n",
       "        vertical-align: top;\n",
       "    }\n",
       "\n",
       "    .dataframe thead th {\n",
       "        text-align: right;\n",
       "    }\n",
       "</style>\n",
       "<table border=\"1\" class=\"dataframe\">\n",
       "  <thead>\n",
       "    <tr style=\"text-align: right;\">\n",
       "      <th></th>\n",
       "      <th>id</th>\n",
       "      <th>student_id</th>\n",
       "      <th>teacher_id</th>\n",
       "      <th>submit_time</th>\n",
       "      <th>submit_writing</th>\n",
       "      <th>correct_time</th>\n",
       "      <th>correct_writing</th>\n",
       "      <th>teacher_comment</th>\n",
       "      <th>grade</th>\n",
       "      <th>template_version</th>\n",
       "      <th>...</th>\n",
       "      <th>original_text</th>\n",
       "      <th>corrected_text</th>\n",
       "      <th>corrected_text_with_tags</th>\n",
       "      <th>corrections</th>\n",
       "      <th>error_types</th>\n",
       "      <th>gpt35_corrected_text</th>\n",
       "      <th>gpt-4o_correction_prompt</th>\n",
       "      <th>gpt4o_batch_correction_id</th>\n",
       "      <th>writing_id</th>\n",
       "      <th>gpt-4o_correction</th>\n",
       "    </tr>\n",
       "  </thead>\n",
       "  <tbody>\n",
       "    <tr>\n",
       "      <th>0</th>\n",
       "      <td>64290636</td>\n",
       "      <td>2e8e5d9d-09df-467a-9661-3fceb5562108</td>\n",
       "      <td>35433534</td>\n",
       "      <td>2024-01-26 06:20:34.077</td>\n",
       "      <td>&lt;input&gt;&lt;paragraph&gt;Four years ago we visited Eq...</td>\n",
       "      <td>2024-01-27 00:37:44.297</td>\n",
       "      <td>&lt;input&gt;Four years ago&lt;code a=\"PU\" c=\",\"&gt;&lt;/code...</td>\n",
       "      <td>Missing word: \"Four years ago, we visited Equa...</td>\n",
       "      <td>80</td>\n",
       "      <td>18</td>\n",
       "      <td>...</td>\n",
       "      <td>Four years ago we visited Equador and Galapago...</td>\n",
       "      <td>Four years ago, we visited Equador and the Gal...</td>\n",
       "      <td>Four years ago&lt;code a=\"PU\" c=\",\"&gt;&lt;/code&gt; we vi...</td>\n",
       "      <td>[{'error_type': 'PU', 'correction': ',', 'writ...</td>\n",
       "      <td>{'WC': 2, 'NSW': 0, 'EX': 0, 'UM': 0, 'SP': 0,...</td>\n",
       "      <td>Four years ago, we visited Ecuador and the Gal...</td>\n",
       "      <td>Correct this text in the style of a language t...</td>\n",
       "      <td>batch_req_m2X9JEvQZtOTaQ5nS8D9AzgE</td>\n",
       "      <td>64290636</td>\n",
       "      <td>Four years ago, we visited Ecuador and the Gal...</td>\n",
       "    </tr>\n",
       "    <tr>\n",
       "      <th>1</th>\n",
       "      <td>64522003</td>\n",
       "      <td>ef5ee7f9-6e8e-4c82-8ebd-818b48e57d13</td>\n",
       "      <td>35606274</td>\n",
       "      <td>2024-03-06 14:07:30.193</td>\n",
       "      <td>&lt;input&gt;&lt;paragraph&gt;I hope this email finds you ...</td>\n",
       "      <td>2024-03-07 09:12:05.380</td>\n",
       "      <td>&lt;input&gt;I hope this email finds you well. I wan...</td>\n",
       "      <td>Verb tense: You have good command over the use...</td>\n",
       "      <td>100</td>\n",
       "      <td>22</td>\n",
       "      <td>...</td>\n",
       "      <td>I hope this email finds you well. I wanted to ...</td>\n",
       "      <td>I hope this email finds you well. I wanted to ...</td>\n",
       "      <td>I hope this email finds you well. I wanted to ...</td>\n",
       "      <td>[]</td>\n",
       "      <td>{'WC': 0, 'NSW': 0, 'EX': 0, 'UM': 0, 'SP': 0,...</td>\n",
       "      <td>I hope this email finds you well. I wanted to ...</td>\n",
       "      <td>Correct this text in the style of a language t...</td>\n",
       "      <td>batch_req_wdVQCiK9zrObJFoY0KW0J2Qk</td>\n",
       "      <td>64522003</td>\n",
       "      <td>I hope this email finds you well. I wanted to ...</td>\n",
       "    </tr>\n",
       "    <tr>\n",
       "      <th>2</th>\n",
       "      <td>64328702</td>\n",
       "      <td>b7da77b7-c56d-4628-8e60-d286a9bf9234</td>\n",
       "      <td>21723630</td>\n",
       "      <td>2024-02-08 11:38:48.867</td>\n",
       "      <td>&lt;input&gt;&lt;paragraph&gt;I think you could go to an I...</td>\n",
       "      <td>2024-02-10 00:23:23.357</td>\n",
       "      <td>&lt;input&gt;I think you could go to an Italian rest...</td>\n",
       "      <td>Capitalize- Always capitalize the first letter...</td>\n",
       "      <td>90</td>\n",
       "      <td>19</td>\n",
       "      <td>...</td>\n",
       "      <td>I think you could go to an Italian restaurant ...</td>\n",
       "      <td>I think you could go to an Italian restaurant ...</td>\n",
       "      <td>I think you could go to an Italian restaurant&lt;...</td>\n",
       "      <td>[{'error_type': 'DD', 'correction': '', 'writi...</td>\n",
       "      <td>{'WC': 0, 'NSW': 0, 'EX': 0, 'UM': 0, 'SP': 0,...</td>\n",
       "      <td>I think you could go to an Italian restaurant ...</td>\n",
       "      <td>Correct this text in the style of a language t...</td>\n",
       "      <td>batch_req_z2vLoecWSVsLOl7jzBrUDa5f</td>\n",
       "      <td>64328702</td>\n",
       "      <td>I think you could go to an Italian restaurant ...</td>\n",
       "    </tr>\n",
       "    <tr>\n",
       "      <th>3</th>\n",
       "      <td>64411378</td>\n",
       "      <td>02d9e0b7-60b5-4f24-9d06-5b040e8220c3</td>\n",
       "      <td>35700879</td>\n",
       "      <td>2024-02-23 15:45:35.107</td>\n",
       "      <td>&lt;input&gt;&lt;paragraph&gt;Dear Mr. Biggins,&lt;/paragraph...</td>\n",
       "      <td>2024-02-24 01:14:36.200</td>\n",
       "      <td>&lt;input&gt;Dear Mr. Biggins,&lt;code a=\"AS\" c=\" \"&gt;&lt;/c...</td>\n",
       "      <td>Punctuation spacing: Please leave a single spa...</td>\n",
       "      <td>95</td>\n",
       "      <td>15</td>\n",
       "      <td>...</td>\n",
       "      <td>Dear Mr. Biggins,\\n\\nI hope this email finds y...</td>\n",
       "      <td>Dear Mr. Biggins,\\n\\nI hope this email finds y...</td>\n",
       "      <td>Dear Mr. Biggins,&lt;code a=\"AS\" c=\" \"&gt;&lt;/code&gt;I h...</td>\n",
       "      <td>[{'error_type': 'AS', 'correction': ' ', 'writ...</td>\n",
       "      <td>{'WC': 0, 'NSW': 0, 'EX': 0, 'UM': 0, 'SP': 0,...</td>\n",
       "      <td>Dear Mr. Biggins,\\n\\nI hope this email finds y...</td>\n",
       "      <td>Correct this text in the style of a language t...</td>\n",
       "      <td>batch_req_0ivyB89xuSedp4VfrzQX4ZJe</td>\n",
       "      <td>64411378</td>\n",
       "      <td>Dear Mr. Biggins,\\n\\nI hope this email finds y...</td>\n",
       "    </tr>\n",
       "    <tr>\n",
       "      <th>4</th>\n",
       "      <td>64451515</td>\n",
       "      <td>ea2763c7-83b8-4061-abbd-7a53b30d5fab</td>\n",
       "      <td>28977288</td>\n",
       "      <td>2024-02-28 15:41:52.233</td>\n",
       "      <td>&lt;input&gt;&lt;paragraph&gt;Good evening.&lt;/paragraph&gt;&lt;pa...</td>\n",
       "      <td>2024-02-28 21:57:10.320</td>\n",
       "      <td>&lt;input&gt;Good evening.&lt;code a=\"AS\" c=\" \"&gt;&lt;/code&gt;...</td>\n",
       "      <td>Add Space: Be careful about the use of spaces....</td>\n",
       "      <td>95</td>\n",
       "      <td>25</td>\n",
       "      <td>...</td>\n",
       "      <td>Good evening.\\n\\nHow are you?\\n\\nI'm fine, tha...</td>\n",
       "      <td>Good evening.\\n\\nHow are you?\\n\\nI'm fine, tha...</td>\n",
       "      <td>Good evening.&lt;code a=\"AS\" c=\" \"&gt;&lt;/code&gt;How are...</td>\n",
       "      <td>[{'error_type': 'AS', 'correction': ' ', 'writ...</td>\n",
       "      <td>{'WC': 0, 'NSW': 0, 'EX': 0, 'UM': 0, 'SP': 0,...</td>\n",
       "      <td>Good evening.\\n\\nHow are you?\\n\\nI'm fine, tha...</td>\n",
       "      <td>Correct this text in the style of a language t...</td>\n",
       "      <td>batch_req_wMQiCqOMj3worOWmtWVYLhUJ</td>\n",
       "      <td>64451515</td>\n",
       "      <td>Good evening. \\n\\nHow are you? I'm fine, thank...</td>\n",
       "    </tr>\n",
       "  </tbody>\n",
       "</table>\n",
       "<p>5 rows × 46 columns</p>\n",
       "</div>"
      ],
      "text/plain": [
       "         id                            student_id  teacher_id  \\\n",
       "0  64290636  2e8e5d9d-09df-467a-9661-3fceb5562108    35433534   \n",
       "1  64522003  ef5ee7f9-6e8e-4c82-8ebd-818b48e57d13    35606274   \n",
       "2  64328702  b7da77b7-c56d-4628-8e60-d286a9bf9234    21723630   \n",
       "3  64411378  02d9e0b7-60b5-4f24-9d06-5b040e8220c3    35700879   \n",
       "4  64451515  ea2763c7-83b8-4061-abbd-7a53b30d5fab    28977288   \n",
       "\n",
       "               submit_time                                     submit_writing  \\\n",
       "0  2024-01-26 06:20:34.077  <input><paragraph>Four years ago we visited Eq...   \n",
       "1  2024-03-06 14:07:30.193  <input><paragraph>I hope this email finds you ...   \n",
       "2  2024-02-08 11:38:48.867  <input><paragraph>I think you could go to an I...   \n",
       "3  2024-02-23 15:45:35.107  <input><paragraph>Dear Mr. Biggins,</paragraph...   \n",
       "4  2024-02-28 15:41:52.233  <input><paragraph>Good evening.</paragraph><pa...   \n",
       "\n",
       "              correct_time                                    correct_writing  \\\n",
       "0  2024-01-27 00:37:44.297  <input>Four years ago<code a=\"PU\" c=\",\"></code...   \n",
       "1  2024-03-07 09:12:05.380  <input>I hope this email finds you well. I wan...   \n",
       "2  2024-02-10 00:23:23.357  <input>I think you could go to an Italian rest...   \n",
       "3  2024-02-24 01:14:36.200  <input>Dear Mr. Biggins,<code a=\"AS\" c=\" \"></c...   \n",
       "4  2024-02-28 21:57:10.320  <input>Good evening.<code a=\"AS\" c=\" \"></code>...   \n",
       "\n",
       "                                     teacher_comment  grade  template_version  \\\n",
       "0  Missing word: \"Four years ago, we visited Equa...     80                18   \n",
       "1  Verb tense: You have good command over the use...    100                22   \n",
       "2  Capitalize- Always capitalize the first letter...     90                19   \n",
       "3  Punctuation spacing: Please leave a single spa...     95                15   \n",
       "4  Add Space: Be careful about the use of spaces....     95                25   \n",
       "\n",
       "   ...                                      original_text  \\\n",
       "0  ...  Four years ago we visited Equador and Galapago...   \n",
       "1  ...  I hope this email finds you well. I wanted to ...   \n",
       "2  ...  I think you could go to an Italian restaurant ...   \n",
       "3  ...  Dear Mr. Biggins,\\n\\nI hope this email finds y...   \n",
       "4  ...  Good evening.\\n\\nHow are you?\\n\\nI'm fine, tha...   \n",
       "\n",
       "                                      corrected_text  \\\n",
       "0  Four years ago, we visited Equador and the Gal...   \n",
       "1  I hope this email finds you well. I wanted to ...   \n",
       "2  I think you could go to an Italian restaurant ...   \n",
       "3  Dear Mr. Biggins,\\n\\nI hope this email finds y...   \n",
       "4  Good evening.\\n\\nHow are you?\\n\\nI'm fine, tha...   \n",
       "\n",
       "                            corrected_text_with_tags  \\\n",
       "0  Four years ago<code a=\"PU\" c=\",\"></code> we vi...   \n",
       "1  I hope this email finds you well. I wanted to ...   \n",
       "2  I think you could go to an Italian restaurant<...   \n",
       "3  Dear Mr. Biggins,<code a=\"AS\" c=\" \"></code>I h...   \n",
       "4  Good evening.<code a=\"AS\" c=\" \"></code>How are...   \n",
       "\n",
       "                                         corrections  \\\n",
       "0  [{'error_type': 'PU', 'correction': ',', 'writ...   \n",
       "1                                                 []   \n",
       "2  [{'error_type': 'DD', 'correction': '', 'writi...   \n",
       "3  [{'error_type': 'AS', 'correction': ' ', 'writ...   \n",
       "4  [{'error_type': 'AS', 'correction': ' ', 'writ...   \n",
       "\n",
       "                                         error_types  \\\n",
       "0  {'WC': 2, 'NSW': 0, 'EX': 0, 'UM': 0, 'SP': 0,...   \n",
       "1  {'WC': 0, 'NSW': 0, 'EX': 0, 'UM': 0, 'SP': 0,...   \n",
       "2  {'WC': 0, 'NSW': 0, 'EX': 0, 'UM': 0, 'SP': 0,...   \n",
       "3  {'WC': 0, 'NSW': 0, 'EX': 0, 'UM': 0, 'SP': 0,...   \n",
       "4  {'WC': 0, 'NSW': 0, 'EX': 0, 'UM': 0, 'SP': 0,...   \n",
       "\n",
       "                                gpt35_corrected_text  \\\n",
       "0  Four years ago, we visited Ecuador and the Gal...   \n",
       "1  I hope this email finds you well. I wanted to ...   \n",
       "2  I think you could go to an Italian restaurant ...   \n",
       "3  Dear Mr. Biggins,\\n\\nI hope this email finds y...   \n",
       "4  Good evening.\\n\\nHow are you?\\n\\nI'm fine, tha...   \n",
       "\n",
       "                            gpt-4o_correction_prompt  \\\n",
       "0  Correct this text in the style of a language t...   \n",
       "1  Correct this text in the style of a language t...   \n",
       "2  Correct this text in the style of a language t...   \n",
       "3  Correct this text in the style of a language t...   \n",
       "4  Correct this text in the style of a language t...   \n",
       "\n",
       "            gpt4o_batch_correction_id writing_id  \\\n",
       "0  batch_req_m2X9JEvQZtOTaQ5nS8D9AzgE   64290636   \n",
       "1  batch_req_wdVQCiK9zrObJFoY0KW0J2Qk   64522003   \n",
       "2  batch_req_z2vLoecWSVsLOl7jzBrUDa5f   64328702   \n",
       "3  batch_req_0ivyB89xuSedp4VfrzQX4ZJe   64411378   \n",
       "4  batch_req_wMQiCqOMj3worOWmtWVYLhUJ   64451515   \n",
       "\n",
       "                                   gpt-4o_correction  \n",
       "0  Four years ago, we visited Ecuador and the Gal...  \n",
       "1  I hope this email finds you well. I wanted to ...  \n",
       "2  I think you could go to an Italian restaurant ...  \n",
       "3  Dear Mr. Biggins,\\n\\nI hope this email finds y...  \n",
       "4  Good evening. \\n\\nHow are you? I'm fine, thank...  \n",
       "\n",
       "[5 rows x 46 columns]"
      ]
     },
     "execution_count": 11,
     "metadata": {},
     "output_type": "execute_result"
    }
   ],
   "source": [
    "import pandas as pd\n",
    "import boto3\n",
    "bucket_name = 'sagemaker-studio-oxs6vznjds'\n",
    "key = 'writing_gec/data/writing_corrections.csv'\n",
    "s3_client = boto3.client('s3', region_name='us-east-1')\n",
    "obj = s3_client.get_object(Bucket=bucket_name, Key=key)\n",
    "df = pd.read_csv(obj['Body'])\n",
    "df = df.dropna(subset=[\"original_text\", \"corrected_text\"])\n",
    "#df = df[:5000]  # optional limit rows\n",
    "print(df.shape)\n",
    "df.head()"
   ]
  },
  {
   "cell_type": "code",
   "execution_count": 12,
   "metadata": {},
   "outputs": [
    {
     "data": {
      "text/html": [
       "<div>\n",
       "<style scoped>\n",
       "    .dataframe tbody tr th:only-of-type {\n",
       "        vertical-align: middle;\n",
       "    }\n",
       "\n",
       "    .dataframe tbody tr th {\n",
       "        vertical-align: top;\n",
       "    }\n",
       "\n",
       "    .dataframe thead th {\n",
       "        text-align: right;\n",
       "    }\n",
       "</style>\n",
       "<table border=\"1\" class=\"dataframe\">\n",
       "  <thead>\n",
       "    <tr style=\"text-align: right;\">\n",
       "      <th></th>\n",
       "      <th>id</th>\n",
       "      <th>original_text</th>\n",
       "      <th>corrected_text</th>\n",
       "    </tr>\n",
       "  </thead>\n",
       "  <tbody>\n",
       "    <tr>\n",
       "      <th>0</th>\n",
       "      <td>64290636</td>\n",
       "      <td>Four years ago we visited Equador and Galapago...</td>\n",
       "      <td>Four years ago, we visited Equador and the Gal...</td>\n",
       "    </tr>\n",
       "    <tr>\n",
       "      <th>1</th>\n",
       "      <td>64522003</td>\n",
       "      <td>I hope this email finds you well. I wanted to ...</td>\n",
       "      <td>I hope this email finds you well. I wanted to ...</td>\n",
       "    </tr>\n",
       "    <tr>\n",
       "      <th>2</th>\n",
       "      <td>64328702</td>\n",
       "      <td>I think you could go to an Italian restaurant ...</td>\n",
       "      <td>I think you could go to an Italian restaurant ...</td>\n",
       "    </tr>\n",
       "    <tr>\n",
       "      <th>3</th>\n",
       "      <td>64411378</td>\n",
       "      <td>Dear Mr. Biggins,\\n\\nI hope this email finds y...</td>\n",
       "      <td>Dear Mr. Biggins,\\n\\nI hope this email finds y...</td>\n",
       "    </tr>\n",
       "    <tr>\n",
       "      <th>4</th>\n",
       "      <td>64451515</td>\n",
       "      <td>Good evening.\\n\\nHow are you?\\n\\nI'm fine, tha...</td>\n",
       "      <td>Good evening.\\n\\nHow are you?\\n\\nI'm fine, tha...</td>\n",
       "    </tr>\n",
       "  </tbody>\n",
       "</table>\n",
       "</div>"
      ],
      "text/plain": [
       "         id                                      original_text  \\\n",
       "0  64290636  Four years ago we visited Equador and Galapago...   \n",
       "1  64522003  I hope this email finds you well. I wanted to ...   \n",
       "2  64328702  I think you could go to an Italian restaurant ...   \n",
       "3  64411378  Dear Mr. Biggins,\\n\\nI hope this email finds y...   \n",
       "4  64451515  Good evening.\\n\\nHow are you?\\n\\nI'm fine, tha...   \n",
       "\n",
       "                                      corrected_text  \n",
       "0  Four years ago, we visited Equador and the Gal...  \n",
       "1  I hope this email finds you well. I wanted to ...  \n",
       "2  I think you could go to an Italian restaurant ...  \n",
       "3  Dear Mr. Biggins,\\n\\nI hope this email finds y...  \n",
       "4  Good evening.\\n\\nHow are you?\\n\\nI'm fine, tha...  "
      ]
     },
     "execution_count": 12,
     "metadata": {},
     "output_type": "execute_result"
    }
   ],
   "source": [
    "df = df[[\"id\", \"original_text\", \"corrected_text\"]]\n",
    "df.head()"
   ]
  },
  {
   "cell_type": "code",
   "execution_count": 21,
   "metadata": {},
   "outputs": [
    {
     "data": {
      "application/vnd.jupyter.widget-view+json": {
       "model_id": "e713bb0368eb42e99504b2f9d4848767",
       "version_major": 2,
       "version_minor": 0
      },
      "text/plain": [
       "Filter:   0%|          | 0/82466 [00:00<?, ? examples/s]"
      ]
     },
     "metadata": {},
     "output_type": "display_data"
    },
    {
     "name": "stdout",
     "output_type": "stream",
     "text": [
      "Dataset({\n",
      "    features: ['_id', 'src', 'tgt'],\n",
      "    num_rows: 19823\n",
      "})\n",
      "{'_id': '0', 'src': 'Remove all grammatical errors from this text: For example, countries with a lot of deserts can terraform their desert to increase their habitable land and using irrigation to provide clean water to the desert.', 'tgt': 'For example, countries with a lot of deserts can transform their desert to increase their habitable land and use irrigation to provide clean water to the desert.'}\n",
      "DatasetDict({\n",
      "    train: Dataset({\n",
      "        features: ['_id', 'src', 'tgt'],\n",
      "        num_rows: 31517\n",
      "    })\n",
      "    validation: Dataset({\n",
      "        features: ['_id', 'src', 'tgt'],\n",
      "        num_rows: 6754\n",
      "    })\n",
      "    test: Dataset({\n",
      "        features: ['_id', 'src', 'tgt'],\n",
      "        num_rows: 6754\n",
      "    })\n",
      "})\n"
     ]
    }
   ],
   "source": [
    "from datasets import Dataset, DatasetDict, load_dataset, concatenate_datasets\n",
    "\n",
    "# Charger le dataset\n",
    "ds_grammarly = load_dataset(\"dim/grammarly_coedit\")\n",
    "\n",
    "# Filtrer uniquement les exemples dont la task est 'gec'\n",
    "ds_grammarly = ds_grammarly[\"train\"].filter(lambda example: example[\"task\"] == \"gec\")\n",
    "ds_grammarly = ds_grammarly.remove_columns([\"task\"])\n",
    "\n",
    "# Afficher le nombre d'exemples restants\n",
    "print(ds_grammarly)\n",
    "print(ds_grammarly[0])\n",
    "\n",
    "df_hf = df.rename(columns={\n",
    "    \"id\": \"_id\",\n",
    "    \"original_text\": \"src\",\n",
    "    \"corrected_text\": \"tgt\"\n",
    "})\n",
    "\n",
    "ds_sft = Dataset.from_pandas(df_hf, preserve_index=False)\n",
    "\n",
    "df1 = ds_sft.to_pandas()\n",
    "df2 = ds_grammarly.to_pandas()\n",
    "\n",
    "def fix(example):\n",
    "    # Remove the numeric prefix before colon\n",
    "    string_list = example[\"src\"].split(\":\")\n",
    "    text = \" \".join(string_list[1:]).strip()\n",
    "    example[\"src\"] = text\n",
    "    return example\n",
    "\n",
    "# Apply the cleaning function\n",
    "df2 = df2.apply(fix, axis=1)\n",
    "\n",
    "\n",
    "merged_df = pd.concat([df1, df2], ignore_index=True)\n",
    "merged_df[\"_id\"] = merged_df[\"_id\"].astype(str)\n",
    "\n",
    "ds_merged = Dataset.from_pandas(merged_df, preserve_index=False)\n",
    "\n",
    "\n",
    "split1 = ds_merged.train_test_split(test_size=0.3, seed=42)  # 70% train, 30% remaining\n",
    "split2 = split1['test'].train_test_split(test_size=0.5, seed=42)  # 15% val, 15% test\n",
    "\n",
    "ds_ft = DatasetDict({\n",
    "    \"train\": split1['train'],\n",
    "    \"validation\": split2['train'],\n",
    "    \"test\": split2['test']\n",
    "})\n",
    "\n",
    "print(ds_ft)\n"
   ]
  },
  {
   "cell_type": "markdown",
   "metadata": {},
   "source": [
    "## SFT"
   ]
  },
  {
   "cell_type": "code",
   "execution_count": 11,
   "metadata": {},
   "outputs": [],
   "source": [
    "MODELNAME = \"t5-base\"\n",
    "PREFIX = \"grammar: \""
   ]
  },
  {
   "cell_type": "code",
   "execution_count": 12,
   "metadata": {},
   "outputs": [],
   "source": [
    "import torch\n",
    "training_device = torch.device(\"cuda\") if torch.cuda.is_available() else torch.device(\"cpu\")\n",
    "training_device\n",
    "import numpy as np"
   ]
  },
  {
   "cell_type": "code",
   "execution_count": null,
   "metadata": {},
   "outputs": [],
   "source": [
    "from transformers import T5Tokenizer, T5ForConditionalGeneration\n",
    "\n",
    "tokenizer = T5Tokenizer.from_pretrained(MODELNAME)\n",
    "model = T5ForConditionalGeneration.from_pretrained(MODELNAME)"
   ]
  },
  {
   "cell_type": "code",
   "execution_count": 23,
   "metadata": {},
   "outputs": [
    {
     "name": "stdout",
     "output_type": "stream",
     "text": [
      "{'_id': '64677767', 'src': \"The aim of this report is to recommend a training company. As you may be aware, the two principal candidates are Skills Pro and Trainquick. In this case Skills Pro is recommended as the preferred training company based on our evaluation. TrainQuick, while offering cost-effective and flexible solutions, falls short due to employee dissatisfaction, particularly regarding mixed-branch classes. \\n\\nOn the other hand, Skills Pro, though pricier, remains the first choice due to its successful course completion rates and plans for course expansion. Despite the major drawback of higher costs, the quality of training offered by Skills Pro outweighs this chief complaint. \\n\\nMoreover, Skills Pro's ability to deliver challenging course content, which employees often finish successfully, indicates its effectiveness and suitability for our training needs. Therefore, selecting Skills Pro for our training requirements is a prudent decision, emphasizing the importance of quality over cost-effectiveness in achieving our organizational objectives.\", 'tgt': \"The aim of this report is to recommend a training company. As you may be aware, the two principal candidates are Skills Pro and Trainquick. In this case Skills Pro is recommended as the preferred training company based on our evaluation. TrainQuick, while offering cost-effective and flexible solutions, falls short due to employee dissatisfaction, particularly regarding mixed-branch classes. \\n\\nOn the other hand, Skills Pro, though pricier, remains the first choice due to its successful course completion rates and plans for course expansion. Despite the major drawback of higher costs, the quality of training offered by Skills Pro outweighs this chief complaint. \\n\\nMoreover, Skills Pro's ability to deliver challenging course content, which employees often finish successfully, indicates its effectiveness and suitability for our training needs. Therefore, selecting Skills Pro for our training requirements is a prudent decision, emphasizing the importance of quality over cost-effectiveness in achieving our organizational objectives.\"}\n"
     ]
    }
   ],
   "source": [
    "print(ds_ft[\"train\"][0])"
   ]
  },
  {
   "cell_type": "code",
   "execution_count": 24,
   "metadata": {},
   "outputs": [
    {
     "name": "stdout",
     "output_type": "stream",
     "text": [
      "🔤 Max src length: 524\n",
      "🔤 Max tgt length: 1119\n",
      "📊 95th percentile src length: 262.0\n",
      "📊 95th percentile tgt length: 267.0\n"
     ]
    },
    {
     "data": {
      "image/png": "[encoded data removed]",
      "text/plain": [
       "<Figure size 640x480 with 1 Axes>"
      ]
     },
     "metadata": {},
     "output_type": "display_data"
    },
    {
     "data": {
      "text/plain": [
       "'\\n🔤 Max src length: 199\\n🔤 Max tgt length: 199\\n📊 95th percentile src length: 52.0\\n📊 95th percentile tgt length: 49.0\\n'"
      ]
     },
     "execution_count": 24,
     "metadata": {},
     "output_type": "execute_result"
    }
   ],
   "source": [
    "import numpy as np\n",
    "import matplotlib.pyplot as plt\n",
    "\n",
    "# Calculate lengths\n",
    "src_lengths = [len(tokenizer.encode(\"grammar: \" + x[\"src\"])) for x in ds_ft[\"train\"]]\n",
    "tgt_lengths = [len(tokenizer.encode(x[\"tgt\"])) for x in ds_ft[\"train\"]]\n",
    "\n",
    "# Stats\n",
    "print(f\"🔤 Max src length: {max(src_lengths)}\")\n",
    "print(f\"🔤 Max tgt length: {max(tgt_lengths)}\")\n",
    "print(f\"📊 95th percentile src length: {np.percentile(src_lengths, 95)}\")\n",
    "print(f\"📊 95th percentile tgt length: {np.percentile(tgt_lengths, 95)}\")\n",
    "\n",
    "# Optional: Plot histograms\n",
    "plt.hist(src_lengths, bins=50, alpha=0.6, label='src (grammar: input)')\n",
    "plt.hist(tgt_lengths, bins=50, alpha=0.6, label='tgt (corrected)')\n",
    "plt.axvline(128, color='red', linestyle='--', label='max_length=128')\n",
    "plt.xlabel('Token Length')\n",
    "plt.ylabel('Frequency')\n",
    "plt.legend()\n",
    "plt.title('Distribution of Token Lengths')\n",
    "plt.show()\n",
    "\n",
    "\"\"\"\n",
    "🔤 Max src length: 199\n",
    "🔤 Max tgt length: 199\n",
    "📊 95th percentile src length: 52.0\n",
    "📊 95th percentile tgt length: 49.0\n",
    "\"\"\""
   ]
  },
  {
   "cell_type": "code",
   "execution_count": 25,
   "metadata": {},
   "outputs": [],
   "source": [
    "dataset = ds_ft[\"train\"].train_test_split(test_size=0.1, seed=42)\n",
    "train_ds = ds_ft[\"train\"]\n",
    "val_ds = ds_ft[\"validation\"]"
   ]
  },
  {
   "cell_type": "code",
   "execution_count": 26,
   "metadata": {},
   "outputs": [
    {
     "name": "stderr",
     "output_type": "stream",
     "text": [
      "Parameter 'function'=<function preprocess at 0x7fe7bbf33eb0> of the transform datasets.arrow_dataset.Dataset._map_single couldn't be hashed properly, a random hash was used instead. Make sure your transforms and parameters are serializable with pickle or dill for the dataset fingerprinting and caching to work. If you reuse this transform, the caching mechanism will consider it to be different from the previous calls and recompute everything. This warning is only showed once. Subsequent hashing failures won't be showed.\n"
     ]
    },
    {
     "data": {
      "application/vnd.jupyter.widget-view+json": {
       "model_id": "14430c71d9164deea9822ebae29a281b",
       "version_major": 2,
       "version_minor": 0
      },
      "text/plain": [
       "Map:   0%|          | 0/31517 [00:00<?, ? examples/s]"
      ]
     },
     "metadata": {},
     "output_type": "display_data"
    },
    {
     "data": {
      "application/vnd.jupyter.widget-view+json": {
       "model_id": "a383e872f7314ea988886abb55c53842",
       "version_major": 2,
       "version_minor": 0
      },
      "text/plain": [
       "Map:   0%|          | 0/6754 [00:00<?, ? examples/s]"
      ]
     },
     "metadata": {},
     "output_type": "display_data"
    }
   ],
   "source": [
    "def preprocess(example):\n",
    "    input_text = PREFIX + example[\"src\"]\n",
    "    target_text = example[\"tgt\"]\n",
    "    model_inputs = tokenizer(input_text, truncation=True, padding=\"max_length\", max_length=256)\n",
    "\n",
    "    labels = tokenizer(target_text, truncation=True, padding=\"max_length\", max_length=256)\n",
    "    labels_ids = labels[\"input_ids\"]\n",
    "\n",
    "    # Important : remplacer les pad_token_id par -100\n",
    "    labels_ids = [id if id != tokenizer.pad_token_id else -100 for id in labels_ids]\n",
    "\n",
    "    model_inputs[\"labels\"] = labels_ids\n",
    "    return model_inputs\n",
    "\n",
    "\n",
    "tokenized_train = train_ds.map(preprocess, batched=False)\n",
    "tokenized_val = val_ds.map(preprocess, batched=False)"
   ]
  },
  {
   "cell_type": "code",
   "execution_count": 27,
   "metadata": {},
   "outputs": [
    {
     "data": {
      "application/vnd.jupyter.widget-view+json": {
       "model_id": "015373ceba9d4185a2a99f1f20a673b0",
       "version_major": 2,
       "version_minor": 0
      },
      "text/plain": [
       "Downloading builder script: 0.00B [00:00, ?B/s]"
      ]
     },
     "metadata": {},
     "output_type": "display_data"
    }
   ],
   "source": [
    "import evaluate\n",
    "import sacrebleu\n",
    "import numpy as np\n",
    "\n",
    "exact_match = evaluate.load(\"exact_match\")\n",
    "\n",
    "def compute_metrics(eval_pred):\n",
    "    predictions, labels = eval_pred\n",
    "\n",
    "    # predictions peuvent contenir des IDs invalides → clip\n",
    "    predictions = np.clip(predictions, 0, tokenizer.vocab_size - 1)\n",
    "    decoded_preds = tokenizer.batch_decode(predictions, skip_special_tokens=True)\n",
    "\n",
    "    # labels\n",
    "    labels = np.where(labels != -100, labels, tokenizer.pad_token_id)\n",
    "    decoded_labels = tokenizer.batch_decode(labels, skip_special_tokens=True)\n",
    "\n",
    "    # Exact match\n",
    "    em = exact_match.compute(predictions=decoded_preds, references=decoded_labels)[\"exact_match\"]\n",
    "\n",
    "    # BLEU via sacrebleu\n",
    "    bleu = sacrebleu.corpus_bleu(decoded_preds, [decoded_labels])\n",
    "    bleu_score = bleu.score\n",
    "\n",
    "    return {\"exact_match\": em, \"bleu\": bleu_score}\n"
   ]
  },
  {
   "cell_type": "code",
   "execution_count": null,
   "metadata": {},
   "outputs": [],
   "source": [
    "import torch\n",
    "from transformers import T5ForConditionalGeneration, Seq2SeqTrainingArguments, Seq2SeqTrainer\n",
    "\n",
    "training_args = Seq2SeqTrainingArguments(\n",
    "    output_dir=\"./t5-grammar-corrector\",\n",
    "    do_eval=True,\n",
    "    learning_rate=3e-5,\n",
    "    per_device_train_batch_size=8,\n",
    "    per_device_eval_batch_size=8,\n",
    "    weight_decay=0.01,\n",
    "    save_total_limit=3,\n",
    "    num_train_epochs=3,\n",
    "    predict_with_generate=True,\n",
    "    fp16=torch.cuda.is_available(),\n",
    "    report_to=\"none\",\n",
    ")\n",
    "\n",
    "trainer = Seq2SeqTrainer(\n",
    "    model=model,                             # The model to train\n",
    "    args=training_args,                      # Training configurations\n",
    "    train_dataset=tokenized_train,           # Tokenized training data\n",
    "    eval_dataset=tokenized_val,              # Tokenized validation data\n",
    "    tokenizer=tokenizer,                     # Tokenizer (for padding, decoding, etc.)\n",
    ")\n",
    "\n",
    "trainer.train()\n",
    "\n",
    "\"\"\"\n",
    "Epoch Training Loss Validation Loss\n",
    "1 0.185000 0.165196\n",
    "2 0.178100 0.161055\n",
    "3 0.171300 0.160168\n",
    "TrainOutput(global_step=27834, training_loss=0.1946344326956995, metrics={'train_runtime': 2212.8832, 'train_samples_per_second': 100.619, 'train_steps_per_second': 12.578, 'total_flos': 7533699872587776.0, 'train_loss': 0.1946344326956995, 'epoch': 3.0})\n",
    "\"\"\""
   ]
  },
  {
   "cell_type": "code",
   "execution_count": 33,
   "metadata": {},
   "outputs": [
    {
     "data": {
      "text/plain": [
       "\"\\n('./t5-grammar-corrector/tokenizer_config.json',\\n './t5-grammar-corrector/special_tokens_map.json',\\n './t5-grammar-corrector/spiece.model',\\n './t5-grammar-corrector/added_tokens.json')\\n\""
      ]
     },
     "execution_count": 33,
     "metadata": {},
     "output_type": "execute_result"
    }
   ],
   "source": [
    "model.save_pretrained(\"./t5-grammar-corrector\")\n",
    "tokenizer.save_pretrained(\"./t5-grammar-corrector\")\n",
    "\n",
    "\"\"\"\n",
    "('./t5-grammar-corrector/tokenizer_config.json',\n",
    " './t5-grammar-corrector/special_tokens_map.json',\n",
    " './t5-grammar-corrector/spiece.model',\n",
    " './t5-grammar-corrector/added_tokens.json')\n",
    "\"\"\""
   ]
  },
  {
   "cell_type": "code",
   "execution_count": 34,
   "metadata": {},
   "outputs": [
    {
     "data": {
      "text/html": [
       "\n",
       "    <div>\n",
       "      \n",
       "      <progress value='3' max='19' style='width:300px; height:20px; vertical-align: middle;'></progress>\n",
       "      [ 3/19 00:00 < 00:01, 15.24 it/s]\n",
       "    </div>\n",
       "    "
      ],
      "text/plain": [
       "<IPython.core.display.HTML object>"
      ]
     },
     "metadata": {},
     "output_type": "display_data"
    },
    {
     "name": "stdout",
     "output_type": "stream",
     "text": [
      "📊 Evaluation Results: {'eval_loss': 0.34969887137413025, 'eval_runtime': 1.2431, 'eval_samples_per_second': 120.663, 'eval_steps_per_second': 15.284, 'epoch': 3.0}\n"
     ]
    },
    {
     "data": {
      "text/plain": [
       "\" \\n[1031/1031 00:25]\\n📊 Evaluation Results: {'eval_loss': 0.1601683497428894, 'eval_runtime': 25.8443, 'eval_samples_per_second': 319.104, 'eval_steps_per_second': 39.893, 'epoch': 3.0}\\n\""
      ]
     },
     "execution_count": 34,
     "metadata": {},
     "output_type": "execute_result"
    }
   ],
   "source": [
    "eval_results = trainer.evaluate()\n",
    "print(\"📊 Evaluation Results:\", eval_results)\n",
    "\n",
    "\"\"\" \n",
    "[1031/1031 00:25]\n",
    "📊 Evaluation Results: {'eval_loss': 0.1601683497428894, 'eval_runtime': 25.8443, 'eval_samples_per_second': 319.104, 'eval_steps_per_second': 39.893, 'epoch': 3.0}\n",
    "\"\"\""
   ]
  },
  {
   "cell_type": "markdown",
   "metadata": {},
   "source": [
    "## Inference "
   ]
  },
  {
   "cell_type": "code",
   "execution_count": 43,
   "metadata": {},
   "outputs": [
    {
     "data": {
      "text/plain": [
       "'\\n\\n❌ Original:  He go to school every day.\\n✅ Corrected: He goes to school every day.\\n'"
      ]
     },
     "execution_count": 43,
     "metadata": {},
     "output_type": "execute_result"
    }
   ],
   "source": [
    "model = T5ForConditionalGeneration.from_pretrained(\"./t5-grammar-corrector/checkpoint-3500/\")\n",
    "tokenizer = T5Tokenizer.from_pretrained(\"./t5-grammar-corrector\")\n",
    "\n",
    "def correct_grammar(text: str):\n",
    "    input_text = f\"grammar: {text}\"\n",
    "    input_ids = tokenizer.encode(input_text, return_tensors=\"pt\", truncation=True)\n",
    "\n",
    "    # Move to GPU if available\n",
    "    input_ids = input_ids.to(model.device)\n",
    "\n",
    "    output_ids = model.generate(input_ids, max_length=256, num_beams=4)\n",
    "    return tokenizer.decode(output_ids[0], skip_special_tokens=True)\n",
    "\n",
    "\"\"\"\n",
    "\n",
    "❌ Original:  He go to school every day.\n",
    "✅ Corrected: He goes to school every day.\n",
    "\"\"\""
   ]
  },
  {
   "cell_type": "code",
   "execution_count": 53,
   "metadata": {},
   "outputs": [
    {
     "name": "stdout",
     "output_type": "stream",
     "text": [
      "\n",
      "❌ Original:  \n",
      "\"Dear Team,\n",
      "\n",
      "I want to take a moment to express my deepest gratitude for all the hard work, dedication, and passion you bring to our organization every day. Each of you plays an integral role in our success, and I couldn't be prouder of the incredible strides we've made together.\n",
      "\n",
      "This year has been filled with challenges, but your resilience and determination have turned those challenges into opportunities. Your creativity and teamwork continue to drive innovation, and it's because of your efforts that we’ve been able to achieve so much. Every project completed, every client satisfied, and every goal met is a testament to your commitment and talent.\n",
      "\n",
      "As we look toward the future, I encourage you to stay motivated and keep believing in your abilities. Remember, no contribution is too small; together, we create something much greater than ourselves. If ever you feel overwhelmed, lean on your teammates, and don’t hesitate to share your ideas or concerns. We grow stronger by supporting each other.\n",
      "\n",
      "Let’s continue to set new benchmarks and achieve even greater heights. Your work matters, your ideas matter, and most importantly, you matter. Thank you for being an essential part of this journey. Keep pushing forward—you are truly unstoppable!\"\n",
      "\n",
      "✅ Corrected: Dear Team, I want to take a moment to express my deepest gratitude for all the hard work, dedication, and passion you bring to our organization every day. Each of you plays an integral role in our success, and I couldn't be prouder of the incredible strides we've made together. This year has been filled with challenges, but your resilience and determination have turned those challenges into opportunities. Your creativity and teamwork continue to drive innovation, and it's because of your efforts that we've been able to achieve so much. Every project completed, every client satisfied, and every goal met is a testament to your commitment and talent. As we look toward the future, I encourage you to stay motivated and keep believing in your abilities. Remember, no contribution is too small; together, we create something much greater than ourselves. If ever you feel overwhelmed, lean on your teammates, and don't hesitate to share your ideas or concerns. We grow stronger by supporting each other. Let's continue to set new benchmarks and achieve even greater heights. Your work matters, your ideas matter, and most importantly, you matter. Thank you for being an essential part of this journey. Keep pushing forward—you are truly\n"
     ]
    }
   ],
   "source": [
    "# Try on a sample sentence\n",
    "test_sentence = '''\n",
    "\"Dear Team,\n",
    "\n",
    "I want to take a moment to express my deepest gratitude for all the hard work, dedication, and passion you bring to our organization every day. Each of you plays an integral role in our success, and I couldn't be prouder of the incredible strides we've made together.\n",
    "\n",
    "This year has been filled with challenges, but your resilience and determination have turned those challenges into opportunities. Your creativity and teamwork continue to drive innovation, and it's because of your efforts that we’ve been able to achieve so much. Every project completed, every client satisfied, and every goal met is a testament to your commitment and talent.\n",
    "\n",
    "As we look toward the future, I encourage you to stay motivated and keep believing in your abilities. Remember, no contribution is too small; together, we create something much greater than ourselves. If ever you feel overwhelmed, lean on your teammates, and don’t hesitate to share your ideas or concerns. We grow stronger by supporting each other.\n",
    "\n",
    "Let’s continue to set new benchmarks and achieve even greater heights. Your work matters, your ideas matter, and most importantly, you matter. Thank you for being an essential part of this journey. Keep pushing forward—you are truly unstoppable!\"\n",
    "'''\n",
    "\n",
    "corrected = correct_grammar(test_sentence)\n",
    "print(f\"\\n❌ Original:  {test_sentence}\")\n",
    "print(f\"✅ Corrected: {corrected}\")\n"
   ]
  },
  {
   "cell_type": "markdown",
   "metadata": {},
   "source": [
    "## Evaluation F0-5"
   ]
  },
  {
   "cell_type": "code",
   "execution_count": 10,
   "metadata": {},
   "outputs": [],
   "source": [
    "## to do use errant locally https://github.com/chrisjbryant/errant"
   ]
  }
 ],
 "metadata": {
  "kernelspec": {
   "display_name": "pytorch_p310",
   "language": "python",
   "name": "python3"
  },
  "language_info": {
   "codemirror_mode": {
    "name": "ipython",
    "version": 3
   },
   "file_extension": ".py",
   "mimetype": "text/x-python",
   "name": "python",
   "nbconvert_exporter": "python",
   "pygments_lexer": "ipython3",
   "version": "3.10.18"
  },
  "orig_nbformat": 4
 },
 "nbformat": 4,
 "nbformat_minor": 2
}
