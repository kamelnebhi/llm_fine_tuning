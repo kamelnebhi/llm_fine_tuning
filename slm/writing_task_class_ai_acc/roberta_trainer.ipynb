{
 "cells": [
  {
   "cell_type": "code",
   "execution_count": 2,
   "metadata": {},
   "outputs": [],
   "source": [
    "import torch\n",
    "training_device = torch.device(\"cuda\") if torch.cuda.is_available() else torch.device(\"cpu\")\n",
    "training_device\n",
    "import numpy as np"
   ]
  },
  {
   "cell_type": "code",
   "execution_count": 3,
   "metadata": {},
   "outputs": [],
   "source": [
    "#!pip install evaluate datasets transformers accelerate==0.26.0"
   ]
  },
  {
   "cell_type": "code",
   "execution_count": 4,
   "metadata": {},
   "outputs": [
    {
     "data": {
      "text/html": [
       "<div>\n",
       "<style scoped>\n",
       "    .dataframe tbody tr th:only-of-type {\n",
       "        vertical-align: middle;\n",
       "    }\n",
       "\n",
       "    .dataframe tbody tr th {\n",
       "        vertical-align: top;\n",
       "    }\n",
       "\n",
       "    .dataframe thead th {\n",
       "        text-align: right;\n",
       "    }\n",
       "</style>\n",
       "<table border=\"1\" class=\"dataframe\">\n",
       "  <thead>\n",
       "    <tr style=\"text-align: right;\">\n",
       "      <th></th>\n",
       "      <th>recordId</th>\n",
       "      <th>gpt4o_judge_score</th>\n",
       "      <th>nova_judge_score</th>\n",
       "      <th>llama3_judge_score</th>\n",
       "      <th>majority_value</th>\n",
       "      <th>agreement_percentage</th>\n",
       "      <th>writing_id</th>\n",
       "      <th>task_id</th>\n",
       "      <th>level_title</th>\n",
       "      <th>activity_instructions</th>\n",
       "      <th>student_submission</th>\n",
       "    </tr>\n",
       "  </thead>\n",
       "  <tbody>\n",
       "    <tr>\n",
       "      <th>0</th>\n",
       "      <td>CALL0000322</td>\n",
       "      <td>3.0</td>\n",
       "      <td>4.0</td>\n",
       "      <td>3.0</td>\n",
       "      <td>3.0</td>\n",
       "      <td>66.666667</td>\n",
       "      <td>08e77bf2-2a0d-4098-b5ec-40f593ca6336</td>\n",
       "      <td>de7a1159-0c06-49bf-a273-7bdd195d6a32</td>\n",
       "      <td>11-Upper Intermediate</td>\n",
       "      <td>You are applying for a position as a manager a...</td>\n",
       "      <td>I am writing to apply for the manager position...</td>\n",
       "    </tr>\n",
       "    <tr>\n",
       "      <th>1</th>\n",
       "      <td>CALL0002886</td>\n",
       "      <td>0.0</td>\n",
       "      <td>0.0</td>\n",
       "      <td>0.0</td>\n",
       "      <td>0.0</td>\n",
       "      <td>100.000000</td>\n",
       "      <td>f6a2b5e6-ceb8-4575-ac74-ada1ab9f8cc7</td>\n",
       "      <td>7ae47a96-722c-4b2b-ad07-3716f2aef85f</td>\n",
       "      <td>8-Intermediate</td>\n",
       "      <td>You're going to write an email about some futu...</td>\n",
       "      <td>You're going to write an email about some futu...</td>\n",
       "    </tr>\n",
       "    <tr>\n",
       "      <th>2</th>\n",
       "      <td>CALL0001805</td>\n",
       "      <td>5.0</td>\n",
       "      <td>5.0</td>\n",
       "      <td>5.0</td>\n",
       "      <td>5.0</td>\n",
       "      <td>100.000000</td>\n",
       "      <td>f8823fe1-ca4b-43dc-9685-85009a105efa</td>\n",
       "      <td>cfb893f1-bee1-4894-99f3-43af284493a5</td>\n",
       "      <td>3-Beginner</td>\n",
       "      <td>Write a paragraph about a job your friend has ...</td>\n",
       "      <td>My friend João worked at TechNova Soluções fro...</td>\n",
       "    </tr>\n",
       "    <tr>\n",
       "      <th>3</th>\n",
       "      <td>CALL0000693</td>\n",
       "      <td>5.0</td>\n",
       "      <td>4.0</td>\n",
       "      <td>5.0</td>\n",
       "      <td>5.0</td>\n",
       "      <td>66.666667</td>\n",
       "      <td>2ddd84ba-aebc-4808-b270-ca3bc19cb15a</td>\n",
       "      <td>03849587-d03b-45ed-8534-c34536867a8a</td>\n",
       "      <td>12-Upper Intermediate</td>\n",
       "      <td>Write a letter to apologize to someone for som...</td>\n",
       "      <td>Dear Alex,\\n\\nI want to sincerely apologize fo...</td>\n",
       "    </tr>\n",
       "    <tr>\n",
       "      <th>4</th>\n",
       "      <td>CALL0000291</td>\n",
       "      <td>5.0</td>\n",
       "      <td>5.0</td>\n",
       "      <td>5.0</td>\n",
       "      <td>5.0</td>\n",
       "      <td>100.000000</td>\n",
       "      <td>57ac94ab-2084-4a23-a6bf-61d71cd1900a</td>\n",
       "      <td>23c3d59a-61d5-470f-90d1-1217b0006929</td>\n",
       "      <td>10-Upper Intermediate</td>\n",
       "      <td>An old friend has emailed you, describing what...</td>\n",
       "      <td>Subject: So Good to Hear From You!  \\n\\nStan! ...</td>\n",
       "    </tr>\n",
       "  </tbody>\n",
       "</table>\n",
       "</div>"
      ],
      "text/plain": [
       "      recordId  gpt4o_judge_score  nova_judge_score  llama3_judge_score  \\\n",
       "0  CALL0000322                3.0               4.0                 3.0   \n",
       "1  CALL0002886                0.0               0.0                 0.0   \n",
       "2  CALL0001805                5.0               5.0                 5.0   \n",
       "3  CALL0000693                5.0               4.0                 5.0   \n",
       "4  CALL0000291                5.0               5.0                 5.0   \n",
       "\n",
       "   majority_value  agreement_percentage                            writing_id  \\\n",
       "0             3.0             66.666667  08e77bf2-2a0d-4098-b5ec-40f593ca6336   \n",
       "1             0.0            100.000000  f6a2b5e6-ceb8-4575-ac74-ada1ab9f8cc7   \n",
       "2             5.0            100.000000  f8823fe1-ca4b-43dc-9685-85009a105efa   \n",
       "3             5.0             66.666667  2ddd84ba-aebc-4808-b270-ca3bc19cb15a   \n",
       "4             5.0            100.000000  57ac94ab-2084-4a23-a6bf-61d71cd1900a   \n",
       "\n",
       "                                task_id            level_title  \\\n",
       "0  de7a1159-0c06-49bf-a273-7bdd195d6a32  11-Upper Intermediate   \n",
       "1  7ae47a96-722c-4b2b-ad07-3716f2aef85f         8-Intermediate   \n",
       "2  cfb893f1-bee1-4894-99f3-43af284493a5             3-Beginner   \n",
       "3  03849587-d03b-45ed-8534-c34536867a8a  12-Upper Intermediate   \n",
       "4  23c3d59a-61d5-470f-90d1-1217b0006929  10-Upper Intermediate   \n",
       "\n",
       "                               activity_instructions  \\\n",
       "0  You are applying for a position as a manager a...   \n",
       "1  You're going to write an email about some futu...   \n",
       "2  Write a paragraph about a job your friend has ...   \n",
       "3  Write a letter to apologize to someone for som...   \n",
       "4  An old friend has emailed you, describing what...   \n",
       "\n",
       "                                  student_submission  \n",
       "0  I am writing to apply for the manager position...  \n",
       "1  You're going to write an email about some futu...  \n",
       "2  My friend João worked at TechNova Soluções fro...  \n",
       "3  Dear Alex,\\n\\nI want to sincerely apologize fo...  \n",
       "4  Subject: So Good to Hear From You!  \\n\\nStan! ...  "
      ]
     },
     "execution_count": 4,
     "metadata": {},
     "output_type": "execute_result"
    }
   ],
   "source": [
    "import pandas as pd\n",
    "from datasets import load_dataset, Dataset, DatasetDict\n",
    "\n",
    "df = pd.read_csv(\"data/acc_data.csv\")\n",
    "df.head()"
   ]
  },
  {
   "cell_type": "code",
   "execution_count": 5,
   "metadata": {},
   "outputs": [],
   "source": [
    "df['text'] = (\n",
    "    \"Prompt Level: \" + df['level_title'].astype(str) +\n",
    "    \" [SEP] Prompt: \" + df['activity_instructions'] +\n",
    "    \" [SEP] Response: \" + df['student_submission']\n",
    ")\n"
   ]
  },
  {
   "cell_type": "code",
   "execution_count": 6,
   "metadata": {},
   "outputs": [
    {
     "data": {
      "text/html": [
       "<div>\n",
       "<style scoped>\n",
       "    .dataframe tbody tr th:only-of-type {\n",
       "        vertical-align: middle;\n",
       "    }\n",
       "\n",
       "    .dataframe tbody tr th {\n",
       "        vertical-align: top;\n",
       "    }\n",
       "\n",
       "    .dataframe thead th {\n",
       "        text-align: right;\n",
       "    }\n",
       "</style>\n",
       "<table border=\"1\" class=\"dataframe\">\n",
       "  <thead>\n",
       "    <tr style=\"text-align: right;\">\n",
       "      <th></th>\n",
       "      <th>recordId</th>\n",
       "      <th>gpt4o_judge_score</th>\n",
       "      <th>nova_judge_score</th>\n",
       "      <th>llama3_judge_score</th>\n",
       "      <th>majority_value</th>\n",
       "      <th>agreement_percentage</th>\n",
       "      <th>writing_id</th>\n",
       "      <th>task_id</th>\n",
       "      <th>level_title</th>\n",
       "      <th>activity_instructions</th>\n",
       "      <th>student_submission</th>\n",
       "      <th>text</th>\n",
       "    </tr>\n",
       "  </thead>\n",
       "  <tbody>\n",
       "    <tr>\n",
       "      <th>0</th>\n",
       "      <td>CALL0000322</td>\n",
       "      <td>3.0</td>\n",
       "      <td>4.0</td>\n",
       "      <td>3.0</td>\n",
       "      <td>3.0</td>\n",
       "      <td>66.666667</td>\n",
       "      <td>08e77bf2-2a0d-4098-b5ec-40f593ca6336</td>\n",
       "      <td>de7a1159-0c06-49bf-a273-7bdd195d6a32</td>\n",
       "      <td>11-Upper Intermediate</td>\n",
       "      <td>You are applying for a position as a manager a...</td>\n",
       "      <td>I am writing to apply for the manager position...</td>\n",
       "      <td>Prompt Level: 11-Upper Intermediate [SEP] Prom...</td>\n",
       "    </tr>\n",
       "    <tr>\n",
       "      <th>1</th>\n",
       "      <td>CALL0002886</td>\n",
       "      <td>0.0</td>\n",
       "      <td>0.0</td>\n",
       "      <td>0.0</td>\n",
       "      <td>0.0</td>\n",
       "      <td>100.000000</td>\n",
       "      <td>f6a2b5e6-ceb8-4575-ac74-ada1ab9f8cc7</td>\n",
       "      <td>7ae47a96-722c-4b2b-ad07-3716f2aef85f</td>\n",
       "      <td>8-Intermediate</td>\n",
       "      <td>You're going to write an email about some futu...</td>\n",
       "      <td>You're going to write an email about some futu...</td>\n",
       "      <td>Prompt Level: 8-Intermediate [SEP] Prompt: You...</td>\n",
       "    </tr>\n",
       "    <tr>\n",
       "      <th>2</th>\n",
       "      <td>CALL0001805</td>\n",
       "      <td>5.0</td>\n",
       "      <td>5.0</td>\n",
       "      <td>5.0</td>\n",
       "      <td>5.0</td>\n",
       "      <td>100.000000</td>\n",
       "      <td>f8823fe1-ca4b-43dc-9685-85009a105efa</td>\n",
       "      <td>cfb893f1-bee1-4894-99f3-43af284493a5</td>\n",
       "      <td>3-Beginner</td>\n",
       "      <td>Write a paragraph about a job your friend has ...</td>\n",
       "      <td>My friend João worked at TechNova Soluções fro...</td>\n",
       "      <td>Prompt Level: 3-Beginner [SEP] Prompt: Write a...</td>\n",
       "    </tr>\n",
       "    <tr>\n",
       "      <th>3</th>\n",
       "      <td>CALL0000693</td>\n",
       "      <td>5.0</td>\n",
       "      <td>4.0</td>\n",
       "      <td>5.0</td>\n",
       "      <td>5.0</td>\n",
       "      <td>66.666667</td>\n",
       "      <td>2ddd84ba-aebc-4808-b270-ca3bc19cb15a</td>\n",
       "      <td>03849587-d03b-45ed-8534-c34536867a8a</td>\n",
       "      <td>12-Upper Intermediate</td>\n",
       "      <td>Write a letter to apologize to someone for som...</td>\n",
       "      <td>Dear Alex,\\n\\nI want to sincerely apologize fo...</td>\n",
       "      <td>Prompt Level: 12-Upper Intermediate [SEP] Prom...</td>\n",
       "    </tr>\n",
       "    <tr>\n",
       "      <th>4</th>\n",
       "      <td>CALL0000291</td>\n",
       "      <td>5.0</td>\n",
       "      <td>5.0</td>\n",
       "      <td>5.0</td>\n",
       "      <td>5.0</td>\n",
       "      <td>100.000000</td>\n",
       "      <td>57ac94ab-2084-4a23-a6bf-61d71cd1900a</td>\n",
       "      <td>23c3d59a-61d5-470f-90d1-1217b0006929</td>\n",
       "      <td>10-Upper Intermediate</td>\n",
       "      <td>An old friend has emailed you, describing what...</td>\n",
       "      <td>Subject: So Good to Hear From You!  \\n\\nStan! ...</td>\n",
       "      <td>Prompt Level: 10-Upper Intermediate [SEP] Prom...</td>\n",
       "    </tr>\n",
       "  </tbody>\n",
       "</table>\n",
       "</div>"
      ],
      "text/plain": [
       "      recordId  gpt4o_judge_score  nova_judge_score  llama3_judge_score  \\\n",
       "0  CALL0000322                3.0               4.0                 3.0   \n",
       "1  CALL0002886                0.0               0.0                 0.0   \n",
       "2  CALL0001805                5.0               5.0                 5.0   \n",
       "3  CALL0000693                5.0               4.0                 5.0   \n",
       "4  CALL0000291                5.0               5.0                 5.0   \n",
       "\n",
       "   majority_value  agreement_percentage                            writing_id  \\\n",
       "0             3.0             66.666667  08e77bf2-2a0d-4098-b5ec-40f593ca6336   \n",
       "1             0.0            100.000000  f6a2b5e6-ceb8-4575-ac74-ada1ab9f8cc7   \n",
       "2             5.0            100.000000  f8823fe1-ca4b-43dc-9685-85009a105efa   \n",
       "3             5.0             66.666667  2ddd84ba-aebc-4808-b270-ca3bc19cb15a   \n",
       "4             5.0            100.000000  57ac94ab-2084-4a23-a6bf-61d71cd1900a   \n",
       "\n",
       "                                task_id            level_title  \\\n",
       "0  de7a1159-0c06-49bf-a273-7bdd195d6a32  11-Upper Intermediate   \n",
       "1  7ae47a96-722c-4b2b-ad07-3716f2aef85f         8-Intermediate   \n",
       "2  cfb893f1-bee1-4894-99f3-43af284493a5             3-Beginner   \n",
       "3  03849587-d03b-45ed-8534-c34536867a8a  12-Upper Intermediate   \n",
       "4  23c3d59a-61d5-470f-90d1-1217b0006929  10-Upper Intermediate   \n",
       "\n",
       "                               activity_instructions  \\\n",
       "0  You are applying for a position as a manager a...   \n",
       "1  You're going to write an email about some futu...   \n",
       "2  Write a paragraph about a job your friend has ...   \n",
       "3  Write a letter to apologize to someone for som...   \n",
       "4  An old friend has emailed you, describing what...   \n",
       "\n",
       "                                  student_submission  \\\n",
       "0  I am writing to apply for the manager position...   \n",
       "1  You're going to write an email about some futu...   \n",
       "2  My friend João worked at TechNova Soluções fro...   \n",
       "3  Dear Alex,\\n\\nI want to sincerely apologize fo...   \n",
       "4  Subject: So Good to Hear From You!  \\n\\nStan! ...   \n",
       "\n",
       "                                                text  \n",
       "0  Prompt Level: 11-Upper Intermediate [SEP] Prom...  \n",
       "1  Prompt Level: 8-Intermediate [SEP] Prompt: You...  \n",
       "2  Prompt Level: 3-Beginner [SEP] Prompt: Write a...  \n",
       "3  Prompt Level: 12-Upper Intermediate [SEP] Prom...  \n",
       "4  Prompt Level: 10-Upper Intermediate [SEP] Prom...  "
      ]
     },
     "execution_count": 6,
     "metadata": {},
     "output_type": "execute_result"
    }
   ],
   "source": [
    "df.head()"
   ]
  },
  {
   "cell_type": "code",
   "execution_count": 7,
   "metadata": {},
   "outputs": [
    {
     "data": {
      "text/html": [
       "<div>\n",
       "<style scoped>\n",
       "    .dataframe tbody tr th:only-of-type {\n",
       "        vertical-align: middle;\n",
       "    }\n",
       "\n",
       "    .dataframe tbody tr th {\n",
       "        vertical-align: top;\n",
       "    }\n",
       "\n",
       "    .dataframe thead th {\n",
       "        text-align: right;\n",
       "    }\n",
       "</style>\n",
       "<table border=\"1\" class=\"dataframe\">\n",
       "  <thead>\n",
       "    <tr style=\"text-align: right;\">\n",
       "      <th></th>\n",
       "      <th>text</th>\n",
       "      <th>label</th>\n",
       "    </tr>\n",
       "  </thead>\n",
       "  <tbody>\n",
       "    <tr>\n",
       "      <th>0</th>\n",
       "      <td>Prompt Level: 11-Upper Intermediate [SEP] Prom...</td>\n",
       "      <td>3.0</td>\n",
       "    </tr>\n",
       "    <tr>\n",
       "      <th>1</th>\n",
       "      <td>Prompt Level: 8-Intermediate [SEP] Prompt: You...</td>\n",
       "      <td>0.0</td>\n",
       "    </tr>\n",
       "    <tr>\n",
       "      <th>2</th>\n",
       "      <td>Prompt Level: 3-Beginner [SEP] Prompt: Write a...</td>\n",
       "      <td>5.0</td>\n",
       "    </tr>\n",
       "    <tr>\n",
       "      <th>3</th>\n",
       "      <td>Prompt Level: 12-Upper Intermediate [SEP] Prom...</td>\n",
       "      <td>5.0</td>\n",
       "    </tr>\n",
       "    <tr>\n",
       "      <th>4</th>\n",
       "      <td>Prompt Level: 10-Upper Intermediate [SEP] Prom...</td>\n",
       "      <td>5.0</td>\n",
       "    </tr>\n",
       "  </tbody>\n",
       "</table>\n",
       "</div>"
      ],
      "text/plain": [
       "                                                text  label\n",
       "0  Prompt Level: 11-Upper Intermediate [SEP] Prom...    3.0\n",
       "1  Prompt Level: 8-Intermediate [SEP] Prompt: You...    0.0\n",
       "2  Prompt Level: 3-Beginner [SEP] Prompt: Write a...    5.0\n",
       "3  Prompt Level: 12-Upper Intermediate [SEP] Prom...    5.0\n",
       "4  Prompt Level: 10-Upper Intermediate [SEP] Prom...    5.0"
      ]
     },
     "execution_count": 7,
     "metadata": {},
     "output_type": "execute_result"
    }
   ],
   "source": [
    "df = df[[\"text\", \"majority_value\"]]\n",
    "df = df.rename(columns={'majority_value': 'label'})\n",
    "df.head()"
   ]
  },
  {
   "cell_type": "code",
   "execution_count": 8,
   "metadata": {},
   "outputs": [
    {
     "data": {
      "text/html": [
       "<div>\n",
       "<style scoped>\n",
       "    .dataframe tbody tr th:only-of-type {\n",
       "        vertical-align: middle;\n",
       "    }\n",
       "\n",
       "    .dataframe tbody tr th {\n",
       "        vertical-align: top;\n",
       "    }\n",
       "\n",
       "    .dataframe thead th {\n",
       "        text-align: right;\n",
       "    }\n",
       "</style>\n",
       "<table border=\"1\" class=\"dataframe\">\n",
       "  <thead>\n",
       "    <tr style=\"text-align: right;\">\n",
       "      <th></th>\n",
       "      <th>text</th>\n",
       "      <th>label</th>\n",
       "    </tr>\n",
       "  </thead>\n",
       "  <tbody>\n",
       "    <tr>\n",
       "      <th>0</th>\n",
       "      <td>Prompt Level: 11-Upper Intermediate [SEP] Prom...</td>\n",
       "      <td>3.0</td>\n",
       "    </tr>\n",
       "    <tr>\n",
       "      <th>1</th>\n",
       "      <td>Prompt Level: 8-Intermediate [SEP] Prompt: You...</td>\n",
       "      <td>0.0</td>\n",
       "    </tr>\n",
       "    <tr>\n",
       "      <th>2</th>\n",
       "      <td>Prompt Level: 3-Beginner [SEP] Prompt: Write a...</td>\n",
       "      <td>5.0</td>\n",
       "    </tr>\n",
       "    <tr>\n",
       "      <th>3</th>\n",
       "      <td>Prompt Level: 12-Upper Intermediate [SEP] Prom...</td>\n",
       "      <td>5.0</td>\n",
       "    </tr>\n",
       "    <tr>\n",
       "      <th>4</th>\n",
       "      <td>Prompt Level: 10-Upper Intermediate [SEP] Prom...</td>\n",
       "      <td>5.0</td>\n",
       "    </tr>\n",
       "  </tbody>\n",
       "</table>\n",
       "</div>"
      ],
      "text/plain": [
       "                                                text  label\n",
       "0  Prompt Level: 11-Upper Intermediate [SEP] Prom...    3.0\n",
       "1  Prompt Level: 8-Intermediate [SEP] Prompt: You...    0.0\n",
       "2  Prompt Level: 3-Beginner [SEP] Prompt: Write a...    5.0\n",
       "3  Prompt Level: 12-Upper Intermediate [SEP] Prom...    5.0\n",
       "4  Prompt Level: 10-Upper Intermediate [SEP] Prom...    5.0"
      ]
     },
     "execution_count": 8,
     "metadata": {},
     "output_type": "execute_result"
    }
   ],
   "source": [
    "# Apply the mapping to the 'labels' column\n",
    "#df['label'] = df['label'].map(label_mapping)\n",
    "df.dropna(subset=['label'], inplace=True)\n",
    "df.reset_index(drop=True, inplace=True)\n",
    "\n",
    "df.head()"
   ]
  },
  {
   "cell_type": "code",
   "execution_count": 9,
   "metadata": {},
   "outputs": [
    {
     "data": {
      "text/plain": [
       "label\n",
       "5.0    930\n",
       "2.0    556\n",
       "4.0    466\n",
       "3.0    351\n",
       "0.0    340\n",
       "1.0    118\n",
       "Name: count, dtype: int64"
      ]
     },
     "execution_count": 9,
     "metadata": {},
     "output_type": "execute_result"
    }
   ],
   "source": [
    "df[\"label\"].value_counts()"
   ]
  },
  {
   "cell_type": "code",
   "execution_count": 10,
   "metadata": {},
   "outputs": [
    {
     "data": {
      "text/plain": [
       "Dataset({\n",
       "    features: ['text', 'label'],\n",
       "    num_rows: 2761\n",
       "})"
      ]
     },
     "execution_count": 10,
     "metadata": {},
     "output_type": "execute_result"
    }
   ],
   "source": [
    "ds = Dataset.from_pandas(df)\n",
    "ds"
   ]
  },
  {
   "cell_type": "code",
   "execution_count": 11,
   "metadata": {},
   "outputs": [
    {
     "data": {
      "application/vnd.jupyter.widget-view+json": {
       "model_id": "e5f72feb48a44955979089e308fdb534",
       "version_major": 2,
       "version_minor": 0
      },
      "text/plain": [
       "Casting the dataset:   0%|          | 0/2761 [00:00<?, ? examples/s]"
      ]
     },
     "metadata": {},
     "output_type": "display_data"
    },
    {
     "data": {
      "text/plain": [
       "DatasetDict({\n",
       "    train: Dataset({\n",
       "        features: ['text', 'label'],\n",
       "        num_rows: 2208\n",
       "    })\n",
       "    test: Dataset({\n",
       "        features: ['text', 'label'],\n",
       "        num_rows: 276\n",
       "    })\n",
       "    validation: Dataset({\n",
       "        features: ['text', 'label'],\n",
       "        num_rows: 277\n",
       "    })\n",
       "})"
      ]
     },
     "execution_count": 11,
     "metadata": {},
     "output_type": "execute_result"
    }
   ],
   "source": [
    "from datasets import ClassLabel, Value, Sequence\n",
    "new_features = ds.features.copy()\n",
    "new_features[\"label\"] = ClassLabel(names=[0, 1, 2, 3, 4])\n",
    "ds = ds.cast(new_features)\n",
    "\n",
    "# Step 1: Initial train/test split with stratification\n",
    "train_test_ds = ds.train_test_split(test_size=0.20, seed=20)\n",
    "\n",
    "# Step 2: Split the test set into half test, half validation\n",
    "test_valid_split = train_test_ds['test'].train_test_split(test_size=0.5, seed=20)\n",
    "\n",
    "# Step 3: Combine everything into a single DatasetDict\n",
    "ds = DatasetDict({\n",
    "    'train': train_test_ds['train'],\n",
    "    'test': test_valid_split['train'],    # This becomes the test set\n",
    "    'validation': test_valid_split['test']  # This becomes the validation set\n",
    "})\n",
    "ds"
   ]
  },
  {
   "cell_type": "code",
   "execution_count": 12,
   "metadata": {},
   "outputs": [
    {
     "name": "stdout",
     "output_type": "stream",
     "text": [
      "Train label counts: Counter({5: 732, 2: 447, 4: 381, 3: 278, 0: 274, 1: 96})\n",
      "Test label counts: Counter({5: 98, 2: 57, 4: 44, 3: 35, 0: 34, 1: 8})\n",
      "Validation label counts: Counter({5: 100, 2: 52, 4: 41, 3: 38, 0: 32, 1: 14})\n"
     ]
    }
   ],
   "source": [
    "# Verify label distribution\n",
    "from collections import Counter\n",
    "\n",
    "print(\"Train label counts:\", Counter(ds['train']['label']))\n",
    "print(\"Test label counts:\", Counter(ds['test']['label']))\n",
    "print(\"Validation label counts:\", Counter(ds['validation']['label']))"
   ]
  },
  {
   "cell_type": "code",
   "execution_count": 13,
   "metadata": {},
   "outputs": [],
   "source": [
    "import json\n",
    "\n",
    "# Fonction utilitaire pour sauvegarder un split en JSONL\n",
    "def save_split_to_jsonl(dataset_split, filename):\n",
    "    with open(filename, 'w', encoding='utf-8') as f:\n",
    "        for record in dataset_split:\n",
    "            f.write(json.dumps(record, ensure_ascii=False) + '\\n')\n",
    "\n",
    "# Sauvegarde des trois splits\n",
    "save_split_to_jsonl(ds['train'], 'data/train.jsonl')\n",
    "save_split_to_jsonl(ds['test'], 'data/test.jsonl')\n",
    "save_split_to_jsonl(ds['validation'], 'data/validation.jsonl')"
   ]
  },
  {
   "cell_type": "code",
   "execution_count": null,
   "metadata": {},
   "outputs": [],
   "source": [
    "# save data"
   ]
  },
  {
   "cell_type": "code",
   "execution_count": null,
   "metadata": {},
   "outputs": [],
   "source": []
  },
  {
   "cell_type": "code",
   "execution_count": null,
   "metadata": {},
   "outputs": [],
   "source": []
  },
  {
   "cell_type": "code",
   "execution_count": null,
   "metadata": {},
   "outputs": [],
   "source": []
  }
 ],
 "metadata": {
  "kernelspec": {
   "display_name": "pytorch_p310",
   "language": "python",
   "name": "python3"
  },
  "language_info": {
   "codemirror_mode": {
    "name": "ipython",
    "version": 3
   },
   "file_extension": ".py",
   "mimetype": "text/x-python",
   "name": "python",
   "nbconvert_exporter": "python",
   "pygments_lexer": "ipython3",
   "version": "3.10.14"
  },
  "orig_nbformat": 4
 },
 "nbformat": 4,
 "nbformat_minor": 2
}
