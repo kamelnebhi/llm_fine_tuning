{
 "cells": [
  {
   "cell_type": "markdown",
   "metadata": {},
   "source": [
    "## Prepare data"
   ]
  },
  {
   "cell_type": "code",
   "execution_count": 62,
   "metadata": {},
   "outputs": [],
   "source": [
    "import torch\n",
    "training_device = torch.device(\"cuda\") if torch.cuda.is_available() else torch.device(\"cpu\")\n",
    "training_device\n",
    "import numpy as np"
   ]
  },
  {
   "cell_type": "code",
   "execution_count": 63,
   "metadata": {},
   "outputs": [],
   "source": [
    "#!pip install evaluate datasets transformers accelerate==1.9.0"
   ]
  },
  {
   "cell_type": "code",
   "execution_count": 64,
   "metadata": {},
   "outputs": [
    {
     "data": {
      "text/html": [
       "<div>\n",
       "<style scoped>\n",
       "    .dataframe tbody tr th:only-of-type {\n",
       "        vertical-align: middle;\n",
       "    }\n",
       "\n",
       "    .dataframe tbody tr th {\n",
       "        vertical-align: top;\n",
       "    }\n",
       "\n",
       "    .dataframe thead th {\n",
       "        text-align: right;\n",
       "    }\n",
       "</style>\n",
       "<table border=\"1\" class=\"dataframe\">\n",
       "  <thead>\n",
       "    <tr style=\"text-align: right;\">\n",
       "      <th></th>\n",
       "      <th>recordId</th>\n",
       "      <th>gpt4o_judge_score</th>\n",
       "      <th>nova_judge_score</th>\n",
       "      <th>llama3_judge_score</th>\n",
       "      <th>majority_value</th>\n",
       "      <th>agreement_percentage</th>\n",
       "      <th>writing_id</th>\n",
       "      <th>task_id</th>\n",
       "      <th>level_title</th>\n",
       "      <th>activity_instructions</th>\n",
       "      <th>student_submission</th>\n",
       "    </tr>\n",
       "  </thead>\n",
       "  <tbody>\n",
       "    <tr>\n",
       "      <th>0</th>\n",
       "      <td>CALL0000322</td>\n",
       "      <td>3.0</td>\n",
       "      <td>4.0</td>\n",
       "      <td>3.0</td>\n",
       "      <td>3.0</td>\n",
       "      <td>66.666667</td>\n",
       "      <td>08e77bf2-2a0d-4098-b5ec-40f593ca6336</td>\n",
       "      <td>de7a1159-0c06-49bf-a273-7bdd195d6a32</td>\n",
       "      <td>11-Upper Intermediate</td>\n",
       "      <td>You are applying for a position as a manager a...</td>\n",
       "      <td>I am writing to apply for the manager position...</td>\n",
       "    </tr>\n",
       "    <tr>\n",
       "      <th>1</th>\n",
       "      <td>CALL0002886</td>\n",
       "      <td>0.0</td>\n",
       "      <td>0.0</td>\n",
       "      <td>0.0</td>\n",
       "      <td>0.0</td>\n",
       "      <td>100.000000</td>\n",
       "      <td>f6a2b5e6-ceb8-4575-ac74-ada1ab9f8cc7</td>\n",
       "      <td>7ae47a96-722c-4b2b-ad07-3716f2aef85f</td>\n",
       "      <td>8-Intermediate</td>\n",
       "      <td>You're going to write an email about some futu...</td>\n",
       "      <td>You're going to write an email about some futu...</td>\n",
       "    </tr>\n",
       "    <tr>\n",
       "      <th>2</th>\n",
       "      <td>CALL0001805</td>\n",
       "      <td>5.0</td>\n",
       "      <td>5.0</td>\n",
       "      <td>5.0</td>\n",
       "      <td>5.0</td>\n",
       "      <td>100.000000</td>\n",
       "      <td>f8823fe1-ca4b-43dc-9685-85009a105efa</td>\n",
       "      <td>cfb893f1-bee1-4894-99f3-43af284493a5</td>\n",
       "      <td>3-Beginner</td>\n",
       "      <td>Write a paragraph about a job your friend has ...</td>\n",
       "      <td>My friend João worked at TechNova Soluções fro...</td>\n",
       "    </tr>\n",
       "    <tr>\n",
       "      <th>3</th>\n",
       "      <td>CALL0000693</td>\n",
       "      <td>5.0</td>\n",
       "      <td>4.0</td>\n",
       "      <td>5.0</td>\n",
       "      <td>5.0</td>\n",
       "      <td>66.666667</td>\n",
       "      <td>2ddd84ba-aebc-4808-b270-ca3bc19cb15a</td>\n",
       "      <td>03849587-d03b-45ed-8534-c34536867a8a</td>\n",
       "      <td>12-Upper Intermediate</td>\n",
       "      <td>Write a letter to apologize to someone for som...</td>\n",
       "      <td>Dear Alex,\\n\\nI want to sincerely apologize fo...</td>\n",
       "    </tr>\n",
       "    <tr>\n",
       "      <th>4</th>\n",
       "      <td>CALL0000291</td>\n",
       "      <td>5.0</td>\n",
       "      <td>5.0</td>\n",
       "      <td>5.0</td>\n",
       "      <td>5.0</td>\n",
       "      <td>100.000000</td>\n",
       "      <td>57ac94ab-2084-4a23-a6bf-61d71cd1900a</td>\n",
       "      <td>23c3d59a-61d5-470f-90d1-1217b0006929</td>\n",
       "      <td>10-Upper Intermediate</td>\n",
       "      <td>An old friend has emailed you, describing what...</td>\n",
       "      <td>Subject: So Good to Hear From You!  \\n\\nStan! ...</td>\n",
       "    </tr>\n",
       "  </tbody>\n",
       "</table>\n",
       "</div>"
      ],
      "text/plain": [
       "      recordId  gpt4o_judge_score  nova_judge_score  llama3_judge_score  \\\n",
       "0  CALL0000322                3.0               4.0                 3.0   \n",
       "1  CALL0002886                0.0               0.0                 0.0   \n",
       "2  CALL0001805                5.0               5.0                 5.0   \n",
       "3  CALL0000693                5.0               4.0                 5.0   \n",
       "4  CALL0000291                5.0               5.0                 5.0   \n",
       "\n",
       "   majority_value  agreement_percentage                            writing_id  \\\n",
       "0             3.0             66.666667  08e77bf2-2a0d-4098-b5ec-40f593ca6336   \n",
       "1             0.0            100.000000  f6a2b5e6-ceb8-4575-ac74-ada1ab9f8cc7   \n",
       "2             5.0            100.000000  f8823fe1-ca4b-43dc-9685-85009a105efa   \n",
       "3             5.0             66.666667  2ddd84ba-aebc-4808-b270-ca3bc19cb15a   \n",
       "4             5.0            100.000000  57ac94ab-2084-4a23-a6bf-61d71cd1900a   \n",
       "\n",
       "                                task_id            level_title  \\\n",
       "0  de7a1159-0c06-49bf-a273-7bdd195d6a32  11-Upper Intermediate   \n",
       "1  7ae47a96-722c-4b2b-ad07-3716f2aef85f         8-Intermediate   \n",
       "2  cfb893f1-bee1-4894-99f3-43af284493a5             3-Beginner   \n",
       "3  03849587-d03b-45ed-8534-c34536867a8a  12-Upper Intermediate   \n",
       "4  23c3d59a-61d5-470f-90d1-1217b0006929  10-Upper Intermediate   \n",
       "\n",
       "                               activity_instructions  \\\n",
       "0  You are applying for a position as a manager a...   \n",
       "1  You're going to write an email about some futu...   \n",
       "2  Write a paragraph about a job your friend has ...   \n",
       "3  Write a letter to apologize to someone for som...   \n",
       "4  An old friend has emailed you, describing what...   \n",
       "\n",
       "                                  student_submission  \n",
       "0  I am writing to apply for the manager position...  \n",
       "1  You're going to write an email about some futu...  \n",
       "2  My friend João worked at TechNova Soluções fro...  \n",
       "3  Dear Alex,\\n\\nI want to sincerely apologize fo...  \n",
       "4  Subject: So Good to Hear From You!  \\n\\nStan! ...  "
      ]
     },
     "execution_count": 64,
     "metadata": {},
     "output_type": "execute_result"
    }
   ],
   "source": [
    "import pandas as pd\n",
    "from datasets import load_dataset, Dataset, DatasetDict\n",
    "\n",
    "df = pd.read_csv(\"data/acc_data.csv\")\n",
    "df.head()"
   ]
  },
  {
   "cell_type": "code",
   "execution_count": 65,
   "metadata": {},
   "outputs": [
    {
     "data": {
      "text/plain": [
       "task_id\n",
       "03849587-d03b-45ed-8534-c34536867a8a    99\n",
       "43d154ea-bd72-4b54-9339-7c12f992b56a    99\n",
       "8f1a0c16-d259-4737-af06-b6b6eb9e9799    98\n",
       "bd802cec-aaac-4a24-a654-01d84a6a972d    97\n",
       "f03e111e-8a30-48fe-991b-6adfea2444ad    97\n",
       "9032f3ed-5da1-4efe-b4dd-c9470bb35d65    97\n",
       "6e8793e1-760b-43e0-a8a9-44dc11336782    96\n",
       "b69c3bc3-65b0-4518-8a34-1d12e67299ec    96\n",
       "f425c7a4-1713-4a57-b978-313423486bbd    96\n",
       "28757296-8797-428f-a562-0b03c304b341    94\n",
       "d040caa5-7bd8-412c-aee2-3d9010b91821    94\n",
       "d8e67c00-1b68-450a-93f8-ed8f40a1c167    94\n",
       "b3285147-d9b6-42f7-9ffb-7482cd450db7    93\n",
       "dcdc664b-404c-407a-99a6-b9a1f99a859a    93\n",
       "b4ba34ff-949d-4a82-9f56-ea472f177a71    92\n",
       "5c44f26d-2f5c-4039-bcf5-378754d2fe4e    91\n",
       "de7a1159-0c06-49bf-a273-7bdd195d6a32    91\n",
       "7ae47a96-722c-4b2b-ad07-3716f2aef85f    91\n",
       "c7972fb8-c4a3-4fd8-8892-33804a60162e    90\n",
       "48b78e21-bcae-4548-a0e9-1e150343125a    89\n",
       "f7b59a4c-48b9-4c6b-a670-3c98806ec805    89\n",
       "f7a3382d-3200-40de-98ed-11b7fe56a550    89\n",
       "5949887a-c75f-46ad-95d6-9775e932a1e6    89\n",
       "fa1e732b-7698-4b57-85da-907fc3660ec3    88\n",
       "30d1e722-4061-4790-ae33-52000cd6533c    88\n",
       "cfb893f1-bee1-4894-99f3-43af284493a5    88\n",
       "2667a44c-a31b-4b3e-a33e-144d61884196    87\n",
       "23c3d59a-61d5-470f-90d1-1217b0006929    87\n",
       "fdbea680-2895-4e87-a252-28ff562e6903    86\n",
       "493dffa9-7513-4408-be4b-5b010a1bf051    83\n",
       "Name: count, dtype: int64"
      ]
     },
     "execution_count": 65,
     "metadata": {},
     "output_type": "execute_result"
    }
   ],
   "source": [
    "df[\"task_id\"].value_counts()"
   ]
  },
  {
   "cell_type": "code",
   "execution_count": 66,
   "metadata": {},
   "outputs": [],
   "source": [
    "df['text'] = (\n",
    "    \"Prompt Level: \" + df['level_title'].astype(str) +\n",
    "    \" [SEP] Prompt: \" + df['activity_instructions'] +\n",
    "    \" [SEP] Response: \" + df['student_submission']\n",
    ")\n"
   ]
  },
  {
   "cell_type": "code",
   "execution_count": 67,
   "metadata": {},
   "outputs": [
    {
     "data": {
      "text/html": [
       "<div>\n",
       "<style scoped>\n",
       "    .dataframe tbody tr th:only-of-type {\n",
       "        vertical-align: middle;\n",
       "    }\n",
       "\n",
       "    .dataframe tbody tr th {\n",
       "        vertical-align: top;\n",
       "    }\n",
       "\n",
       "    .dataframe thead th {\n",
       "        text-align: right;\n",
       "    }\n",
       "</style>\n",
       "<table border=\"1\" class=\"dataframe\">\n",
       "  <thead>\n",
       "    <tr style=\"text-align: right;\">\n",
       "      <th></th>\n",
       "      <th>recordId</th>\n",
       "      <th>gpt4o_judge_score</th>\n",
       "      <th>nova_judge_score</th>\n",
       "      <th>llama3_judge_score</th>\n",
       "      <th>majority_value</th>\n",
       "      <th>agreement_percentage</th>\n",
       "      <th>writing_id</th>\n",
       "      <th>task_id</th>\n",
       "      <th>level_title</th>\n",
       "      <th>activity_instructions</th>\n",
       "      <th>student_submission</th>\n",
       "      <th>text</th>\n",
       "    </tr>\n",
       "  </thead>\n",
       "  <tbody>\n",
       "    <tr>\n",
       "      <th>0</th>\n",
       "      <td>CALL0000322</td>\n",
       "      <td>3.0</td>\n",
       "      <td>4.0</td>\n",
       "      <td>3.0</td>\n",
       "      <td>3.0</td>\n",
       "      <td>66.666667</td>\n",
       "      <td>08e77bf2-2a0d-4098-b5ec-40f593ca6336</td>\n",
       "      <td>de7a1159-0c06-49bf-a273-7bdd195d6a32</td>\n",
       "      <td>11-Upper Intermediate</td>\n",
       "      <td>You are applying for a position as a manager a...</td>\n",
       "      <td>I am writing to apply for the manager position...</td>\n",
       "      <td>Prompt Level: 11-Upper Intermediate [SEP] Prom...</td>\n",
       "    </tr>\n",
       "    <tr>\n",
       "      <th>1</th>\n",
       "      <td>CALL0002886</td>\n",
       "      <td>0.0</td>\n",
       "      <td>0.0</td>\n",
       "      <td>0.0</td>\n",
       "      <td>0.0</td>\n",
       "      <td>100.000000</td>\n",
       "      <td>f6a2b5e6-ceb8-4575-ac74-ada1ab9f8cc7</td>\n",
       "      <td>7ae47a96-722c-4b2b-ad07-3716f2aef85f</td>\n",
       "      <td>8-Intermediate</td>\n",
       "      <td>You're going to write an email about some futu...</td>\n",
       "      <td>You're going to write an email about some futu...</td>\n",
       "      <td>Prompt Level: 8-Intermediate [SEP] Prompt: You...</td>\n",
       "    </tr>\n",
       "    <tr>\n",
       "      <th>2</th>\n",
       "      <td>CALL0001805</td>\n",
       "      <td>5.0</td>\n",
       "      <td>5.0</td>\n",
       "      <td>5.0</td>\n",
       "      <td>5.0</td>\n",
       "      <td>100.000000</td>\n",
       "      <td>f8823fe1-ca4b-43dc-9685-85009a105efa</td>\n",
       "      <td>cfb893f1-bee1-4894-99f3-43af284493a5</td>\n",
       "      <td>3-Beginner</td>\n",
       "      <td>Write a paragraph about a job your friend has ...</td>\n",
       "      <td>My friend João worked at TechNova Soluções fro...</td>\n",
       "      <td>Prompt Level: 3-Beginner [SEP] Prompt: Write a...</td>\n",
       "    </tr>\n",
       "    <tr>\n",
       "      <th>3</th>\n",
       "      <td>CALL0000693</td>\n",
       "      <td>5.0</td>\n",
       "      <td>4.0</td>\n",
       "      <td>5.0</td>\n",
       "      <td>5.0</td>\n",
       "      <td>66.666667</td>\n",
       "      <td>2ddd84ba-aebc-4808-b270-ca3bc19cb15a</td>\n",
       "      <td>03849587-d03b-45ed-8534-c34536867a8a</td>\n",
       "      <td>12-Upper Intermediate</td>\n",
       "      <td>Write a letter to apologize to someone for som...</td>\n",
       "      <td>Dear Alex,\\n\\nI want to sincerely apologize fo...</td>\n",
       "      <td>Prompt Level: 12-Upper Intermediate [SEP] Prom...</td>\n",
       "    </tr>\n",
       "    <tr>\n",
       "      <th>4</th>\n",
       "      <td>CALL0000291</td>\n",
       "      <td>5.0</td>\n",
       "      <td>5.0</td>\n",
       "      <td>5.0</td>\n",
       "      <td>5.0</td>\n",
       "      <td>100.000000</td>\n",
       "      <td>57ac94ab-2084-4a23-a6bf-61d71cd1900a</td>\n",
       "      <td>23c3d59a-61d5-470f-90d1-1217b0006929</td>\n",
       "      <td>10-Upper Intermediate</td>\n",
       "      <td>An old friend has emailed you, describing what...</td>\n",
       "      <td>Subject: So Good to Hear From You!  \\n\\nStan! ...</td>\n",
       "      <td>Prompt Level: 10-Upper Intermediate [SEP] Prom...</td>\n",
       "    </tr>\n",
       "  </tbody>\n",
       "</table>\n",
       "</div>"
      ],
      "text/plain": [
       "      recordId  gpt4o_judge_score  nova_judge_score  llama3_judge_score  \\\n",
       "0  CALL0000322                3.0               4.0                 3.0   \n",
       "1  CALL0002886                0.0               0.0                 0.0   \n",
       "2  CALL0001805                5.0               5.0                 5.0   \n",
       "3  CALL0000693                5.0               4.0                 5.0   \n",
       "4  CALL0000291                5.0               5.0                 5.0   \n",
       "\n",
       "   majority_value  agreement_percentage                            writing_id  \\\n",
       "0             3.0             66.666667  08e77bf2-2a0d-4098-b5ec-40f593ca6336   \n",
       "1             0.0            100.000000  f6a2b5e6-ceb8-4575-ac74-ada1ab9f8cc7   \n",
       "2             5.0            100.000000  f8823fe1-ca4b-43dc-9685-85009a105efa   \n",
       "3             5.0             66.666667  2ddd84ba-aebc-4808-b270-ca3bc19cb15a   \n",
       "4             5.0            100.000000  57ac94ab-2084-4a23-a6bf-61d71cd1900a   \n",
       "\n",
       "                                task_id            level_title  \\\n",
       "0  de7a1159-0c06-49bf-a273-7bdd195d6a32  11-Upper Intermediate   \n",
       "1  7ae47a96-722c-4b2b-ad07-3716f2aef85f         8-Intermediate   \n",
       "2  cfb893f1-bee1-4894-99f3-43af284493a5             3-Beginner   \n",
       "3  03849587-d03b-45ed-8534-c34536867a8a  12-Upper Intermediate   \n",
       "4  23c3d59a-61d5-470f-90d1-1217b0006929  10-Upper Intermediate   \n",
       "\n",
       "                               activity_instructions  \\\n",
       "0  You are applying for a position as a manager a...   \n",
       "1  You're going to write an email about some futu...   \n",
       "2  Write a paragraph about a job your friend has ...   \n",
       "3  Write a letter to apologize to someone for som...   \n",
       "4  An old friend has emailed you, describing what...   \n",
       "\n",
       "                                  student_submission  \\\n",
       "0  I am writing to apply for the manager position...   \n",
       "1  You're going to write an email about some futu...   \n",
       "2  My friend João worked at TechNova Soluções fro...   \n",
       "3  Dear Alex,\\n\\nI want to sincerely apologize fo...   \n",
       "4  Subject: So Good to Hear From You!  \\n\\nStan! ...   \n",
       "\n",
       "                                                text  \n",
       "0  Prompt Level: 11-Upper Intermediate [SEP] Prom...  \n",
       "1  Prompt Level: 8-Intermediate [SEP] Prompt: You...  \n",
       "2  Prompt Level: 3-Beginner [SEP] Prompt: Write a...  \n",
       "3  Prompt Level: 12-Upper Intermediate [SEP] Prom...  \n",
       "4  Prompt Level: 10-Upper Intermediate [SEP] Prom...  "
      ]
     },
     "execution_count": 67,
     "metadata": {},
     "output_type": "execute_result"
    }
   ],
   "source": [
    "df.head()"
   ]
  },
  {
   "cell_type": "code",
   "execution_count": 68,
   "metadata": {},
   "outputs": [
    {
     "data": {
      "text/html": [
       "<div>\n",
       "<style scoped>\n",
       "    .dataframe tbody tr th:only-of-type {\n",
       "        vertical-align: middle;\n",
       "    }\n",
       "\n",
       "    .dataframe tbody tr th {\n",
       "        vertical-align: top;\n",
       "    }\n",
       "\n",
       "    .dataframe thead th {\n",
       "        text-align: right;\n",
       "    }\n",
       "</style>\n",
       "<table border=\"1\" class=\"dataframe\">\n",
       "  <thead>\n",
       "    <tr style=\"text-align: right;\">\n",
       "      <th></th>\n",
       "      <th>text</th>\n",
       "      <th>task_id</th>\n",
       "      <th>level_title</th>\n",
       "      <th>label</th>\n",
       "    </tr>\n",
       "  </thead>\n",
       "  <tbody>\n",
       "    <tr>\n",
       "      <th>0</th>\n",
       "      <td>Prompt Level: 11-Upper Intermediate [SEP] Prom...</td>\n",
       "      <td>de7a1159-0c06-49bf-a273-7bdd195d6a32</td>\n",
       "      <td>11-Upper Intermediate</td>\n",
       "      <td>3.0</td>\n",
       "    </tr>\n",
       "    <tr>\n",
       "      <th>1</th>\n",
       "      <td>Prompt Level: 8-Intermediate [SEP] Prompt: You...</td>\n",
       "      <td>7ae47a96-722c-4b2b-ad07-3716f2aef85f</td>\n",
       "      <td>8-Intermediate</td>\n",
       "      <td>0.0</td>\n",
       "    </tr>\n",
       "    <tr>\n",
       "      <th>2</th>\n",
       "      <td>Prompt Level: 3-Beginner [SEP] Prompt: Write a...</td>\n",
       "      <td>cfb893f1-bee1-4894-99f3-43af284493a5</td>\n",
       "      <td>3-Beginner</td>\n",
       "      <td>5.0</td>\n",
       "    </tr>\n",
       "    <tr>\n",
       "      <th>3</th>\n",
       "      <td>Prompt Level: 12-Upper Intermediate [SEP] Prom...</td>\n",
       "      <td>03849587-d03b-45ed-8534-c34536867a8a</td>\n",
       "      <td>12-Upper Intermediate</td>\n",
       "      <td>5.0</td>\n",
       "    </tr>\n",
       "    <tr>\n",
       "      <th>4</th>\n",
       "      <td>Prompt Level: 10-Upper Intermediate [SEP] Prom...</td>\n",
       "      <td>23c3d59a-61d5-470f-90d1-1217b0006929</td>\n",
       "      <td>10-Upper Intermediate</td>\n",
       "      <td>5.0</td>\n",
       "    </tr>\n",
       "  </tbody>\n",
       "</table>\n",
       "</div>"
      ],
      "text/plain": [
       "                                                text  \\\n",
       "0  Prompt Level: 11-Upper Intermediate [SEP] Prom...   \n",
       "1  Prompt Level: 8-Intermediate [SEP] Prompt: You...   \n",
       "2  Prompt Level: 3-Beginner [SEP] Prompt: Write a...   \n",
       "3  Prompt Level: 12-Upper Intermediate [SEP] Prom...   \n",
       "4  Prompt Level: 10-Upper Intermediate [SEP] Prom...   \n",
       "\n",
       "                                task_id            level_title  label  \n",
       "0  de7a1159-0c06-49bf-a273-7bdd195d6a32  11-Upper Intermediate    3.0  \n",
       "1  7ae47a96-722c-4b2b-ad07-3716f2aef85f         8-Intermediate    0.0  \n",
       "2  cfb893f1-bee1-4894-99f3-43af284493a5             3-Beginner    5.0  \n",
       "3  03849587-d03b-45ed-8534-c34536867a8a  12-Upper Intermediate    5.0  \n",
       "4  23c3d59a-61d5-470f-90d1-1217b0006929  10-Upper Intermediate    5.0  "
      ]
     },
     "execution_count": 68,
     "metadata": {},
     "output_type": "execute_result"
    }
   ],
   "source": [
    "df = df[[\"text\", \"task_id\", \"level_title\", \"majority_value\"]]\n",
    "df = df.rename(columns={'majority_value': 'label'})\n",
    "df.head()"
   ]
  },
  {
   "cell_type": "code",
   "execution_count": 69,
   "metadata": {},
   "outputs": [
    {
     "data": {
      "text/html": [
       "<div>\n",
       "<style scoped>\n",
       "    .dataframe tbody tr th:only-of-type {\n",
       "        vertical-align: middle;\n",
       "    }\n",
       "\n",
       "    .dataframe tbody tr th {\n",
       "        vertical-align: top;\n",
       "    }\n",
       "\n",
       "    .dataframe thead th {\n",
       "        text-align: right;\n",
       "    }\n",
       "</style>\n",
       "<table border=\"1\" class=\"dataframe\">\n",
       "  <thead>\n",
       "    <tr style=\"text-align: right;\">\n",
       "      <th></th>\n",
       "      <th>text</th>\n",
       "      <th>task_id</th>\n",
       "      <th>level_title</th>\n",
       "      <th>label</th>\n",
       "    </tr>\n",
       "  </thead>\n",
       "  <tbody>\n",
       "    <tr>\n",
       "      <th>0</th>\n",
       "      <td>Prompt Level: 11-Upper Intermediate [SEP] Prom...</td>\n",
       "      <td>de7a1159-0c06-49bf-a273-7bdd195d6a32</td>\n",
       "      <td>11-Upper Intermediate</td>\n",
       "      <td>3.0</td>\n",
       "    </tr>\n",
       "    <tr>\n",
       "      <th>1</th>\n",
       "      <td>Prompt Level: 8-Intermediate [SEP] Prompt: You...</td>\n",
       "      <td>7ae47a96-722c-4b2b-ad07-3716f2aef85f</td>\n",
       "      <td>8-Intermediate</td>\n",
       "      <td>0.0</td>\n",
       "    </tr>\n",
       "    <tr>\n",
       "      <th>2</th>\n",
       "      <td>Prompt Level: 3-Beginner [SEP] Prompt: Write a...</td>\n",
       "      <td>cfb893f1-bee1-4894-99f3-43af284493a5</td>\n",
       "      <td>3-Beginner</td>\n",
       "      <td>5.0</td>\n",
       "    </tr>\n",
       "    <tr>\n",
       "      <th>3</th>\n",
       "      <td>Prompt Level: 12-Upper Intermediate [SEP] Prom...</td>\n",
       "      <td>03849587-d03b-45ed-8534-c34536867a8a</td>\n",
       "      <td>12-Upper Intermediate</td>\n",
       "      <td>5.0</td>\n",
       "    </tr>\n",
       "    <tr>\n",
       "      <th>4</th>\n",
       "      <td>Prompt Level: 10-Upper Intermediate [SEP] Prom...</td>\n",
       "      <td>23c3d59a-61d5-470f-90d1-1217b0006929</td>\n",
       "      <td>10-Upper Intermediate</td>\n",
       "      <td>5.0</td>\n",
       "    </tr>\n",
       "  </tbody>\n",
       "</table>\n",
       "</div>"
      ],
      "text/plain": [
       "                                                text  \\\n",
       "0  Prompt Level: 11-Upper Intermediate [SEP] Prom...   \n",
       "1  Prompt Level: 8-Intermediate [SEP] Prompt: You...   \n",
       "2  Prompt Level: 3-Beginner [SEP] Prompt: Write a...   \n",
       "3  Prompt Level: 12-Upper Intermediate [SEP] Prom...   \n",
       "4  Prompt Level: 10-Upper Intermediate [SEP] Prom...   \n",
       "\n",
       "                                task_id            level_title  label  \n",
       "0  de7a1159-0c06-49bf-a273-7bdd195d6a32  11-Upper Intermediate    3.0  \n",
       "1  7ae47a96-722c-4b2b-ad07-3716f2aef85f         8-Intermediate    0.0  \n",
       "2  cfb893f1-bee1-4894-99f3-43af284493a5             3-Beginner    5.0  \n",
       "3  03849587-d03b-45ed-8534-c34536867a8a  12-Upper Intermediate    5.0  \n",
       "4  23c3d59a-61d5-470f-90d1-1217b0006929  10-Upper Intermediate    5.0  "
      ]
     },
     "execution_count": 69,
     "metadata": {},
     "output_type": "execute_result"
    }
   ],
   "source": [
    "# Apply the mapping to the 'labels' column\n",
    "#df['label'] = df['label'].map(label_mapping)\n",
    "df.dropna(subset=['label'], inplace=True)\n",
    "df.reset_index(drop=True, inplace=True)\n",
    "\n",
    "df.head()"
   ]
  },
  {
   "cell_type": "code",
   "execution_count": 70,
   "metadata": {},
   "outputs": [
    {
     "data": {
      "text/plain": [
       "label\n",
       "5.0    930\n",
       "2.0    556\n",
       "4.0    466\n",
       "3.0    351\n",
       "0.0    340\n",
       "1.0    118\n",
       "Name: count, dtype: int64"
      ]
     },
     "execution_count": 70,
     "metadata": {},
     "output_type": "execute_result"
    }
   ],
   "source": [
    "df[\"label\"].value_counts()"
   ]
  },
  {
   "cell_type": "code",
   "execution_count": 71,
   "metadata": {},
   "outputs": [
    {
     "data": {
      "text/plain": [
       "Dataset({\n",
       "    features: ['text', 'task_id', 'level_title', 'label'],\n",
       "    num_rows: 2761\n",
       "})"
      ]
     },
     "execution_count": 71,
     "metadata": {},
     "output_type": "execute_result"
    }
   ],
   "source": [
    "ds = Dataset.from_pandas(df)\n",
    "ds"
   ]
  },
  {
   "cell_type": "code",
   "execution_count": 72,
   "metadata": {},
   "outputs": [
    {
     "data": {
      "application/vnd.jupyter.widget-view+json": {
       "model_id": "14333293be2c48c38fc3eeb7eee1618e",
       "version_major": 2,
       "version_minor": 0
      },
      "text/plain": [
       "Casting the dataset:   0%|          | 0/2761 [00:00<?, ? examples/s]"
      ]
     },
     "metadata": {},
     "output_type": "display_data"
    },
    {
     "data": {
      "text/plain": [
       "DatasetDict({\n",
       "    train: Dataset({\n",
       "        features: ['text', 'task_id', 'level_title', 'label'],\n",
       "        num_rows: 2208\n",
       "    })\n",
       "    test: Dataset({\n",
       "        features: ['text', 'task_id', 'level_title', 'label'],\n",
       "        num_rows: 276\n",
       "    })\n",
       "    validation: Dataset({\n",
       "        features: ['text', 'task_id', 'level_title', 'label'],\n",
       "        num_rows: 277\n",
       "    })\n",
       "})"
      ]
     },
     "execution_count": 72,
     "metadata": {},
     "output_type": "execute_result"
    }
   ],
   "source": [
    "from datasets import ClassLabel, Value, Sequence\n",
    "new_features = ds.features.copy()\n",
    "new_features[\"label\"] = ClassLabel(names=[0, 1, 2, 3, 4])\n",
    "ds = ds.cast(new_features)\n",
    "\n",
    "# Step 1: Initial train/test split with stratification\n",
    "train_test_ds = ds.train_test_split(test_size=0.20, seed=20)\n",
    "\n",
    "# Step 2: Split the test set into half test, half validation\n",
    "test_valid_split = train_test_ds['test'].train_test_split(test_size=0.5, seed=20)\n",
    "\n",
    "# Step 3: Combine everything into a single DatasetDict\n",
    "ds = DatasetDict({\n",
    "    'train': train_test_ds['train'],\n",
    "    'test': test_valid_split['train'],    # This becomes the test set\n",
    "    'validation': test_valid_split['test']  # This becomes the validation set\n",
    "})\n",
    "ds"
   ]
  },
  {
   "cell_type": "code",
   "execution_count": 73,
   "metadata": {},
   "outputs": [
    {
     "name": "stdout",
     "output_type": "stream",
     "text": [
      "Train label counts: Counter({5: 732, 2: 447, 4: 381, 3: 278, 0: 274, 1: 96})\n",
      "Test label counts: Counter({5: 98, 2: 57, 4: 44, 3: 35, 0: 34, 1: 8})\n",
      "Validation label counts: Counter({5: 100, 2: 52, 4: 41, 3: 38, 0: 32, 1: 14})\n"
     ]
    }
   ],
   "source": [
    "# Verify label distribution\n",
    "from collections import Counter\n",
    "\n",
    "print(\"Train label counts:\", Counter(ds['train']['label']))\n",
    "print(\"Test label counts:\", Counter(ds['test']['label']))\n",
    "print(\"Validation label counts:\", Counter(ds['validation']['label']))"
   ]
  },
  {
   "cell_type": "code",
   "execution_count": 74,
   "metadata": {},
   "outputs": [],
   "source": [
    "import json\n",
    "\n",
    "# Fonction utilitaire pour sauvegarder un split en JSONL\n",
    "def save_split_to_jsonl(dataset_split, filename):\n",
    "    with open(filename, 'w', encoding='utf-8') as f:\n",
    "        for record in dataset_split:\n",
    "            f.write(json.dumps(record, ensure_ascii=False) + '\\n')\n",
    "\n",
    "# Sauvegarde des trois splits\n",
    "save_split_to_jsonl(ds['train'], 'data/train.jsonl')\n",
    "save_split_to_jsonl(ds['test'], 'data/test.jsonl')\n",
    "save_split_to_jsonl(ds['validation'], 'data/validation.jsonl')"
   ]
  },
  {
   "cell_type": "markdown",
   "metadata": {},
   "source": [
    "## Roberta SFT"
   ]
  },
  {
   "cell_type": "code",
   "execution_count": 75,
   "metadata": {},
   "outputs": [],
   "source": [
    "import numpy as np \n",
    "import evaluate\n",
    "\n",
    "from sklearn.metrics import accuracy_score, precision_recall_fscore_support, cohen_kappa_score, classification_report\n",
    "\n",
    "from scipy.stats import pearsonr\n",
    "\n",
    "metric = evaluate.load(\"accuracy\")"
   ]
  },
  {
   "cell_type": "code",
   "execution_count": 76,
   "metadata": {},
   "outputs": [],
   "source": [
    "def compute_metrics(eval_pred):\n",
    "    logits, labels = eval_pred\n",
    "    predictions = np.argmax(logits, axis=-1)  # Convertir les logits en classes prédictes\n",
    "\n",
    "    # 🎯 Exactitude (Accuracy)\n",
    "    accuracy = accuracy_score(labels, predictions)\n",
    "\n",
    "    # 🎯 Précision, Rappel et F1-score (pondérés)\n",
    "    precision, recall, f1, _ = precision_recall_fscore_support(labels, predictions, average=\"weighted\")\n",
    "\n",
    "    # 🎯 Score de Cohen's Kappa (pondéré)\n",
    "    cohen_kappa = cohen_kappa_score(labels, predictions, weights=\"quadratic\")\n",
    "\n",
    "    # 🎯 Corrélation de Pearson\n",
    "    pearson_corr, _ = pearsonr(labels, predictions)  # Retourne (coef, p-valeur), on garde seulement coef\n",
    "\n",
    "     # 🎯 Classification Report\n",
    "    class_report = classification_report(labels, predictions, output_dict=True)  # Get a dictionary of the report\n",
    "\n",
    "\n",
    "    return {\n",
    "        \"accuracy\": accuracy,\n",
    "        \"precision\": precision,\n",
    "        \"recall\": recall,\n",
    "        \"f1\": f1,\n",
    "        \"cohen_kappa\": cohen_kappa,\n",
    "        \"pearson_corr\": pearson_corr,\n",
    "        \"classification_report\": class_report  # Add classification report to the return\n",
    "    }\n"
   ]
  },
  {
   "cell_type": "code",
   "execution_count": 77,
   "metadata": {},
   "outputs": [
    {
     "data": {
      "application/vnd.jupyter.widget-view+json": {
       "model_id": "0ded2b707a114fe0be836b1ad2581afd",
       "version_major": 2,
       "version_minor": 0
      },
      "text/plain": [
       "Generating train split: 0 examples [00:00, ? examples/s]"
      ]
     },
     "metadata": {},
     "output_type": "display_data"
    },
    {
     "data": {
      "application/vnd.jupyter.widget-view+json": {
       "model_id": "d1921985c3cc4a6793bd3bd91357b425",
       "version_major": 2,
       "version_minor": 0
      },
      "text/plain": [
       "Generating train split: 0 examples [00:00, ? examples/s]"
      ]
     },
     "metadata": {},
     "output_type": "display_data"
    },
    {
     "data": {
      "application/vnd.jupyter.widget-view+json": {
       "model_id": "fc45dee7a80c4c9fb295e78a25a7bb24",
       "version_major": 2,
       "version_minor": 0
      },
      "text/plain": [
       "Generating train split: 0 examples [00:00, ? examples/s]"
      ]
     },
     "metadata": {},
     "output_type": "display_data"
    },
    {
     "name": "stdout",
     "output_type": "stream",
     "text": [
      "DatasetDict({\n",
      "    train: Dataset({\n",
      "        features: ['text', 'task_id', 'level_title', 'label'],\n",
      "        num_rows: 2208\n",
      "    })\n",
      "    test: Dataset({\n",
      "        features: ['text', 'task_id', 'level_title', 'label'],\n",
      "        num_rows: 276\n",
      "    })\n",
      "    valid: Dataset({\n",
      "        features: ['text', 'task_id', 'level_title', 'label'],\n",
      "        num_rows: 277\n",
      "    })\n",
      "})\n"
     ]
    }
   ],
   "source": [
    "from datasets import load_dataset\n",
    "from datasets import DatasetDict, Dataset\n",
    "\n",
    "# Charger les fichiers JSONL en DatasetDict\n",
    "dataset = DatasetDict({\n",
    "    \"train\": load_dataset(\"json\", data_files=\"data/train.jsonl\")[\"train\"],\n",
    "    \"test\": load_dataset(\"json\", data_files=\"data/test.jsonl\")[\"train\"],\n",
    "    \"valid\": load_dataset(\"json\", data_files=\"data/validation.jsonl\")[\"train\"]\n",
    "})\n",
    "\n",
    "print(dataset)"
   ]
  },
  {
   "cell_type": "code",
   "execution_count": 78,
   "metadata": {},
   "outputs": [],
   "source": [
    "from transformers import AutoTokenizer\n",
    "tokenizer = AutoTokenizer.from_pretrained(\"FacebookAI/roberta-large\")"
   ]
  },
  {
   "cell_type": "code",
   "execution_count": 79,
   "metadata": {},
   "outputs": [
    {
     "data": {
      "text/plain": [
       "{'text': 'Prompt Level: 16-Upper Advanced [SEP] Prompt: Read an email from your friend and give advice on some stressful problems he is having. Type in the input box. Write 100-200 words. [SEP] Response: Hi Leon,\\n\\nI really sorry for hearing you are still having issues at work, I know you work can be kind of hectic and have some solutions, as you always ended up frazzled at the end of the day, why don you ruminate right after arriving home,  I find it soothing enough, and if you do it with yoga included it is totally worth it. Now talking about Tia, it is a shame things are going well, in this case if you want to, I can recommend you go to this beautiful lake called Calm Lake, which is surrounded by a tree, nature, it is a serene lake, you can take your time to assess yourself and make better decisions.\\n\\nWell Leon, I hope these suggestions help you a lot in order to cope those issues, keep me updated if you have any headway during the process. \\n\\nBest wishes,\\n\\nAnderson ',\n",
       " 'task_id': '9032f3ed-5da1-4efe-b4dd-c9470bb35d65',\n",
       " 'level_title': '16-Upper Advanced',\n",
       " 'label': 3}"
      ]
     },
     "execution_count": 79,
     "metadata": {},
     "output_type": "execute_result"
    }
   ],
   "source": [
    "dataset[\"train\"][0]"
   ]
  },
  {
   "cell_type": "code",
   "execution_count": 80,
   "metadata": {},
   "outputs": [
    {
     "data": {
      "text/plain": [
       "{'input_ids': [0, 35396, 3320, 12183, 35, 379, 12, 44694, 646, 3388, 510, 742, 42944, 35, 31043, 5, 2777, 47, 348, 2435, 11, 42, 8567, 7, 10, 92, 5674, 35, 2777, 2239, 4, 21062, 59, 743, 8, 2019, 14, 2777, 521, 747, 652, 4, 12738, 2512, 17769, 1142, 7, 244, 14192, 5, 2410, 4, 7773, 11, 5, 8135, 2233, 4, 21062, 3982, 12, 5714, 1617, 4, 646, 3388, 510, 742, 19121, 35, 11677, 11, 10, 92, 138, 16, 460, 3571, 6, 53, 67, 182, 17322, 4, 345, 32, 171, 383, 47, 240, 7, 1532, 1769, 4, 509, 9, 5, 78, 2019, 16, 7, 1346, 141, 5, 138, 1364, 358, 317, 33, 63, 308, 1492, 8, 2040, 4, 7411, 6, 5907, 3922, 47, 2563, 99, 7, 109, 6, 98, 47, 531, 465, 66, 1937, 4, 50118, 50118, 21518, 936, 16, 529, 92, 4025, 4, 370, 218, 17, 27, 90, 216, 106, 6, 8, 51, 218, 17, 27, 90, 216, 47, 4, 85, 64, 28, 1202, 7, 619, 233, 9, 5, 165, 11, 5, 1786, 4, 370, 33, 7, 28, 5192, 8, 3473, 1686, 7, 82, 6, 190, 114, 47, 32, 9152, 4, 50118, 50118, 22412, 6, 2239, 92, 8558, 50, 2257, 64, 185, 86, 4, 993, 451, 1057, 47, 7, 173, 1769, 31, 5, 78, 183, 6, 61, 16, 45, 460, 678, 4, 85, 17, 27, 29, 505, 7, 28, 3186, 8, 1394, 77, 47, 218, 17, 27, 90, 1346, 402, 4, 50118, 50118, 1121, 6427, 6, 2992, 633, 16, 45, 1365, 6, 53, 114, 47, 1095, 1313, 2], 'attention_mask': [1, 1, 1, 1, 1, 1, 1, 1, 1, 1, 1, 1, 1, 1, 1, 1, 1, 1, 1, 1, 1, 1, 1, 1, 1, 1, 1, 1, 1, 1, 1, 1, 1, 1, 1, 1, 1, 1, 1, 1, 1, 1, 1, 1, 1, 1, 1, 1, 1, 1, 1, 1, 1, 1, 1, 1, 1, 1, 1, 1, 1, 1, 1, 1, 1, 1, 1, 1, 1, 1, 1, 1, 1, 1, 1, 1, 1, 1, 1, 1, 1, 1, 1, 1, 1, 1, 1, 1, 1, 1, 1, 1, 1, 1, 1, 1, 1, 1, 1, 1, 1, 1, 1, 1, 1, 1, 1, 1, 1, 1, 1, 1, 1, 1, 1, 1, 1, 1, 1, 1, 1, 1, 1, 1, 1, 1, 1, 1, 1, 1, 1, 1, 1, 1, 1, 1, 1, 1, 1, 1, 1, 1, 1, 1, 1, 1, 1, 1, 1, 1, 1, 1, 1, 1, 1, 1, 1, 1, 1, 1, 1, 1, 1, 1, 1, 1, 1, 1, 1, 1, 1, 1, 1, 1, 1, 1, 1, 1, 1, 1, 1, 1, 1, 1, 1, 1, 1, 1, 1, 1, 1, 1, 1, 1, 1, 1, 1, 1, 1, 1, 1, 1, 1, 1, 1, 1, 1, 1, 1, 1, 1, 1, 1, 1, 1, 1, 1, 1, 1, 1, 1, 1, 1, 1, 1, 1, 1, 1, 1, 1, 1, 1, 1, 1, 1, 1, 1, 1, 1, 1, 1, 1, 1, 1, 1, 1, 1, 1, 1, 1, 1, 1, 1, 1, 1, 1]}"
      ]
     },
     "execution_count": 80,
     "metadata": {},
     "output_type": "execute_result"
    }
   ],
   "source": [
    "tok_test = tokenizer(dataset[\"train\"][1][\"text\"], max_length=256, truncation=True)\n",
    "tok_test"
   ]
  },
  {
   "cell_type": "code",
   "execution_count": 81,
   "metadata": {},
   "outputs": [],
   "source": [
    "def tokenize_function(examples):\n",
    "    return tokenizer(\n",
    "        examples[\"text\"],\n",
    "        padding=\"max_length\",\n",
    "        truncation=True,\n",
    "        max_length=256\n",
    "    )"
   ]
  },
  {
   "cell_type": "code",
   "execution_count": 82,
   "metadata": {},
   "outputs": [
    {
     "data": {
      "application/vnd.jupyter.widget-view+json": {
       "model_id": "6883a13c2688418a8e13d9d07a682ebe",
       "version_major": 2,
       "version_minor": 0
      },
      "text/plain": [
       "Map:   0%|          | 0/2208 [00:00<?, ? examples/s]"
      ]
     },
     "metadata": {},
     "output_type": "display_data"
    },
    {
     "data": {
      "application/vnd.jupyter.widget-view+json": {
       "model_id": "f11714bff2814624b80e2e16ada4c93d",
       "version_major": 2,
       "version_minor": 0
      },
      "text/plain": [
       "Map:   0%|          | 0/276 [00:00<?, ? examples/s]"
      ]
     },
     "metadata": {},
     "output_type": "display_data"
    },
    {
     "data": {
      "application/vnd.jupyter.widget-view+json": {
       "model_id": "26ee00e7b155474c88d1a6d803534029",
       "version_major": 2,
       "version_minor": 0
      },
      "text/plain": [
       "Map:   0%|          | 0/277 [00:00<?, ? examples/s]"
      ]
     },
     "metadata": {},
     "output_type": "display_data"
    }
   ],
   "source": [
    "tokenized_train = dataset[\"train\"].map(tokenize_function, batched=True)\n",
    "tokenized_test = dataset[\"test\"].map(tokenize_function, batched=True)\n",
    "tokenized_valid = dataset[\"valid\"].map(tokenize_function, batched=True)"
   ]
  },
  {
   "cell_type": "code",
   "execution_count": 83,
   "metadata": {},
   "outputs": [
    {
     "data": {
      "text/plain": [
       "6"
      ]
     },
     "execution_count": 83,
     "metadata": {},
     "output_type": "execute_result"
    }
   ],
   "source": [
    "unique_labels = set(dataset['train']['label'])\n",
    "num_labels = len(unique_labels)\n",
    "num_labels"
   ]
  },
  {
   "cell_type": "code",
   "execution_count": 84,
   "metadata": {},
   "outputs": [
    {
     "name": "stderr",
     "output_type": "stream",
     "text": [
      "Some weights of RobertaForSequenceClassification were not initialized from the model checkpoint at FacebookAI/roberta-large and are newly initialized: ['classifier.dense.bias', 'classifier.dense.weight', 'classifier.out_proj.bias', 'classifier.out_proj.weight']\n",
      "You should probably TRAIN this model on a down-stream task to be able to use it for predictions and inference.\n"
     ]
    }
   ],
   "source": [
    "from transformers import RobertaForSequenceClassification, TrainingArguments, Trainer\n",
    "model = RobertaForSequenceClassification.from_pretrained(\"FacebookAI/roberta-large\", num_labels=num_labels)"
   ]
  },
  {
   "cell_type": "code",
   "execution_count": 85,
   "metadata": {},
   "outputs": [],
   "source": [
    "args = TrainingArguments(\n",
    "    output_dir=\"../../../model_saved/roberta-large-ft-efcamdat-augmented\",\n",
    "    eval_strategy=\"steps\",  # Évaluation aux mêmes intervalles que la sauvegarde\n",
    "    save_strategy=\"steps\",  # Sauvegarde tous les 500 steps\n",
    "    save_steps=200,\n",
    "    eval_steps=200,  # ⚠ IMPORTANT : Évaluation aux mêmes steps\n",
    "    save_total_limit=4,  # Ne garde que 4 checkpoints max\n",
    "    learning_rate=2e-5,\n",
    "    warmup_ratio=0.1,\n",
    "    lr_scheduler_type=\"linear\", \n",
    "    per_device_train_batch_size=16,\n",
    "    per_device_eval_batch_size=16,\n",
    "    num_train_epochs=6,\n",
    "    weight_decay=0.01,\n",
    "    load_best_model_at_end=True,  \n",
    "    metric_for_best_model=\"f1\",\n",
    "    logging_steps=100,\n",
    "    fp16=True,\n",
    ")"
   ]
  },
  {
   "cell_type": "code",
   "execution_count": 86,
   "metadata": {},
   "outputs": [],
   "source": [
    "trainer = Trainer(\n",
    "    model=model,\n",
    "    args=args,\n",
    "    train_dataset=tokenized_train,\n",
    "    eval_dataset=tokenized_test,\n",
    "    compute_metrics=compute_metrics,\n",
    ")"
   ]
  },
  {
   "cell_type": "code",
   "execution_count": 87,
   "metadata": {},
   "outputs": [
    {
     "name": "stderr",
     "output_type": "stream",
     "text": [
      "/home/ec2-user/anaconda3/envs/pytorch_p310/lib/python3.10/site-packages/torch/nn/modules/module.py:1520: FutureWarning: `encoder_attention_mask` is deprecated and will be removed in version 4.55.0 for `RobertaSdpaSelfAttention.forward`.\n",
      "  return forward_call(*args, **kwargs)\n"
     ]
    },
    {
     "data": {
      "text/html": [
       "\n",
       "    <div>\n",
       "      \n",
       "      <progress value='201' max='828' style='width:300px; height:20px; vertical-align: middle;'></progress>\n",
       "      [201/828 01:01 < 03:14, 3.23 it/s, Epoch 1.45/6]\n",
       "    </div>\n",
       "    <table border=\"1\" class=\"dataframe\">\n",
       "  <thead>\n",
       " <tr style=\"text-align: left;\">\n",
       "      <th>Step</th>\n",
       "      <th>Training Loss</th>\n",
       "      <th>Validation Loss</th>\n",
       "    </tr>\n",
       "  </thead>\n",
       "  <tbody>\n",
       "  </tbody>\n",
       "</table><p>\n",
       "    <div>\n",
       "      \n",
       "      <progress value='2' max='18' style='width:300px; height:20px; vertical-align: middle;'></progress>\n",
       "      [ 2/18 00:00 < 00:01, 12.82 it/s]\n",
       "    </div>\n",
       "    "
      ],
      "text/plain": [
       "<IPython.core.display.HTML object>"
      ]
     },
     "metadata": {},
     "output_type": "display_data"
    },
    {
     "data": {
      "text/plain": [
       "TrainOutput(global_step=828, training_loss=0.5889229829184675, metrics={'train_runtime': 299.1896, 'train_samples_per_second': 44.28, 'train_steps_per_second': 2.767, 'total_flos': 6173196781289472.0, 'train_loss': 0.5889229829184675, 'epoch': 6.0})"
      ]
     },
     "execution_count": 87,
     "metadata": {},
     "output_type": "execute_result"
    }
   ],
   "source": [
    "trainer.train()"
   ]
  },
  {
   "cell_type": "code",
   "execution_count": 88,
   "metadata": {},
   "outputs": [
    {
     "name": "stderr",
     "output_type": "stream",
     "text": [
      "/home/ec2-user/anaconda3/envs/pytorch_p310/lib/python3.10/site-packages/torch/nn/modules/module.py:1520: FutureWarning: `encoder_attention_mask` is deprecated and will be removed in version 4.55.0 for `RobertaSdpaSelfAttention.forward`.\n",
      "  return forward_call(*args, **kwargs)\n"
     ]
    },
    {
     "data": {
      "text/html": [
       "\n",
       "    <div>\n",
       "      \n",
       "      <progress value='1' max='18' style='width:300px; height:20px; vertical-align: middle;'></progress>\n",
       "      [ 1/18 : < :]\n",
       "    </div>\n",
       "    "
      ],
      "text/plain": [
       "<IPython.core.display.HTML object>"
      ]
     },
     "metadata": {},
     "output_type": "display_data"
    },
    {
     "data": {
      "text/plain": [
       "{'eval_loss': 1.1551573276519775,\n",
       " 'eval_accuracy': 0.75,\n",
       " 'eval_precision': 0.7535852468077532,\n",
       " 'eval_recall': 0.75,\n",
       " 'eval_f1': 0.7431084449411779,\n",
       " 'eval_cohen_kappa': 0.9014164752905702,\n",
       " 'eval_pearson_corr': 0.9070230789560548,\n",
       " 'eval_classification_report': {'0': {'precision': 0.9411764705882353,\n",
       "   'recall': 0.9411764705882353,\n",
       "   'f1-score': 0.9411764705882353,\n",
       "   'support': 34.0},\n",
       "  '1': {'precision': 1.0,\n",
       "   'recall': 0.5,\n",
       "   'f1-score': 0.6666666666666666,\n",
       "   'support': 8.0},\n",
       "  '2': {'precision': 0.9111111111111111,\n",
       "   'recall': 0.7192982456140351,\n",
       "   'f1-score': 0.803921568627451,\n",
       "   'support': 57.0},\n",
       "  '3': {'precision': 0.5641025641025641,\n",
       "   'recall': 0.6285714285714286,\n",
       "   'f1-score': 0.5945945945945946,\n",
       "   'support': 35.0},\n",
       "  '4': {'precision': 0.4857142857142857,\n",
       "   'recall': 0.38636363636363635,\n",
       "   'f1-score': 0.43037974683544306,\n",
       "   'support': 44.0},\n",
       "  '5': {'precision': 0.7647058823529411,\n",
       "   'recall': 0.9285714285714286,\n",
       "   'f1-score': 0.8387096774193549,\n",
       "   'support': 98.0},\n",
       "  'accuracy': 0.75,\n",
       "  'macro avg': {'precision': 0.7778017189781896,\n",
       "   'recall': 0.683996868284794,\n",
       "   'f1-score': 0.7125747874552909,\n",
       "   'support': 276.0},\n",
       "  'weighted avg': {'precision': 0.7535852468077532,\n",
       "   'recall': 0.75,\n",
       "   'f1-score': 0.7431084449411779,\n",
       "   'support': 276.0}},\n",
       " 'eval_runtime': 1.3617,\n",
       " 'eval_samples_per_second': 202.686,\n",
       " 'eval_steps_per_second': 13.219,\n",
       " 'epoch': 6.0}"
      ]
     },
     "execution_count": 88,
     "metadata": {},
     "output_type": "execute_result"
    }
   ],
   "source": [
    "trainer.evaluate()"
   ]
  },
  {
   "cell_type": "markdown",
   "metadata": {},
   "source": [
    "## Detailed Evaluation"
   ]
  },
  {
   "cell_type": "code",
   "execution_count": 90,
   "metadata": {},
   "outputs": [],
   "source": [
    "list_topic = dataset[\"valid\"][\"task_id\"]\n",
    "list_t_set = set(list_topic)\n",
    "unique_t = (list(list_t_set))\n",
    "\n",
    "list_level = dataset[\"valid\"][\"level_title\"]\n",
    "list_l_set = set(list_level)\n",
    "unique_l = (list(list_l_set))\n"
   ]
  },
  {
   "cell_type": "code",
   "execution_count": 94,
   "metadata": {},
   "outputs": [
    {
     "data": {
      "application/vnd.jupyter.widget-view+json": {
       "model_id": "06ede1fdc702484c9eacbb566442cb5c",
       "version_major": 2,
       "version_minor": 0
      },
      "text/plain": [
       "Filter:   0%|          | 0/277 [00:00<?, ? examples/s]"
      ]
     },
     "metadata": {},
     "output_type": "display_data"
    },
    {
     "data": {
      "application/vnd.jupyter.widget-view+json": {
       "model_id": "7b495ef40d4b4b4198a7a052b9d8e4ca",
       "version_major": 2,
       "version_minor": 0
      },
      "text/plain": [
       "Filter:   0%|          | 0/277 [00:00<?, ? examples/s]"
      ]
     },
     "metadata": {},
     "output_type": "display_data"
    },
    {
     "data": {
      "application/vnd.jupyter.widget-view+json": {
       "model_id": "1c8d209335fb487b8d85ec2d12a3b597",
       "version_major": 2,
       "version_minor": 0
      },
      "text/plain": [
       "Filter:   0%|          | 0/277 [00:00<?, ? examples/s]"
      ]
     },
     "metadata": {},
     "output_type": "display_data"
    },
    {
     "data": {
      "application/vnd.jupyter.widget-view+json": {
       "model_id": "1dbd8cb08a0b483495f7415d03c02a5a",
       "version_major": 2,
       "version_minor": 0
      },
      "text/plain": [
       "Filter:   0%|          | 0/277 [00:00<?, ? examples/s]"
      ]
     },
     "metadata": {},
     "output_type": "display_data"
    },
    {
     "data": {
      "application/vnd.jupyter.widget-view+json": {
       "model_id": "4da8167eb6224df28cae5b22daf7f376",
       "version_major": 2,
       "version_minor": 0
      },
      "text/plain": [
       "Filter:   0%|          | 0/277 [00:00<?, ? examples/s]"
      ]
     },
     "metadata": {},
     "output_type": "display_data"
    },
    {
     "name": "stderr",
     "output_type": "stream",
     "text": [
      "/home/ec2-user/anaconda3/envs/pytorch_p310/lib/python3.10/site-packages/torch/nn/modules/module.py:1520: FutureWarning: `encoder_attention_mask` is deprecated and will be removed in version 4.55.0 for `RobertaSdpaSelfAttention.forward`.\n",
      "  return forward_call(*args, **kwargs)\n"
     ]
    },
    {
     "data": {
      "application/vnd.jupyter.widget-view+json": {
       "model_id": "ba2eae502a03446ca6c82ec542f32763",
       "version_major": 2,
       "version_minor": 0
      },
      "text/plain": [
       "Filter:   0%|          | 0/277 [00:00<?, ? examples/s]"
      ]
     },
     "metadata": {},
     "output_type": "display_data"
    },
    {
     "data": {
      "application/vnd.jupyter.widget-view+json": {
       "model_id": "fbc14ac453d04a4aae9642444d0f957c",
       "version_major": 2,
       "version_minor": 0
      },
      "text/plain": [
       "Filter:   0%|          | 0/277 [00:00<?, ? examples/s]"
      ]
     },
     "metadata": {},
     "output_type": "display_data"
    },
    {
     "data": {
      "application/vnd.jupyter.widget-view+json": {
       "model_id": "d4076dc441b940a1b55555a770eab844",
       "version_major": 2,
       "version_minor": 0
      },
      "text/plain": [
       "Filter:   0%|          | 0/277 [00:00<?, ? examples/s]"
      ]
     },
     "metadata": {},
     "output_type": "display_data"
    },
    {
     "data": {
      "application/vnd.jupyter.widget-view+json": {
       "model_id": "63d260481f094ddeb8bd0c60ec45096a",
       "version_major": 2,
       "version_minor": 0
      },
      "text/plain": [
       "Filter:   0%|          | 0/277 [00:00<?, ? examples/s]"
      ]
     },
     "metadata": {},
     "output_type": "display_data"
    },
    {
     "data": {
      "application/vnd.jupyter.widget-view+json": {
       "model_id": "3b0db11555ac4884a8e9309dbc345f76",
       "version_major": 2,
       "version_minor": 0
      },
      "text/plain": [
       "Filter:   0%|          | 0/277 [00:00<?, ? examples/s]"
      ]
     },
     "metadata": {},
     "output_type": "display_data"
    },
    {
     "data": {
      "application/vnd.jupyter.widget-view+json": {
       "model_id": "2ade3c37908b4df5892717a7de50b6c0",
       "version_major": 2,
       "version_minor": 0
      },
      "text/plain": [
       "Filter:   0%|          | 0/277 [00:00<?, ? examples/s]"
      ]
     },
     "metadata": {},
     "output_type": "display_data"
    },
    {
     "data": {
      "application/vnd.jupyter.widget-view+json": {
       "model_id": "58acd0800a0847ab9ba39dfa02227361",
       "version_major": 2,
       "version_minor": 0
      },
      "text/plain": [
       "Filter:   0%|          | 0/277 [00:00<?, ? examples/s]"
      ]
     },
     "metadata": {},
     "output_type": "display_data"
    },
    {
     "data": {
      "application/vnd.jupyter.widget-view+json": {
       "model_id": "35e26179fc6742f49de2aaa75e4886cc",
       "version_major": 2,
       "version_minor": 0
      },
      "text/plain": [
       "Filter:   0%|          | 0/277 [00:00<?, ? examples/s]"
      ]
     },
     "metadata": {},
     "output_type": "display_data"
    },
    {
     "data": {
      "application/vnd.jupyter.widget-view+json": {
       "model_id": "3b15e0ce9a5e48d99538f8cdec8175c5",
       "version_major": 2,
       "version_minor": 0
      },
      "text/plain": [
       "Filter:   0%|          | 0/277 [00:00<?, ? examples/s]"
      ]
     },
     "metadata": {},
     "output_type": "display_data"
    },
    {
     "data": {
      "application/vnd.jupyter.widget-view+json": {
       "model_id": "40647e9d048c468c924d057e605bcbee",
       "version_major": 2,
       "version_minor": 0
      },
      "text/plain": [
       "Filter:   0%|          | 0/277 [00:00<?, ? examples/s]"
      ]
     },
     "metadata": {},
     "output_type": "display_data"
    },
    {
     "data": {
      "application/vnd.jupyter.widget-view+json": {
       "model_id": "63f8e4fcc4bc46dc940556fc719df98d",
       "version_major": 2,
       "version_minor": 0
      },
      "text/plain": [
       "Filter:   0%|          | 0/277 [00:00<?, ? examples/s]"
      ]
     },
     "metadata": {},
     "output_type": "display_data"
    },
    {
     "data": {
      "application/vnd.jupyter.widget-view+json": {
       "model_id": "6e88446435da47d3a97b7aee3a275258",
       "version_major": 2,
       "version_minor": 0
      },
      "text/plain": [
       "Filter:   0%|          | 0/277 [00:00<?, ? examples/s]"
      ]
     },
     "metadata": {},
     "output_type": "display_data"
    },
    {
     "data": {
      "application/vnd.jupyter.widget-view+json": {
       "model_id": "69faaa5039774c72b5c2b24a8929f572",
       "version_major": 2,
       "version_minor": 0
      },
      "text/plain": [
       "Filter:   0%|          | 0/277 [00:00<?, ? examples/s]"
      ]
     },
     "metadata": {},
     "output_type": "display_data"
    },
    {
     "data": {
      "application/vnd.jupyter.widget-view+json": {
       "model_id": "425c5600641d4979a4f77c3b0a4a5abe",
       "version_major": 2,
       "version_minor": 0
      },
      "text/plain": [
       "Filter:   0%|          | 0/277 [00:00<?, ? examples/s]"
      ]
     },
     "metadata": {},
     "output_type": "display_data"
    },
    {
     "data": {
      "application/vnd.jupyter.widget-view+json": {
       "model_id": "4306b11f672c43b6bcc23e0970ac01f0",
       "version_major": 2,
       "version_minor": 0
      },
      "text/plain": [
       "Filter:   0%|          | 0/277 [00:00<?, ? examples/s]"
      ]
     },
     "metadata": {},
     "output_type": "display_data"
    },
    {
     "data": {
      "application/vnd.jupyter.widget-view+json": {
       "model_id": "2b9c213b988f4d238e1bb208ea65f0b8",
       "version_major": 2,
       "version_minor": 0
      },
      "text/plain": [
       "Filter:   0%|          | 0/277 [00:00<?, ? examples/s]"
      ]
     },
     "metadata": {},
     "output_type": "display_data"
    },
    {
     "data": {
      "application/vnd.jupyter.widget-view+json": {
       "model_id": "c2b94ae130ee4e5cbe255fb0c80b1fe9",
       "version_major": 2,
       "version_minor": 0
      },
      "text/plain": [
       "Filter:   0%|          | 0/277 [00:00<?, ? examples/s]"
      ]
     },
     "metadata": {},
     "output_type": "display_data"
    },
    {
     "data": {
      "application/vnd.jupyter.widget-view+json": {
       "model_id": "21c6687a8cf9454fb67dc14a143ccce7",
       "version_major": 2,
       "version_minor": 0
      },
      "text/plain": [
       "Filter:   0%|          | 0/277 [00:00<?, ? examples/s]"
      ]
     },
     "metadata": {},
     "output_type": "display_data"
    },
    {
     "data": {
      "application/vnd.jupyter.widget-view+json": {
       "model_id": "469eed795106445ea9a6a387bfadf804",
       "version_major": 2,
       "version_minor": 0
      },
      "text/plain": [
       "Filter:   0%|          | 0/277 [00:00<?, ? examples/s]"
      ]
     },
     "metadata": {},
     "output_type": "display_data"
    },
    {
     "data": {
      "application/vnd.jupyter.widget-view+json": {
       "model_id": "575a0245544a48bb8aa79aa5b2c46d03",
       "version_major": 2,
       "version_minor": 0
      },
      "text/plain": [
       "Filter:   0%|          | 0/277 [00:00<?, ? examples/s]"
      ]
     },
     "metadata": {},
     "output_type": "display_data"
    },
    {
     "data": {
      "application/vnd.jupyter.widget-view+json": {
       "model_id": "28f7f8180352474ba799fe265382728e",
       "version_major": 2,
       "version_minor": 0
      },
      "text/plain": [
       "Filter:   0%|          | 0/277 [00:00<?, ? examples/s]"
      ]
     },
     "metadata": {},
     "output_type": "display_data"
    },
    {
     "data": {
      "application/vnd.jupyter.widget-view+json": {
       "model_id": "42650185d83e48aaacde1878aef7511c",
       "version_major": 2,
       "version_minor": 0
      },
      "text/plain": [
       "Filter:   0%|          | 0/277 [00:00<?, ? examples/s]"
      ]
     },
     "metadata": {},
     "output_type": "display_data"
    },
    {
     "data": {
      "application/vnd.jupyter.widget-view+json": {
       "model_id": "cc83706e84294a6bb3250912576cec6c",
       "version_major": 2,
       "version_minor": 0
      },
      "text/plain": [
       "Filter:   0%|          | 0/277 [00:00<?, ? examples/s]"
      ]
     },
     "metadata": {},
     "output_type": "display_data"
    },
    {
     "data": {
      "application/vnd.jupyter.widget-view+json": {
       "model_id": "fffb1fa1ff424ad8aea78b5da9a0574a",
       "version_major": 2,
       "version_minor": 0
      },
      "text/plain": [
       "Filter:   0%|          | 0/277 [00:00<?, ? examples/s]"
      ]
     },
     "metadata": {},
     "output_type": "display_data"
    }
   ],
   "source": [
    "list_r = []\n",
    "\n",
    "# Assuming 'unique_t' is a list of unique item_ids and 'trainer' is already defined\n",
    "for t in unique_t:  # Iterate over the first item in unique_t\n",
    "    sub_ds = tokenized_valid.filter(lambda example: example['task_id'] == t)\n",
    "    # Get predictions using the trainer\n",
    "    predictions = trainer.predict(sub_ds)\n",
    "    # Raw output logits (size [batch_size, num_classes])\n",
    "    outputs = predictions.predictions\n",
    "    # Convert logits to predicted class labels (taking the argmax across the classes)\n",
    "    predicted_labels = np.argmax(outputs, axis=-1)\n",
    "    ref_label = predictions.label_ids\n",
    "    # Print or save the predicted classes (this will be a numpy array with the predicted class indices)\n",
    "    ck = round(cohen_kappa_score(predicted_labels, ref_label, weights=\"quadratic\"), 2)  \n",
    "    pearson_corr, _ = pearsonr(ref_label, predicted_labels)\n",
    "    accuracy = accuracy_score(ref_label, predicted_labels)\n",
    "    precision, recall, f1, _ = precision_recall_fscore_support(ref_label, predicted_labels, average=\"weighted\")\n",
    "\n",
    "    r = {\n",
    "        \"task_id\": t,\n",
    "        \"level_title\": sub_ds[\"level_title\"][0],\n",
    "        \"accuracy\": accuracy,\n",
    "        \"precision\": precision,\n",
    "        \"recall\": recall,\n",
    "        \"f1\": f1,\n",
    "        \"ck\": ck,\n",
    "        \"pearson\": pearson_corr,\n",
    "        \"n_samples\": len(sub_ds)\n",
    "    }\n",
    "    list_r.append(r)"
   ]
  },
  {
   "cell_type": "code",
   "execution_count": 95,
   "metadata": {},
   "outputs": [
    {
     "data": {
      "application/vnd.jupyter.widget-view+json": {
       "model_id": "65d2e74ca3254fec811467f2c3904821",
       "version_major": 2,
       "version_minor": 0
      },
      "text/plain": [
       "Filter:   0%|          | 0/277 [00:00<?, ? examples/s]"
      ]
     },
     "metadata": {},
     "output_type": "display_data"
    },
    {
     "name": "stderr",
     "output_type": "stream",
     "text": [
      "/home/ec2-user/anaconda3/envs/pytorch_p310/lib/python3.10/site-packages/torch/nn/modules/module.py:1520: FutureWarning: `encoder_attention_mask` is deprecated and will be removed in version 4.55.0 for `RobertaSdpaSelfAttention.forward`.\n",
      "  return forward_call(*args, **kwargs)\n"
     ]
    },
    {
     "data": {
      "text/html": [
       "\n",
       "    <div>\n",
       "      \n",
       "      <progress value='1' max='2' style='width:300px; height:20px; vertical-align: middle;'></progress>\n",
       "      [1/2 : < :]\n",
       "    </div>\n",
       "    "
      ],
      "text/plain": [
       "<IPython.core.display.HTML object>"
      ]
     },
     "metadata": {},
     "output_type": "display_data"
    },
    {
     "data": {
      "application/vnd.jupyter.widget-view+json": {
       "model_id": "cbc824277bc84694872c0f425eb4d83b",
       "version_major": 2,
       "version_minor": 0
      },
      "text/plain": [
       "Filter:   0%|          | 0/277 [00:00<?, ? examples/s]"
      ]
     },
     "metadata": {},
     "output_type": "display_data"
    },
    {
     "data": {
      "application/vnd.jupyter.widget-view+json": {
       "model_id": "6de83fe2932c44189bfa2c18d5d51982",
       "version_major": 2,
       "version_minor": 0
      },
      "text/plain": [
       "Filter:   0%|          | 0/277 [00:00<?, ? examples/s]"
      ]
     },
     "metadata": {},
     "output_type": "display_data"
    },
    {
     "data": {
      "application/vnd.jupyter.widget-view+json": {
       "model_id": "56c89e0319554555a6b88db18f21bc98",
       "version_major": 2,
       "version_minor": 0
      },
      "text/plain": [
       "Filter:   0%|          | 0/277 [00:00<?, ? examples/s]"
      ]
     },
     "metadata": {},
     "output_type": "display_data"
    },
    {
     "name": "stderr",
     "output_type": "stream",
     "text": [
      "/home/ec2-user/anaconda3/envs/pytorch_p310/lib/python3.10/site-packages/torch/nn/modules/module.py:1520: FutureWarning: `encoder_attention_mask` is deprecated and will be removed in version 4.55.0 for `RobertaSdpaSelfAttention.forward`.\n",
      "  return forward_call(*args, **kwargs)\n"
     ]
    },
    {
     "data": {
      "text/html": [],
      "text/plain": [
       "<IPython.core.display.HTML object>"
      ]
     },
     "metadata": {},
     "output_type": "display_data"
    },
    {
     "data": {
      "application/vnd.jupyter.widget-view+json": {
       "model_id": "7b28721cce414e92b1244d63b45dd4db",
       "version_major": 2,
       "version_minor": 0
      },
      "text/plain": [
       "Filter:   0%|          | 0/277 [00:00<?, ? examples/s]"
      ]
     },
     "metadata": {},
     "output_type": "display_data"
    },
    {
     "data": {
      "application/vnd.jupyter.widget-view+json": {
       "model_id": "cffbe265c13c4d2d94f80a02bbfe6b72",
       "version_major": 2,
       "version_minor": 0
      },
      "text/plain": [
       "Filter:   0%|          | 0/277 [00:00<?, ? examples/s]"
      ]
     },
     "metadata": {},
     "output_type": "display_data"
    },
    {
     "data": {
      "application/vnd.jupyter.widget-view+json": {
       "model_id": "e6214e9982aa4451904ef38fbc77a9f6",
       "version_major": 2,
       "version_minor": 0
      },
      "text/plain": [
       "Filter:   0%|          | 0/277 [00:00<?, ? examples/s]"
      ]
     },
     "metadata": {},
     "output_type": "display_data"
    },
    {
     "data": {
      "application/vnd.jupyter.widget-view+json": {
       "model_id": "400ec004f65847a09e5039719b390d7b",
       "version_major": 2,
       "version_minor": 0
      },
      "text/plain": [
       "Filter:   0%|          | 0/277 [00:00<?, ? examples/s]"
      ]
     },
     "metadata": {},
     "output_type": "display_data"
    },
    {
     "name": "stderr",
     "output_type": "stream",
     "text": [
      "/home/ec2-user/anaconda3/envs/pytorch_p310/lib/python3.10/site-packages/torch/nn/modules/module.py:1520: FutureWarning: `encoder_attention_mask` is deprecated and will be removed in version 4.55.0 for `RobertaSdpaSelfAttention.forward`.\n",
      "  return forward_call(*args, **kwargs)\n"
     ]
    },
    {
     "data": {
      "application/vnd.jupyter.widget-view+json": {
       "model_id": "5b83795334ec4630aed0c3b218cf935d",
       "version_major": 2,
       "version_minor": 0
      },
      "text/plain": [
       "Filter:   0%|          | 0/277 [00:00<?, ? examples/s]"
      ]
     },
     "metadata": {},
     "output_type": "display_data"
    },
    {
     "data": {
      "application/vnd.jupyter.widget-view+json": {
       "model_id": "32e95c7c1cd944da91ecd648b95b95b9",
       "version_major": 2,
       "version_minor": 0
      },
      "text/plain": [
       "Filter:   0%|          | 0/277 [00:00<?, ? examples/s]"
      ]
     },
     "metadata": {},
     "output_type": "display_data"
    },
    {
     "name": "stderr",
     "output_type": "stream",
     "text": [
      "/home/ec2-user/anaconda3/envs/pytorch_p310/lib/python3.10/site-packages/torch/nn/modules/module.py:1520: FutureWarning: `encoder_attention_mask` is deprecated and will be removed in version 4.55.0 for `RobertaSdpaSelfAttention.forward`.\n",
      "  return forward_call(*args, **kwargs)\n"
     ]
    },
    {
     "data": {
      "application/vnd.jupyter.widget-view+json": {
       "model_id": "3ae17b7b244f465b8c9116c6640a09b7",
       "version_major": 2,
       "version_minor": 0
      },
      "text/plain": [
       "Filter:   0%|          | 0/277 [00:00<?, ? examples/s]"
      ]
     },
     "metadata": {},
     "output_type": "display_data"
    },
    {
     "name": "stderr",
     "output_type": "stream",
     "text": [
      "/home/ec2-user/anaconda3/envs/pytorch_p310/lib/python3.10/site-packages/torch/nn/modules/module.py:1520: FutureWarning: `encoder_attention_mask` is deprecated and will be removed in version 4.55.0 for `RobertaSdpaSelfAttention.forward`.\n",
      "  return forward_call(*args, **kwargs)\n"
     ]
    },
    {
     "data": {
      "text/html": [],
      "text/plain": [
       "<IPython.core.display.HTML object>"
      ]
     },
     "metadata": {},
     "output_type": "display_data"
    },
    {
     "data": {
      "application/vnd.jupyter.widget-view+json": {
       "model_id": "3a1f4e339b4f4a8292f41a9ab1cdab3c",
       "version_major": 2,
       "version_minor": 0
      },
      "text/plain": [
       "Filter:   0%|          | 0/277 [00:00<?, ? examples/s]"
      ]
     },
     "metadata": {},
     "output_type": "display_data"
    },
    {
     "name": "stderr",
     "output_type": "stream",
     "text": [
      "/home/ec2-user/anaconda3/envs/pytorch_p310/lib/python3.10/site-packages/torch/nn/modules/module.py:1520: FutureWarning: `encoder_attention_mask` is deprecated and will be removed in version 4.55.0 for `RobertaSdpaSelfAttention.forward`.\n",
      "  return forward_call(*args, **kwargs)\n"
     ]
    },
    {
     "data": {
      "text/html": [],
      "text/plain": [
       "<IPython.core.display.HTML object>"
      ]
     },
     "metadata": {},
     "output_type": "display_data"
    },
    {
     "data": {
      "application/vnd.jupyter.widget-view+json": {
       "model_id": "814c87ad12d744d4bc42af4d42fd6363",
       "version_major": 2,
       "version_minor": 0
      },
      "text/plain": [
       "Filter:   0%|          | 0/277 [00:00<?, ? examples/s]"
      ]
     },
     "metadata": {},
     "output_type": "display_data"
    },
    {
     "data": {
      "application/vnd.jupyter.widget-view+json": {
       "model_id": "e7385151103742aea9eaf475b2e6d6fb",
       "version_major": 2,
       "version_minor": 0
      },
      "text/plain": [
       "Filter:   0%|          | 0/277 [00:00<?, ? examples/s]"
      ]
     },
     "metadata": {},
     "output_type": "display_data"
    },
    {
     "data": {
      "application/vnd.jupyter.widget-view+json": {
       "model_id": "7109f85bd9124cddb14a836594be84d7",
       "version_major": 2,
       "version_minor": 0
      },
      "text/plain": [
       "Filter:   0%|          | 0/277 [00:00<?, ? examples/s]"
      ]
     },
     "metadata": {},
     "output_type": "display_data"
    },
    {
     "name": "stderr",
     "output_type": "stream",
     "text": [
      "/home/ec2-user/anaconda3/envs/pytorch_p310/lib/python3.10/site-packages/torch/nn/modules/module.py:1520: FutureWarning: `encoder_attention_mask` is deprecated and will be removed in version 4.55.0 for `RobertaSdpaSelfAttention.forward`.\n",
      "  return forward_call(*args, **kwargs)\n"
     ]
    }
   ],
   "source": [
    "list_r_level = []\n",
    "\n",
    "# Assuming 'unique_t' is a list of unique item_ids and 'trainer' is already defined\n",
    "for l in unique_l:  # Iterate over the first item in unique_t\n",
    "    sub_ds = tokenized_valid.filter(lambda example: example['level_title'] == l)\n",
    "    # Get predictions using the trainer\n",
    "    predictions = trainer.predict(sub_ds)\n",
    "    # Raw output logits (size [batch_size, num_classes])\n",
    "    outputs = predictions.predictions\n",
    "    # Convert logits to predicted class labels (taking the argmax across the classes)\n",
    "    predicted_labels = np.argmax(outputs, axis=-1)\n",
    "    ref_label = predictions.label_ids\n",
    "    # Print or save the predicted classes (this will be a numpy array with the predicted class indices)\n",
    "    ck = round(cohen_kappa_score(predicted_labels, ref_label, weights=\"quadratic\"), 2)  \n",
    "    pearson_corr, _ = pearsonr(ref_label, predicted_labels)\n",
    "    accuracy = accuracy_score(ref_label, predicted_labels)\n",
    "    precision, recall, f1, _ = precision_recall_fscore_support(ref_label, predicted_labels, average=\"weighted\")\n",
    "\n",
    "    r = {\n",
    "        \"level_title\": sub_ds[\"level_title\"][0],\n",
    "        \"accuracy\": accuracy,\n",
    "        \"precision\": precision,\n",
    "        \"recall\": recall,\n",
    "        \"f1\": f1,\n",
    "        \"ck\": ck,\n",
    "        \"pearson\": pearson_corr,\n",
    "        \"n_samples\": len(sub_ds)\n",
    "    }\n",
    "    list_r_level.append(r)\n"
   ]
  },
  {
   "cell_type": "code",
   "execution_count": 96,
   "metadata": {},
   "outputs": [
    {
     "data": {
      "text/html": [
       "<div>\n",
       "<style scoped>\n",
       "    .dataframe tbody tr th:only-of-type {\n",
       "        vertical-align: middle;\n",
       "    }\n",
       "\n",
       "    .dataframe tbody tr th {\n",
       "        vertical-align: top;\n",
       "    }\n",
       "\n",
       "    .dataframe thead th {\n",
       "        text-align: right;\n",
       "    }\n",
       "</style>\n",
       "<table border=\"1\" class=\"dataframe\">\n",
       "  <thead>\n",
       "    <tr style=\"text-align: right;\">\n",
       "      <th></th>\n",
       "      <th>task_id</th>\n",
       "      <th>level_title</th>\n",
       "      <th>accuracy</th>\n",
       "      <th>precision</th>\n",
       "      <th>recall</th>\n",
       "      <th>f1</th>\n",
       "      <th>ck</th>\n",
       "      <th>pearson</th>\n",
       "      <th>n_samples</th>\n",
       "    </tr>\n",
       "  </thead>\n",
       "  <tbody>\n",
       "    <tr>\n",
       "      <th>0</th>\n",
       "      <td>493dffa9-7513-4408-be4b-5b010a1bf051</td>\n",
       "      <td>10-Upper Intermediate</td>\n",
       "      <td>0.333333</td>\n",
       "      <td>0.407407</td>\n",
       "      <td>0.333333</td>\n",
       "      <td>0.355556</td>\n",
       "      <td>0.37</td>\n",
       "      <td>0.497863</td>\n",
       "      <td>9</td>\n",
       "    </tr>\n",
       "    <tr>\n",
       "      <th>1</th>\n",
       "      <td>dcdc664b-404c-407a-99a6-b9a1f99a859a</td>\n",
       "      <td>7-Intermediate</td>\n",
       "      <td>0.363636</td>\n",
       "      <td>0.545455</td>\n",
       "      <td>0.363636</td>\n",
       "      <td>0.430303</td>\n",
       "      <td>0.81</td>\n",
       "      <td>0.837415</td>\n",
       "      <td>11</td>\n",
       "    </tr>\n",
       "    <tr>\n",
       "      <th>2</th>\n",
       "      <td>9032f3ed-5da1-4efe-b4dd-c9470bb35d65</td>\n",
       "      <td>16-Upper Advanced</td>\n",
       "      <td>0.666667</td>\n",
       "      <td>0.633333</td>\n",
       "      <td>0.666667</td>\n",
       "      <td>0.617284</td>\n",
       "      <td>0.84</td>\n",
       "      <td>0.847094</td>\n",
       "      <td>9</td>\n",
       "    </tr>\n",
       "    <tr>\n",
       "      <th>3</th>\n",
       "      <td>de7a1159-0c06-49bf-a273-7bdd195d6a32</td>\n",
       "      <td>11-Upper Intermediate</td>\n",
       "      <td>0.666667</td>\n",
       "      <td>0.740741</td>\n",
       "      <td>0.666667</td>\n",
       "      <td>0.698413</td>\n",
       "      <td>0.88</td>\n",
       "      <td>0.881818</td>\n",
       "      <td>9</td>\n",
       "    </tr>\n",
       "    <tr>\n",
       "      <th>4</th>\n",
       "      <td>fa1e732b-7698-4b57-85da-907fc3660ec3</td>\n",
       "      <td>2-Beginner</td>\n",
       "      <td>0.333333</td>\n",
       "      <td>0.222222</td>\n",
       "      <td>0.333333</td>\n",
       "      <td>0.250000</td>\n",
       "      <td>0.86</td>\n",
       "      <td>0.965908</td>\n",
       "      <td>6</td>\n",
       "    </tr>\n",
       "    <tr>\n",
       "      <th>5</th>\n",
       "      <td>b4ba34ff-949d-4a82-9f56-ea472f177a71</td>\n",
       "      <td>13-Advanced</td>\n",
       "      <td>0.363636</td>\n",
       "      <td>0.200000</td>\n",
       "      <td>0.363636</td>\n",
       "      <td>0.256494</td>\n",
       "      <td>0.74</td>\n",
       "      <td>0.824022</td>\n",
       "      <td>11</td>\n",
       "    </tr>\n",
       "    <tr>\n",
       "      <th>6</th>\n",
       "      <td>43d154ea-bd72-4b54-9339-7c12f992b56a</td>\n",
       "      <td>15-Advanced</td>\n",
       "      <td>0.500000</td>\n",
       "      <td>0.479167</td>\n",
       "      <td>0.500000</td>\n",
       "      <td>0.469048</td>\n",
       "      <td>0.67</td>\n",
       "      <td>0.712525</td>\n",
       "      <td>8</td>\n",
       "    </tr>\n",
       "    <tr>\n",
       "      <th>7</th>\n",
       "      <td>23c3d59a-61d5-470f-90d1-1217b0006929</td>\n",
       "      <td>10-Upper Intermediate</td>\n",
       "      <td>1.000000</td>\n",
       "      <td>1.000000</td>\n",
       "      <td>1.000000</td>\n",
       "      <td>1.000000</td>\n",
       "      <td>1.00</td>\n",
       "      <td>1.000000</td>\n",
       "      <td>8</td>\n",
       "    </tr>\n",
       "    <tr>\n",
       "      <th>8</th>\n",
       "      <td>8f1a0c16-d259-4737-af06-b6b6eb9e9799</td>\n",
       "      <td>13-Advanced</td>\n",
       "      <td>0.833333</td>\n",
       "      <td>0.833333</td>\n",
       "      <td>0.833333</td>\n",
       "      <td>0.833333</td>\n",
       "      <td>0.94</td>\n",
       "      <td>0.979796</td>\n",
       "      <td>6</td>\n",
       "    </tr>\n",
       "    <tr>\n",
       "      <th>9</th>\n",
       "      <td>2667a44c-a31b-4b3e-a33e-144d61884196</td>\n",
       "      <td>3-Beginner</td>\n",
       "      <td>0.375000</td>\n",
       "      <td>0.687500</td>\n",
       "      <td>0.375000</td>\n",
       "      <td>0.437500</td>\n",
       "      <td>0.84</td>\n",
       "      <td>0.926179</td>\n",
       "      <td>8</td>\n",
       "    </tr>\n",
       "  </tbody>\n",
       "</table>\n",
       "</div>"
      ],
      "text/plain": [
       "                                task_id            level_title  accuracy  \\\n",
       "0  493dffa9-7513-4408-be4b-5b010a1bf051  10-Upper Intermediate  0.333333   \n",
       "1  dcdc664b-404c-407a-99a6-b9a1f99a859a         7-Intermediate  0.363636   \n",
       "2  9032f3ed-5da1-4efe-b4dd-c9470bb35d65      16-Upper Advanced  0.666667   \n",
       "3  de7a1159-0c06-49bf-a273-7bdd195d6a32  11-Upper Intermediate  0.666667   \n",
       "4  fa1e732b-7698-4b57-85da-907fc3660ec3             2-Beginner  0.333333   \n",
       "5  b4ba34ff-949d-4a82-9f56-ea472f177a71            13-Advanced  0.363636   \n",
       "6  43d154ea-bd72-4b54-9339-7c12f992b56a            15-Advanced  0.500000   \n",
       "7  23c3d59a-61d5-470f-90d1-1217b0006929  10-Upper Intermediate  1.000000   \n",
       "8  8f1a0c16-d259-4737-af06-b6b6eb9e9799            13-Advanced  0.833333   \n",
       "9  2667a44c-a31b-4b3e-a33e-144d61884196             3-Beginner  0.375000   \n",
       "\n",
       "   precision    recall        f1    ck   pearson  n_samples  \n",
       "0   0.407407  0.333333  0.355556  0.37  0.497863          9  \n",
       "1   0.545455  0.363636  0.430303  0.81  0.837415         11  \n",
       "2   0.633333  0.666667  0.617284  0.84  0.847094          9  \n",
       "3   0.740741  0.666667  0.698413  0.88  0.881818          9  \n",
       "4   0.222222  0.333333  0.250000  0.86  0.965908          6  \n",
       "5   0.200000  0.363636  0.256494  0.74  0.824022         11  \n",
       "6   0.479167  0.500000  0.469048  0.67  0.712525          8  \n",
       "7   1.000000  1.000000  1.000000  1.00  1.000000          8  \n",
       "8   0.833333  0.833333  0.833333  0.94  0.979796          6  \n",
       "9   0.687500  0.375000  0.437500  0.84  0.926179          8  "
      ]
     },
     "execution_count": 96,
     "metadata": {},
     "output_type": "execute_result"
    }
   ],
   "source": [
    "import pandas as pd\n",
    "df_eval_results = pd.DataFrame(list_r, columns=[\"task_id\", \"level_title\", \"accuracy\", \"precision\", \"recall\", \"f1\", \"ck\", \"pearson\", \"n_samples\"])\n",
    "df_eval_results.head(n=10)"
   ]
  },
  {
   "cell_type": "code",
   "execution_count": 97,
   "metadata": {},
   "outputs": [],
   "source": [
    "df_eval_results.to_csv(\"result_eval_data_roberta_large_writing_task_acc_sample.csv\", index=False)"
   ]
  },
  {
   "cell_type": "code",
   "execution_count": 98,
   "metadata": {},
   "outputs": [
    {
     "data": {
      "text/html": [
       "<div>\n",
       "<style scoped>\n",
       "    .dataframe tbody tr th:only-of-type {\n",
       "        vertical-align: middle;\n",
       "    }\n",
       "\n",
       "    .dataframe tbody tr th {\n",
       "        vertical-align: top;\n",
       "    }\n",
       "\n",
       "    .dataframe thead th {\n",
       "        text-align: right;\n",
       "    }\n",
       "</style>\n",
       "<table border=\"1\" class=\"dataframe\">\n",
       "  <thead>\n",
       "    <tr style=\"text-align: right;\">\n",
       "      <th></th>\n",
       "      <th>level_title</th>\n",
       "      <th>accuracy</th>\n",
       "      <th>precision</th>\n",
       "      <th>recall</th>\n",
       "      <th>f1</th>\n",
       "      <th>ck</th>\n",
       "      <th>pearson</th>\n",
       "      <th>n_samples</th>\n",
       "    </tr>\n",
       "  </thead>\n",
       "  <tbody>\n",
       "    <tr>\n",
       "      <th>0</th>\n",
       "      <td>10-Upper Intermediate</td>\n",
       "      <td>0.647059</td>\n",
       "      <td>0.666667</td>\n",
       "      <td>0.647059</td>\n",
       "      <td>0.653119</td>\n",
       "      <td>0.63</td>\n",
       "      <td>0.679126</td>\n",
       "      <td>17</td>\n",
       "    </tr>\n",
       "    <tr>\n",
       "      <th>1</th>\n",
       "      <td>12-Upper Intermediate</td>\n",
       "      <td>1.000000</td>\n",
       "      <td>1.000000</td>\n",
       "      <td>1.000000</td>\n",
       "      <td>1.000000</td>\n",
       "      <td>1.00</td>\n",
       "      <td>1.000000</td>\n",
       "      <td>19</td>\n",
       "    </tr>\n",
       "    <tr>\n",
       "      <th>2</th>\n",
       "      <td>16-Upper Advanced</td>\n",
       "      <td>0.842105</td>\n",
       "      <td>0.872180</td>\n",
       "      <td>0.842105</td>\n",
       "      <td>0.834308</td>\n",
       "      <td>0.89</td>\n",
       "      <td>0.887413</td>\n",
       "      <td>19</td>\n",
       "    </tr>\n",
       "    <tr>\n",
       "      <th>3</th>\n",
       "      <td>15-Advanced</td>\n",
       "      <td>0.777778</td>\n",
       "      <td>0.736953</td>\n",
       "      <td>0.777778</td>\n",
       "      <td>0.750265</td>\n",
       "      <td>0.84</td>\n",
       "      <td>0.854543</td>\n",
       "      <td>18</td>\n",
       "    </tr>\n",
       "    <tr>\n",
       "      <th>4</th>\n",
       "      <td>11-Upper Intermediate</td>\n",
       "      <td>0.650000</td>\n",
       "      <td>0.607143</td>\n",
       "      <td>0.650000</td>\n",
       "      <td>0.626923</td>\n",
       "      <td>0.88</td>\n",
       "      <td>0.903542</td>\n",
       "      <td>20</td>\n",
       "    </tr>\n",
       "    <tr>\n",
       "      <th>5</th>\n",
       "      <td>2-Beginner</td>\n",
       "      <td>0.647059</td>\n",
       "      <td>0.869748</td>\n",
       "      <td>0.647059</td>\n",
       "      <td>0.663000</td>\n",
       "      <td>0.77</td>\n",
       "      <td>0.794838</td>\n",
       "      <td>17</td>\n",
       "    </tr>\n",
       "    <tr>\n",
       "      <th>6</th>\n",
       "      <td>3-Beginner</td>\n",
       "      <td>0.625000</td>\n",
       "      <td>0.739583</td>\n",
       "      <td>0.625000</td>\n",
       "      <td>0.649242</td>\n",
       "      <td>0.95</td>\n",
       "      <td>0.957737</td>\n",
       "      <td>16</td>\n",
       "    </tr>\n",
       "    <tr>\n",
       "      <th>7</th>\n",
       "      <td>4-Elementary</td>\n",
       "      <td>0.833333</td>\n",
       "      <td>0.869444</td>\n",
       "      <td>0.833333</td>\n",
       "      <td>0.819400</td>\n",
       "      <td>0.75</td>\n",
       "      <td>0.732632</td>\n",
       "      <td>18</td>\n",
       "    </tr>\n",
       "    <tr>\n",
       "      <th>8</th>\n",
       "      <td>8-Intermediate</td>\n",
       "      <td>0.625000</td>\n",
       "      <td>0.504167</td>\n",
       "      <td>0.625000</td>\n",
       "      <td>0.554167</td>\n",
       "      <td>0.49</td>\n",
       "      <td>0.492524</td>\n",
       "      <td>16</td>\n",
       "    </tr>\n",
       "    <tr>\n",
       "      <th>9</th>\n",
       "      <td>14-Advanced</td>\n",
       "      <td>0.750000</td>\n",
       "      <td>0.900000</td>\n",
       "      <td>0.750000</td>\n",
       "      <td>0.786190</td>\n",
       "      <td>0.94</td>\n",
       "      <td>0.963761</td>\n",
       "      <td>20</td>\n",
       "    </tr>\n",
       "    <tr>\n",
       "      <th>10</th>\n",
       "      <td>7-Intermediate</td>\n",
       "      <td>0.521739</td>\n",
       "      <td>0.544928</td>\n",
       "      <td>0.521739</td>\n",
       "      <td>0.527260</td>\n",
       "      <td>0.89</td>\n",
       "      <td>0.900612</td>\n",
       "      <td>23</td>\n",
       "    </tr>\n",
       "    <tr>\n",
       "      <th>11</th>\n",
       "      <td>5-Elementary</td>\n",
       "      <td>0.560000</td>\n",
       "      <td>0.512444</td>\n",
       "      <td>0.560000</td>\n",
       "      <td>0.526458</td>\n",
       "      <td>0.84</td>\n",
       "      <td>0.893280</td>\n",
       "      <td>25</td>\n",
       "    </tr>\n",
       "    <tr>\n",
       "      <th>12</th>\n",
       "      <td>13-Advanced</td>\n",
       "      <td>0.529412</td>\n",
       "      <td>0.398693</td>\n",
       "      <td>0.529412</td>\n",
       "      <td>0.448529</td>\n",
       "      <td>0.85</td>\n",
       "      <td>0.895942</td>\n",
       "      <td>17</td>\n",
       "    </tr>\n",
       "    <tr>\n",
       "      <th>13</th>\n",
       "      <td>9-Intermediate</td>\n",
       "      <td>0.500000</td>\n",
       "      <td>0.503968</td>\n",
       "      <td>0.500000</td>\n",
       "      <td>0.456397</td>\n",
       "      <td>0.78</td>\n",
       "      <td>0.780885</td>\n",
       "      <td>18</td>\n",
       "    </tr>\n",
       "    <tr>\n",
       "      <th>14</th>\n",
       "      <td>6-Elementary</td>\n",
       "      <td>0.571429</td>\n",
       "      <td>0.487245</td>\n",
       "      <td>0.571429</td>\n",
       "      <td>0.485261</td>\n",
       "      <td>0.92</td>\n",
       "      <td>0.960324</td>\n",
       "      <td>14</td>\n",
       "    </tr>\n",
       "  </tbody>\n",
       "</table>\n",
       "</div>"
      ],
      "text/plain": [
       "              level_title  accuracy  precision    recall        f1    ck  \\\n",
       "0   10-Upper Intermediate  0.647059   0.666667  0.647059  0.653119  0.63   \n",
       "1   12-Upper Intermediate  1.000000   1.000000  1.000000  1.000000  1.00   \n",
       "2       16-Upper Advanced  0.842105   0.872180  0.842105  0.834308  0.89   \n",
       "3             15-Advanced  0.777778   0.736953  0.777778  0.750265  0.84   \n",
       "4   11-Upper Intermediate  0.650000   0.607143  0.650000  0.626923  0.88   \n",
       "5              2-Beginner  0.647059   0.869748  0.647059  0.663000  0.77   \n",
       "6              3-Beginner  0.625000   0.739583  0.625000  0.649242  0.95   \n",
       "7            4-Elementary  0.833333   0.869444  0.833333  0.819400  0.75   \n",
       "8          8-Intermediate  0.625000   0.504167  0.625000  0.554167  0.49   \n",
       "9             14-Advanced  0.750000   0.900000  0.750000  0.786190  0.94   \n",
       "10         7-Intermediate  0.521739   0.544928  0.521739  0.527260  0.89   \n",
       "11           5-Elementary  0.560000   0.512444  0.560000  0.526458  0.84   \n",
       "12            13-Advanced  0.529412   0.398693  0.529412  0.448529  0.85   \n",
       "13         9-Intermediate  0.500000   0.503968  0.500000  0.456397  0.78   \n",
       "14           6-Elementary  0.571429   0.487245  0.571429  0.485261  0.92   \n",
       "\n",
       "     pearson  n_samples  \n",
       "0   0.679126         17  \n",
       "1   1.000000         19  \n",
       "2   0.887413         19  \n",
       "3   0.854543         18  \n",
       "4   0.903542         20  \n",
       "5   0.794838         17  \n",
       "6   0.957737         16  \n",
       "7   0.732632         18  \n",
       "8   0.492524         16  \n",
       "9   0.963761         20  \n",
       "10  0.900612         23  \n",
       "11  0.893280         25  \n",
       "12  0.895942         17  \n",
       "13  0.780885         18  \n",
       "14  0.960324         14  "
      ]
     },
     "execution_count": 98,
     "metadata": {},
     "output_type": "execute_result"
    }
   ],
   "source": [
    "import pandas as pd\n",
    "df_eval_results_level = pd.DataFrame(list_r_level, columns=[\"level_title\", \"accuracy\", \"precision\", \"recall\", \"f1\", \"ck\", \"pearson\", \"n_samples\"])\n",
    "df_eval_results_level.head(n=20)"
   ]
  },
  {
   "cell_type": "code",
   "execution_count": 99,
   "metadata": {},
   "outputs": [],
   "source": [
    "df_eval_results_level.to_csv(\"result_eval_data_roberta_large_acc_sample_by_level.csv\", index=False)"
   ]
  }
 ],
 "metadata": {
  "kernelspec": {
   "display_name": "pytorch_p310",
   "language": "python",
   "name": "python3"
  },
  "language_info": {
   "codemirror_mode": {
    "name": "ipython",
    "version": 3
   },
   "file_extension": ".py",
   "mimetype": "text/x-python",
   "name": "python",
   "nbconvert_exporter": "python",
   "pygments_lexer": "ipython3",
   "version": "3.10.14"
  },
  "orig_nbformat": 4
 },
 "nbformat": 4,
 "nbformat_minor": 2
}
