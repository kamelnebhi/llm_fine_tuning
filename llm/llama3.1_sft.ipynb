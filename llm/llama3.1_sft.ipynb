{
 "cells": [
  {
   "attachments": {},
   "cell_type": "markdown",
   "metadata": {},
   "source": [
    "## Fine tune a llama3 model with m-a-p/Code-Feedback"
   ]
  },
  {
   "attachments": {},
   "cell_type": "markdown",
   "metadata": {},
   "source": [
    "### Setup\n",
    "Let's start by installing all the lib we need to do supervised fine-tuning. We're going to use\n",
    "\n",
    "Transformers for the LLM which we're going to fine-tune\n",
    "Datasets for loading a SFT dataset from the hub, and preparing it for the model\n",
    "BitsandBytes and PEFT for fine-tuning the model on consumer hardware, leveraging Q-LoRa, a technique which drastically reduces the compute requirements for fine-tuning\n",
    "TRL, a library which includes useful Trainer classes for LLM fine-tuning."
   ]
  },
  {
   "cell_type": "code",
   "execution_count": null,
   "metadata": {},
   "outputs": [],
   "source": [
    "#!pip install -q transformers[torch] datasets\n",
    "#!pip install -q bitsandbytes trl peft\n",
    "#!pip install flash-attn --no-build-isolation"
   ]
  },
  {
   "cell_type": "code",
   "execution_count": null,
   "metadata": {},
   "outputs": [],
   "source": [
    "import torch\n",
    "torch.cuda.empty_cache()"
   ]
  },
  {
   "attachments": {},
   "cell_type": "markdown",
   "metadata": {},
   "source": [
    "### Load Data + Preprocessing\n",
    "The dataset contains various splits, each with a certain number of rows. In our case, as we're going to do supervised fine-tuning (SFT), only the \"train_sft\" and \"test_sft\" splits are relevant for us.\n"
   ]
  },
  {
   "cell_type": "code",
   "execution_count": null,
   "metadata": {},
   "outputs": [],
   "source": [
    "from datasets import load_dataset, DatasetDict"
   ]
  },
  {
   "cell_type": "code",
   "execution_count": null,
   "metadata": {},
   "outputs": [],
   "source": [
    "# load data from s3 bucket\n",
    "import boto3\n",
    "import sagemaker\n",
    "\n",
    "region_name = 'eu-central-1'\n",
    "\n",
    "session = boto3.Session(region_name=region_name)\n",
    "s3_sess = session.client('s3')\n",
    "sm_session = sagemaker.Session(boto_session=session)"
   ]
  },
  {
   "cell_type": "code",
   "execution_count": null,
   "metadata": {},
   "outputs": [],
   "source": [
    "training_input_path = f's3://{sm_session.default_bucket()}/datasets/writing_accuracy_dataset/train_dataset.json'\n",
    "# define a data input dictonary with our uploaded s3 uris\n",
    "data = {'training': training_input_path}\n",
    "\n",
    "data"
   ]
  },
  {
   "cell_type": "code",
   "execution_count": null,
   "metadata": {},
   "outputs": [],
   "source": [
    "raw_dataset = load_dataset(\n",
    "        \"json\",\n",
    "        data_files=data\n",
    "    )\n",
    "raw_dataset"
   ]
  },
  {
   "cell_type": "code",
   "execution_count": null,
   "metadata": {},
   "outputs": [],
   "source": [
    "indices_1 = range(0,7000)\n",
    "indices_2 = range(7001,7527)\n",
    "dataset_dict = {\n",
    "    \"train\": raw_dataset[\"training\"].select(indices_1),\n",
    "    \"test\": raw_dataset[\"training\"].select(indices_2)\n",
    "}\n",
    "raw_dataset = DatasetDict(dataset_dict)\n",
    "raw_dataset"
   ]
  },
  {
   "attachments": {},
   "cell_type": "markdown",
   "metadata": {},
   "source": [
    "#### Tokenizer\n",
    "Next, we instantiate the tokenizer, which is required to prepare the text for the model. The model doesn't directly take strings as input, but rather input_ids, which represent integer indices in the vocabulary of a Transformer model. \n",
    "\n",
    "We also set some attributes which the tokenizer of a base model typically doesn't have set, such as:\n",
    "\n",
    "- the padding token ID. During pre-training, one doesn't need to pad since one just creates blocks of text to predict the next token, but during fine-tuning, we will need to pad the (instruction, completion) pairs in order to create batches of equal length.\n",
    "- the model max length: this is required in order to truncate sequences which are too long for the model. Here we decide to train on at most 2048 tokens.\n",
    "- the chat template. A chat template determines how each list of messages is turned into a tokenizable string, by adding special strings in between such as <|user|> to indicate a user message and <|assistant|> to indicate the chatbot's response. Here we define the default chat template, used by most chat models. See also the docs."
   ]
  },
  {
   "cell_type": "code",
   "execution_count": null,
   "metadata": {},
   "outputs": [],
   "source": [
    "from transformers import AutoTokenizer\n",
    "from huggingface_hub import login"
   ]
  },
  {
   "cell_type": "code",
   "execution_count": null,
   "metadata": {},
   "outputs": [],
   "source": [
    "model_id = \"meta-llama/Meta-Llama-3.1-8B-Instruct\""
   ]
  },
  {
   "cell_type": "code",
   "execution_count": null,
   "metadata": {},
   "outputs": [],
   "source": [
    "tokenizer = AutoTokenizer.from_pretrained(model_id)\n",
    "\n",
    "# set pad_token_id equal to the eos_token_id if not set\n",
    "if tokenizer.pad_token_id is None:\n",
    "  tokenizer.pad_token_id = tokenizer.eos_token_id\n",
    "\n",
    "# Set reasonable default for models without max length\n",
    "if tokenizer.model_max_length > 100_000:\n",
    "  tokenizer.model_max_length = 2048"
   ]
  },
  {
   "cell_type": "code",
   "execution_count": null,
   "metadata": {},
   "outputs": [],
   "source": [
    "# use default template of instruct model\n",
    "tokenizer.chat_template"
   ]
  },
  {
   "cell_type": "markdown",
   "metadata": {},
   "source": [
    "#### Apply chat template\n",
    "Once we have equipped the tokenizer with the appropriate attributes, it's time to apply the chat template to each list of messages. Here we basically turn each list of (instruction, completion) messages into a tokenizable string for the model.\n",
    "\n",
    "Note that we specify tokenize=False here, since the SFTTrainer which we'll define later on will perform the tokenization internally. Here we only turn the list of messages into strings with the same format."
   ]
  },
  {
   "cell_type": "code",
   "execution_count": null,
   "metadata": {},
   "outputs": [],
   "source": [
    "import re\n",
    "import random\n",
    "from multiprocessing import cpu_count\n",
    "\n",
    "def apply_chat_template(example, tokenizer):\n",
    "    messages = example[\"messages\"]\n",
    "    # We add an empty system message if there is none\n",
    "    if messages[0][\"role\"] != \"system\":\n",
    "        messages.insert(0, {\"role\": \"system\", \"content\": \"\"})\n",
    "    example[\"text\"] = tokenizer.apply_chat_template(messages, tokenize=False)\n",
    "\n",
    "    return example"
   ]
  },
  {
   "cell_type": "code",
   "execution_count": null,
   "metadata": {},
   "outputs": [],
   "source": [
    "column_names = list(raw_dataset[\"train\"].features)\n",
    "column_names"
   ]
  },
  {
   "cell_type": "code",
   "execution_count": null,
   "metadata": {},
   "outputs": [],
   "source": [
    "# applies the apply_chat_template function to each element in raw_dataset using multiple CPU cores, passing a tokenizer and removing specified columns, with a progress description.\n",
    "raw_dataset = raw_dataset.map(apply_chat_template,\n",
    "                                num_proc=cpu_count(),\n",
    "                                fn_kwargs={\"tokenizer\": tokenizer},\n",
    "                                remove_columns=column_names,\n",
    "                                desc=\"Applying chat template\")"
   ]
  },
  {
   "cell_type": "code",
   "execution_count": null,
   "metadata": {},
   "outputs": [],
   "source": [
    "train_data = raw_dataset[\"train\"]\n",
    "test_data = raw_dataset[\"test\"]\n",
    "\n",
    "for index in random.sample(range(len(raw_dataset[\"train\"])), 3):\n",
    "  print(f\"Sample {index} of the processed training set:\\n\\n{raw_dataset['train'][index]['text']}\")\n",
    "  "
   ]
  },
  {
   "attachments": {},
   "cell_type": "markdown",
   "metadata": {},
   "source": [
    "### Model Definition\n",
    "\n",
    "With regular LoRa, one would keep the base model in 32 or 16 bits in memory, and then train the parameter weights. However, there have been new methods developed to shrink the size of a model considerably, to 8 or 4 bits per parameter (we call this \"quantization\"). Hence, if we apply LoRa to a quantized model (like a 4-bit model), then we call this QLoRa. We have a blog post that tells you all about it. There are various quantization methods available, here we're going to use the BitsandBytes integration.\n",
    "\n"
   ]
  },
  {
   "cell_type": "code",
   "execution_count": null,
   "metadata": {},
   "outputs": [],
   "source": [
    "# QloRa SFT\n",
    "from transformers import BitsAndBytesConfig\n",
    "import torch\n",
    "\n",
    "quant_config = BitsAndBytesConfig(\n",
    "    load_in_4bit=True,  # Load the model with 4-bit precision to reduce memory usage.\n",
    "    bnb_4bit_quant_type=\"nf4\",  # Use the \"nf4\" quantization type for 4-bit precision.\n",
    "    bnb_4bit_compute_dtype=torch.bfloat16  # Perform computations using the bfloat16 data type.\n",
    ")\n",
    "\n",
    "device_map = {\"\": torch.cuda.current_device()} if torch.cuda.is_available() else None\n",
    "device_map"
   ]
  },
  {
   "cell_type": "code",
   "execution_count": null,
   "metadata": {},
   "outputs": [],
   "source": [
    "model_kwargs = dict(\n",
    "    #attnt_implementation=True,  # (Commented out) Use a specific attention implementation.\n",
    "    torch_dtype=\"auto\",  # Automatically choose the appropriate torch data type (e.g., float32, float16).\n",
    "    use_cache=False,  # Disable caching to save memory since gradient checkpointing is used.\n",
    "    device_map=device_map,  # Map model layers to specific devices (e.g., GPUs).\n",
    "    quantization_config=quant_config.to_dict()  # Apply model quantization settings by converting them to a dictionary.\n",
    ")"
   ]
  },
  {
   "attachments": {},
   "cell_type": "markdown",
   "metadata": {},
   "source": [
    "### SFT Trainer\n",
    "\n",
    "Next, we define the SFTTrainer available in the TRL library. This class inherits from the Trainer class available in the Transformers library, but is specifically optimized for supervised fine-tuning (instruction tuning). It can be used to train out-of-the-box on one or more GPUs, using Accelerate as backend.\n",
    "\n",
    "Most notably, it supports packing, where multiple short examples are packed in the same input sequence to increase training efficiency.\n",
    "\n",
    "As we're going to use QLoRa, the PEFT library provides a handy LoraConfig which defines on which layers of the base model to apply the adapters. One typically applies LoRa on the linear projection matrices of the attention layers of a Transformer. We then provide this configuration to the SFTTrainer class. The weights of the base model will be loaded as we specify the model_id (this requires some time).\n",
    "\n",
    "We also specify various hyperparameters regarding training, such as:\n",
    "\n",
    "- we're going to fine-tune for 1 epoch\n",
    "- the learning rate and its scheduler\n",
    "- we're going to use gradient checkpointing (yet another way to save memory during training)\n",
    "- and so on."
   ]
  },
  {
   "cell_type": "code",
   "execution_count": null,
   "metadata": {},
   "outputs": [],
   "source": [
    "from trl import SFTTrainer, SFTConfig\n",
    "from peft import LoraConfig\n",
    "from transformers import TrainingArguments"
   ]
  },
  {
   "cell_type": "code",
   "execution_count": null,
   "metadata": {},
   "outputs": [],
   "source": [
    "output_dir = \"../../model_saved/llama3.1_accuracy_writing-gen-8B\""
   ]
  },
  {
   "cell_type": "code",
   "execution_count": null,
   "metadata": {},
   "outputs": [],
   "source": [
    "# based on config\n",
    "training_args = TrainingArguments(\n",
    "    fp16=True,  # Use 16-bit floating point precision (faster and less memory).\n",
    "    do_eval=True,  # Perform evaluation during training.\n",
    "    eval_strategy=\"epoch\",  # Evaluate the model at the end of each training epoch.\n",
    "    gradient_accumulation_steps=128,  # Accumulate gradients over 128 steps before updating weights.\n",
    "    gradient_checkpointing=True,  # Save memory by not storing intermediate activations.\n",
    "    gradient_checkpointing_kwargs={\"use_reentrant\": False},  # Disable reentrant autograd for gradient checkpointing.\n",
    "    learning_rate=2.0e-05,  # Set the learning rate for the optimizer.\n",
    "    log_level=\"info\",  # Set the level of detail for logging information.\n",
    "    logging_steps=5,  # Log information every 5 steps.\n",
    "    logging_strategy=\"steps\",  # Log based on steps, not epochs.\n",
    "    lr_scheduler_type=\"cosine\",  # Use a cosine schedule to adjust the learning rate.\n",
    "    max_steps=-1,  # Train indefinitely unless a stopping criterion is met.\n",
    "    num_train_epochs=2,  # Train for 1 full epoch.\n",
    "    output_dir=output_dir,  # Directory to save training outputs and checkpoints.\n",
    "    overwrite_output_dir=True,  # Overwrite the output directory if it exists.\n",
    "    per_device_eval_batch_size=1,  # Use a batch size of 1 per device for evaluation (previously set to 8).\n",
    "    per_device_train_batch_size=1,  # Use a batch size of 1 per device for training (previously set to 8).\n",
    "    save_strategy=\"no\",  # Don't save model checkpoints during training.\n",
    "    save_total_limit=None,  # No limit on the number of checkpoints saved.\n",
    "    seed=42,  # Set the random seed for reproducibility.\n",
    ")\n",
    "\n",
    "# based on config\n",
    "peft_config = LoraConfig(\n",
    "    r=64,  # Set the rank for the LoRA (low-rank adaptation) matrices.\n",
    "    lora_alpha=16,  # Scaling factor for the LoRA updates.\n",
    "    lora_dropout=0.1,  # Apply dropout with a probability of 0.1 to LoRA layers.\n",
    "    bias=\"none\",  # No additional bias terms are added in the LoRA layers.\n",
    "    task_type=\"CAUSAL_LM\",  # Specify the task type as causal language modeling.\n",
    "    target_modules=[\"q_proj\", \"k_proj\", \"v_proj\", \"o_proj\"],  # Apply LoRA to these specific model modules.\n",
    ")"
   ]
  },
  {
   "cell_type": "code",
   "execution_count": null,
   "metadata": {},
   "outputs": [],
   "source": [
    "trainer = SFTTrainer(\n",
    "    model=model_id,  # Use the specified model ID for training.\n",
    "    model_init_kwargs=model_kwargs,  # Pass in model initialization arguments (like device mapping and dtype).\n",
    "    args=training_args,  # Apply the defined training arguments (e.g., learning rate, batch size).\n",
    "    train_dataset=train_data,  # Use the provided dataset for training.\n",
    "    eval_dataset=test_data,  # Use the provided dataset for evaluation.\n",
    "    dataset_text_field=\"text\",  # Specify the field containing text data in the datasets.\n",
    "    tokenizer=tokenizer,  # Use the specified tokenizer for preprocessing the text data.\n",
    "    packing=True,  # Enable sequence packing to maximize training efficiency.\n",
    "    peft_config=peft_config,  # Apply the specified parameter-efficient fine-tuning (PEFT) configuration.\n",
    "    max_seq_length=tokenizer.model_max_length,  # Set the maximum sequence length for the model based on the tokenizer's max length.\n",
    ")"
   ]
  },
  {
   "cell_type": "code",
   "execution_count": null,
   "metadata": {},
   "outputs": [],
   "source": [
    "train_result = trainer.train()"
   ]
  },
  {
   "cell_type": "markdown",
   "metadata": {},
   "source": [
    "### Saving Model"
   ]
  },
  {
   "cell_type": "code",
   "execution_count": null,
   "metadata": {},
   "outputs": [],
   "source": [
    "metrics = train_result.metrics\n",
    "max_train_samples = 100\n",
    "metrics[\"train_samples\"] = min(max_train_samples, len(train_data))\n",
    "trainer.log_metrics(\"train\", metrics)\n",
    "trainer.save_metrics(\"train\", metrics)\n",
    "trainer.save_state()\n",
    "trainer.save_model(training_args.output_dir)"
   ]
  },
  {
   "cell_type": "code",
   "execution_count": null,
   "metadata": {},
   "outputs": [],
   "source": [
    "# save to s3 bucket\n",
    "# Define your S3 bucket name and key (path in the bucket)\n",
    "bucket_name = 'sagemaker-eu-central-1-505049265445'\n",
    "model_s3_key = 'models/llama3.1_accuracy_writing-gen-8B'  # Adjust the path and model name\n",
    "\n",
    "# Upload all files from the output directory to the S3 bucket\n",
    "import os\n",
    "\n",
    "for root, dirs, files in os.walk(output_dir):\n",
    "    for file in files:\n",
    "        # Construct the full local file path\n",
    "        local_file_path = os.path.join(root, file)\n",
    "        \n",
    "        # Construct the full S3 path\n",
    "        s3_file_path = os.path.join(model_s3_key, os.path.relpath(local_file_path, output_dir))\n",
    "        \n",
    "        # Upload the file\n",
    "        s3_sess.upload_file(local_file_path, bucket_name, s3_file_path)\n",
    "        print(f\"Uploaded {local_file_path} to s3://{bucket_name}/{s3_file_path}\")"
   ]
  },
  {
   "cell_type": "markdown",
   "metadata": {},
   "source": [
    "### Inference"
   ]
  },
  {
   "cell_type": "code",
   "execution_count": null,
   "metadata": {},
   "outputs": [],
   "source": [
    "from transformers import AutoTokenizer, AutoModelForCausalLM\n",
    "\n",
    "output_dir = \"../../model_saved/llama3.1_accuracy_writing-gen-8B\"\n",
    "\n",
    "tokenizer = AutoTokenizer.from_pretrained(output_dir)\n",
    "model = AutoModelForCausalLM.from_pretrained(output_dir, load_in_4bit=True, device_map=\"auto\")"
   ]
  },
  {
   "cell_type": "code",
   "execution_count": null,
   "metadata": {},
   "outputs": [],
   "source": [
    "import torch\n",
    "\n",
    "# We use the tokenizer's chat template to format each message\n",
    "#messages = [\n",
    "#    {   \n",
    "#        \"role\": \"user\", \"content\": \"Answer the following prompt: 'What did you do during your last vacation?' with a level of accuracy 6\"\n",
    "#    },\n",
    "#]\n",
    "messages = [{\"content\":\"You will evaluate a student's response to a question, focusing on their grammatical accuracy in their second language. \\nYour role is that of an English teacher assessing the student's ability to use grammatical structures \\/ sentence patterns correctly. \\nThe scoring criteria range from 1 to 6, with each level representing increasing proficiency in grammatical structures.\\n\\nHere is the scale you should use to build your answer:\\n1: The student_answer has frequent and noticeable Errors: The student makes frequent and noticeable errors in grammar, significantly impeding intelligibility.\\n2: The student_answer has basic Control with consistent errors: The student demonstrates control over simple grammatical structures but makes consistent basic errors that often impede intelligibility.\\n3: The student_answer has control with some errors: The student demonstrates control over common grammatical structures, although occasional errors impede intelligibility.\\n4: The student_answer has fair control with infrequent errors: The student demonstrates control over a variety of grammatical structures, with noticeable errors made infrequently. These errors do not significantly impede intelligibility, and there may be some self-correction.\\n5: The student_answer has high control with rare errors: The student demonstrates a high level of control over a variety of grammatical structures, with errors rarely made. However, there might be noticeable errors that occasionally impede intelligibility, and self-correction may be inconsistent.\\n6: The student_answer has advanced control with rare errors: The student demonstrates advanced control over a variety of grammatical structures, even when engaged in other activities. Errors are rarely noticeable, and there is consistent evidence of self-correction.\\n\",\"role\":\"system\"},\n",
    "            {\"content\":\"Answer the following prompt: 'What did you do during your last vacation?' with a level of accuracy 1\",\"role\":\"user\"},\n",
    "          ]\n",
    "\n",
    "\n",
    "#DEFAULT_CHAT_TEMPLATE = \"{% for message in messages %}\\n{% if message['role'] == 'user' %}\\n{{ '\\n' + message['content'] + eos_token }}\\n{% elif message['role'] == 'system' %}\\n{{ '\\n' + message['content'] + eos_token }}\\n{% elif message['role'] == 'assistant' %}\\n{{ '\\n'  + message['content'] + eos_token }}\\n{% endif %}\\n{% if loop.last and add_generation_prompt %}\\n{{ '' }}\\n{% endif %}\\n{% endfor %}\"\n",
    "#tokenizer.chat_template = DEFAULT_CHAT_TEMPLATE\n",
    "\n",
    "# Prepare the messages for the model\n",
    "input_ids = tokenizer.apply_chat_template(messages, truncation=True, add_generation_prompt=True, return_tensors=\"pt\").to(\"cuda\")\n",
    "\n",
    "# Ensure input_ids are valid\n",
    "#print(\"Input IDs:\", input_ids)\n",
    "\n",
    "# Inference with model output checks\n",
    "outputs = model.generate(\n",
    "        input_ids=input_ids,\n",
    "        max_new_tokens=256,\n",
    "        do_sample=True,\n",
    "        temperature=1.0,  # Adjusted for stability\n",
    "        top_k=2,\n",
    "        top_p=0.9,\n",
    "        return_dict_in_generate=True,\n",
    "        output_scores=True\n",
    ")\n",
    "\n",
    "# Decode the generated output\n",
    "decoded_output = tokenizer.batch_decode(outputs['sequences'], skip_special_tokens=True)[0]\n",
    "print(decoded_output)\n"
   ]
  }
 ],
 "metadata": {
  "kernelspec": {
   "display_name": "pytorch_p310",
   "language": "python",
   "name": "python3"
  },
  "language_info": {
   "codemirror_mode": {
    "name": "ipython",
    "version": 3
   },
   "file_extension": ".py",
   "mimetype": "text/x-python",
   "name": "python",
   "nbconvert_exporter": "python",
   "pygments_lexer": "ipython3",
   "version": "3.10.14"
  },
  "orig_nbformat": 4
 },
 "nbformat": 4,
 "nbformat_minor": 2
}
