{
 "cells": [
  {
   "attachments": {},
   "cell_type": "markdown",
   "metadata": {},
   "source": [
    "## Fine tune a llama3.1 model with sagemaker"
   ]
  },
  {
   "attachments": {},
   "cell_type": "markdown",
   "metadata": {},
   "source": [
    "### Setup\n",
    "Let's start by installing all the lib we need to do supervised fine-tuning. We're going to use\n",
    "\n",
    "Transformers for the LLM which we're going to fine-tune\n",
    "Datasets for loading a SFT dataset from the hub, and preparing it for the model\n",
    "BitsandBytes and PEFT for fine-tuning the model on consumer hardware, leveraging Q-LoRa, a technique which drastically reduces the compute requirements for fine-tuning\n",
    "TRL, a library which includes useful Trainer classes for LLM fine-tuning."
   ]
  },
  {
   "cell_type": "code",
   "execution_count": 1,
   "metadata": {},
   "outputs": [],
   "source": [
    "#!pip install -q transformers[torch] datasets\n",
    "#!pip install -q bitsandbytes trl peft\n",
    "#!pip install flash-attn --no-build-isolation\n",
    "#!pip install accelerate==0.29.3\n"
   ]
  },
  {
   "cell_type": "code",
   "execution_count": 2,
   "metadata": {},
   "outputs": [],
   "source": [
    "import torch\n",
    "torch.cuda.empty_cache()"
   ]
  },
  {
   "cell_type": "code",
   "execution_count": 3,
   "metadata": {},
   "outputs": [],
   "source": [
    "import os\n",
    "\n",
    "# Set path to config file\n",
    "os.environ[\"SAGEMAKER_USER_CONFIG_OVERRIDE\"] = os.getcwd()"
   ]
  },
  {
   "attachments": {},
   "cell_type": "markdown",
   "metadata": {},
   "source": [
    "### Load Data + Preprocessing\n",
    "The dataset contains various splits, each with a certain number of rows. In our case, as we're going to do supervised fine-tuning (SFT), only the \"train_sft\" and \"test_sft\" splits are relevant for us.\n"
   ]
  },
  {
   "cell_type": "code",
   "execution_count": 4,
   "metadata": {},
   "outputs": [],
   "source": [
    "from datasets import load_dataset, DatasetDict"
   ]
  },
  {
   "cell_type": "code",
   "execution_count": 5,
   "metadata": {},
   "outputs": [
    {
     "name": "stdout",
     "output_type": "stream",
     "text": [
      "sagemaker.config INFO - Not applying SDK defaults from location: /etc/xdg/sagemaker/config.yaml\n",
      "sagemaker.config INFO - Fetched defaults config from location: /home/ec2-user/tmp/llm_fine_tuning/llm\n"
     ]
    }
   ],
   "source": [
    "# load data from s3 bucket\n",
    "import boto3\n",
    "import sagemaker\n",
    "\n",
    "region_name = 'eu-central-1'\n",
    "\n",
    "session = boto3.Session(region_name=region_name)\n",
    "s3_sess = session.client('s3')\n",
    "sm_session = sagemaker.Session(boto_session=session)"
   ]
  },
  {
   "cell_type": "code",
   "execution_count": 6,
   "metadata": {},
   "outputs": [
    {
     "data": {
      "text/plain": [
       "{'training': 's3://sagemaker-eu-central-1-505049265445/datasets/writing_accuracy_dataset/train_dataset.json'}"
      ]
     },
     "execution_count": 6,
     "metadata": {},
     "output_type": "execute_result"
    }
   ],
   "source": [
    "training_input_path = f's3://{sm_session.default_bucket()}/datasets/writing_accuracy_dataset/train_dataset.json'\n",
    "# define a data input dictonary with our uploaded s3 uris\n",
    "data = {'training': training_input_path}\n",
    "\n",
    "data"
   ]
  },
  {
   "cell_type": "code",
   "execution_count": 7,
   "metadata": {},
   "outputs": [
    {
     "name": "stderr",
     "output_type": "stream",
     "text": [
      "/home/ec2-user/anaconda3/envs/pytorch_p310/lib/python3.10/site-packages/fsspec/registry.py:279: UserWarning: Your installed version of s3fs is very old and known to cause\n",
      "severe performance issues, see also https://github.com/dask/dask/issues/10276\n",
      "\n",
      "To fix, you should specify a lower version bound on s3fs, or\n",
      "update the current installation.\n",
      "\n",
      "  warnings.warn(s3_msg)\n"
     ]
    },
    {
     "data": {
      "text/plain": [
       "DatasetDict({\n",
       "    training: Dataset({\n",
       "        features: ['messages'],\n",
       "        num_rows: 7528\n",
       "    })\n",
       "})"
      ]
     },
     "execution_count": 7,
     "metadata": {},
     "output_type": "execute_result"
    }
   ],
   "source": [
    "raw_dataset = load_dataset(\n",
    "        \"json\",\n",
    "        data_files=data\n",
    "    )\n",
    "raw_dataset"
   ]
  },
  {
   "cell_type": "code",
   "execution_count": 8,
   "metadata": {},
   "outputs": [
    {
     "data": {
      "text/plain": [
       "DatasetDict({\n",
       "    train: Dataset({\n",
       "        features: ['messages'],\n",
       "        num_rows: 100\n",
       "    })\n",
       "    test: Dataset({\n",
       "        features: ['messages'],\n",
       "        num_rows: 100\n",
       "    })\n",
       "})"
      ]
     },
     "execution_count": 8,
     "metadata": {},
     "output_type": "execute_result"
    }
   ],
   "source": [
    "indices_1 = range(0,100)\n",
    "indices_2 = range(101,201)\n",
    "dataset_dict = {\n",
    "    \"train\": raw_dataset[\"training\"].select(indices_1),\n",
    "    \"test\": raw_dataset[\"training\"].select(indices_2)\n",
    "}\n",
    "raw_dataset = DatasetDict(dataset_dict)\n",
    "raw_dataset"
   ]
  },
  {
   "attachments": {},
   "cell_type": "markdown",
   "metadata": {},
   "source": [
    "#### Tokenizer\n",
    "Next, we instantiate the tokenizer, which is required to prepare the text for the model. The model doesn't directly take strings as input, but rather input_ids, which represent integer indices in the vocabulary of a Transformer model. \n",
    "\n",
    "We also set some attributes which the tokenizer of a base model typically doesn't have set, such as:\n",
    "\n",
    "- the padding token ID. During pre-training, one doesn't need to pad since one just creates blocks of text to predict the next token, but during fine-tuning, we will need to pad the (instruction, completion) pairs in order to create batches of equal length.\n",
    "- the model max length: this is required in order to truncate sequences which are too long for the model. Here we decide to train on at most 2048 tokens.\n",
    "- the chat template. A chat template determines how each list of messages is turned into a tokenizable string, by adding special strings in between such as <|user|> to indicate a user message and <|assistant|> to indicate the chatbot's response. Here we define the default chat template, used by most chat models. See also the docs."
   ]
  },
  {
   "cell_type": "code",
   "execution_count": 9,
   "metadata": {},
   "outputs": [],
   "source": [
    "from transformers import AutoTokenizer\n",
    "from huggingface_hub import login"
   ]
  },
  {
   "cell_type": "code",
   "execution_count": 10,
   "metadata": {},
   "outputs": [],
   "source": [
    "model_id = \"meta-llama/Meta-Llama-3.1-8B-Instruct\""
   ]
  },
  {
   "cell_type": "code",
   "execution_count": 11,
   "metadata": {},
   "outputs": [],
   "source": [
    "tokenizer = AutoTokenizer.from_pretrained(model_id)\n",
    "\n",
    "# set pad_token_id equal to the eos_token_id if not set\n",
    "if tokenizer.pad_token_id is None:\n",
    "  tokenizer.pad_token_id = tokenizer.eos_token_id\n",
    "\n",
    "# Set reasonable default for models without max length\n",
    "if tokenizer.model_max_length > 100_000:\n",
    "  tokenizer.model_max_length = 2048"
   ]
  },
  {
   "cell_type": "code",
   "execution_count": 12,
   "metadata": {},
   "outputs": [
    {
     "data": {
      "text/plain": [
       "'{{- bos_token }}\\n{%- if custom_tools is defined %}\\n    {%- set tools = custom_tools %}\\n{%- endif %}\\n{%- if not tools_in_user_message is defined %}\\n    {%- set tools_in_user_message = true %}\\n{%- endif %}\\n{%- if not date_string is defined %}\\n    {%- set date_string = \"26 Jul 2024\" %}\\n{%- endif %}\\n{%- if not tools is defined %}\\n    {%- set tools = none %}\\n{%- endif %}\\n\\n{#- This block extracts the system message, so we can slot it into the right place. #}\\n{%- if messages[0][\\'role\\'] == \\'system\\' %}\\n    {%- set system_message = messages[0][\\'content\\']|trim %}\\n    {%- set messages = messages[1:] %}\\n{%- else %}\\n    {%- set system_message = \"\" %}\\n{%- endif %}\\n\\n{#- System message + builtin tools #}\\n{{- \"<|start_header_id|>system<|end_header_id|>\\\\n\\\\n\" }}\\n{%- if builtin_tools is defined or tools is not none %}\\n    {{- \"Environment: ipython\\\\n\" }}\\n{%- endif %}\\n{%- if builtin_tools is defined %}\\n    {{- \"Tools: \" + builtin_tools | reject(\\'equalto\\', \\'code_interpreter\\') | join(\", \") + \"\\\\n\\\\n\"}}\\n{%- endif %}\\n{{- \"Cutting Knowledge Date: December 2023\\\\n\" }}\\n{{- \"Today Date: \" + date_string + \"\\\\n\\\\n\" }}\\n{%- if tools is not none and not tools_in_user_message %}\\n    {{- \"You have access to the following functions. To call a function, please respond with JSON for a function call.\" }}\\n    {{- \\'Respond in the format {\"name\": function name, \"parameters\": dictionary of argument name and its value}.\\' }}\\n    {{- \"Do not use variables.\\\\n\\\\n\" }}\\n    {%- for t in tools %}\\n        {{- t | tojson(indent=4) }}\\n        {{- \"\\\\n\\\\n\" }}\\n    {%- endfor %}\\n{%- endif %}\\n{{- system_message }}\\n{{- \"<|eot_id|>\" }}\\n\\n{#- Custom tools are passed in a user message with some extra guidance #}\\n{%- if tools_in_user_message and not tools is none %}\\n    {#- Extract the first user message so we can plug it in here #}\\n    {%- if messages | length != 0 %}\\n        {%- set first_user_message = messages[0][\\'content\\']|trim %}\\n        {%- set messages = messages[1:] %}\\n    {%- else %}\\n        {{- raise_exception(\"Cannot put tools in the first user message when there\\'s no first user message!\") }}\\n{%- endif %}\\n    {{- \\'<|start_header_id|>user<|end_header_id|>\\\\n\\\\n\\' -}}\\n    {{- \"Given the following functions, please respond with a JSON for a function call \" }}\\n    {{- \"with its proper arguments that best answers the given prompt.\\\\n\\\\n\" }}\\n    {{- \\'Respond in the format {\"name\": function name, \"parameters\": dictionary of argument name and its value}.\\' }}\\n    {{- \"Do not use variables.\\\\n\\\\n\" }}\\n    {%- for t in tools %}\\n        {{- t | tojson(indent=4) }}\\n        {{- \"\\\\n\\\\n\" }}\\n    {%- endfor %}\\n    {{- first_user_message + \"<|eot_id|>\"}}\\n{%- endif %}\\n\\n{%- for message in messages %}\\n    {%- if not (message.role == \\'ipython\\' or message.role == \\'tool\\' or \\'tool_calls\\' in message) %}\\n        {{- \\'<|start_header_id|>\\' + message[\\'role\\'] + \\'<|end_header_id|>\\\\n\\\\n\\'+ message[\\'content\\'] | trim + \\'<|eot_id|>\\' }}\\n    {%- elif \\'tool_calls\\' in message %}\\n        {%- if not message.tool_calls|length == 1 %}\\n            {{- raise_exception(\"This model only supports single tool-calls at once!\") }}\\n        {%- endif %}\\n        {%- set tool_call = message.tool_calls[0].function %}\\n        {%- if builtin_tools is defined and tool_call.name in builtin_tools %}\\n            {{- \\'<|start_header_id|>assistant<|end_header_id|>\\\\n\\\\n\\' -}}\\n            {{- \"<|python_tag|>\" + tool_call.name + \".call(\" }}\\n            {%- for arg_name, arg_val in tool_call.arguments | items %}\\n                {{- arg_name + \\'=\"\\' + arg_val + \\'\"\\' }}\\n                {%- if not loop.last %}\\n                    {{- \", \" }}\\n                {%- endif %}\\n                {%- endfor %}\\n            {{- \")\" }}\\n        {%- else  %}\\n            {{- \\'<|start_header_id|>assistant<|end_header_id|>\\\\n\\\\n\\' -}}\\n            {{- \\'{\"name\": \"\\' + tool_call.name + \\'\", \\' }}\\n            {{- \\'\"parameters\": \\' }}\\n            {{- tool_call.arguments | tojson }}\\n            {{- \"}\" }}\\n        {%- endif %}\\n        {%- if builtin_tools is defined %}\\n            {#- This means we\\'re in ipython mode #}\\n            {{- \"<|eom_id|>\" }}\\n        {%- else %}\\n            {{- \"<|eot_id|>\" }}\\n        {%- endif %}\\n    {%- elif message.role == \"tool\" or message.role == \"ipython\" %}\\n        {{- \"<|start_header_id|>ipython<|end_header_id|>\\\\n\\\\n\" }}\\n        {%- if message.content is mapping or message.content is iterable %}\\n            {{- message.content | tojson }}\\n        {%- else %}\\n            {{- message.content }}\\n        {%- endif %}\\n        {{- \"<|eot_id|>\" }}\\n    {%- endif %}\\n{%- endfor %}\\n{%- if add_generation_prompt %}\\n    {{- \\'<|start_header_id|>assistant<|end_header_id|>\\\\n\\\\n\\' }}\\n{%- endif %}\\n'"
      ]
     },
     "execution_count": 12,
     "metadata": {},
     "output_type": "execute_result"
    }
   ],
   "source": [
    "# use default template of instruct model\n",
    "tokenizer.chat_template"
   ]
  },
  {
   "cell_type": "markdown",
   "metadata": {},
   "source": [
    "#### Apply chat template\n",
    "Once we have equipped the tokenizer with the appropriate attributes, it's time to apply the chat template to each list of messages. Here we basically turn each list of (instruction, completion) messages into a tokenizable string for the model.\n",
    "\n",
    "Note that we specify tokenize=False here, since the SFTTrainer which we'll define later on will perform the tokenization internally. Here we only turn the list of messages into strings with the same format."
   ]
  },
  {
   "cell_type": "code",
   "execution_count": 13,
   "metadata": {},
   "outputs": [],
   "source": [
    "import re\n",
    "import random\n",
    "from multiprocessing import cpu_count\n",
    "\n",
    "def apply_chat_template(example, tokenizer):\n",
    "    messages = example[\"messages\"]\n",
    "    # We add an empty system message if there is none\n",
    "    if messages[0][\"role\"] != \"system\":\n",
    "        messages.insert(0, {\"role\": \"system\", \"content\": \"\"})\n",
    "    example[\"text\"] = tokenizer.apply_chat_template(messages, tokenize=False)\n",
    "\n",
    "    return example"
   ]
  },
  {
   "cell_type": "code",
   "execution_count": 14,
   "metadata": {},
   "outputs": [
    {
     "data": {
      "text/plain": [
       "['messages']"
      ]
     },
     "execution_count": 14,
     "metadata": {},
     "output_type": "execute_result"
    }
   ],
   "source": [
    "column_names = list(raw_dataset[\"train\"].features)\n",
    "column_names"
   ]
  },
  {
   "cell_type": "code",
   "execution_count": 15,
   "metadata": {},
   "outputs": [],
   "source": [
    "# applies the apply_chat_template function to each element in raw_dataset using multiple CPU cores, passing a tokenizer and removing specified columns, with a progress description.\n",
    "raw_dataset = raw_dataset.map(apply_chat_template,\n",
    "                                num_proc=cpu_count(),\n",
    "                                fn_kwargs={\"tokenizer\": tokenizer},\n",
    "                                remove_columns=column_names,\n",
    "                                desc=\"Applying chat template\")"
   ]
  },
  {
   "cell_type": "code",
   "execution_count": 16,
   "metadata": {},
   "outputs": [],
   "source": [
    "train_data = raw_dataset[\"train\"]\n",
    "test_data = raw_dataset[\"test\"]\n",
    "\n",
    "#for index in random.sample(range(len(raw_dataset[\"train\"])), 3):\n",
    "  #print(f\"Sample {index} of the processed training set:\\n\\n{raw_dataset['train'][index]['text']}\")\n",
    "  "
   ]
  },
  {
   "cell_type": "code",
   "execution_count": 17,
   "metadata": {},
   "outputs": [],
   "source": [
    "def print_trainable_parameters(model):\n",
    "    \"\"\"\n",
    "    Prints the number of trainable parameters in the model.\n",
    "    \"\"\"\n",
    "    trainable_params = 0\n",
    "    all_param = 0\n",
    "    for _, param in model.named_parameters():\n",
    "        all_param += param.numel()\n",
    "        if param.requires_grad:\n",
    "            trainable_params += param.numel()\n",
    "    print(\n",
    "        f\"trainable params: {trainable_params} || all params: {all_param} || trainable%: {100 * trainable_params / all_param}\"\n",
    "    )"
   ]
  },
  {
   "cell_type": "code",
   "execution_count": 18,
   "metadata": {},
   "outputs": [],
   "source": [
    "import bitsandbytes as bnb\n",
    "\n",
    "def find_all_linear_names(hf_model):\n",
    "    lora_module_names = set()\n",
    "    for name, module in hf_model.named_modules():\n",
    "        if isinstance(module, bnb.nn.Linear4bit):\n",
    "            names = name.split(\".\")\n",
    "            lora_module_names.add(names[0] if len(names) == 1 else names[-1])\n",
    "\n",
    "    if \"lm_head\" in lora_module_names:  # needed for 16-bit\n",
    "        lora_module_names.remove(\"lm_head\")\n",
    "    return list(lora_module_names)"
   ]
  },
  {
   "cell_type": "code",
   "execution_count": 19,
   "metadata": {},
   "outputs": [
    {
     "name": "stderr",
     "output_type": "stream",
     "text": [
      "INFO:botocore.credentials:Found credentials from IAM Role: BaseNotebookInstanceEc2InstanceRole\n",
      "INFO:sagemaker.telemetry.telemetry_logging:SageMaker Python SDK will collect telemetry to help us better understand our user's needs, diagnose issues, and deliver additional features.\n",
      "To opt out of telemetry, please disable via TelemetryOptOut parameter in SDK defaults config. For more information, refer to https://sagemaker.readthedocs.io/en/stable/overview.html#configuring-and-using-defaults-with-the-sagemaker-python-sdk.\n",
      "INFO:botocore.credentials:Found credentials from IAM Role: BaseNotebookInstanceEc2InstanceRole\n"
     ]
    },
    {
     "name": "stdout",
     "output_type": "stream",
     "text": [
      "sagemaker.config INFO - Applied value from config key = SageMaker.PythonSDK.Modules.RemoteFunction.ImageUri\n",
      "sagemaker.config INFO - Applied value from config key = SageMaker.PythonSDK.Modules.RemoteFunction.Dependencies\n",
      "sagemaker.config INFO - Applied value from config key = SageMaker.PythonSDK.Modules.RemoteFunction.InstanceType\n"
     ]
    }
   ],
   "source": [
    "from accelerate import Accelerator\n",
    "from huggingface_hub import login\n",
    "from peft import AutoPeftModelForCausalLM, LoraConfig, get_peft_model, prepare_model_for_kbit_training\n",
    "from sagemaker.remote_function import remote\n",
    "import torch\n",
    "from transformers import AutoModelForCausalLM, AutoTokenizer, BitsAndBytesConfig, set_seed\n",
    "import transformers\n",
    "\n",
    "# Start training\n",
    "@remote(volume_size=50, job_name_prefix=f\"train-{model_id.split('/')[-1].replace('.', '-')}\")\n",
    "def train_fn(\n",
    "        model_name,\n",
    "        train_ds,\n",
    "        test_ds=None,\n",
    "        lora_r=8,\n",
    "        lora_alpha=16,\n",
    "        lora_dropout=0.1,\n",
    "        per_device_train_batch_size=8,\n",
    "        per_device_eval_batch_size=8,\n",
    "        gradient_accumulation_steps=1,\n",
    "        learning_rate=2e-4,\n",
    "        num_train_epochs=1,\n",
    "        gradient_checkpointing=False,\n",
    "        merge_weights=False,\n",
    "        seed=42,\n",
    "        token=None\n",
    "):\n",
    "    set_seed(seed)\n",
    "\n",
    "    accelerator = Accelerator()\n",
    "\n",
    "    if token is not None:\n",
    "        login(token=token)\n",
    "\n",
    "    tokenizer = AutoTokenizer.from_pretrained(model_name)\n",
    "\n",
    "    # Set Tokenizer pad Token\n",
    "    tokenizer.pad_token = tokenizer.eos_token\n",
    "\n",
    "    with accelerator.main_process_first():\n",
    "        # tokenize and chunk dataset\n",
    "        lm_train_dataset = train_ds.map(\n",
    "            lambda sample: tokenizer(sample[\"text\"]), remove_columns=list(train_ds.features)\n",
    "        )\n",
    "\n",
    "        print(f\"Total number of train samples: {len(lm_train_dataset)}\")\n",
    "\n",
    "        if test_ds is not None:\n",
    "            lm_test_dataset = test_ds.map(\n",
    "                lambda sample: tokenizer(sample[\"text\"]), remove_columns=list(test_ds.features)\n",
    "            )\n",
    "\n",
    "            print(f\"Total number of test samples: {len(lm_test_dataset)}\")\n",
    "        else:\n",
    "            lm_test_dataset = None\n",
    "\n",
    "    bnb_config = BitsAndBytesConfig(\n",
    "        load_in_4bit=True,\n",
    "        bnb_4bit_use_double_quant=True,\n",
    "        bnb_4bit_quant_type=\"nf4\",\n",
    "        bnb_4bit_compute_dtype=torch.bfloat16,\n",
    "        quant_storage_dtype=torch.bfloat16\n",
    "    )\n",
    "    \n",
    "    model = AutoModelForCausalLM.from_pretrained(\n",
    "        model_name,\n",
    "        trust_remote_code=True,\n",
    "        quantization_config=bnb_config,\n",
    "        #attn_implementation=\"flash_attention_2\",\n",
    "        use_cache=False if gradient_checkpointing else True,\n",
    "        cache_dir=\"/tmp/.cache\"\n",
    "    )\n",
    "\n",
    "    model = prepare_model_for_kbit_training(model, use_gradient_checkpointing=gradient_checkpointing)\n",
    "\n",
    "    if gradient_checkpointing:\n",
    "        model.gradient_checkpointing_enable()\n",
    "\n",
    "    # get lora target modules\n",
    "    modules = find_all_linear_names(model)\n",
    "    print(f\"Found {len(modules)} modules to quantize: {modules}\")\n",
    "    \n",
    "    config = LoraConfig(\n",
    "        r=lora_r,\n",
    "        lora_alpha=lora_alpha,\n",
    "        target_modules=modules,\n",
    "        lora_dropout=lora_dropout,\n",
    "        bias=\"none\",\n",
    "        task_type=\"CAUSAL_LM\"\n",
    "    )\n",
    "\n",
    "    model = get_peft_model(model, config)\n",
    "    print_trainable_parameters(model)\n",
    "    \n",
    "    trainer = transformers.Trainer(\n",
    "        model=model,\n",
    "        train_dataset=lm_train_dataset,\n",
    "        eval_dataset=lm_test_dataset if lm_test_dataset is not None else None,\n",
    "        args=transformers.TrainingArguments(\n",
    "            per_device_train_batch_size=per_device_train_batch_size,\n",
    "            per_device_eval_batch_size=per_device_eval_batch_size,\n",
    "            gradient_accumulation_steps=gradient_accumulation_steps,\n",
    "            gradient_checkpointing=gradient_checkpointing,\n",
    "            logging_strategy=\"steps\",\n",
    "            logging_steps=1,\n",
    "            log_on_each_node=False,\n",
    "            num_train_epochs=num_train_epochs,\n",
    "            learning_rate=learning_rate,\n",
    "            bf16=True,\n",
    "            ddp_find_unused_parameters=False,\n",
    "            save_strategy=\"no\",\n",
    "            output_dir=\"outputs\"\n",
    "        ),\n",
    "        data_collator=transformers.DataCollatorForLanguageModeling(tokenizer, mlm=False),\n",
    "    )\n",
    "\n",
    "    trainer.train()\n",
    "\n",
    "    if merge_weights:\n",
    "        output_dir = \"/tmp/model\"\n",
    "\n",
    "        # merge adapter weights with base model and save\n",
    "        # save int 4 model\n",
    "        trainer.model.save_pretrained(output_dir, safe_serialization=False)\n",
    "        # clear memory\n",
    "        del model\n",
    "        del trainer\n",
    "\n",
    "        torch.cuda.empty_cache()\n",
    "\n",
    "        # load PEFT model in fp16\n",
    "        model = AutoPeftModelForCausalLM.from_pretrained(\n",
    "            output_dir,\n",
    "            low_cpu_mem_usage=True,\n",
    "            torch_dtype=torch.float16,\n",
    "            cache_dir=\"/tmp/.cache\"\n",
    "        )\n",
    "\n",
    "        # Merge LoRA and base model and save\n",
    "        model = model.merge_and_unload()\n",
    "        model.save_pretrained(\n",
    "            \"/opt/ml/model\", safe_serialization=True, max_shard_size=\"2GB\"\n",
    "        )\n",
    "    else:\n",
    "        trainer.model.save_pretrained(\"/opt/ml/model\", safe_serialization=True)\n",
    "\n",
    "    with accelerator.main_process_first():\n",
    "        tokenizer.save_pretrained(\"/opt/ml/model\")"
   ]
  },
  {
   "cell_type": "code",
   "execution_count": 20,
   "metadata": {},
   "outputs": [
    {
     "name": "stderr",
     "output_type": "stream",
     "text": [
      "2024-09-02 20:17:03,736 sagemaker.remote_function INFO     Serializing function code to s3://sagemaker-eu-central-1-505049265445/train-Meta-Llama-3-1-8B-Instruct-2024-09-02-20-17-03-735/function\n",
      "2024-09-02 20:17:03,806 sagemaker.remote_function INFO     Serializing function arguments to s3://sagemaker-eu-central-1-505049265445/train-Meta-Llama-3-1-8B-Instruct-2024-09-02-20-17-03-735/arguments\n",
      "2024-09-02 20:17:03,969 sagemaker.remote_function INFO     Copied dependencies file at './requirements.txt' to '/tmp/tmpgw05p5ri/temp_workspace/sagemaker_remote_function_workspace/requirements.txt'\n",
      "2024-09-02 20:17:03,970 sagemaker.remote_function INFO     Successfully created workdir archive at '/tmp/tmpgw05p5ri/workspace.zip'\n",
      "2024-09-02 20:17:03,999 sagemaker.remote_function INFO     Successfully uploaded workdir to 's3://sagemaker-eu-central-1-505049265445/train-Meta-Llama-3-1-8B-Instruct-2024-09-02-20-17-03-735/sm_rf_user_ws/workspace.zip'\n",
      "2024-09-02 20:17:04,000 sagemaker.remote_function INFO     Creating job: train-Meta-Llama-3-1-8B-Instruct-2024-09-02-20-17-03-735\n"
     ]
    },
    {
     "name": "stdout",
     "output_type": "stream",
     "text": [
      "2024-09-02 20:17:04 Starting - Starting the training job...\n",
      "2024-09-02 20:17:32 Pending - Training job waiting for capacity...\n",
      "2024-09-02 20:17:46 Pending - Preparing the instances for training...\n",
      "2024-09-02 20:18:27 Downloading - Downloading the training image.....................\n",
      "2024-09-02 20:21:44 Training - Training image download completed. Training in progress.INFO: CONDA_PKGS_DIRS is set to '/opt/ml/sagemaker/warmpoolcache/sm_remotefunction_user_dependencies_cache/conda/pkgs'\n",
      "INFO: PIP_CACHE_DIR is set to '/opt/ml/sagemaker/warmpoolcache/sm_remotefunction_user_dependencies_cache/pip'\n",
      "INFO: Bootstraping runtime environment.\n",
      "2024-09-02 20:21:58,437 sagemaker.remote_function INFO     Successfully unpacked workspace archive at '/'.\n",
      "2024-09-02 20:21:58,437 sagemaker.remote_function INFO     '/sagemaker_remote_function_workspace/pre_exec.sh' does not exist. Assuming no pre-execution commands to run\n",
      "2024-09-02 20:21:58,437 sagemaker.remote_function INFO     Running command: '/opt/conda/bin/python -m pip install -r /sagemaker_remote_function_workspace/requirements.txt -U' in the dir: '/' \n",
      "2024-09-02 20:21:58,907 sagemaker.remote_function INFO     Collecting transformers==4.43.1 (from -r /sagemaker_remote_function_workspace/requirements.txt (line 1))\n",
      "2024-09-02 20:21:58,935 sagemaker.remote_function INFO       Downloading transformers-4.43.1-py3-none-any.whl.metadata (43 kB)\n",
      "2024-09-02 20:21:59,160 sagemaker.remote_function INFO     Collecting peft==0.10.0 (from -r /sagemaker_remote_function_workspace/requirements.txt (line 2))\n",
      "2024-09-02 20:21:59,164 sagemaker.remote_function INFO       Downloading peft-0.10.0-py3-none-any.whl.metadata (13 kB)\n",
      "2024-09-02 20:21:59,196 sagemaker.remote_function INFO     Collecting accelerate==0.29.3 (from -r /sagemaker_remote_function_workspace/requirements.txt (line 3))\n",
      "2024-09-02 20:21:59,200 sagemaker.remote_function INFO       Downloading accelerate-0.29.3-py3-none-any.whl.metadata (18 kB)\n",
      "2024-09-02 20:21:59,230 sagemaker.remote_function INFO     Collecting bitsandbytes==0.43.1 (from -r /sagemaker_remote_function_workspace/requirements.txt (line 4))\n",
      "2024-09-02 20:21:59,234 sagemaker.remote_function INFO       Downloading bitsandbytes-0.43.1-py3-none-manylinux_2_24_x86_64.whl.metadata (2.2 kB)\n",
      "2024-09-02 20:21:59,237 sagemaker.remote_function INFO     Requirement already satisfied: evaluate==0.4.1 in /opt/conda/lib/python3.10/site-packages (from -r /sagemaker_remote_function_workspace/requirements.txt (line 5)) (0.4.1)\n",
      "2024-09-02 20:21:59,248 sagemaker.remote_function INFO     Requirement already satisfied: safetensors>=0.4.3 in /opt/conda/lib/python3.10/site-packages (from -r /sagemaker_remote_function_workspace/requirements.txt (line 6)) (0.4.4)\n",
      "2024-09-02 20:21:59,391 sagemaker.remote_function INFO     Requirement already satisfied: sagemaker in /opt/conda/lib/python3.10/site-packages (from -r /sagemaker_remote_function_workspace/requirements.txt (line 7)) (2.224.4)\n",
      "2024-09-02 20:21:59,472 sagemaker.remote_function INFO     Collecting sagemaker (from -r /sagemaker_remote_function_workspace/requirements.txt (line 7))\n",
      "2024-09-02 20:21:59,476 sagemaker.remote_function INFO       Downloading sagemaker-2.231.0-py3-none-any.whl.metadata (16 kB)\n",
      "2024-09-02 20:21:59,698 sagemaker.remote_function INFO     Collecting tokenizers>=0.19.1 (from -r /sagemaker_remote_function_workspace/requirements.txt (line 8))\n",
      "2024-09-02 20:21:59,702 sagemaker.remote_function INFO       Downloading tokenizers-0.20.0-cp310-cp310-manylinux_2_17_x86_64.manylinux2014_x86_64.whl.metadata (6.7 kB)\n",
      "2024-09-02 20:21:59,750 sagemaker.remote_function INFO     Collecting py7zr (from -r /sagemaker_remote_function_workspace/requirements.txt (line 9))\n",
      "2024-09-02 20:21:59,755 sagemaker.remote_function INFO       Downloading py7zr-0.22.0-py3-none-any.whl.metadata (16 kB)\n",
      "2024-09-02 20:21:59,786 sagemaker.remote_function INFO     Requirement already satisfied: filelock in /opt/conda/lib/python3.10/site-packages (from transformers==4.43.1->-r /sagemaker_remote_function_workspace/requirements.txt (line 1)) (3.13.1)\n",
      "2024-09-02 20:21:59,787 sagemaker.remote_function INFO     Requirement already satisfied: huggingface-hub<1.0,>=0.23.2 in /opt/conda/lib/python3.10/site-packages (from transformers==4.43.1->-r /sagemaker_remote_function_workspace/requirements.txt (line 1)) (0.24.5)\n",
      "2024-09-02 20:21:59,788 sagemaker.remote_function INFO     Requirement already satisfied: numpy>=1.17 in /opt/conda/lib/python3.10/site-packages (from transformers==4.43.1->-r /sagemaker_remote_function_workspace/requirements.txt (line 1)) (1.26.4)\n",
      "2024-09-02 20:21:59,788 sagemaker.remote_function INFO     Requirement already satisfied: packaging>=20.0 in /opt/conda/lib/python3.10/site-packages (from transformers==4.43.1->-r /sagemaker_remote_function_workspace/requirements.txt (line 1)) (23.1)\n",
      "2024-09-02 20:21:59,788 sagemaker.remote_function INFO     Requirement already satisfied: pyyaml>=5.1 in /opt/conda/lib/python3.10/site-packages (from transformers==4.43.1->-r /sagemaker_remote_function_workspace/requirements.txt (line 1)) (6.0.1)\n",
      "2024-09-02 20:21:59,789 sagemaker.remote_function INFO     Requirement already satisfied: regex!=2019.12.17 in /opt/conda/lib/python3.10/site-packages (from transformers==4.43.1->-r /sagemaker_remote_function_workspace/requirements.txt (line 1)) (2024.7.24)\n",
      "2024-09-02 20:21:59,789 sagemaker.remote_function INFO     Requirement already satisfied: requests in /opt/conda/lib/python3.10/site-packages (from transformers==4.43.1->-r /sagemaker_remote_function_workspace/requirements.txt (line 1)) (2.32.3)\n",
      "2024-09-02 20:21:59,794 sagemaker.remote_function INFO     Collecting tokenizers>=0.19.1 (from -r /sagemaker_remote_function_workspace/requirements.txt (line 8))\n",
      "2024-09-02 20:21:59,798 sagemaker.remote_function INFO       Downloading tokenizers-0.19.1-cp310-cp310-manylinux_2_17_x86_64.manylinux2014_x86_64.whl.metadata (6.7 kB)\n",
      "2024-09-02 20:21:59,805 sagemaker.remote_function INFO     Requirement already satisfied: tqdm>=4.27 in /opt/conda/lib/python3.10/site-packages (from transformers==4.43.1->-r /sagemaker_remote_function_workspace/requirements.txt (line 1)) (4.66.4)\n",
      "2024-09-02 20:21:59,806 sagemaker.remote_function INFO     Requirement already satisfied: psutil in /opt/conda/lib/python3.10/site-packages (from peft==0.10.0->-r /sagemaker_remote_function_workspace/requirements.txt (line 2)) (5.9.8)\n",
      "2024-09-02 20:21:59,807 sagemaker.remote_function INFO     Requirement already satisfied: torch>=1.13.0 in /opt/conda/lib/python3.10/site-packages (from peft==0.10.0->-r /sagemaker_remote_function_workspace/requirements.txt (line 2)) (2.1.0)\n",
      "2024-09-02 20:21:59,836 sagemaker.remote_function INFO     Requirement already satisfied: datasets>=2.0.0 in /opt/conda/lib/python3.10/site-packages (from evaluate==0.4.1->-r /sagemaker_remote_function_workspace/requirements.txt (line 5)) (2.18.0)\n",
      "2024-09-02 20:21:59,836 sagemaker.remote_function INFO     Requirement already satisfied: dill in /opt/conda/lib/python3.10/site-packages (from evaluate==0.4.1->-r /sagemaker_remote_function_workspace/requirements.txt (line 5)) (0.3.8)\n",
      "2024-09-02 20:21:59,836 sagemaker.remote_function INFO     Requirement already satisfied: pandas in /opt/conda/lib/python3.10/site-packages (from evaluate==0.4.1->-r /sagemaker_remote_function_workspace/requirements.txt (line 5)) (2.2.1)\n",
      "2024-09-02 20:21:59,837 sagemaker.remote_function INFO     Requirement already satisfied: xxhash in /opt/conda/lib/python3.10/site-packages (from evaluate==0.4.1->-r /sagemaker_remote_function_workspace/requirements.txt (line 5)) (3.4.1)\n",
      "2024-09-02 20:21:59,837 sagemaker.remote_function INFO     Requirement already satisfied: multiprocess in /opt/conda/lib/python3.10/site-packages (from evaluate==0.4.1->-r /sagemaker_remote_function_workspace/requirements.txt (line 5)) (0.70.16)\n",
      "2024-09-02 20:21:59,838 sagemaker.remote_function INFO     Requirement already satisfied: fsspec>=2021.05.0 in /opt/conda/lib/python3.10/site-packages (from fsspec[http]>=2021.05.0->evaluate==0.4.1->-r /sagemaker_remote_function_workspace/requirements.txt (line 5)) (2024.2.0)\n",
      "2024-09-02 20:21:59,839 sagemaker.remote_function INFO     Requirement already satisfied: responses<0.19 in /opt/conda/lib/python3.10/site-packages (from evaluate==0.4.1->-r /sagemaker_remote_function_workspace/requirements.txt (line 5)) (0.18.0)\n",
      "2024-09-02 20:21:59,850 sagemaker.remote_function INFO     Requirement already satisfied: attrs<24,>=23.1.0 in /opt/conda/lib/python3.10/site-packages (from sagemaker->-r /sagemaker_remote_function_workspace/requirements.txt (line 7)) (23.2.0)\n",
      "2024-09-02 20:22:00,489 sagemaker.remote_function INFO     Collecting boto3<2.0,>=1.34.142 (from sagemaker->-r /sagemaker_remote_function_workspace/requirements.txt (line 7))\n",
      "2024-09-02 20:22:00,493 sagemaker.remote_function INFO       Downloading boto3-1.35.10-py3-none-any.whl.metadata (6.6 kB)\n",
      "2024-09-02 20:22:00,497 sagemaker.remote_function INFO     Requirement already satisfied: cloudpickle==2.2.1 in /opt/conda/lib/python3.10/site-packages (from sagemaker->-r /sagemaker_remote_function_workspace/requirements.txt (line 7)) (2.2.1)\n",
      "2024-09-02 20:22:00,497 sagemaker.remote_function INFO     Requirement already satisfied: docker in /opt/conda/lib/python3.10/site-packages (from sagemaker->-r /sagemaker_remote_function_workspace/requirements.txt (line 7)) (7.0.0)\n",
      "2024-09-02 20:22:00,497 sagemaker.remote_function INFO     Requirement already satisfied: google-pasta in /opt/conda/lib/python3.10/site-packages (from sagemaker->-r /sagemaker_remote_function_workspace/requirements.txt (line 7)) (0.2.0)\n",
      "2024-09-02 20:22:00,498 sagemaker.remote_function INFO     Requirement already satisfied: importlib-metadata<7.0,>=1.4.0 in /opt/conda/lib/python3.10/site-packages (from sagemaker->-r /sagemaker_remote_function_workspace/requirements.txt (line 7)) (6.11.0)\n",
      "2024-09-02 20:22:00,498 sagemaker.remote_function INFO     Requirement already satisfied: jsonschema in /opt/conda/lib/python3.10/site-packages (from sagemaker->-r /sagemaker_remote_function_workspace/requirements.txt (line 7)) (4.21.1)\n",
      "2024-09-02 20:22:00,499 sagemaker.remote_function INFO     Requirement already satisfied: pathos in /opt/conda/lib/python3.10/site-packages (from sagemaker->-r /sagemaker_remote_function_workspace/requirements.txt (line 7)) (0.3.2)\n",
      "2024-09-02 20:22:00,499 sagemaker.remote_function INFO     Requirement already satisfied: platformdirs in /opt/conda/lib/python3.10/site-packages (from sagemaker->-r /sagemaker_remote_function_workspace/requirements.txt (line 7)) (4.2.0)\n",
      "2024-09-02 20:22:00,500 sagemaker.remote_function INFO     Requirement already satisfied: protobuf<5.0,>=3.12 in /opt/conda/lib/python3.10/site-packages (from sagemaker->-r /sagemaker_remote_function_workspace/requirements.txt (line 7)) (3.20.3)\n",
      "2024-09-02 20:22:00,508 sagemaker.remote_function INFO     Collecting sagemaker-core<2.0.0,>=1.0.0 (from sagemaker->-r /sagemaker_remote_function_workspace/requirements.txt (line 7))\n",
      "2024-09-02 20:22:00,511 sagemaker.remote_function INFO       Downloading sagemaker_core-1.0.1-py3-none-any.whl.metadata (4.6 kB)\n",
      "2024-09-02 20:22:00,515 sagemaker.remote_function INFO     Requirement already satisfied: schema in /opt/conda/lib/python3.10/site-packages (from sagemaker->-r /sagemaker_remote_function_workspace/requirements.txt (line 7)) (0.7.5)\n",
      "2024-09-02 20:22:00,515 sagemaker.remote_function INFO     Requirement already satisfied: smdebug-rulesconfig==1.0.1 in /opt/conda/lib/python3.10/site-packages (from sagemaker->-r /sagemaker_remote_function_workspace/requirements.txt (line 7)) (1.0.1)\n",
      "2024-09-02 20:22:00,516 sagemaker.remote_function INFO     Requirement already satisfied: tblib<4,>=1.7.0 in /opt/conda/lib/python3.10/site-packages (from sagemaker->-r /sagemaker_remote_function_workspace/requirements.txt (line 7)) (2.0.0)\n",
      "2024-09-02 20:22:00,516 sagemaker.remote_function INFO     Requirement already satisfied: urllib3<3.0.0,>=1.26.8 in /opt/conda/lib/python3.10/site-packages (from sagemaker->-r /sagemaker_remote_function_workspace/requirements.txt (line 7)) (1.26.19)\n",
      "2024-09-02 20:22:00,530 sagemaker.remote_function INFO     Collecting texttable (from py7zr->-r /sagemaker_remote_function_workspace/requirements.txt (line 9))\n",
      "2024-09-02 20:22:00,534 sagemaker.remote_function INFO       Downloading texttable-1.7.0-py2.py3-none-any.whl.metadata (9.8 kB)\n",
      "2024-09-02 20:22:00,648 sagemaker.remote_function INFO     Collecting pycryptodomex>=3.16.0 (from py7zr->-r /sagemaker_remote_function_workspace/requirements.txt (line 9))\n",
      "2024-09-02 20:22:00,652 sagemaker.remote_function INFO       Downloading pycryptodomex-3.20.0-cp35-abi3-manylinux_2_17_x86_64.manylinux2014_x86_64.whl.metadata (3.4 kB)\n",
      "2024-09-02 20:22:00,802 sagemaker.remote_function INFO     Collecting pyzstd>=0.15.9 (from py7zr->-r /sagemaker_remote_function_workspace/requirements.txt (line 9))\n",
      "2024-09-02 20:22:00,806 sagemaker.remote_function INFO       Downloading pyzstd-0.16.1-cp310-cp310-manylinux_2_17_x86_64.manylinux2014_x86_64.whl.metadata (2.4 kB)\n",
      "2024-09-02 20:22:00,901 sagemaker.remote_function INFO     Collecting pyppmd<1.2.0,>=1.1.0 (from py7zr->-r /sagemaker_remote_function_workspace/requirements.txt (line 9))\n",
      "2024-09-02 20:22:00,906 sagemaker.remote_function INFO       Downloading pyppmd-1.1.0-cp310-cp310-manylinux_2_17_x86_64.manylinux2014_x86_64.whl.metadata (5.7 kB)\n",
      "2024-09-02 20:22:00,958 sagemaker.remote_function INFO     Collecting pybcj<1.1.0,>=1.0.0 (from py7zr->-r /sagemaker_remote_function_workspace/requirements.txt (line 9))\n",
      "2024-09-02 20:22:00,968 sagemaker.remote_function INFO       Downloading pybcj-1.0.2-cp310-cp310-manylinux_2_17_x86_64.manylinux2014_x86_64.whl.metadata (4.0 kB)\n",
      "2024-09-02 20:22:00,982 sagemaker.remote_function INFO     Collecting multivolumefile>=0.2.3 (from py7zr->-r /sagemaker_remote_function_workspace/requirements.txt (line 9))\n",
      "2024-09-02 20:22:00,987 sagemaker.remote_function INFO       Downloading multivolumefile-0.2.3-py3-none-any.whl.metadata (6.3 kB)\n",
      "2024-09-02 20:22:01,042 sagemaker.remote_function INFO     Collecting inflate64<1.1.0,>=1.0.0 (from py7zr->-r /sagemaker_remote_function_workspace/requirements.txt (line 9))\n",
      "2024-09-02 20:22:01,046 sagemaker.remote_function INFO       Downloading inflate64-1.0.0-cp310-cp310-manylinux_2_17_x86_64.manylinux2014_x86_64.whl.metadata (4.0 kB)\n",
      "2024-09-02 20:22:01,051 sagemaker.remote_function INFO     Requirement already satisfied: brotli>=1.1.0 in /opt/conda/lib/python3.10/site-packages (from py7zr->-r /sagemaker_remote_function_workspace/requirements.txt (line 9)) (1.1.0)\n",
      "2024-09-02 20:22:01,731 sagemaker.remote_function INFO     Collecting botocore<1.36.0,>=1.35.10 (from boto3<2.0,>=1.34.142->sagemaker->-r /sagemaker_remote_function_workspace/requirements.txt (line 7))\n",
      "2024-09-02 20:22:01,735 sagemaker.remote_function INFO       Downloading botocore-1.35.10-py3-none-any.whl.metadata (5.7 kB)\n",
      "2024-09-02 20:22:01,739 sagemaker.remote_function INFO     Requirement already satisfied: jmespath<2.0.0,>=0.7.1 in /opt/conda/lib/python3.10/site-packages (from boto3<2.0,>=1.34.142->sagemaker->-r /sagemaker_remote_function_workspace/requirements.txt (line 7)) (1.0.1)\n",
      "2024-09-02 20:22:01,740 sagemaker.remote_function INFO     Requirement already satisfied: s3transfer<0.11.0,>=0.10.0 in /opt/conda/lib/python3.10/site-packages (from boto3<2.0,>=1.34.142->sagemaker->-r /sagemaker_remote_function_workspace/requirements.txt (line 7)) (0.10.0)\n",
      "2024-09-02 20:22:01,779 sagemaker.remote_function INFO     Requirement already satisfied: pyarrow>=12.0.0 in /opt/conda/lib/python3.10/site-packages (from datasets>=2.0.0->evaluate==0.4.1->-r /sagemaker_remote_function_workspace/requirements.txt (line 5)) (17.0.0)\n",
      "2024-09-02 20:22:01,780 sagemaker.remote_function INFO     Requirement already satisfied: pyarrow-hotfix in /opt/conda/lib/python3.10/site-packages (from datasets>=2.0.0->evaluate==0.4.1->-r /sagemaker_remote_function_workspace/requirements.txt (line 5)) (0.6)\n",
      "2024-09-02 20:22:01,781 sagemaker.remote_function INFO     Requirement already satisfied: aiohttp in /opt/conda/lib/python3.10/site-packages (from datasets>=2.0.0->evaluate==0.4.1->-r /sagemaker_remote_function_workspace/requirements.txt (line 5)) (3.10.1)\n",
      "2024-09-02 20:22:01,829 sagemaker.remote_function INFO     Requirement already satisfied: typing-extensions>=3.7.4.3 in /opt/conda/lib/python3.10/site-packages (from huggingface-hub<1.0,>=0.23.2->transformers==4.43.1->-r /sagemaker_remote_function_workspace/requirements.txt (line 1)) (4.10.0)\n",
      "2024-09-02 20:22:01,834 sagemaker.remote_function INFO     Requirement already satisfied: zipp>=0.5 in /opt/conda/lib/python3.10/site-packages (from importlib-metadata<7.0,>=1.4.0->sagemaker->-r /sagemaker_remote_function_workspace/requirements.txt (line 7)) (3.19.2)\n",
      "2024-09-02 20:22:01,853 sagemaker.remote_function INFO     Requirement already satisfied: charset-normalizer<4,>=2 in /opt/conda/lib/python3.10/site-packages (from requests->transformers==4.43.1->-r /sagemaker_remote_function_workspace/requirements.txt (line 1)) (3.2.0)\n",
      "2024-09-02 20:22:01,854 sagemaker.remote_function INFO     Requirement already satisfied: idna<4,>=2.5 in /opt/conda/lib/python3.10/site-packages (from requests->transformers==4.43.1->-r /sagemaker_remote_function_workspace/requirements.txt (line 1)) (3.7)\n",
      "2024-09-02 20:22:01,854 sagemaker.remote_function INFO     Requirement already satisfied: certifi>=2017.4.17 in /opt/conda/lib/python3.10/site-packages (from requests->transformers==4.43.1->-r /sagemaker_remote_function_workspace/requirements.txt (line 1)) (2024.7.4)\n",
      "2024-09-02 20:22:02,008 sagemaker.remote_function INFO     Requirement already satisfied: pydantic<3.0.0,>=1.7.0 in /opt/conda/lib/python3.10/site-packages (from sagemaker-core<2.0.0,>=1.0.0->sagemaker->-r /sagemaker_remote_function_workspace/requirements.txt (line 7)) (2.6.3)\n",
      "2024-09-02 20:22:02,009 sagemaker.remote_function INFO     Requirement already satisfied: rich<14.0.0,>=13.0.0 in /opt/conda/lib/python3.10/site-packages (from sagemaker-core<2.0.0,>=1.0.0->sagemaker->-r /sagemaker_remote_function_workspace/requirements.txt (line 7)) (13.7.1)\n",
      "2024-09-02 20:22:02,116 sagemaker.remote_function INFO     Collecting mock<5.0,>4.0 (from sagemaker-core<2.0.0,>=1.0.0->sagemaker->-r /sagemaker_remote_function_workspace/requirements.txt (line 7))\n",
      "2024-09-02 20:22:02,120 sagemaker.remote_function INFO       Downloading mock-4.0.3-py3-none-any.whl.metadata (2.8 kB)\n",
      "2024-09-02 20:22:02,129 sagemaker.remote_function INFO     Requirement already satisfied: jsonschema-specifications>=2023.03.6 in /opt/conda/lib/python3.10/site-packages (from jsonschema->sagemaker->-r /sagemaker_remote_function_workspace/requirements.txt (line 7)) (2023.12.1)\n",
      "2024-09-02 20:22:02,130 sagemaker.remote_function INFO     Requirement already satisfied: referencing>=0.28.4 in /opt/conda/lib/python3.10/site-packages (from jsonschema->sagemaker->-r /sagemaker_remote_function_workspace/requirements.txt (line 7)) (0.33.0)\n",
      "2024-09-02 20:22:02,130 sagemaker.remote_function INFO     Requirement already satisfied: rpds-py>=0.7.1 in /opt/conda/lib/python3.10/site-packages (from jsonschema->sagemaker->-r /sagemaker_remote_function_workspace/requirements.txt (line 7)) (0.18.0)\n",
      "2024-09-02 20:22:02,138 sagemaker.remote_function INFO     Requirement already satisfied: sympy in /opt/conda/lib/python3.10/site-packages (from torch>=1.13.0->peft==0.10.0->-r /sagemaker_remote_function_workspace/requirements.txt (line 2)) (1.12)\n",
      "2024-09-02 20:22:02,138 sagemaker.remote_function INFO     Requirement already satisfied: networkx in /opt/conda/lib/python3.10/site-packages (from torch>=1.13.0->peft==0.10.0->-r /sagemaker_remote_function_workspace/requirements.txt (line 2)) (3.2.1)\n",
      "2024-09-02 20:22:02,138 sagemaker.remote_function INFO     Requirement already satisfied: jinja2 in /opt/conda/lib/python3.10/site-packages (from torch>=1.13.0->peft==0.10.0->-r /sagemaker_remote_function_workspace/requirements.txt (line 2)) (3.1.4)\n",
      "2024-09-02 20:22:02,157 sagemaker.remote_function INFO     Requirement already satisfied: six in /opt/conda/lib/python3.10/site-packages (from google-pasta->sagemaker->-r /sagemaker_remote_function_workspace/requirements.txt (line 7)) (1.16.0)\n",
      "2024-09-02 20:22:02,195 sagemaker.remote_function INFO     Requirement already satisfied: python-dateutil>=2.8.2 in /opt/conda/lib/python3.10/site-packages (from pandas->evaluate==0.4.1->-r /sagemaker_remote_function_workspace/requirements.txt (line 5)) (2.8.2)\n",
      "2024-09-02 20:22:02,196 sagemaker.remote_function INFO     Requirement already satisfied: pytz>=2020.1 in /opt/conda/lib/python3.10/site-packages (from pandas->evaluate==0.4.1->-r /sagemaker_remote_function_workspace/requirements.txt (line 5)) (2024.1)\n",
      "2024-09-02 20:22:02,196 sagemaker.remote_function INFO     Requirement already satisfied: tzdata>=2022.7 in /opt/conda/lib/python3.10/site-packages (from pandas->evaluate==0.4.1->-r /sagemaker_remote_function_workspace/requirements.txt (line 5)) (2024.1)\n",
      "2024-09-02 20:22:02,199 sagemaker.remote_function INFO     Requirement already satisfied: ppft>=1.7.6.8 in /opt/conda/lib/python3.10/site-packages (from pathos->sagemaker->-r /sagemaker_remote_function_workspace/requirements.txt (line 7)) (1.7.6.8)\n",
      "2024-09-02 20:22:02,200 sagemaker.remote_function INFO     Requirement already satisfied: pox>=0.3.4 in /opt/conda/lib/python3.10/site-packages (from pathos->sagemaker->-r /sagemaker_remote_function_workspace/requirements.txt (line 7)) (0.3.4)\n",
      "2024-09-02 20:22:02,206 sagemaker.remote_function INFO     Requirement already satisfied: contextlib2>=0.5.5 in /opt/conda/lib/python3.10/site-packages (from schema->sagemaker->-r /sagemaker_remote_function_workspace/requirements.txt (line 7)) (21.6.0)\n",
      "2024-09-02 20:22:02,213 sagemaker.remote_function INFO     Requirement already satisfied: aiohappyeyeballs>=2.3.0 in /opt/conda/lib/python3.10/site-packages (from aiohttp->datasets>=2.0.0->evaluate==0.4.1->-r /sagemaker_remote_function_workspace/requirements.txt (line 5)) (2.3.5)\n",
      "2024-09-02 20:22:02,214 sagemaker.remote_function INFO     Requirement already satisfied: aiosignal>=1.1.2 in /opt/conda/lib/python3.10/site-packages (from aiohttp->datasets>=2.0.0->evaluate==0.4.1->-r /sagemaker_remote_function_workspace/requirements.txt (line 5)) (1.3.1)\n",
      "2024-09-02 20:22:02,214 sagemaker.remote_function INFO     Requirement already satisfied: frozenlist>=1.1.1 in /opt/conda/lib/python3.10/site-packages (from aiohttp->datasets>=2.0.0->evaluate==0.4.1->-r /sagemaker_remote_function_workspace/requirements.txt (line 5)) (1.4.1)\n",
      "2024-09-02 20:22:02,215 sagemaker.remote_function INFO     Requirement already satisfied: multidict<7.0,>=4.5 in /opt/conda/lib/python3.10/site-packages (from aiohttp->datasets>=2.0.0->evaluate==0.4.1->-r /sagemaker_remote_function_workspace/requirements.txt (line 5)) (6.0.5)\n",
      "2024-09-02 20:22:02,215 sagemaker.remote_function INFO     Requirement already satisfied: yarl<2.0,>=1.0 in /opt/conda/lib/python3.10/site-packages (from aiohttp->datasets>=2.0.0->evaluate==0.4.1->-r /sagemaker_remote_function_workspace/requirements.txt (line 5)) (1.9.4)\n",
      "2024-09-02 20:22:02,216 sagemaker.remote_function INFO     Requirement already satisfied: async-timeout<5.0,>=4.0 in /opt/conda/lib/python3.10/site-packages (from aiohttp->datasets>=2.0.0->evaluate==0.4.1->-r /sagemaker_remote_function_workspace/requirements.txt (line 5)) (4.0.3)\n",
      "2024-09-02 20:22:02,242 sagemaker.remote_function INFO     Requirement already satisfied: annotated-types>=0.4.0 in /opt/conda/lib/python3.10/site-packages (from pydantic<3.0.0,>=1.7.0->sagemaker-core<2.0.0,>=1.0.0->sagemaker->-r /sagemaker_remote_function_workspace/requirements.txt (line 7)) (0.6.0)\n",
      "2024-09-02 20:22:02,242 sagemaker.remote_function INFO     Requirement already satisfied: pydantic-core==2.16.3 in /opt/conda/lib/python3.10/site-packages (from pydantic<3.0.0,>=1.7.0->sagemaker-core<2.0.0,>=1.0.0->sagemaker->-r /sagemaker_remote_function_workspace/requirements.txt (line 7)) (2.16.3)\n",
      "2024-09-02 20:22:02,254 sagemaker.remote_function INFO     Requirement already satisfied: markdown-it-py>=2.2.0 in /opt/conda/lib/python3.10/site-packages (from rich<14.0.0,>=13.0.0->sagemaker-core<2.0.0,>=1.0.0->sagemaker->-r /sagemaker_remote_function_workspace/requirements.txt (line 7)) (3.0.0)\n",
      "2024-09-02 20:22:02,255 sagemaker.remote_function INFO     Requirement already satisfied: pygments<3.0.0,>=2.13.0 in /opt/conda/lib/python3.10/site-packages (from rich<14.0.0,>=13.0.0->sagemaker-core<2.0.0,>=1.0.0->sagemaker->-r /sagemaker_remote_function_workspace/requirements.txt (line 7)) (2.17.2)\n",
      "2024-09-02 20:22:02,449 sagemaker.remote_function INFO     Requirement already satisfied: MarkupSafe>=2.0 in /opt/conda/lib/python3.10/site-packages (from jinja2->torch>=1.13.0->peft==0.10.0->-r /sagemaker_remote_function_workspace/requirements.txt (line 2)) (2.1.5)\n",
      "2024-09-02 20:22:02,460 sagemaker.remote_function INFO     Requirement already satisfied: mpmath>=0.19 in /opt/conda/lib/python3.10/site-packages (from sympy->torch>=1.13.0->peft==0.10.0->-r /sagemaker_remote_function_workspace/requirements.txt (line 2)) (1.3.0)\n",
      "2024-09-02 20:22:02,479 sagemaker.remote_function INFO     Requirement already satisfied: mdurl~=0.1 in /opt/conda/lib/python3.10/site-packages (from markdown-it-py>=2.2.0->rich<14.0.0,>=13.0.0->sagemaker-core<2.0.0,>=1.0.0->sagemaker->-r /sagemaker_remote_function_workspace/requirements.txt (line 7)) (0.1.2)\n",
      "2024-09-02 20:22:02,502 sagemaker.remote_function INFO     Downloading transformers-4.43.1-py3-none-any.whl (9.4 MB)\n",
      "2024-09-02 20:22:02,563 sagemaker.remote_function INFO        ━━━━━━━━━━━━━━━━━━━━━━━━━━━━━━━━━━━━━━━━ 9.4/9.4 MB 159.5 MB/s eta 0:00:00\n",
      "2024-09-02 20:22:02,568 sagemaker.remote_function INFO     Downloading peft-0.10.0-py3-none-any.whl (199 kB)\n",
      "2024-09-02 20:22:02,575 sagemaker.remote_function INFO     Downloading accelerate-0.29.3-py3-none-any.whl (297 kB)\n",
      "2024-09-02 20:22:02,582 sagemaker.remote_function INFO     Downloading bitsandbytes-0.43.1-py3-none-manylinux_2_24_x86_64.whl (119.8 MB)\n",
      "2024-09-02 20:22:03,424 sagemaker.remote_function INFO        ━━━━━━━━━━━━━━━━━━━━━━━━━━━━━━━━━━━━━━━ 119.8/119.8 MB 142.7 MB/s eta 0:00:00\n",
      "2024-09-02 20:22:03,431 sagemaker.remote_function INFO     Downloading sagemaker-2.231.0-py3-none-any.whl (1.6 MB)\n",
      "2024-09-02 20:22:03,442 sagemaker.remote_function INFO        ━━━━━━━━━━━━━━━━━━━━━━━━━━━━━━━━━━━━━━━━ 1.6/1.6 MB 151.5 MB/s eta 0:00:00\n",
      "2024-09-02 20:22:03,446 sagemaker.remote_function INFO     Downloading tokenizers-0.19.1-cp310-cp310-manylinux_2_17_x86_64.manylinux2014_x86_64.whl (3.6 MB)\n",
      "2024-09-02 20:22:03,471 sagemaker.remote_function INFO        ━━━━━━━━━━━━━━━━━━━━━━━━━━━━━━━━━━━━━━━━ 3.6/3.6 MB 152.9 MB/s eta 0:00:00\n",
      "2024-09-02 20:22:03,476 sagemaker.remote_function INFO     Downloading py7zr-0.22.0-py3-none-any.whl (67 kB)\n",
      "2024-09-02 20:22:03,483 sagemaker.remote_function INFO     Downloading boto3-1.35.10-py3-none-any.whl (139 kB)\n",
      "2024-09-02 20:22:03,490 sagemaker.remote_function INFO     Downloading inflate64-1.0.0-cp310-cp310-manylinux_2_17_x86_64.manylinux2014_x86_64.whl (93 kB)\n",
      "2024-09-02 20:22:03,496 sagemaker.remote_function INFO     Downloading multivolumefile-0.2.3-py3-none-any.whl (17 kB)\n",
      "2024-09-02 20:22:03,502 sagemaker.remote_function INFO     Downloading pybcj-1.0.2-cp310-cp310-manylinux_2_17_x86_64.manylinux2014_x86_64.whl (49 kB)\n",
      "2024-09-02 20:22:03,510 sagemaker.remote_function INFO     Downloading pycryptodomex-3.20.0-cp35-abi3-manylinux_2_17_x86_64.manylinux2014_x86_64.whl (2.1 MB)\n",
      "2024-09-02 20:22:03,525 sagemaker.remote_function INFO        ━━━━━━━━━━━━━━━━━━━━━━━━━━━━━━━━━━━━━━━━ 2.1/2.1 MB 149.0 MB/s eta 0:00:00\n",
      "2024-09-02 20:22:03,530 sagemaker.remote_function INFO     Downloading pyppmd-1.1.0-cp310-cp310-manylinux_2_17_x86_64.manylinux2014_x86_64.whl (138 kB)\n",
      "2024-09-02 20:22:03,536 sagemaker.remote_function INFO     Downloading pyzstd-0.16.1-cp310-cp310-manylinux_2_17_x86_64.manylinux2014_x86_64.whl (413 kB)\n",
      "2024-09-02 20:22:03,543 sagemaker.remote_function INFO     Downloading sagemaker_core-1.0.1-py3-none-any.whl (375 kB)\n",
      "2024-09-02 20:22:03,549 sagemaker.remote_function INFO     Downloading texttable-1.7.0-py2.py3-none-any.whl (10 kB)\n",
      "2024-09-02 20:22:03,559 sagemaker.remote_function INFO     Downloading botocore-1.35.10-py3-none-any.whl (12.5 MB)\n",
      "2024-09-02 20:22:03,644 sagemaker.remote_function INFO        ━━━━━━━━━━━━━━━━━━━━━━━━━━━━━━━━━━━━━━━━ 12.5/12.5 MB 148.5 MB/s eta 0:00:00\n",
      "2024-09-02 20:22:03,649 sagemaker.remote_function INFO     Downloading mock-4.0.3-py3-none-any.whl (28 kB)\n",
      "2024-09-02 20:22:04,743 sagemaker.remote_function INFO     Installing collected packages: texttable, pyzstd, pyppmd, pycryptodomex, pybcj, multivolumefile, mock, inflate64, py7zr, botocore, tokenizers, bitsandbytes, accelerate, transformers, boto3, sagemaker-core, peft, sagemaker\n",
      "2024-09-02 20:22:05,230 sagemaker.remote_function INFO       Attempting uninstall: botocore\n",
      "2024-09-02 20:22:05,231 sagemaker.remote_function INFO         Found existing installation: botocore 1.34.52\n",
      "2024-09-02 20:22:05,308 sagemaker.remote_function INFO         Uninstalling botocore-1.34.52:\n",
      "2024-09-02 20:22:05,785 sagemaker.remote_function INFO           Successfully uninstalled botocore-1.34.52\n",
      "2024-09-02 20:22:06,375 sagemaker.remote_function INFO       Attempting uninstall: tokenizers\n",
      "2024-09-02 20:22:06,377 sagemaker.remote_function INFO         Found existing installation: tokenizers 0.15.2\n",
      "2024-09-02 20:22:06,381 sagemaker.remote_function INFO         Uninstalling tokenizers-0.15.2:\n",
      "2024-09-02 20:22:06,400 sagemaker.remote_function INFO           Successfully uninstalled tokenizers-0.15.2\n",
      "2024-09-02 20:22:06,481 sagemaker.remote_function INFO       Attempting uninstall: bitsandbytes\n",
      "2024-09-02 20:22:06,482 sagemaker.remote_function INFO         Found existing installation: bitsandbytes 0.43.3\n",
      "2024-09-02 20:22:06,490 sagemaker.remote_function INFO         Uninstalling bitsandbytes-0.43.3:\n",
      "2024-09-02 20:22:06,735 sagemaker.remote_function INFO           Successfully uninstalled bitsandbytes-0.43.3\n",
      "2024-09-02 20:22:08,417 sagemaker.remote_function INFO       Attempting uninstall: accelerate\n",
      "2024-09-02 20:22:08,418 sagemaker.remote_function INFO         Found existing installation: accelerate 0.25.0\n",
      "2024-09-02 20:22:08,428 sagemaker.remote_function INFO         Uninstalling accelerate-0.25.0:\n",
      "2024-09-02 20:22:08,461 sagemaker.remote_function INFO           Successfully uninstalled accelerate-0.25.0\n",
      "2024-09-02 20:22:08,607 sagemaker.remote_function INFO       Attempting uninstall: transformers\n",
      "2024-09-02 20:22:08,611 sagemaker.remote_function INFO         Found existing installation: transformers 4.36.0\n",
      "2024-09-02 20:22:08,787 sagemaker.remote_function INFO         Uninstalling transformers-4.36.0:\n",
      "2024-09-02 20:22:09,411 sagemaker.remote_function INFO           Successfully uninstalled transformers-4.36.0\n",
      "2024-09-02 20:22:13,900 sagemaker.remote_function INFO       Attempting uninstall: boto3\n",
      "2024-09-02 20:22:13,900 sagemaker.remote_function INFO         Found existing installation: boto3 1.34.52\n",
      "2024-09-02 20:22:13,908 sagemaker.remote_function INFO         Uninstalling boto3-1.34.52:\n",
      "2024-09-02 20:22:13,934 sagemaker.remote_function INFO           Successfully uninstalled boto3-1.34.52\n",
      "2024-09-02 20:22:14,241 sagemaker.remote_function INFO       Attempting uninstall: peft\n",
      "2024-09-02 20:22:14,242 sagemaker.remote_function INFO         Found existing installation: peft 0.7.1\n",
      "2024-09-02 20:22:14,252 sagemaker.remote_function INFO         Uninstalling peft-0.7.1:\n",
      "2024-09-02 20:22:14,279 sagemaker.remote_function INFO           Successfully uninstalled peft-0.7.1\n",
      "2024-09-02 20:22:14,385 sagemaker.remote_function INFO       Attempting uninstall: sagemaker\n",
      "2024-09-02 20:22:14,387 sagemaker.remote_function INFO         Found existing installation: sagemaker 2.224.4\n",
      "2024-09-02 20:22:14,442 sagemaker.remote_function INFO         Uninstalling sagemaker-2.224.4:\n",
      "2024-09-02 20:22:14,637 sagemaker.remote_function INFO           Successfully uninstalled sagemaker-2.224.4\n",
      "2024-09-02 20:22:15,354 sagemaker.remote_function INFO     Successfully installed accelerate-0.29.3 bitsandbytes-0.43.1 boto3-1.35.10 botocore-1.35.10 inflate64-1.0.0 mock-4.0.3 multivolumefile-0.2.3 peft-0.10.0 py7zr-0.22.0 pybcj-1.0.2 pycryptodomex-3.20.0 pyppmd-1.1.0 pyzstd-0.16.1 sagemaker-2.231.0 sagemaker-core-1.0.1 texttable-1.7.0 tokenizers-0.19.1 transformers-4.43.1\n",
      "2024-09-02 20:22:15,883 sagemaker.remote_function ERROR    ERROR: pip's dependency resolver does not currently take into account all the packages that are installed. This behaviour is the source of the following dependency conflicts.\n",
      "2024-09-02 20:22:15,883 sagemaker.remote_function WARNING  awscli 1.32.52 requires botocore==1.34.52, but you have botocore 1.35.10 which is incompatible.\n",
      "2024-09-02 20:22:15,883 sagemaker.remote_function WARNING  WARNING: Running pip as the 'root' user can result in broken permissions and conflicting behaviour with the system package manager, possibly rendering your system unusable.It is recommended to use a virtual environment instead: https://pip.pypa.io/warnings/venv. Use the --root-user-action option if you know what you are doing and want to suppress this warning.\n",
      "2024-09-02 20:22:15,883 sagemaker.remote_function INFO     Command /opt/conda/bin/python -m pip install -r /sagemaker_remote_function_workspace/requirements.txt -U ran successfully\n",
      "sagemaker.config INFO - Not applying SDK defaults from location: /etc/xdg/sagemaker/config.yaml\n",
      "sagemaker.config INFO - Not applying SDK defaults from location: /root/.config/sagemaker/config.yaml\n",
      "INFO: Changing workspace to sagemaker_remote_function_workspace.\n",
      "INFO: No conda env provided. Invoking remote function\n",
      "sagemaker.config INFO - Not applying SDK defaults from location: /etc/xdg/sagemaker/config.yaml\n",
      "sagemaker.config INFO - Not applying SDK defaults from location: /root/.config/sagemaker/config.yaml\n",
      "2024-09-02 20:22:18,252 sagemaker.remote_function INFO     Deserializing function code from s3://sagemaker-eu-central-1-505049265445/train-Meta-Llama-3-1-8B-Instruct-2024-09-02-20-17-03-735/function\n",
      "2024-09-02 20:22:21,621 sagemaker.remote_function INFO     Deserializing function arguments from s3://sagemaker-eu-central-1-505049265445/train-Meta-Llama-3-1-8B-Instruct-2024-09-02-20-17-03-735/arguments\n",
      "INFO:datasets:PyTorch version 2.1.0 available.\n",
      "2024-09-02 20:22:21,833 sagemaker.remote_function ERROR    Error encountered while invoking the remote function.\n",
      "Traceback (most recent call last):\n",
      "  File \"/opt/conda/lib/python3.10/site-packages/sagemaker/remote_function/core/serialization.py\", line 141, in deserialize\n",
      "    return cloudpickle.loads(bytes_to_deserialize)\n",
      "  File \"/opt/conda/lib/python3.10/site-packages/datasets/table.py\", line 1028, in __setstate__\n",
      "    table = _memory_mapped_arrow_table_from_file(path)\n",
      "  File \"/opt/conda/lib/python3.10/site-packages/datasets/table.py\", line 64, in _memory_mapped_arrow_table_from_file\n",
      "    opened_stream = _memory_mapped_record_batch_reader_from_file(filename)\n",
      "  File \"/opt/conda/lib/python3.10/site-packages/datasets/table.py\", line 49, in _memory_mapped_record_batch_reader_from_file\n",
      "    memory_mapped_stream = pa.memory_map(filename)\n",
      "  File \"pyarrow/io.pxi\", line 1147, in pyarrow.lib.memory_map\n",
      "  File \"pyarrow/io.pxi\", line 1094, in pyarrow.lib.MemoryMappedFile._open\n",
      "  File \"pyarrow/error.pxi\", line 155, in pyarrow.lib.pyarrow_internal_check_status\n",
      "  File \"pyarrow/error.pxi\", line 92, in pyarrow.lib.check_status\n",
      "FileNotFoundError: [Errno 2] Failed to open local file '/home/ec2-user/.cache/huggingface/datasets/json/default-ad9c6fc03fc6bcad/0.0.0/f4e89e8750d5d5ffbef2c078bf0ddfedef29dc2faff52a6255cf513c05eb1092/cache-c8691f8338e34dac_00000_of_00008.arrow'. Detail: [errno 2] No such file or directory\n",
      "The above exception was the direct cause of the following exception:\n",
      "Traceback (most recent call last):\n",
      "  File \"/opt/conda/lib/python3.10/site-packages/sagemaker/remote_function/invoke_function.py\", line 144, in main\n",
      "    _execute_remote_function(\n",
      "  File \"/opt/conda/lib/python3.10/site-packages/sagemaker/remote_function/invoke_function.py\", line 119, in _execute_remote_function\n",
      "    stored_function.load_and_invoke()\n",
      "  File \"/opt/conda/lib/python3.10/site-packages/sagemaker/remote_function/core/stored_function.py\", line 172, in load_and_invoke\n",
      "    args, kwargs = serialization.deserialize_obj_from_s3(\n",
      "  File \"/opt/conda/lib/python3.10/site-packages/sagemaker/remote_function/core/serialization.py\", line 297, in deserialize_obj_from_s3\n",
      "    return CloudpickleSerializer.deserialize(f\"{s3_uri}/payload.pkl\", bytes_to_deserialize)\n",
      "  File \"/opt/conda/lib/python3.10/site-packages/sagemaker/remote_function/core/serialization.py\", line 143, in deserialize\n",
      "    raise DeserializationError(\n",
      "sagemaker.remote_function.errors.DeserializationError: Error when deserializing bytes downloaded from s3://sagemaker-eu-central-1-505049265445/train-Meta-Llama-3-1-8B-Instruct-2024-09-02-20-17-03-735/arguments/payload.pkl: FileNotFoundError(2, \"Failed to open local file '/home/ec2-user/.cache/huggingface/datasets/json/default-ad9c6fc03fc6bcad/0.0.0/f4e89e8750d5d5ffbef2c078bf0ddfedef29dc2faff52a6255cf513c05eb1092/cache-c8691f8338e34dac_00000_of_00008.arrow'. Detail: [errno 2] No such file or directory\"). NOTE: this may be caused by inconsistent sagemaker python sdk versions where remote function runs versus the one used on client side. If the sagemaker versions do not match, a warning message would be logged starting with 'Inconsistent sagemaker versions found'. Please check it to validate.\n",
      "\n",
      "2024-09-02 20:22:38 Uploading - Uploading generated training model\n",
      "2024-09-02 20:22:38 Failed - Training job failed\n"
     ]
    },
    {
     "ename": "DeserializationError",
     "evalue": "Error when deserializing bytes downloaded from s3://sagemaker-eu-central-1-505049265445/train-Meta-Llama-3-1-8B-Instruct-2024-09-02-20-17-03-735/arguments/payload.pkl: FileNotFoundError(2, \"Failed to open local file '/home/ec2-user/.cache/huggingface/datasets/json/default-ad9c6fc03fc6bcad/0.0.0/f4e89e8750d5d5ffbef2c078bf0ddfedef29dc2faff52a6255cf513c05eb1092/cache-c8691f8338e34dac_00000_of_00008.arrow'. Detail: [errno 2] No such file or directory\"). NOTE: this may be caused by inconsistent sagemaker python sdk versions where remote function runs versus the one used on client side. If the sagemaker versions do not match, a warning message would be logged starting with 'Inconsistent sagemaker versions found'. Please check it to validate.",
     "output_type": "error",
     "traceback": [
      "\u001b[0;31m---------------------------------------------------------------------------\u001b[0m",
      "\u001b[0;31mFileNotFoundError\u001b[0m                         Traceback (most recent call last)",
      "File \u001b[0;32m/opt/conda/lib/python3.10/site-packages/sagemaker/remote_function/core/serialization.py:141\u001b[0m, in \u001b[0;36mdeserialize\u001b[0;34m()\u001b[0m\n",
      "File \u001b[0;32m/opt/conda/lib/python3.10/site-packages/datasets/table.py:1028\u001b[0m, in \u001b[0;36m__setstate__\u001b[0;34m()\u001b[0m\n",
      "File \u001b[0;32m/opt/conda/lib/python3.10/site-packages/datasets/table.py:64\u001b[0m, in \u001b[0;36m_memory_mapped_arrow_table_from_file\u001b[0;34m()\u001b[0m\n",
      "File \u001b[0;32m/opt/conda/lib/python3.10/site-packages/datasets/table.py:49\u001b[0m, in \u001b[0;36m_memory_mapped_record_batch_reader_from_file\u001b[0;34m()\u001b[0m\n",
      "File \u001b[0;32m~/anaconda3/envs/pytorch_p310/lib/python3.10/site-packages/pyarrow/io.pxi:1147\u001b[0m, in \u001b[0;36mpyarrow.lib.memory_map\u001b[0;34m()\u001b[0m\n\u001b[1;32m   1146\u001b[0m cdef MemoryMappedFile mmap = MemoryMappedFile()\n\u001b[0;32m-> 1147\u001b[0m mmap._open(path, mode)\n\u001b[1;32m   1148\u001b[0m return mmap\n",
      "File \u001b[0;32m~/anaconda3/envs/pytorch_p310/lib/python3.10/site-packages/pyarrow/io.pxi:1094\u001b[0m, in \u001b[0;36mpyarrow.lib.MemoryMappedFile._open\u001b[0;34m()\u001b[0m\n\u001b[1;32m   1093\u001b[0m with nogil:\n\u001b[0;32m-> 1094\u001b[0m     handle = GetResultValue(CMemoryMappedFile.Open(c_path, c_mode))\n\u001b[1;32m   1095\u001b[0m \n",
      "File \u001b[0;32m~/anaconda3/envs/pytorch_p310/lib/python3.10/site-packages/pyarrow/error.pxi:155\u001b[0m, in \u001b[0;36mpyarrow.lib.pyarrow_internal_check_status\u001b[0;34m()\u001b[0m\n\u001b[1;32m    154\u001b[0m     except -1 nogil:\n\u001b[0;32m--> 155\u001b[0m return check_status(status)\n\u001b[1;32m    156\u001b[0m \n",
      "File \u001b[0;32m~/anaconda3/envs/pytorch_p310/lib/python3.10/site-packages/pyarrow/error.pxi:92\u001b[0m, in \u001b[0;36mpyarrow.lib.check_status\u001b[0;34m()\u001b[0m\n\u001b[1;32m     91\u001b[0m \n\u001b[0;32m---> 92\u001b[0m         raise convert_status(status)\n\u001b[1;32m     93\u001b[0m \n",
      "\u001b[0;31mFileNotFoundError\u001b[0m: [Errno 2] Failed to open local file '/home/ec2-user/.cache/huggingface/datasets/json/default-ad9c6fc03fc6bcad/0.0.0/f4e89e8750d5d5ffbef2c078bf0ddfedef29dc2faff52a6255cf513c05eb1092/cache-c8691f8338e34dac_00000_of_00008.arrow'. Detail: [errno 2] No such file or directory",
      "\nThe above exception was the direct cause of the following exception:\n",
      "\u001b[0;31mDeserializationError\u001b[0m                      Traceback (most recent call last)",
      "Cell \u001b[0;32mIn[20], line 1\u001b[0m\n\u001b[0;32m----> 1\u001b[0m train_fn(\n\u001b[1;32m      2\u001b[0m     model_id,\n\u001b[1;32m      3\u001b[0m     train_ds\u001b[39m=\u001b[39;49mtrain_data,\n\u001b[1;32m      4\u001b[0m     test_ds\u001b[39m=\u001b[39;49mtest_data,\n\u001b[1;32m      5\u001b[0m     per_device_train_batch_size\u001b[39m=\u001b[39;49m\u001b[39m2\u001b[39;49m,\n\u001b[1;32m      6\u001b[0m     per_device_eval_batch_size\u001b[39m=\u001b[39;49m\u001b[39m1\u001b[39;49m,\n\u001b[1;32m      7\u001b[0m     gradient_accumulation_steps\u001b[39m=\u001b[39;49m\u001b[39m2\u001b[39;49m,\n\u001b[1;32m      8\u001b[0m     gradient_checkpointing\u001b[39m=\u001b[39;49m\u001b[39mTrue\u001b[39;49;00m,\n\u001b[1;32m      9\u001b[0m     num_train_epochs\u001b[39m=\u001b[39;49m\u001b[39m1\u001b[39;49m,\n\u001b[1;32m     10\u001b[0m     merge_weights\u001b[39m=\u001b[39;49m\u001b[39mTrue\u001b[39;49;00m,\n\u001b[1;32m     11\u001b[0m     token\u001b[39m=\u001b[39;49m\u001b[39m\"\u001b[39;49m\u001b[39m<HF_TOKEN>\u001b[39;49m\u001b[39m\"\u001b[39;49m\n\u001b[1;32m     12\u001b[0m )\n",
      "File \u001b[0;32m~/anaconda3/envs/pytorch_p310/lib/python3.10/site-packages/sagemaker/remote_function/client.py:375\u001b[0m, in \u001b[0;36mremote.<locals>._remote.<locals>.wrapper\u001b[0;34m(*args, **kwargs)\u001b[0m\n\u001b[1;32m    369\u001b[0m                 \u001b[39mraise\u001b[39;00m RemoteFunctionError(\n\u001b[1;32m    370\u001b[0m                     \u001b[39m\"\u001b[39m\u001b[39mFailed to execute remote function. \u001b[39m\u001b[39m\"\u001b[39m\n\u001b[1;32m    371\u001b[0m                     \u001b[39m+\u001b[39m \u001b[39m\"\u001b[39m\u001b[39mCheck corresponding job for details.\u001b[39m\u001b[39m\"\u001b[39m\n\u001b[1;32m    372\u001b[0m                 )\n\u001b[1;32m    373\u001b[0m             \u001b[39mraise\u001b[39;00m serr\n\u001b[0;32m--> 375\u001b[0m         \u001b[39mraise\u001b[39;00m exception\n\u001b[1;32m    377\u001b[0m     \u001b[39mraise\u001b[39;00m \u001b[39mTimeoutError\u001b[39;00m(\n\u001b[1;32m    378\u001b[0m         \u001b[39m\"\u001b[39m\u001b[39mJob for remote function timed out before reaching a termination status.\u001b[39m\u001b[39m\"\u001b[39m\n\u001b[1;32m    379\u001b[0m     )\n\u001b[1;32m    381\u001b[0m \u001b[39mif\u001b[39;00m job\u001b[39m.\u001b[39mdescribe()[\u001b[39m\"\u001b[39m\u001b[39mTrainingJobStatus\u001b[39m\u001b[39m\"\u001b[39m] \u001b[39m==\u001b[39m \u001b[39m\"\u001b[39m\u001b[39mCompleted\u001b[39m\u001b[39m\"\u001b[39m:\n",
      "File \u001b[0;32m/opt/conda/lib/python3.10/site-packages/sagemaker/remote_function/invoke_function.py:144\u001b[0m, in \u001b[0;36mmain\u001b[0;34m()\u001b[0m\n",
      "File \u001b[0;32m/opt/conda/lib/python3.10/site-packages/sagemaker/remote_function/invoke_function.py:119\u001b[0m, in \u001b[0;36m_execute_remote_function\u001b[0;34m()\u001b[0m\n",
      "File \u001b[0;32m/opt/conda/lib/python3.10/site-packages/sagemaker/remote_function/core/stored_function.py:172\u001b[0m, in \u001b[0;36mload_and_invoke\u001b[0;34m()\u001b[0m\n",
      "File \u001b[0;32m/opt/conda/lib/python3.10/site-packages/sagemaker/remote_function/core/serialization.py:297\u001b[0m, in \u001b[0;36mdeserialize_obj_from_s3\u001b[0;34m()\u001b[0m\n",
      "File \u001b[0;32m/opt/conda/lib/python3.10/site-packages/sagemaker/remote_function/core/serialization.py:143\u001b[0m, in \u001b[0;36mdeserialize\u001b[0;34m()\u001b[0m\n",
      "\u001b[0;31mDeserializationError\u001b[0m: Error when deserializing bytes downloaded from s3://sagemaker-eu-central-1-505049265445/train-Meta-Llama-3-1-8B-Instruct-2024-09-02-20-17-03-735/arguments/payload.pkl: FileNotFoundError(2, \"Failed to open local file '/home/ec2-user/.cache/huggingface/datasets/json/default-ad9c6fc03fc6bcad/0.0.0/f4e89e8750d5d5ffbef2c078bf0ddfedef29dc2faff52a6255cf513c05eb1092/cache-c8691f8338e34dac_00000_of_00008.arrow'. Detail: [errno 2] No such file or directory\"). NOTE: this may be caused by inconsistent sagemaker python sdk versions where remote function runs versus the one used on client side. If the sagemaker versions do not match, a warning message would be logged starting with 'Inconsistent sagemaker versions found'. Please check it to validate."
     ]
    }
   ],
   "source": [
    "train_fn(\n",
    "    model_id,\n",
    "    train_ds=train_data,\n",
    "    test_ds=test_data,\n",
    "    per_device_train_batch_size=2,\n",
    "    per_device_eval_batch_size=1,\n",
    "    gradient_accumulation_steps=2,\n",
    "    gradient_checkpointing=True,\n",
    "    num_train_epochs=1,\n",
    "    merge_weights=True,\n",
    "    token=\"<HF_TOKEN>\"\n",
    ")"
   ]
  },
  {
   "cell_type": "code",
   "execution_count": null,
   "metadata": {},
   "outputs": [],
   "source": []
  },
  {
   "cell_type": "code",
   "execution_count": null,
   "metadata": {},
   "outputs": [],
   "source": []
  },
  {
   "cell_type": "code",
   "execution_count": null,
   "metadata": {},
   "outputs": [],
   "source": []
  },
  {
   "cell_type": "code",
   "execution_count": null,
   "metadata": {},
   "outputs": [],
   "source": []
  }
 ],
 "metadata": {
  "kernelspec": {
   "display_name": "pytorch_p310",
   "language": "python",
   "name": "python3"
  },
  "language_info": {
   "codemirror_mode": {
    "name": "ipython",
    "version": 3
   },
   "file_extension": ".py",
   "mimetype": "text/x-python",
   "name": "python",
   "nbconvert_exporter": "python",
   "pygments_lexer": "ipython3",
   "version": "3.10.14"
  },
  "orig_nbformat": 4
 },
 "nbformat": 4,
 "nbformat_minor": 2
}
