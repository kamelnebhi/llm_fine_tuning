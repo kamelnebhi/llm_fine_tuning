{
 "cells": [
  {
   "attachments": {},
   "cell_type": "markdown",
   "metadata": {},
   "source": [
    "# Fine-tune Llama 3 with PyTorch FSDP and Q-Lora on Amazon SageMaker\n",
    "\n",
    "This blog post walks you thorugh how to fine-tune a Llama 3 using PyTorch FSDP and Q-Lora with the help of Hugging Face [TRL](https://huggingface.co/docs/trl/index), [Transformers](https://huggingface.co/docs/transformers/index), [peft](https://huggingface.co/docs/peft/index) & [datasets](https://huggingface.co/docs/datasets/index) on Amazon SageMAker. In addition to FSDP we will use [Flash Attention v2](https://github.com/Dao-AILab/flash-attention) implementation. \n",
    "\n",
    "This blog is an extension and dedicated version to my [Efficiently fine-tune Llama 3 with PyTorch FSDP and Q-Lora](https://www.philschmid.de/fsdp-qlora-llama3) version, specifically tailored to run on Amazon SageMaker.\n",
    "\n",
    "1. [Setup development environment](#2-setup-development-environment)\n",
    "2. [Create and prepare the dataset](#3-create-and-prepare-the-dataset)\n",
    "3. [Fine-tune Llama 3 on Amazon SageMaker](#4-fine-tune-llm-using-trl-and-the-sfttrainer)\n",
    "4. [Deploy & Test fine-tuned Llama 3 on Amazon SageMaker](#5-test-and-evaluate-the-llm)\n",
    "\n",
    "_Note: This blog was created and validated on `ml.p4d.24xlarge` and `ml.g5.48.xlarge` instances. The configurations and code are optimized for `ml.p4d.24xlarge` with 8xA100 GPUs each with 40GB of Memory. We tried `ml.g5.12xlarge` but Amazon SageMaker reserves more memory than EC2. We plan to add support for `trn1` in the coming weeks._\n",
    "\n",
    "**FSDP + Q-Lora Background**\n",
    "\n",
    "In a collaboration between [Answer.AI](https://www.answer.ai/posts/2024-03-06-fsdp-qlora.html), Tim Dettmers [Q-Lora creator](https://github.com/TimDettmers/bitsandbytes) and [Hugging Face](https://huggingface.co/), we are proud to announce to share the support of Q-Lora and PyTorch FSDP (Fully Sharded Data Parallel). FSDP and Q-Lora allows you now to fine-tune Llama 2 70b or Mixtral 8x7B on 2x consumer GPUs (24GB). If you want to learn more about the background of this collaboration take a look at [You can now train a 70b language model at home](https://www.answer.ai/posts/2024-03-06-fsdp-qlora.html). Hugging Face PEFT is were the magic happens for this happens, read more about it in the [PEFT documentation](https://huggingface.co/docs/peft/v0.10.0/en/accelerate/fsdp).\n",
    "\n",
    "* [PyTorch FSDP](https://pytorch.org/blog/introducing-pytorch-fully-sharded-data-parallel-api/) is a data/model parallelism technique that shards model across GPUs, reducing memory requirements and enabling the training of larger models more efficiently​​​​​​.\n",
    "* Q-LoRA is a fine-tuning method that leverages quantization and Low-Rank Adapters to efficiently reduced computational requirements and memory footprint. \n",
    "\n",
    "This blog post walks you thorugh how to fine-tune open LLMs from Hugging Face using Amazon SageMaker. This blog is an extension and dedicated version to my [How to Fine-Tune LLMs in 2024 with Hugging Face](https://www.philschmid.de/fine-tune-llms-in-2024-with-trl) version, specifically tailored to run on Amazon SageMaker.\n",
    "\n",
    "\n",
    "\n",
    "## 1. Setup Development Environment\n",
    "\n",
    "Our first step is to install Hugging Face Libraries we need on the client to correctly prepare our dataset and start our training/evaluations jobs. "
   ]
  },
  {
   "cell_type": "code",
   "execution_count": 4,
   "metadata": {},
   "outputs": [],
   "source": [
    "#!pip install transformers datasets \"sagemaker>=2.229.0\" \"huggingface_hub[cli]\" --upgrade --quiet"
   ]
  },
  {
   "attachments": {},
   "cell_type": "markdown",
   "metadata": {},
   "source": [
    "Next we need to login into Hugging Face to access the Llama 3 70b model and store our trained model on Hugging Face. If you don't have an account yet and accepted the terms, you can create one [here](https://huggingface.co/join). "
   ]
  },
  {
   "cell_type": "markdown",
   "metadata": {},
   "source": [
    "If you are going to use Sagemaker in a local environment. You need access to an IAM Role with the required permissions for Sagemaker. You can find [here](https://docs.aws.amazon.com/sagemaker/latest/dg/sagemaker-roles.html) more about it.\n",
    "\n"
   ]
  },
  {
   "cell_type": "code",
   "execution_count": 1,
   "metadata": {},
   "outputs": [
    {
     "name": "stdout",
     "output_type": "stream",
     "text": [
      "sagemaker.config INFO - Not applying SDK defaults from location: /etc/xdg/sagemaker/config.yaml\n",
      "sagemaker.config INFO - Not applying SDK defaults from location: /home/ec2-user/.config/sagemaker/config.yaml\n"
     ]
    }
   ],
   "source": [
    "# load data from s3 bucket\n",
    "import boto3\n",
    "import sagemaker\n",
    "\n",
    "region_name = 'eu-central-1'\n",
    "\n",
    "session = boto3.Session(region_name=region_name)\n",
    "s3_sess = session.client('s3')\n",
    "sm_session = sagemaker.Session(boto_session=session)\n",
    "role = \"arn:aws:iam::505049265445:role/service-role/AmazonSageMaker-ExecutionRole-20220919T094604\""
   ]
  },
  {
   "attachments": {},
   "cell_type": "markdown",
   "metadata": {},
   "source": [
    "## 2. Create and prepare the dataset\n",
    "\n",
    "\n",
    "After our environment is set up, we can start creating and preparing our dataset. A fine-tuning dataset should have a diverse set of demonstrations of the task you want to solve. If you want to learn more about how to create a dataset, take a look at the [How to Fine-Tune LLMs in 2024 with Hugging Face](https://www.philschmid.de/fine-tune-llms-in-2024-with-trl#3-create-and-prepare-the-dataset)."
   ]
  },
  {
   "cell_type": "code",
   "execution_count": 10,
   "metadata": {},
   "outputs": [
    {
     "data": {
      "text/plain": [
       "{'training': 's3://sagemaker-eu-central-1-505049265445/datasets/writing_accuracy_dataset/train_dataset_writing_accuracy.json'}"
      ]
     },
     "execution_count": 10,
     "metadata": {},
     "output_type": "execute_result"
    }
   ],
   "source": [
    "training_input_path = f's3://{sm_session.default_bucket()}/datasets/writing_accuracy_dataset/train_dataset_writing_accuracy.json'\n",
    "# define a data input dictonary with our uploaded s3 uris\n",
    "data = {'training': training_input_path}\n",
    "data"
   ]
  },
  {
   "cell_type": "code",
   "execution_count": 11,
   "metadata": {},
   "outputs": [
    {
     "data": {
      "application/vnd.jupyter.widget-view+json": {
       "model_id": "94cce44a1aba44d1b25006f877e3ad67",
       "version_major": 2,
       "version_minor": 0
      },
      "text/plain": [
       "Downloading data:   0%|          | 0.00/17.5M [00:00<?, ?B/s]"
      ]
     },
     "metadata": {},
     "output_type": "display_data"
    },
    {
     "data": {
      "application/vnd.jupyter.widget-view+json": {
       "model_id": "247a374ded004821b74b460e563c2d7b",
       "version_major": 2,
       "version_minor": 0
      },
      "text/plain": [
       "Generating training split: 0 examples [00:00, ? examples/s]"
      ]
     },
     "metadata": {},
     "output_type": "display_data"
    },
    {
     "data": {
      "text/plain": [
       "DatasetDict({\n",
       "    training: Dataset({\n",
       "        features: ['messages'],\n",
       "        num_rows: 7528\n",
       "    })\n",
       "})"
      ]
     },
     "execution_count": 11,
     "metadata": {},
     "output_type": "execute_result"
    }
   ],
   "source": [
    "from datasets import load_dataset, DatasetDict\n",
    "raw_dataset = load_dataset(\n",
    "        \"json\",\n",
    "        data_files=data\n",
    "    )\n",
    "raw_dataset"
   ]
  },
  {
   "cell_type": "code",
   "execution_count": 12,
   "metadata": {},
   "outputs": [
    {
     "data": {
      "text/plain": [
       "DatasetDict({\n",
       "    train: Dataset({\n",
       "        features: ['messages'],\n",
       "        num_rows: 7000\n",
       "    })\n",
       "    test: Dataset({\n",
       "        features: ['messages'],\n",
       "        num_rows: 526\n",
       "    })\n",
       "})"
      ]
     },
     "execution_count": 12,
     "metadata": {},
     "output_type": "execute_result"
    }
   ],
   "source": [
    "indices_1 = range(0,7000)\n",
    "indices_2 = range(7001,7527)\n",
    "dataset_dict = {\n",
    "    \"train\": raw_dataset[\"training\"].select(indices_1),\n",
    "    \"test\": raw_dataset[\"training\"].select(indices_2)\n",
    "}\n",
    "dataset = DatasetDict(dataset_dict)\n",
    "dataset"
   ]
  },
  {
   "cell_type": "code",
   "execution_count": 13,
   "metadata": {},
   "outputs": [
    {
     "data": {
      "text/plain": [
       "{'messages': [{'content': '\\nAs an English student, your task is to answer a prompt with a level of grammatical accuracy ranging from 1 to 6. \\nEach level reflects increasing proficiency in using correct grammatical structures and sentence patterns in English as your second language.\\n\\nHere is the scale you should use to build your answer:\\n1: The student_answer has frequent and noticeable Errors: The student makes frequent and noticeable errors in grammar, significantly impeding intelligibility.\\n2: The student_answer has basic Control with consistent errors: The student demonstrates control over simple grammatical structures but makes consistent basic errors that often impede intelligibility.\\n3: The student_answer has control with some errors: The student demonstrates control over common grammatical structures, although occasional errors impede intelligibility.\\n4: The student_answer has fair control with infrequent errors: The student demonstrates control over a variety of grammatical structures, with noticeable errors made infrequently. These errors do not significantly impede intelligibility, and there may be some self-correction.\\n5: The student_answer has high control with rare errors: The student demonstrates a high level of control over a variety of grammatical structures, with errors rarely made. However, there might be noticeable errors that occasionally impede intelligibility, and self-correction may be inconsistent.\\n6: The student_answer has advanced control with rare errors: The student demonstrates advanced control over a variety of grammatical structures, even when engaged in other activities. Errors are rarely noticeable, and there is consistent evidence of self-correction.\\n',\n",
       "   'role': 'system'},\n",
       "  {'content': \"Answer the following prompt: 'Write a thoughtful and detailed review of a movie you have seen recently.' with a level of accuracy: '4.0'\",\n",
       "   'role': 'user'},\n",
       "  {'content': \"I've watched recently a movie called Memories from yesterday. It is about a woman in her thirties that is being constantly judged for not having a husband yet. The movie takes us to her childhood memories through flashbacks we see very important moments in her life.  Like the first boy she had a crush on, the first time she ate a pineapple and was very disappointed with the flavour for example. While she thinks about these memories she moves from Tokyo to the countryside.\",\n",
       "   'role': 'assistant'}]}"
      ]
     },
     "execution_count": 13,
     "metadata": {},
     "output_type": "execute_result"
    }
   ],
   "source": [
    "dataset[\"train\"][0]"
   ]
  },
  {
   "attachments": {},
   "cell_type": "markdown",
   "metadata": {},
   "source": [
    "After we processed the datasets we are going to use the [FileSystem integration](https://huggingface.co/docs/datasets/filesystems) to upload our dataset to S3. We are using the `sess.default_bucket()`, adjust this if you want to store the dataset in a different S3 bucket. We will use the S3 path later in our training script."
   ]
  },
  {
   "cell_type": "code",
   "execution_count": 14,
   "metadata": {},
   "outputs": [
    {
     "data": {
      "application/vnd.jupyter.widget-view+json": {
       "model_id": "d5325dd8e3af46f08870fbf5d472920f",
       "version_major": 2,
       "version_minor": 0
      },
      "text/plain": [
       "Creating json from Arrow format:   0%|          | 0/7 [00:00<?, ?ba/s]"
      ]
     },
     "metadata": {},
     "output_type": "display_data"
    },
    {
     "data": {
      "application/vnd.jupyter.widget-view+json": {
       "model_id": "d6d749a8035f408aa018cf16421cec10",
       "version_major": 2,
       "version_minor": 0
      },
      "text/plain": [
       "Creating json from Arrow format:   0%|          | 0/1 [00:00<?, ?ba/s]"
      ]
     },
     "metadata": {},
     "output_type": "display_data"
    },
    {
     "name": "stdout",
     "output_type": "stream",
     "text": [
      "Training data uploaded to:\n",
      "s3://sagemaker-eu-central-1-505049265445/datasets/llama3-writing_acc-instruct/train/dataset.json\n",
      "s3://sagemaker-eu-central-1-505049265445/datasets/llama3-writing_acc-instruct/test/dataset.json\n",
      "https://s3.console.aws.amazon.com/s3/buckets/sagemaker-eu-central-1-505049265445/?region=eu-central-1&prefix=datasets/llama3-writing_acc-instruct/\n"
     ]
    }
   ],
   "source": [
    "# save train_dataset to s3 using our SageMaker session\n",
    "input_path = f's3://{sm_session.default_bucket()}/datasets/llama3-writing_acc-instruct'\n",
    "\n",
    "# save datasets to s3\n",
    "dataset[\"train\"].to_json(f\"{input_path}/train/dataset.json\", orient=\"records\")\n",
    "train_dataset_s3_path = f\"{input_path}/train/dataset.json\"\n",
    "dataset[\"test\"].to_json(f\"{input_path}/test/dataset.json\", orient=\"records\")\n",
    "test_dataset_s3_path = f\"{input_path}/test/dataset.json\"\n",
    "\n",
    "print(f\"Training data uploaded to:\")\n",
    "print(train_dataset_s3_path)\n",
    "print(test_dataset_s3_path)\n",
    "print(f\"https://s3.console.aws.amazon.com/s3/buckets/{sm_session.default_bucket()}/?region={sm_session.boto_region_name}&prefix={input_path.split('/', 3)[-1]}/\")"
   ]
  },
  {
   "attachments": {},
   "cell_type": "markdown",
   "metadata": {},
   "source": [
    "## 3. Fine-tune Llama 3 on Amazon SageMaker\n",
    "\n",
    "We are now ready to fine-tune our model. We will use the [SFTTrainer](https://huggingface.co/docs/trl/sft_trainer) from `trl` to fine-tune our model. The `SFTTrainer` makes it straightfoward to supervise fine-tune open LLMs. The `SFTTrainer` is a subclass of the `Trainer` from the `transformers`. We prepared a script [run_fsdp_qlora.py](../scripts/fsdp/run_fsdp_qlora.py) which will loads the dataset from disk, prepare the model, tokenizer and start the training. It usees the [SFTTrainer](https://huggingface.co/docs/trl/sft_trainer) from `trl` to fine-tune our model. The `SFTTrainer` makes it straightfoward to supervise fine-tune open LLMs supporting:\n",
    "* Dataset formatting, including conversational and instruction format (✅ used)\n",
    "* Training on completions only, ignoring prompts (❌ not used)\n",
    "* Packing datasets for more efficient training (✅ used)\n",
    "* PEFT (parameter-efficient fine-tuning) support including Q-LoRA (✅ used)\n",
    "* Preparing the model and tokenizer for conversational fine-tuning (❌ not used, see below)\n",
    "\n",
    "For configuration we use the new `TrlParser`, that allows us to provide hyperparameters in a yaml file. This `yaml` will be uploaded and provided to Amazon SageMaker similar to our datasets. Below is the config file for fine-tuning Llama 3 70B on 8x A100 GPUs or 4x24GB GPUs. We are saving the config file as `fsdp_qlora_llama3_70b.yaml` and upload it to S3."
   ]
  },
  {
   "cell_type": "code",
   "execution_count": 15,
   "metadata": {},
   "outputs": [
    {
     "name": "stdout",
     "output_type": "stream",
     "text": [
      "Overwriting llama_3_8b_instruct_fsdp_qlora.yaml\n"
     ]
    }
   ],
   "source": [
    "%%writefile llama_3_8b_instruct_fsdp_qlora.yaml\n",
    "# script parameters\n",
    "model_id: \"meta-llama/Meta-Llama-3-8B-Instruct\"# Hugging Face model id\n",
    "max_seq_length:  512 # 2048              # max sequence length for model and packing of the dataset\n",
    "# sagemaker specific parameters\n",
    "train_dataset_path: \"/opt/ml/input/data/train/\" # path to where SageMaker saves train dataset\n",
    "test_dataset_path: \"/opt/ml/input/data/test/\"   # path to where SageMaker saves test dataset\n",
    "# output_dir: \"/opt/ml/model\"            # path to where SageMaker will upload the model \n",
    "output_dir: \"/tmp/llama3\"            # path to where SageMaker will upload the model \n",
    "# training parameters\n",
    "report_to: \"tensorboard\"               # report metrics to tensorboard\n",
    "learning_rate: 0.0002                  # learning rate 2e-4\n",
    "lr_scheduler_type: \"constant\"          # learning rate scheduler\n",
    "num_train_epochs: 1                    # number of training epochs\n",
    "per_device_train_batch_size: 8         # batch size per device during training\n",
    "per_device_eval_batch_size: 1          # batch size for evaluation\n",
    "gradient_accumulation_steps: 2         # number of steps before performing a backward/update pass\n",
    "optim: adamw_torch                     # use torch adamw optimizer\n",
    "logging_steps: 10                      # log every 10 steps\n",
    "save_strategy: epoch                   # save checkpoint every epoch\n",
    "evaluation_strategy: epoch             # evaluate every epoch\n",
    "max_grad_norm: 0.3                     # max gradient norm\n",
    "warmup_ratio: 0.03                     # warmup ratio\n",
    "bf16: true                             # use bfloat16 precision\n",
    "tf32: true                             # use tf32 precision\n",
    "gradient_checkpointing: true           # use gradient checkpointing to save memory\n",
    "# FSDP parameters: https://huggingface.co/docs/transformers/main/en/fsdp\n",
    "fsdp: \"full_shard auto_wrap offload\" # remove offload if enough GPU memory\n",
    "fsdp_config:\n",
    "  backward_prefetch: \"backward_pre\"\n",
    "  forward_prefetch: \"false\"\n",
    "  use_orig_params: \"false\""
   ]
  },
  {
   "cell_type": "markdown",
   "metadata": {},
   "source": [
    "Lets upload the config file to S3. "
   ]
  },
  {
   "cell_type": "code",
   "execution_count": 16,
   "metadata": {},
   "outputs": [
    {
     "name": "stdout",
     "output_type": "stream",
     "text": [
      "Training config uploaded to:\n",
      "s3://sagemaker-eu-central-1-505049265445/datasets/llama3-writing_acc-instruct/config/llama_3_8b_instruct_fsdp_qlora.yaml\n"
     ]
    }
   ],
   "source": [
    "from sagemaker.s3 import S3Uploader\n",
    "\n",
    "# upload the model yaml file to s3\n",
    "model_yaml = \"llama_3_8b_instruct_fsdp_qlora.yaml\"\n",
    "train_config_s3_path = S3Uploader.upload(local_path=model_yaml, desired_s3_uri=f\"{input_path}/config\")\n",
    "\n",
    "print(f\"Training config uploaded to:\")\n",
    "print(train_config_s3_path)"
   ]
  },
  {
   "cell_type": "markdown",
   "metadata": {},
   "source": [
    "In order to create a sagemaker training job we need an `HuggingFace` Estimator. The Estimator handles end-to-end Amazon SageMaker training and deployment tasks. The Estimator manages the infrastructure use. Amazon SagMaker takes care of starting and managing all the required ec2 instances for us, provides the correct huggingface container, uploads the provided scripts and downloads the data from our S3 bucket into the container at `/opt/ml/input/data`. Then, it starts the training job by running.\n",
    "\n",
    "> Note: Make sure that you include the `requirements.txt` in the `source_dir` if you are using a custom training script. We recommend to just clone the whole repository.\n",
    "\n",
    "To use `torchrun` to execute our scripts, we only have to define the `distribution` parameter in our Estimator and set it to `{\"torch_distributed\": {\"enabled\": True}}`. This tells SageMaker to launch our training job with.\n",
    "\n",
    "```python\n",
    "torchrun --nnodes 2 --nproc_per_node 8 --master_addr algo-1 --master_port 7777 --node_rank 1 run_fsdp_qlora.py --config /opt/ml/input/data/config/config.yaml\n",
    "```\n",
    "\n",
    "The `HuggingFace` configuration below will start a training job on 1x `p4d.24xlarge` using 8x A100 GPUs. The amazing part about SageMaker is that you can easily scale up to 2x `p4d.24xlarge` by modifying the `instance_count`. SageMaker will take care of the rest for you. "
   ]
  },
  {
   "cell_type": "code",
   "execution_count": 21,
   "metadata": {},
   "outputs": [],
   "source": [
    "from sagemaker.huggingface import HuggingFace\n",
    "from huggingface_hub import HfFolder\n",
    "\n",
    "# define Training Job Name \n",
    "job_name = f'llama3-instruct-8b-writing-acc-exp1'\n",
    "\n",
    "# create the Estimator\n",
    "huggingface_estimator = HuggingFace(\n",
    "    entry_point          = 'run_fsdp_qlora.py',      # train script\n",
    "    source_dir           = './scripts/fsdp',  # directory which includes all the files needed for training\n",
    "    instance_type        = 'ml.g5.12xlarge',  # instances type used for the training job\n",
    "    instance_count       = 1,                 # the number of instances used for training\n",
    "    max_run              = 2*24*60*60,        # maximum runtime in seconds (days * hours * minutes * seconds)\n",
    "    base_job_name        = job_name,          # the name of the training job\n",
    "    role                 = role,              # Iam role used in training job to access AWS ressources, e.g. S3\n",
    "    volume_size          = 200,               # the size of the EBS volume in GB\n",
    "    transformers_version = '4.36.0',          # the transformers version used in the training job\n",
    "    pytorch_version      = '2.1.0',           # the pytorch_version version used in the training job\n",
    "    py_version           = 'py310',           # the python version used in the training job\n",
    "    hyperparameters      =  {\n",
    "        \"config\": \"/opt/ml/input/data/config/llama_3_8b_instruct_fsdp_qlora.yaml\" # path to TRL config which was uploaded to s3\n",
    "    },\n",
    "    disable_output_compression = True,        # not compress output to save training time and cost\n",
    "    distribution={\"torch_distributed\": {\"enabled\": True}},   # enables torchrun\n",
    "    environment  = {\n",
    "        \"HUGGINGFACE_HUB_CACHE\": \"/tmp/.cache\", # set env variable to cache models in /tmp\n",
    "        \"HF_TOKEN\": HfFolder.get_token(),       # huggingface token to access gated models, e.g. llama 3\n",
    "        \"ACCELERATE_USE_FSDP\": \"1\",             # enable FSDP\n",
    "        \"FSDP_CPU_RAM_EFFICIENT_LOADING\": \"1\"   # enable CPU RAM efficient loading\n",
    "    }, \n",
    ")"
   ]
  },
  {
   "attachments": {},
   "cell_type": "markdown",
   "metadata": {},
   "source": [
    "_Note: When using QLoRA, we only train adapters and not the full model. The [run_fsdp_qlora.py](../scripts/fsdp/run_fsdp_qlora.py) merges the `base_model`with the `adapter` at the end of the training to directly be able to deploy to Amazon SageMaker._\n",
    "\n",
    "We can now start our training job, with the `.fit()` method passing our S3 path to the training script."
   ]
  },
  {
   "cell_type": "code",
   "execution_count": 22,
   "metadata": {},
   "outputs": [
    {
     "name": "stderr",
     "output_type": "stream",
     "text": [
      "INFO:sagemaker.image_uris:image_uri is not presented, retrieving image_uri based on instance_type, framework etc.\n",
      "INFO:sagemaker:Creating training-job with name: llama3-instruct-8b-writing-acc-exp1-2024-09-06-07-31-03-262\n"
     ]
    },
    {
     "name": "stdout",
     "output_type": "stream",
     "text": [
      "2024-09-06 07:31:06 Starting - Starting the training job\n",
      "2024-09-06 07:31:06 Pending - Training job waiting for capacity......\n",
      "2024-09-06 07:31:40 Pending - Preparing the instances for training...\n",
      "2024-09-06 07:32:31 Downloading - Downloading the training image..................\n",
      "2024-09-06 07:35:28 Training - Training image download completed. Training in progress...........bash: cannot set terminal process group (-1): Inappropriate ioctl for device\n",
      "bash: no job control in this shell\n",
      "/opt/conda/lib/python3.10/site-packages/paramiko/pkey.py:100: CryptographyDeprecationWarning: TripleDES has been moved to cryptography.hazmat.decrepit.ciphers.algorithms.TripleDES and will be removed from this module in 48.0.0.\n",
      "  \"cipher\": algorithms.TripleDES,\n",
      "/opt/conda/lib/python3.10/site-packages/paramiko/transport.py:259: CryptographyDeprecationWarning: TripleDES has been moved to cryptography.hazmat.decrepit.ciphers.algorithms.TripleDES and will be removed from this module in 48.0.0.\n",
      "  \"class\": algorithms.TripleDES,\n",
      "2024-09-06 07:37:01,186 sagemaker-training-toolkit INFO     Imported framework sagemaker_pytorch_container.training\n",
      "2024-09-06 07:37:01,221 sagemaker-training-toolkit INFO     No Neurons detected (normal if no neurons installed)\n",
      "2024-09-06 07:37:01,233 sagemaker_pytorch_container.training INFO     Block until all host DNS lookups succeed.\n",
      "2024-09-06 07:37:01,235 sagemaker_pytorch_container.training INFO     Invoking TorchDistributed...\n",
      "2024-09-06 07:37:01,235 sagemaker_pytorch_container.training INFO     Invoking user training script.\n",
      "2024-09-06 07:37:02,769 sagemaker-training-toolkit INFO     Installing dependencies from requirements.txt:\n",
      "/opt/conda/bin/python3.10 -m pip install -r requirements.txt\n",
      "Collecting transformers==4.40.0 (from -r requirements.txt (line 1))\n",
      "Downloading transformers-4.40.0-py3-none-any.whl.metadata (137 kB)\n",
      "Requirement already satisfied: datasets==2.18.0 in /opt/conda/lib/python3.10/site-packages (from -r requirements.txt (line 2)) (2.18.0)\n",
      "Collecting accelerate==0.29.3 (from -r requirements.txt (line 3))\n",
      "Downloading accelerate-0.29.3-py3-none-any.whl.metadata (18 kB)\n",
      "Requirement already satisfied: evaluate==0.4.1 in /opt/conda/lib/python3.10/site-packages (from -r requirements.txt (line 4)) (0.4.1)\n",
      "Collecting bitsandbytes==0.43.1 (from -r requirements.txt (line 5))\n",
      "Downloading bitsandbytes-0.43.1-py3-none-manylinux_2_24_x86_64.whl.metadata (2.2 kB)\n",
      "Collecting huggingface_hub==0.22.2 (from -r requirements.txt (line 6))\n",
      "Downloading huggingface_hub-0.22.2-py3-none-any.whl.metadata (12 kB)\n",
      "Collecting trl==0.8.6 (from -r requirements.txt (line 7))\n",
      "Downloading trl-0.8.6-py3-none-any.whl.metadata (11 kB)\n",
      "Collecting peft==0.10.0 (from -r requirements.txt (line 8))\n",
      "Downloading peft-0.10.0-py3-none-any.whl.metadata (13 kB)\n",
      "Requirement already satisfied: filelock in /opt/conda/lib/python3.10/site-packages (from transformers==4.40.0->-r requirements.txt (line 1)) (3.13.1)\n",
      "Requirement already satisfied: numpy>=1.17 in /opt/conda/lib/python3.10/site-packages (from transformers==4.40.0->-r requirements.txt (line 1)) (1.26.4)\n",
      "Requirement already satisfied: packaging>=20.0 in /opt/conda/lib/python3.10/site-packages (from transformers==4.40.0->-r requirements.txt (line 1)) (23.1)\n",
      "Requirement already satisfied: pyyaml>=5.1 in /opt/conda/lib/python3.10/site-packages (from transformers==4.40.0->-r requirements.txt (line 1)) (6.0.1)\n",
      "Requirement already satisfied: regex!=2019.12.17 in /opt/conda/lib/python3.10/site-packages (from transformers==4.40.0->-r requirements.txt (line 1)) (2024.7.24)\n",
      "Requirement already satisfied: requests in /opt/conda/lib/python3.10/site-packages (from transformers==4.40.0->-r requirements.txt (line 1)) (2.32.3)\n",
      "Collecting tokenizers<0.20,>=0.19 (from transformers==4.40.0->-r requirements.txt (line 1))\n",
      "Downloading tokenizers-0.19.1-cp310-cp310-manylinux_2_17_x86_64.manylinux2014_x86_64.whl.metadata (6.7 kB)\n",
      "Requirement already satisfied: safetensors>=0.4.1 in /opt/conda/lib/python3.10/site-packages (from transformers==4.40.0->-r requirements.txt (line 1)) (0.4.4)\n",
      "Requirement already satisfied: tqdm>=4.27 in /opt/conda/lib/python3.10/site-packages (from transformers==4.40.0->-r requirements.txt (line 1)) (4.66.4)\n",
      "Requirement already satisfied: pyarrow>=12.0.0 in /opt/conda/lib/python3.10/site-packages (from datasets==2.18.0->-r requirements.txt (line 2)) (17.0.0)\n",
      "Requirement already satisfied: pyarrow-hotfix in /opt/conda/lib/python3.10/site-packages (from datasets==2.18.0->-r requirements.txt (line 2)) (0.6)\n",
      "Requirement already satisfied: dill<0.3.9,>=0.3.0 in /opt/conda/lib/python3.10/site-packages (from datasets==2.18.0->-r requirements.txt (line 2)) (0.3.8)\n",
      "Requirement already satisfied: pandas in /opt/conda/lib/python3.10/site-packages (from datasets==2.18.0->-r requirements.txt (line 2)) (2.2.1)\n",
      "Requirement already satisfied: xxhash in /opt/conda/lib/python3.10/site-packages (from datasets==2.18.0->-r requirements.txt (line 2)) (3.4.1)\n",
      "Requirement already satisfied: multiprocess in /opt/conda/lib/python3.10/site-packages (from datasets==2.18.0->-r requirements.txt (line 2)) (0.70.16)\n",
      "Requirement already satisfied: fsspec<=2024.2.0,>=2023.1.0 in /opt/conda/lib/python3.10/site-packages (from fsspec[http]<=2024.2.0,>=2023.1.0->datasets==2.18.0->-r requirements.txt (line 2)) (2024.2.0)\n",
      "Requirement already satisfied: aiohttp in /opt/conda/lib/python3.10/site-packages (from datasets==2.18.0->-r requirements.txt (line 2)) (3.10.1)\n",
      "Requirement already satisfied: psutil in /opt/conda/lib/python3.10/site-packages (from accelerate==0.29.3->-r requirements.txt (line 3)) (5.9.8)\n",
      "Requirement already satisfied: torch>=1.10.0 in /opt/conda/lib/python3.10/site-packages (from accelerate==0.29.3->-r requirements.txt (line 3)) (2.1.0)\n",
      "Requirement already satisfied: responses<0.19 in /opt/conda/lib/python3.10/site-packages (from evaluate==0.4.1->-r requirements.txt (line 4)) (0.18.0)\n",
      "Requirement already satisfied: typing-extensions>=3.7.4.3 in /opt/conda/lib/python3.10/site-packages (from huggingface_hub==0.22.2->-r requirements.txt (line 6)) (4.10.0)\n",
      "Requirement already satisfied: tyro>=0.5.11 in /opt/conda/lib/python3.10/site-packages (from trl==0.8.6->-r requirements.txt (line 7)) (0.8.5)\n",
      "Requirement already satisfied: aiohappyeyeballs>=2.3.0 in /opt/conda/lib/python3.10/site-packages (from aiohttp->datasets==2.18.0->-r requirements.txt (line 2)) (2.3.5)\n",
      "Requirement already satisfied: aiosignal>=1.1.2 in /opt/conda/lib/python3.10/site-packages (from aiohttp->datasets==2.18.0->-r requirements.txt (line 2)) (1.3.1)\n",
      "Requirement already satisfied: attrs>=17.3.0 in /opt/conda/lib/python3.10/site-packages (from aiohttp->datasets==2.18.0->-r requirements.txt (line 2)) (23.2.0)\n",
      "Requirement already satisfied: frozenlist>=1.1.1 in /opt/conda/lib/python3.10/site-packages (from aiohttp->datasets==2.18.0->-r requirements.txt (line 2)) (1.4.1)\n",
      "Requirement already satisfied: multidict<7.0,>=4.5 in /opt/conda/lib/python3.10/site-packages (from aiohttp->datasets==2.18.0->-r requirements.txt (line 2)) (6.0.5)\n",
      "Requirement already satisfied: yarl<2.0,>=1.0 in /opt/conda/lib/python3.10/site-packages (from aiohttp->datasets==2.18.0->-r requirements.txt (line 2)) (1.9.4)\n",
      "Requirement already satisfied: async-timeout<5.0,>=4.0 in /opt/conda/lib/python3.10/site-packages (from aiohttp->datasets==2.18.0->-r requirements.txt (line 2)) (4.0.3)\n",
      "Requirement already satisfied: charset-normalizer<4,>=2 in /opt/conda/lib/python3.10/site-packages (from requests->transformers==4.40.0->-r requirements.txt (line 1)) (3.2.0)\n",
      "Requirement already satisfied: idna<4,>=2.5 in /opt/conda/lib/python3.10/site-packages (from requests->transformers==4.40.0->-r requirements.txt (line 1)) (3.7)\n",
      "Requirement already satisfied: urllib3<3,>=1.21.1 in /opt/conda/lib/python3.10/site-packages (from requests->transformers==4.40.0->-r requirements.txt (line 1)) (1.26.19)\n",
      "Requirement already satisfied: certifi>=2017.4.17 in /opt/conda/lib/python3.10/site-packages (from requests->transformers==4.40.0->-r requirements.txt (line 1)) (2024.7.4)\n",
      "Requirement already satisfied: sympy in /opt/conda/lib/python3.10/site-packages (from torch>=1.10.0->accelerate==0.29.3->-r requirements.txt (line 3)) (1.12)\n",
      "Requirement already satisfied: networkx in /opt/conda/lib/python3.10/site-packages (from torch>=1.10.0->accelerate==0.29.3->-r requirements.txt (line 3)) (3.2.1)\n",
      "Requirement already satisfied: jinja2 in /opt/conda/lib/python3.10/site-packages (from torch>=1.10.0->accelerate==0.29.3->-r requirements.txt (line 3)) (3.1.4)\n",
      "Requirement already satisfied: docstring-parser>=0.16 in /opt/conda/lib/python3.10/site-packages (from tyro>=0.5.11->trl==0.8.6->-r requirements.txt (line 7)) (0.16)\n",
      "Requirement already satisfied: rich>=11.1.0 in /opt/conda/lib/python3.10/site-packages (from tyro>=0.5.11->trl==0.8.6->-r requirements.txt (line 7)) (13.7.1)\n",
      "Requirement already satisfied: shtab>=1.5.6 in /opt/conda/lib/python3.10/site-packages (from tyro>=0.5.11->trl==0.8.6->-r requirements.txt (line 7)) (1.7.1)\n",
      "Requirement already satisfied: python-dateutil>=2.8.2 in /opt/conda/lib/python3.10/site-packages (from pandas->datasets==2.18.0->-r requirements.txt (line 2)) (2.8.2)\n",
      "Requirement already satisfied: pytz>=2020.1 in /opt/conda/lib/python3.10/site-packages (from pandas->datasets==2.18.0->-r requirements.txt (line 2)) (2024.1)\n",
      "Requirement already satisfied: tzdata>=2022.7 in /opt/conda/lib/python3.10/site-packages (from pandas->datasets==2.18.0->-r requirements.txt (line 2)) (2024.1)\n",
      "Requirement already satisfied: six>=1.5 in /opt/conda/lib/python3.10/site-packages (from python-dateutil>=2.8.2->pandas->datasets==2.18.0->-r requirements.txt (line 2)) (1.16.0)\n",
      "Requirement already satisfied: markdown-it-py>=2.2.0 in /opt/conda/lib/python3.10/site-packages (from rich>=11.1.0->tyro>=0.5.11->trl==0.8.6->-r requirements.txt (line 7)) (3.0.0)\n",
      "Requirement already satisfied: pygments<3.0.0,>=2.13.0 in /opt/conda/lib/python3.10/site-packages (from rich>=11.1.0->tyro>=0.5.11->trl==0.8.6->-r requirements.txt (line 7)) (2.17.2)\n",
      "Requirement already satisfied: MarkupSafe>=2.0 in /opt/conda/lib/python3.10/site-packages (from jinja2->torch>=1.10.0->accelerate==0.29.3->-r requirements.txt (line 3)) (2.1.5)\n",
      "Requirement already satisfied: mpmath>=0.19 in /opt/conda/lib/python3.10/site-packages (from sympy->torch>=1.10.0->accelerate==0.29.3->-r requirements.txt (line 3)) (1.3.0)\n",
      "Requirement already satisfied: mdurl~=0.1 in /opt/conda/lib/python3.10/site-packages (from markdown-it-py>=2.2.0->rich>=11.1.0->tyro>=0.5.11->trl==0.8.6->-r requirements.txt (line 7)) (0.1.2)\n",
      "Downloading transformers-4.40.0-py3-none-any.whl (9.0 MB)\n",
      "━━━━━━━━━━━━━━━━━━━━━━━━━━━━━━━━━━━━━━━━ 9.0/9.0 MB 54.5 MB/s eta 0:00:00\n",
      "Downloading accelerate-0.29.3-py3-none-any.whl (297 kB)\n",
      "Downloading bitsandbytes-0.43.1-py3-none-manylinux_2_24_x86_64.whl (119.8 MB)\n",
      "━━━━━━━━━━━━━━━━━━━━━━━━━━━━━━━━━━━━━━━━ 119.8/119.8 MB 60.3 MB/s eta 0:00:00\n",
      "Downloading huggingface_hub-0.22.2-py3-none-any.whl (388 kB)\n",
      "Downloading trl-0.8.6-py3-none-any.whl (245 kB)\n",
      "Downloading peft-0.10.0-py3-none-any.whl (199 kB)\n",
      "Downloading tokenizers-0.19.1-cp310-cp310-manylinux_2_17_x86_64.manylinux2014_x86_64.whl (3.6 MB)\n",
      "━━━━━━━━━━━━━━━━━━━━━━━━━━━━━━━━━━━━━━━━ 3.6/3.6 MB 56.7 MB/s eta 0:00:00\n",
      "Installing collected packages: huggingface_hub, tokenizers, bitsandbytes, accelerate, transformers, trl, peft\n",
      "Attempting uninstall: huggingface_hub\n",
      "Found existing installation: huggingface-hub 0.24.5\n",
      "Uninstalling huggingface-hub-0.24.5:\n",
      "Successfully uninstalled huggingface-hub-0.24.5\n",
      "Attempting uninstall: tokenizers\n",
      "Found existing installation: tokenizers 0.15.2\n",
      "Uninstalling tokenizers-0.15.2:\n",
      "Successfully uninstalled tokenizers-0.15.2\n",
      "Attempting uninstall: bitsandbytes\n",
      "Found existing installation: bitsandbytes 0.43.3\n",
      "Uninstalling bitsandbytes-0.43.3:\n",
      "Successfully uninstalled bitsandbytes-0.43.3\n",
      "Attempting uninstall: accelerate\n",
      "Found existing installation: accelerate 0.25.0\n",
      "Uninstalling accelerate-0.25.0:\n",
      "Successfully uninstalled accelerate-0.25.0\n",
      "Attempting uninstall: transformers\n",
      "Found existing installation: transformers 4.36.0\n",
      "Uninstalling transformers-4.36.0:\n",
      "Successfully uninstalled transformers-4.36.0\n",
      "Attempting uninstall: trl\n",
      "Found existing installation: trl 0.7.4\n",
      "Uninstalling trl-0.7.4:\n",
      "Successfully uninstalled trl-0.7.4\n",
      "Attempting uninstall: peft\n",
      "Found existing installation: peft 0.7.1\n",
      "Uninstalling peft-0.7.1:\n",
      "Successfully uninstalled peft-0.7.1\n",
      "Successfully installed accelerate-0.29.3 bitsandbytes-0.43.1 huggingface_hub-0.22.2 peft-0.10.0 tokenizers-0.19.1 transformers-4.40.0 trl-0.8.6\n",
      "WARNING: Running pip as the 'root' user can result in broken permissions and conflicting behaviour with the system package manager, possibly rendering your system unusable.It is recommended to use a virtual environment instead: https://pip.pypa.io/warnings/venv. Use the --root-user-action option if you know what you are doing and want to suppress this warning.\n",
      "2024-09-06 07:37:16,111 sagemaker-training-toolkit INFO     Waiting for the process to finish and give a return code.\n",
      "2024-09-06 07:37:16,111 sagemaker-training-toolkit INFO     Done waiting for a return code. Received 0 from exiting process.\n",
      "2024-09-06 07:37:16,166 sagemaker-training-toolkit INFO     No Neurons detected (normal if no neurons installed)\n",
      "2024-09-06 07:37:16,215 sagemaker-training-toolkit INFO     No Neurons detected (normal if no neurons installed)\n",
      "2024-09-06 07:37:16,228 sagemaker-training-toolkit INFO     Starting distributed training through torchrun\n",
      "2024-09-06 07:37:16,265 sagemaker-training-toolkit INFO     No Neurons detected (normal if no neurons installed)\n",
      "2024-09-06 07:37:16,277 sagemaker-training-toolkit INFO     Invoking user script\n",
      "Training Env:\n",
      "{\n",
      "    \"additional_framework_parameters\": {\n",
      "        \"sagemaker_instance_type\": \"ml.g5.12xlarge\",\n",
      "        \"sagemaker_torch_distributed_enabled\": true\n",
      "    },\n",
      "    \"channel_input_dirs\": {\n",
      "        \"config\": \"/opt/ml/input/data/config\",\n",
      "        \"test\": \"/opt/ml/input/data/test\",\n",
      "        \"train\": \"/opt/ml/input/data/train\"\n",
      "    },\n",
      "    \"current_host\": \"algo-1\",\n",
      "    \"current_instance_group\": \"homogeneousCluster\",\n",
      "    \"current_instance_group_hosts\": [\n",
      "        \"algo-1\"\n",
      "    ],\n",
      "    \"current_instance_type\": \"ml.g5.12xlarge\",\n",
      "    \"distribution_hosts\": [\n",
      "        \"algo-1\"\n",
      "    ],\n",
      "    \"distribution_instance_groups\": [\n",
      "        \"homogeneousCluster\"\n",
      "    ],\n",
      "    \"framework_module\": \"sagemaker_pytorch_container.training:main\",\n",
      "    \"hosts\": [\n",
      "        \"algo-1\"\n",
      "    ],\n",
      "    \"hyperparameters\": {\n",
      "        \"config\": \"/opt/ml/input/data/config/llama_3_8b_instruct_fsdp_qlora.yaml\"\n",
      "    },\n",
      "    \"input_config_dir\": \"/opt/ml/input/config\",\n",
      "    \"input_data_config\": {\n",
      "        \"config\": {\n",
      "            \"TrainingInputMode\": \"File\",\n",
      "            \"S3DistributionType\": \"FullyReplicated\",\n",
      "            \"RecordWrapperType\": \"None\"\n",
      "        },\n",
      "        \"test\": {\n",
      "            \"TrainingInputMode\": \"File\",\n",
      "            \"S3DistributionType\": \"FullyReplicated\",\n",
      "            \"RecordWrapperType\": \"None\"\n",
      "        },\n",
      "        \"train\": {\n",
      "            \"TrainingInputMode\": \"File\",\n",
      "            \"S3DistributionType\": \"FullyReplicated\",\n",
      "            \"RecordWrapperType\": \"None\"\n",
      "        }\n",
      "    },\n",
      "    \"input_dir\": \"/opt/ml/input\",\n",
      "    \"instance_groups\": [\n",
      "        \"homogeneousCluster\"\n",
      "    ],\n",
      "    \"instance_groups_dict\": {\n",
      "        \"homogeneousCluster\": {\n",
      "            \"instance_group_name\": \"homogeneousCluster\",\n",
      "            \"instance_type\": \"ml.g5.12xlarge\",\n",
      "            \"hosts\": [\n",
      "                \"algo-1\"\n",
      "            ]\n",
      "        }\n",
      "    },\n",
      "    \"is_hetero\": false,\n",
      "    \"is_master\": true,\n",
      "    \"is_modelparallel_enabled\": null,\n",
      "    \"is_smddpmprun_installed\": false,\n",
      "    \"is_smddprun_installed\": true,\n",
      "    \"job_name\": \"llama3-instruct-8b-writing-acc-exp1-2024-09-06-07-31-03-262\",\n",
      "    \"log_level\": 20,\n",
      "    \"master_hostname\": \"algo-1\",\n",
      "    \"model_dir\": \"/opt/ml/model\",\n",
      "    \"module_dir\": \"s3://sagemaker-eu-central-1-505049265445/llama3-instruct-8b-writing-acc-exp1-2024-09-06-07-31-03-262/source/sourcedir.tar.gz\",\n",
      "    \"module_name\": \"run_fsdp_qlora\",\n",
      "    \"network_interface_name\": \"eth0\",\n",
      "    \"num_cpus\": 48,\n",
      "    \"num_gpus\": 4,\n",
      "    \"num_neurons\": 0,\n",
      "    \"output_data_dir\": \"/opt/ml/output/data\",\n",
      "    \"output_dir\": \"/opt/ml/output\",\n",
      "    \"output_intermediate_dir\": \"/opt/ml/output/intermediate\",\n",
      "    \"resource_config\": {\n",
      "        \"current_host\": \"algo-1\",\n",
      "        \"current_instance_type\": \"ml.g5.12xlarge\",\n",
      "        \"current_group_name\": \"homogeneousCluster\",\n",
      "        \"hosts\": [\n",
      "            \"algo-1\"\n",
      "        ],\n",
      "        \"instance_groups\": [\n",
      "            {\n",
      "                \"instance_group_name\": \"homogeneousCluster\",\n",
      "                \"instance_type\": \"ml.g5.12xlarge\",\n",
      "                \"hosts\": [\n",
      "                    \"algo-1\"\n",
      "                ]\n",
      "            }\n",
      "        ],\n",
      "        \"network_interface_name\": \"eth0\"\n",
      "    },\n",
      "    \"user_entry_point\": \"run_fsdp_qlora.py\"\n",
      "}\n",
      "Environment variables:\n",
      "SM_HOSTS=[\"algo-1\"]\n",
      "SM_NETWORK_INTERFACE_NAME=eth0\n",
      "SM_HPS={\"config\":\"/opt/ml/input/data/config/llama_3_8b_instruct_fsdp_qlora.yaml\"}\n",
      "SM_USER_ENTRY_POINT=run_fsdp_qlora.py\n",
      "SM_FRAMEWORK_PARAMS={\"sagemaker_instance_type\":\"ml.g5.12xlarge\",\"sagemaker_torch_distributed_enabled\":true}\n",
      "SM_RESOURCE_CONFIG={\"current_group_name\":\"homogeneousCluster\",\"current_host\":\"algo-1\",\"current_instance_type\":\"ml.g5.12xlarge\",\"hosts\":[\"algo-1\"],\"instance_groups\":[{\"hosts\":[\"algo-1\"],\"instance_group_name\":\"homogeneousCluster\",\"instance_type\":\"ml.g5.12xlarge\"}],\"network_interface_name\":\"eth0\"}\n",
      "SM_INPUT_DATA_CONFIG={\"config\":{\"RecordWrapperType\":\"None\",\"S3DistributionType\":\"FullyReplicated\",\"TrainingInputMode\":\"File\"},\"test\":{\"RecordWrapperType\":\"None\",\"S3DistributionType\":\"FullyReplicated\",\"TrainingInputMode\":\"File\"},\"train\":{\"RecordWrapperType\":\"None\",\"S3DistributionType\":\"FullyReplicated\",\"TrainingInputMode\":\"File\"}}\n",
      "SM_OUTPUT_DATA_DIR=/opt/ml/output/data\n",
      "SM_CHANNELS=[\"config\",\"test\",\"train\"]\n",
      "SM_CURRENT_HOST=algo-1\n",
      "SM_CURRENT_INSTANCE_TYPE=ml.g5.12xlarge\n",
      "SM_CURRENT_INSTANCE_GROUP=homogeneousCluster\n",
      "SM_CURRENT_INSTANCE_GROUP_HOSTS=[\"algo-1\"]\n",
      "SM_INSTANCE_GROUPS=[\"homogeneousCluster\"]\n",
      "SM_INSTANCE_GROUPS_DICT={\"homogeneousCluster\":{\"hosts\":[\"algo-1\"],\"instance_group_name\":\"homogeneousCluster\",\"instance_type\":\"ml.g5.12xlarge\"}}\n",
      "SM_DISTRIBUTION_INSTANCE_GROUPS=[\"homogeneousCluster\"]\n",
      "SM_IS_HETERO=false\n",
      "SM_MODULE_NAME=run_fsdp_qlora\n",
      "SM_LOG_LEVEL=20\n",
      "SM_FRAMEWORK_MODULE=sagemaker_pytorch_container.training:main\n",
      "SM_INPUT_DIR=/opt/ml/input\n",
      "SM_INPUT_CONFIG_DIR=/opt/ml/input/config\n",
      "SM_OUTPUT_DIR=/opt/ml/output\n",
      "SM_NUM_CPUS=48\n",
      "SM_NUM_GPUS=4\n",
      "SM_NUM_NEURONS=0\n",
      "SM_MODEL_DIR=/opt/ml/model\n",
      "SM_MODULE_DIR=s3://sagemaker-eu-central-1-505049265445/llama3-instruct-8b-writing-acc-exp1-2024-09-06-07-31-03-262/source/sourcedir.tar.gz\n",
      "SM_TRAINING_ENV={\"additional_framework_parameters\":{\"sagemaker_instance_type\":\"ml.g5.12xlarge\",\"sagemaker_torch_distributed_enabled\":true},\"channel_input_dirs\":{\"config\":\"/opt/ml/input/data/config\",\"test\":\"/opt/ml/input/data/test\",\"train\":\"/opt/ml/input/data/train\"},\"current_host\":\"algo-1\",\"current_instance_group\":\"homogeneousCluster\",\"current_instance_group_hosts\":[\"algo-1\"],\"current_instance_type\":\"ml.g5.12xlarge\",\"distribution_hosts\":[\"algo-1\"],\"distribution_instance_groups\":[\"homogeneousCluster\"],\"framework_module\":\"sagemaker_pytorch_container.training:main\",\"hosts\":[\"algo-1\"],\"hyperparameters\":{\"config\":\"/opt/ml/input/data/config/llama_3_8b_instruct_fsdp_qlora.yaml\"},\"input_config_dir\":\"/opt/ml/input/config\",\"input_data_config\":{\"config\":{\"RecordWrapperType\":\"None\",\"S3DistributionType\":\"FullyReplicated\",\"TrainingInputMode\":\"File\"},\"test\":{\"RecordWrapperType\":\"None\",\"S3DistributionType\":\"FullyReplicated\",\"TrainingInputMode\":\"File\"},\"train\":{\"RecordWrapperType\":\"None\",\"S3DistributionType\":\"FullyReplicated\",\"TrainingInputMode\":\"File\"}},\"input_dir\":\"/opt/ml/input\",\"instance_groups\":[\"homogeneousCluster\"],\"instance_groups_dict\":{\"homogeneousCluster\":{\"hosts\":[\"algo-1\"],\"instance_group_name\":\"homogeneousCluster\",\"instance_type\":\"ml.g5.12xlarge\"}},\"is_hetero\":false,\"is_master\":true,\"is_modelparallel_enabled\":null,\"is_smddpmprun_installed\":false,\"is_smddprun_installed\":true,\"job_name\":\"llama3-instruct-8b-writing-acc-exp1-2024-09-06-07-31-03-262\",\"log_level\":20,\"master_hostname\":\"algo-1\",\"model_dir\":\"/opt/ml/model\",\"module_dir\":\"s3://sagemaker-eu-central-1-505049265445/llama3-instruct-8b-writing-acc-exp1-2024-09-06-07-31-03-262/source/sourcedir.tar.gz\",\"module_name\":\"run_fsdp_qlora\",\"network_interface_name\":\"eth0\",\"num_cpus\":48,\"num_gpus\":4,\"num_neurons\":0,\"output_data_dir\":\"/opt/ml/output/data\",\"output_dir\":\"/opt/ml/output\",\"output_intermediate_dir\":\"/opt/ml/output/intermediate\",\"resource_config\":{\"current_group_name\":\"homogeneousCluster\",\"current_host\":\"algo-1\",\"current_instance_type\":\"ml.g5.12xlarge\",\"hosts\":[\"algo-1\"],\"instance_groups\":[{\"hosts\":[\"algo-1\"],\"instance_group_name\":\"homogeneousCluster\",\"instance_type\":\"ml.g5.12xlarge\"}],\"network_interface_name\":\"eth0\"},\"user_entry_point\":\"run_fsdp_qlora.py\"}\n",
      "SM_USER_ARGS=[\"--config\",\"/opt/ml/input/data/config/llama_3_8b_instruct_fsdp_qlora.yaml\"]\n",
      "SM_OUTPUT_INTERMEDIATE_DIR=/opt/ml/output/intermediate\n",
      "SM_CHANNEL_CONFIG=/opt/ml/input/data/config\n",
      "SM_CHANNEL_TEST=/opt/ml/input/data/test\n",
      "SM_CHANNEL_TRAIN=/opt/ml/input/data/train\n",
      "SM_HP_CONFIG=/opt/ml/input/data/config/llama_3_8b_instruct_fsdp_qlora.yaml\n",
      "PYTHONPATH=/opt/ml/code:/opt/conda/bin:/opt/conda/lib/python310.zip:/opt/conda/lib/python3.10:/opt/conda/lib/python3.10/lib-dynload:/opt/conda/lib/python3.10/site-packages\n",
      "Invoking script with the following command:\n",
      "torchrun --nnodes 1 --nproc_per_node 4 run_fsdp_qlora.py --config /opt/ml/input/data/config/llama_3_8b_instruct_fsdp_qlora.yaml\n",
      "[2024-09-06 07:37:17,671] torch.distributed.run: [WARNING] \n",
      "[2024-09-06 07:37:17,671] torch.distributed.run: [WARNING] *****************************************\n",
      "[2024-09-06 07:37:17,671] torch.distributed.run: [WARNING] Setting OMP_NUM_THREADS environment variable for each process to be 1 in default, to avoid your system being overloaded, please further tune the variable for optimal performance in your application as needed. \n",
      "[2024-09-06 07:37:17,671] torch.distributed.run: [WARNING] *****************************************\n",
      "Generating train split: 0 examples [00:00, ? examples/s]\n",
      "Generating train split: 7000 examples [00:00, 48188.16 examples/s]\n",
      "Generating train split: 7000 examples [00:00, 48097.30 examples/s]\n",
      "Generating train split: 0 examples [00:00, ? examples/s]\n",
      "Generating train split: 526 examples [00:00, 52094.54 examples/s]\n",
      "Special tokens have been added in the vocabulary, make sure the associated word embeddings are fine-tuned or trained.\n",
      "Special tokens have been added in the vocabulary, make sure the associated word embeddings are fine-tuned or trained.\n",
      "Special tokens have been added in the vocabulary, make sure the associated word embeddings are fine-tuned or trained.\n",
      "Special tokens have been added in the vocabulary, make sure the associated word embeddings are fine-tuned or trained.\n",
      "Special tokens have been added in the vocabulary, make sure the associated word embeddings are fine-tuned or trained.\n",
      "Special tokens have been added in the vocabulary, make sure the associated word embeddings are fine-tuned or trained.\n",
      "Special tokens have been added in the vocabulary, make sure the associated word embeddings are fine-tuned or trained.\n",
      "Special tokens have been added in the vocabulary, make sure the associated word embeddings are fine-tuned or trained.\n",
      "Map:   0%|          | 0/7000 [00:00<?, ? examples/s]\n",
      "Map:   0%|          | 0/7000 [00:00<?, ? examples/s]\n",
      "Map:   0%|          | 0/7000 [00:00<?, ? examples/s]\n",
      "Map:   0%|          | 0/7000 [00:00<?, ? examples/s]\n",
      "Map:  10%|█         | 700/7000 [00:00<00:00, 6945.21 examples/s]\n",
      "Map:  10%|▉         | 692/7000 [00:00<00:00, 6869.56 examples/s]\n",
      "Map:  10%|▉         | 695/7000 [00:00<00:00, 6901.04 examples/s]\n",
      "Map:  10%|▉         | 688/7000 [00:00<00:00, 6824.41 examples/s]\n",
      "Map:  22%|██▏       | 1553/7000 [00:00<00:00, 7871.64 examples/s]\n",
      "Map:  22%|██▏       | 1560/7000 [00:00<00:00, 7927.68 examples/s]\n",
      "Map:  22%|██▏       | 1550/7000 [00:00<00:00, 7864.14 examples/s]\n",
      "Map:  22%|██▏       | 1546/7000 [00:00<00:00, 7849.77 examples/s]\n",
      "Map:  35%|███▌      | 2474/7000 [00:00<00:00, 8333.18 examples/s]\n",
      "Map:  35%|███▌      | 2463/7000 [00:00<00:00, 8369.24 examples/s]\n",
      "Map:  35%|███▌      | 2457/7000 [00:00<00:00, 8287.23 examples/s]\n",
      "Map:  35%|███▌      | 2461/7000 [00:00<00:00, 8282.16 examples/s]\n",
      "Map:  48%|████▊     | 3359/7000 [00:00<00:00, 8533.82 examples/s]\n",
      "Map:  48%|████▊     | 3357/7000 [00:00<00:00, 8589.58 examples/s]\n",
      "Map:  48%|████▊     | 3345/7000 [00:00<00:00, 8514.24 examples/s]\n",
      "Map:  48%|████▊     | 3344/7000 [00:00<00:00, 8495.46 examples/s]\n",
      "Map:  60%|██████    | 4232/7000 [00:00<00:00, 8600.18 examples/s]\n",
      "Map:  61%|██████    | 4256/7000 [00:00<00:00, 8729.07 examples/s]\n",
      "Map:  60%|██████    | 4222/7000 [00:00<00:00, 8600.75 examples/s]\n",
      "Map:  60%|██████    | 4216/7000 [00:00<00:00, 8573.20 examples/s]\n",
      "Map:  74%|███████▎  | 5148/7000 [00:00<00:00, 8787.03 examples/s]\n",
      "Map:  74%|███████▎  | 5161/7000 [00:00<00:00, 8833.73 examples/s]\n",
      "Map:  73%|███████▎  | 5120/7000 [00:00<00:00, 8727.75 examples/s]\n",
      "Map:  73%|███████▎  | 5113/7000 [00:00<00:00, 8701.09 examples/s]\n",
      "Map:  86%|████████▌ | 6037/7000 [00:00<00:00, 8817.81 examples/s]\n",
      "Map:  87%|████████▋ | 6059/7000 [00:00<00:00, 8875.93 examples/s]\n",
      "Map:  86%|████████▌ | 6008/7000 [00:00<00:00, 8774.92 examples/s]\n",
      "Map:  86%|████████▌ | 6010/7000 [00:00<00:00, 8785.02 examples/s]\n",
      "Map:  99%|█████████▉| 6947/7000 [00:00<00:00, 8904.17 examples/s]\n",
      "Map: 100%|██████████| 7000/7000 [00:00<00:00, 8587.19 examples/s]\n",
      "Map: 100%|█████████▉| 6984/7000 [00:00<00:00, 8990.58 examples/s]\n",
      "Map: 100%|██████████| 7000/7000 [00:00<00:00, 8656.44 examples/s]\n",
      "Map:  99%|█████████▉| 6931/7000 [00:00<00:00, 8917.41 examples/s]\n",
      "Map: 100%|██████████| 7000/7000 [00:00<00:00, 8577.10 examples/s]\n",
      "Map:  99%|█████████▉| 6938/7000 [00:00<00:00, 8937.58 examples/s]\n",
      "Map: 100%|██████████| 7000/7000 [00:00<00:00, 8574.83 examples/s]\n",
      "Map:   0%|          | 0/526 [00:00<?, ? examples/s]\n",
      "Map:   0%|          | 0/526 [00:00<?, ? examples/s]\n",
      "Map:   0%|          | 0/526 [00:00<?, ? examples/s]\n",
      "Map:   0%|          | 0/526 [00:00<?, ? examples/s]\n",
      "Map: 100%|██████████| 526/526 [00:00<00:00, 8758.08 examples/s]\n",
      "Map: 100%|██████████| 526/526 [00:00<00:00, 8620.00 examples/s]\n",
      "<|begin_of_text|><|start_header_id|>system<|end_header_id|>\n",
      "As an English student, your task is to answer a prompt with a level of grammatical accuracy ranging from 1 to 6. \n",
      "Each level reflects increasing proficiency in using correct grammatical structures and sentence patterns in English as your second language.\n",
      "Here is the scale you should use to build your answer:\n",
      "1: The student_answer has frequent and noticeable Errors: The student makes frequent and noticeable errors in grammar, significantly impeding intelligibility.\n",
      "2: The student_answer has basic Control with consistent errors: The student demonstrates control over simple grammatical structures but makes consistent basic errors that often impede intelligibility.\n",
      "3: The student_answer has control with some errors: The student demonstrates control over common grammatical structures, although occasional errors impede intelligibility.\n",
      "4: The student_answer has fair control with infrequent errors: The student demonstrates control over a variety of grammatical structures, with noticeable errors made infrequently. These errors do not significantly impede intelligibility, and there may be some self-correction.\n",
      "5: The student_answer has high control with rare errors: The student demonstrates a high level of control over a variety of grammatical structures, with errors rarely made. However, there might be noticeable errors that occasionally impede intelligibility, and self-correction may be inconsistent.\n",
      "6: The student_answer has advanced control with rare errors: The student demonstrates advanced control over a variety of grammatical structures, even when engaged in other activities. Errors are rarely noticeable, and there is consistent evidence of self-correction.<|eot_id|><|start_header_id|>user<|end_header_id|>\n",
      "Answer the following prompt: 'You are participating in an audience survey. Give feedback on some of the shows you have watched recently.' with a level of accuracy: '4.0'<|eot_id|><|start_header_id|>assistant<|end_header_id|>\n",
      "Recently i have been watching a show called Modern Family. Its about 3 different families and how their lives are interconnected. We get to see people who are from very different background come together and ceeate a wholesome and harmonious environment tigether. Its a hilarious comedy show where each episode creates a sense of homely experience<|eot_id|>\n",
      "<|begin_of_text|><|start_header_id|>system<|end_header_id|>\n",
      "As an English student, your task is to answer a prompt with a level of grammatical accuracy ranging from 1 to 6. \n",
      "Each level reflects increasing proficiency in using correct grammatical structures and sentence patterns in English as your second language.\n",
      "Here is the scale you should use to build your answer:\n",
      "1: The student_answer has frequent and noticeable Errors: The student makes frequent and noticeable errors in grammar, significantly impeding intelligibility.\n",
      "2: The student_answer has basic Control with consistent errors: The student demonstrates control over simple grammatical structures but makes consistent basic errors that often impede intelligibility.\n",
      "3: The student_answer has control with some errors: The student demonstrates control over common grammatical structures, although occasional errors impede intelligibility.\n",
      "4: The student_answer has fair control with infrequent errors: The student demonstrates control over a variety of grammatical structures, with noticeable errors made infrequently. These errors do not significantly impede intelligibility, and there may be some self-correction.\n",
      "5: The student_answer has high control with rare errors: The student demonstrates a high level of control over a variety of grammatical structures, with errors rarely made. However, there might be noticeable errors that occasionally impede intelligibility, and self-correction may be inconsistent.\n",
      "6: The student_answer has advanced control with rare errors: The student demonstrates advanced control over a variety of grammatical structures, even when engaged in other activities. Errors are rarely noticeable, and there is consistent evidence of self-correction.<|eot_id|><|start_header_id|>user<|end_header_id|>\n",
      "Answer the following prompt: 'You're renting out a room. Write a detailed description of it for a room rental website.' with a level of accuracy: '3.0'<|eot_id|><|start_header_id|>assistant<|end_header_id|>\n",
      "Welcome you dear customer! I have an four BHK appartment next to the Gustave which has Effile Tower. Yes, I know it's sound intresting appartment near the Effile Tower. I decided to rent one BHK of my apartment, Any one intrested please contact me the above mentioned phone number to discuse about further details. Thank you!<|eot_id|>\n",
      "Map: 100%|██████████| 526/526 [00:00<00:00, 8452.14 examples/s]\n",
      "Map: 100%|██████████| 526/526 [00:00<00:00, 8338.70 examples/s]\n",
      "NCCL version 2.18.5+cuda12.1\n",
      "algo-1:66:160 [2] configure_nvls_option:293 NCCL WARN NET/OFI Could not find ncclGetVersion symbol\n",
      "algo-1:67:161 [3] configure_nvls_option:293 NCCL WARN NET/OFI Could not find ncclGetVersion symbol\n",
      "algo-1:64:159 [0] configure_nvls_option:293 NCCL WARN NET/OFI Could not find ncclGetVersion symbol\n",
      "algo-1:65:162 [1] configure_nvls_option:293 NCCL WARN NET/OFI Could not find ncclGetVersion symbol\n",
      "Downloading shards:   0%|          | 0/4 [00:00<?, ?it/s]\n",
      "Downloading shards:   0%|          | 0/4 [00:00<?, ?it/s]\n",
      "Downloading shards:   0%|          | 0/4 [00:00<?, ?it/s]\n",
      "Downloading shards:   0%|          | 0/4 [00:00<?, ?it/s]\n",
      "Downloading shards:  25%|██▌       | 1/4 [00:12<00:36, 12.22s/it]\n",
      "Downloading shards:  25%|██▌       | 1/4 [00:12<00:36, 12.20s/it]\n",
      "Downloading shards:  25%|██▌       | 1/4 [00:12<00:36, 12.13s/it]\n",
      "Downloading shards:  25%|██▌       | 1/4 [00:12<00:36, 12.25s/it]\n",
      "Downloading shards:  50%|█████     | 2/4 [00:24<00:24, 12.07s/it]\n",
      "Downloading shards:  50%|█████     | 2/4 [00:24<00:24, 12.08s/it]\n",
      "Downloading shards:  50%|█████     | 2/4 [00:24<00:24, 12.05s/it]\n",
      "Downloading shards:  50%|█████     | 2/4 [00:24<00:24, 12.09s/it]\n",
      "Downloading shards:  75%|███████▌  | 3/4 [00:35<00:11, 11.93s/it]\n",
      "Downloading shards:  75%|███████▌  | 3/4 [00:35<00:11, 11.90s/it]\n",
      "Downloading shards:  75%|███████▌  | 3/4 [00:35<00:11, 11.93s/it]\n",
      "Downloading shards:  75%|███████▌  | 3/4 [00:35<00:11, 11.93s/it]\n",
      "Downloading shards: 100%|██████████| 4/4 [00:38<00:00,  8.35s/it]#015Downloading shards: 100%|██████████| 4/4 [00:38<00:00,  9.70s/it]\n",
      "Downloading shards: 100%|██████████| 4/4 [00:38<00:00,  8.34s/it]\n",
      "Downloading shards: 100%|██████████| 4/4 [00:38<00:00,  9.70s/it]\n",
      "Downloading shards: 100%|██████████| 4/4 [00:38<00:00,  8.34s/it]\n",
      "Downloading shards: 100%|██████████| 4/4 [00:38<00:00,  9.68s/it]\n",
      "Downloading shards: 100%|██████████| 4/4 [00:38<00:00,  8.36s/it]\n",
      "Downloading shards: 100%|██████████| 4/4 [00:38<00:00,  9.71s/it]\n",
      "Loading checkpoint shards:   0%|          | 0/4 [00:00<?, ?it/s]\n",
      "Loading checkpoint shards:   0%|          | 0/4 [00:00<?, ?it/s]\n",
      "Loading checkpoint shards:   0%|          | 0/4 [00:00<?, ?it/s]\n",
      "Loading checkpoint shards:   0%|          | 0/4 [00:00<?, ?it/s]\n",
      "Loading checkpoint shards:  25%|██▌       | 1/4 [00:01<00:04,  1.49s/it]\n",
      "Loading checkpoint shards:  25%|██▌       | 1/4 [00:02<00:06,  2.05s/it]#015Loading checkpoint shards:  25%|██▌       | 1/4 [00:01<00:05,  1.97s/it]\n",
      "Loading checkpoint shards:  25%|██▌       | 1/4 [00:02<00:06,  2.01s/it]\n",
      "Loading checkpoint shards:  50%|█████     | 2/4 [00:03<00:03,  1.59s/it]\n",
      "Loading checkpoint shards:  50%|█████     | 2/4 [00:04<00:04,  2.13s/it]\n",
      "Loading checkpoint shards:  50%|█████     | 2/4 [00:04<00:04,  2.11s/it]\n",
      "Loading checkpoint shards:  50%|█████     | 2/4 [00:04<00:04,  2.14s/it]\n",
      "Loading checkpoint shards:  75%|███████▌  | 3/4 [00:04<00:01,  1.61s/it]\n",
      "Loading checkpoint shards: 100%|██████████| 4/4 [00:05<00:00,  1.10s/it]\n",
      "Loading checkpoint shards: 100%|██████████| 4/4 [00:05<00:00,  1.28s/it]\n",
      "Loading checkpoint shards:  75%|███████▌  | 3/4 [00:06<00:02,  2.12s/it]\n",
      "Loading checkpoint shards:  75%|███████▌  | 3/4 [00:06<00:02,  2.12s/it]\n",
      "Loading checkpoint shards:  75%|███████▌  | 3/4 [00:06<00:02,  2.13s/it]\n",
      "Loading checkpoint shards: 100%|██████████| 4/4 [00:06<00:00,  1.45s/it]\n",
      "Loading checkpoint shards: 100%|██████████| 4/4 [00:06<00:00,  1.69s/it]\n",
      "Loading checkpoint shards: 100%|██████████| 4/4 [00:06<00:00,  1.45s/it]\n",
      "Loading checkpoint shards: 100%|██████████| 4/4 [00:06<00:00,  1.70s/it]\n",
      "Loading checkpoint shards: 100%|██████████| 4/4 [00:06<00:00,  1.44s/it]\n",
      "Loading checkpoint shards: 100%|██████████| 4/4 [00:06<00:00,  1.68s/it]\n",
      "Generating train split: 0 examples [00:00, ? examples/s]\n",
      "Generating train split: 1 examples [00:00,  6.48 examples/s]\n",
      "Generating train split: 669 examples [00:00, 2416.45 examples/s]\n",
      "Generating train split: 1336 examples [00:00, 2874.45 examples/s]\n",
      "Generating train split: 2003 examples [00:00, 3063.44 examples/s]\n",
      "Generating train split: 2671 examples [00:00, 3395.12 examples/s]\n",
      "Generating train split: 3338 examples [00:01, 3366.88 examples/s]\n",
      "Generating train split: 4006 examples [00:01, 3341.96 examples/s]\n",
      "Generating train split: 4674 examples [00:01, 3582.97 examples/s]\n",
      "Generating train split: 5343 examples [00:01, 3615.68 examples/s]\n",
      "Generating train split: 5895 examples [00:01, 3438.67 examples/s]\n",
      "Generating train split: 0 examples [00:00, ? examples/s]\n",
      "Generating train split: 442 examples [00:00, 4225.45 examples/s]\n",
      "Generating train split: 442 examples [00:00, 3652.91 examples/s]\n",
      "trainable params: 41,943,040 || all params: 8,072,204,288 || trainable%: 0.5195983464188562\n",
      "0%|          | 0/92 [00:00<?, ?it/s]\n",
      "1%|          | 1/92 [00:19<30:03, 19.82s/it]\n",
      "2%|▏         | 2/92 [00:34<25:33, 17.04s/it]\n",
      "3%|▎         | 3/92 [00:50<23:58, 16.16s/it]\n",
      "4%|▍         | 4/92 [01:05<23:05, 15.75s/it]\n",
      "5%|▌         | 5/92 [01:20<22:29, 15.51s/it]\n",
      "7%|▋         | 6/92 [01:35<22:02, 15.37s/it]\n",
      "8%|▊         | 7/92 [01:50<21:39, 15.29s/it]\n",
      "9%|▊         | 8/92 [02:05<21:22, 15.27s/it]\n",
      "10%|▉         | 9/92 [02:20<21:06, 15.26s/it]\n",
      "11%|█         | 10/92 [02:35<20:46, 15.20s/it]\n",
      "{'loss': 1.8273, 'grad_norm': 0.4921875, 'learning_rate': 0.0002, 'epoch': 0.11}\n",
      "11%|█         | 10/92 [02:35<20:46, 15.20s/it]\n",
      "12%|█▏        | 11/92 [02:51<20:28, 15.17s/it]\n",
      "13%|█▎        | 12/92 [03:06<20:12, 15.15s/it]\n",
      "14%|█▍        | 13/92 [03:21<19:55, 15.14s/it]\n",
      "15%|█▌        | 14/92 [03:36<19:40, 15.13s/it]\n",
      "16%|█▋        | 15/92 [03:51<19:24, 15.12s/it]\n",
      "17%|█▋        | 16/92 [04:06<19:08, 15.12s/it]\n",
      "18%|█▊        | 17/92 [04:21<18:53, 15.11s/it]\n",
      "20%|█▉        | 18/92 [04:36<18:38, 15.12s/it]\n",
      "21%|██        | 19/92 [04:51<18:23, 15.12s/it]\n",
      "22%|██▏       | 20/92 [05:07<18:08, 15.12s/it]\n",
      "{'loss': 0.7906, 'grad_norm': 0.13671875, 'learning_rate': 0.0002, 'epoch': 0.22}\n",
      "22%|██▏       | 20/92 [05:07<18:08, 15.12s/it]\n",
      "23%|██▎       | 21/92 [05:22<17:55, 15.15s/it]\n",
      "24%|██▍       | 22/92 [05:37<17:42, 15.18s/it]\n",
      "25%|██▌       | 23/92 [05:52<17:25, 15.16s/it]\n",
      "26%|██▌       | 24/92 [06:07<17:09, 15.14s/it]\n",
      "27%|██▋       | 25/92 [06:22<16:53, 15.13s/it]\n",
      "28%|██▊       | 26/92 [06:37<16:37, 15.12s/it]\n",
      "29%|██▉       | 27/92 [06:53<16:22, 15.12s/it]\n",
      "30%|███       | 28/92 [07:08<16:07, 15.11s/it]\n",
      "32%|███▏      | 29/92 [07:23<15:51, 15.11s/it]\n",
      "33%|███▎      | 30/92 [07:38<15:36, 15.11s/it]\n",
      "{'loss': 0.6302, 'grad_norm': 0.087890625, 'learning_rate': 0.0002, 'epoch': 0.32}\n",
      "33%|███▎      | 30/92 [07:38<15:36, 15.11s/it]\n",
      "34%|███▎      | 31/92 [07:53<15:21, 15.11s/it]\n",
      "35%|███▍      | 32/92 [08:08<15:06, 15.11s/it]\n",
      "36%|███▌      | 33/92 [08:23<14:51, 15.11s/it]\n",
      "37%|███▋      | 34/92 [08:38<14:38, 15.14s/it]\n",
      "38%|███▊      | 35/92 [08:54<14:24, 15.17s/it]\n",
      "39%|███▉      | 36/92 [09:09<14:08, 15.15s/it]\n",
      "40%|████      | 37/92 [09:24<13:52, 15.14s/it]\n",
      "41%|████▏     | 38/92 [09:39<13:37, 15.13s/it]\n",
      "42%|████▏     | 39/92 [09:54<13:21, 15.13s/it]\n",
      "43%|████▎     | 40/92 [10:09<13:06, 15.12s/it]\n",
      "{'loss': 0.5771, 'grad_norm': 0.078125, 'learning_rate': 0.0002, 'epoch': 0.43}\n",
      "43%|████▎     | 40/92 [10:09<13:06, 15.12s/it]\n",
      "45%|████▍     | 41/92 [10:24<12:50, 15.12s/it]\n",
      "46%|████▌     | 42/92 [10:39<12:35, 15.12s/it]\n",
      "47%|████▋     | 43/92 [10:55<12:20, 15.11s/it]\n",
      "48%|████▊     | 44/92 [11:10<12:05, 15.11s/it]\n",
      "49%|████▉     | 45/92 [11:25<11:49, 15.10s/it]\n",
      "50%|█████     | 46/92 [11:40<11:34, 15.10s/it]\n",
      "51%|█████     | 47/92 [11:55<11:21, 15.14s/it]\n",
      "52%|█████▏    | 48/92 [12:10<11:07, 15.17s/it]\n",
      "53%|█████▎    | 49/92 [12:25<10:51, 15.15s/it]\n",
      "54%|█████▍    | 50/92 [12:40<10:35, 15.14s/it]\n",
      "{'loss': 0.5554, 'grad_norm': 0.07958984375, 'learning_rate': 0.0002, 'epoch': 0.54}\n",
      "54%|█████▍    | 50/92 [12:40<10:35, 15.14s/it]\n",
      "55%|█████▌    | 51/92 [12:56<10:20, 15.13s/it]\n",
      "57%|█████▋    | 52/92 [13:11<10:05, 15.13s/it]\n",
      "58%|█████▊    | 53/92 [13:26<09:49, 15.12s/it]\n",
      "59%|█████▊    | 54/92 [13:41<09:34, 15.11s/it]\n",
      "60%|█████▉    | 55/92 [13:56<09:19, 15.11s/it]\n",
      "61%|██████    | 56/92 [14:11<09:03, 15.11s/it]\n",
      "62%|██████▏   | 57/92 [14:26<08:48, 15.10s/it]\n",
      "63%|██████▎   | 58/92 [14:41<08:33, 15.10s/it]\n",
      "64%|██████▍   | 59/92 [14:56<08:18, 15.10s/it]\n",
      "65%|██████▌   | 60/92 [15:12<08:04, 15.14s/it]\n",
      "{'loss': 0.5375, 'grad_norm': 0.0654296875, 'learning_rate': 0.0002, 'epoch': 0.65}\n",
      "65%|██████▌   | 60/92 [15:12<08:04, 15.14s/it]\n",
      "66%|██████▋   | 61/92 [15:27<07:50, 15.17s/it]\n",
      "67%|██████▋   | 62/92 [15:42<07:34, 15.15s/it]\n",
      "68%|██████▊   | 63/92 [15:57<07:18, 15.14s/it]\n",
      "70%|██████▉   | 64/92 [16:12<07:03, 15.12s/it]\n",
      "71%|███████   | 65/92 [16:27<06:48, 15.11s/it]\n",
      "72%|███████▏  | 66/92 [16:42<06:32, 15.11s/it]\n",
      "73%|███████▎  | 67/92 [16:57<06:17, 15.11s/it]\n",
      "74%|███████▍  | 68/92 [17:13<06:02, 15.11s/it]\n",
      "75%|███████▌  | 69/92 [17:28<05:47, 15.11s/it]\n",
      "76%|███████▌  | 70/92 [17:43<05:32, 15.10s/it]\n",
      "{'loss': 0.5315, 'grad_norm': 0.06982421875, 'learning_rate': 0.0002, 'epoch': 0.76}\n",
      "76%|███████▌  | 70/92 [17:43<05:32, 15.10s/it]\n",
      "77%|███████▋  | 71/92 [17:58<05:17, 15.11s/it]\n",
      "78%|███████▊  | 72/92 [18:13<05:02, 15.10s/it]\n",
      "79%|███████▉  | 73/92 [18:28<04:47, 15.15s/it]\n",
      "80%|████████  | 74/92 [18:43<04:33, 15.18s/it]\n",
      "82%|████████▏ | 75/92 [18:59<04:17, 15.15s/it]\n",
      "83%|████████▎ | 76/92 [19:14<04:02, 15.15s/it]\n",
      "84%|████████▎ | 77/92 [19:29<03:47, 15.13s/it]\n",
      "85%|████████▍ | 78/92 [19:44<03:31, 15.13s/it]\n",
      "86%|████████▌ | 79/92 [19:59<03:16, 15.12s/it]\n",
      "87%|████████▋ | 80/92 [20:14<03:01, 15.13s/it]\n",
      "{'loss': 0.5288, 'grad_norm': 0.0751953125, 'learning_rate': 0.0002, 'epoch': 0.86}\n",
      "87%|████████▋ | 80/92 [20:14<03:01, 15.13s/it]\n",
      "88%|████████▊ | 81/92 [20:29<02:46, 15.12s/it]\n",
      "89%|████████▉ | 82/92 [20:44<02:31, 15.12s/it]\n",
      "90%|█████████ | 83/92 [21:00<02:16, 15.12s/it]\n",
      "91%|█████████▏| 84/92 [21:15<02:00, 15.12s/it]\n",
      "92%|█████████▏| 85/92 [21:30<01:45, 15.12s/it]\n",
      "93%|█████████▎| 86/92 [21:45<01:30, 15.16s/it]\n",
      "95%|█████████▍| 87/92 [22:00<01:15, 15.18s/it]\n",
      "96%|█████████▌| 88/92 [22:15<01:00, 15.16s/it]\n",
      "97%|█████████▋| 89/92 [22:30<00:45, 15.14s/it]\n",
      "98%|█████████▊| 90/92 [22:46<00:30, 15.13s/it]\n",
      "{'loss': 0.5266, 'grad_norm': 0.0634765625, 'learning_rate': 0.0002, 'epoch': 0.97}\n",
      "98%|█████████▊| 90/92 [22:46<00:30, 15.13s/it]\n",
      "99%|█████████▉| 91/92 [23:01<00:15, 15.12s/it]\n",
      "100%|██████████| 92/92 [23:16<00:00, 15.12s/it]\n",
      "0%|          | 0/111 [00:00<?, ?it/s]#033[A\n",
      "2%|▏         | 2/111 [00:01<01:13,  1.49it/s]#033[A\n",
      "3%|▎         | 3/111 [00:02<01:43,  1.04it/s]#033[A\n",
      "4%|▎         | 4/111 [00:04<01:58,  1.11s/it]#033[A\n",
      "5%|▍         | 5/111 [00:05<02:06,  1.19s/it]#033[A\n",
      "5%|▌         | 6/111 [00:06<02:10,  1.25s/it]#033[A\n",
      "6%|▋         | 7/111 [00:08<02:13,  1.28s/it]#033[A\n",
      "7%|▋         | 8/111 [00:09<02:13,  1.30s/it]#033[A\n",
      "8%|▊         | 9/111 [00:10<02:13,  1.31s/it]#033[A\n",
      "9%|▉         | 10/111 [00:12<02:13,  1.32s/it]#033[A\n",
      "10%|▉         | 11/111 [00:13<02:12,  1.33s/it]#033[A\n",
      "11%|█         | 12/111 [00:14<02:11,  1.33s/it]#033[A\n",
      "12%|█▏        | 13/111 [00:16<02:10,  1.33s/it]#033[A\n",
      "13%|█▎        | 14/111 [00:17<02:09,  1.33s/it]#033[A\n",
      "14%|█▎        | 15/111 [00:18<02:08,  1.33s/it]#033[A\n",
      "14%|█▍        | 16/111 [00:20<02:06,  1.33s/it]#033[A\n",
      "15%|█▌        | 17/111 [00:21<02:05,  1.34s/it]#033[A\n",
      "16%|█▌        | 18/111 [00:22<02:04,  1.34s/it]#033[A\n",
      "17%|█▋        | 19/111 [00:24<02:03,  1.34s/it]#033[A\n",
      "18%|█▊        | 20/111 [00:25<02:02,  1.34s/it]#033[A\n",
      "19%|█▉        | 21/111 [00:26<02:00,  1.34s/it]#033[A\n",
      "20%|█▉        | 22/111 [00:28<01:58,  1.34s/it]#033[A\n",
      "21%|██        | 23/111 [00:29<01:57,  1.33s/it]#033[A\n",
      "22%|██▏       | 24/111 [00:30<01:56,  1.34s/it]#033[A\n",
      "23%|██▎       | 25/111 [00:32<01:54,  1.33s/it]#033[A\n",
      "23%|██▎       | 26/111 [00:33<01:53,  1.33s/it]#033[A\n",
      "24%|██▍       | 27/111 [00:34<01:52,  1.34s/it]#033[A\n",
      "25%|██▌       | 28/111 [00:36<01:50,  1.34s/it]#033[A\n",
      "26%|██▌       | 29/111 [00:37<01:49,  1.34s/it]#033[A\n",
      "27%|██▋       | 30/111 [00:38<01:48,  1.34s/it]#033[A\n",
      "28%|██▊       | 31/111 [00:40<01:47,  1.34s/it]#033[A\n",
      "29%|██▉       | 32/111 [00:41<01:46,  1.34s/it]#033[A\n",
      "30%|██▉       | 33/111 [00:42<01:44,  1.34s/it]#033[A\n",
      "31%|███       | 34/111 [00:44<01:43,  1.34s/it]#033[A\n",
      "32%|███▏      | 35/111 [00:45<01:42,  1.34s/it]#033[A\n",
      "32%|███▏      | 36/111 [00:46<01:40,  1.34s/it]#033[A\n",
      "33%|███▎      | 37/111 [00:48<01:39,  1.34s/it]#033[A\n",
      "34%|███▍      | 38/111 [00:49<01:37,  1.34s/it]#033[A\n",
      "35%|███▌      | 39/111 [00:50<01:36,  1.34s/it]#033[A\n",
      "36%|███▌      | 40/111 [00:52<01:35,  1.34s/it]#033[A\n",
      "37%|███▋      | 41/111 [00:53<01:33,  1.34s/it]#033[A\n",
      "38%|███▊      | 42/111 [00:54<01:32,  1.34s/it]#033[A\n",
      "39%|███▊      | 43/111 [00:56<01:31,  1.34s/it]#033[A\n",
      "40%|███▉      | 44/111 [00:57<01:29,  1.34s/it]#033[A\n",
      "41%|████      | 45/111 [00:58<01:28,  1.33s/it]#033[A\n",
      "41%|████▏     | 46/111 [01:00<01:26,  1.33s/it]#033[A\n",
      "42%|████▏     | 47/111 [01:01<01:25,  1.33s/it]#033[A\n",
      "43%|████▎     | 48/111 [01:02<01:24,  1.33s/it]#033[A\n",
      "44%|████▍     | 49/111 [01:04<01:22,  1.34s/it]#033[A\n",
      "45%|████▌     | 50/111 [01:05<01:21,  1.34s/it]#033[A\n",
      "46%|████▌     | 51/111 [01:06<01:20,  1.34s/it]#033[A\n",
      "47%|████▋     | 52/111 [01:08<01:18,  1.34s/it]#033[A\n",
      "48%|████▊     | 53/111 [01:09<01:17,  1.33s/it]#033[A\n",
      "49%|████▊     | 54/111 [01:10<01:15,  1.33s/it]#033[A\n",
      "50%|████▉     | 55/111 [01:12<01:14,  1.33s/it]#033[A\n",
      "50%|█████     | 56/111 [01:13<01:13,  1.33s/it]#033[A\n",
      "51%|█████▏    | 57/111 [01:14<01:12,  1.33s/it]#033[A\n",
      "52%|█████▏    | 58/111 [01:16<01:10,  1.34s/it]#033[A\n",
      "53%|█████▎    | 59/111 [01:17<01:09,  1.34s/it]#033[A\n",
      "54%|█████▍    | 60/111 [01:19<01:08,  1.34s/it]#033[A\n",
      "55%|█████▍    | 61/111 [01:20<01:07,  1.34s/it]#033[A\n",
      "56%|█████▌    | 62/111 [01:21<01:05,  1.35s/it]#033[A\n",
      "57%|█████▋    | 63/111 [01:23<01:04,  1.34s/it]#033[A\n",
      "58%|█████▊    | 64/111 [01:24<01:03,  1.35s/it]#033[A\n",
      "59%|█████▊    | 65/111 [01:25<01:01,  1.34s/it]#033[A\n",
      "59%|█████▉    | 66/111 [01:27<01:00,  1.34s/it]#033[A\n",
      "60%|██████    | 67/111 [01:28<00:59,  1.34s/it]#033[A\n",
      "61%|██████▏   | 68/111 [01:29<00:57,  1.34s/it]#033[A\n",
      "62%|██████▏   | 69/111 [01:31<00:56,  1.34s/it]#033[A\n",
      "63%|██████▎   | 70/111 [01:32<00:55,  1.34s/it]#033[A\n",
      "64%|██████▍   | 71/111 [01:33<00:53,  1.34s/it]#033[A\n",
      "65%|██████▍   | 72/111 [01:35<00:52,  1.34s/it]#033[A\n",
      "66%|██████▌   | 73/111 [01:36<00:51,  1.35s/it]#033[A\n",
      "67%|██████▋   | 74/111 [01:37<00:49,  1.34s/it]#033[A\n",
      "68%|██████▊   | 75/111 [01:39<00:48,  1.34s/it]#033[A\n",
      "68%|██████▊   | 76/111 [01:40<00:47,  1.34s/it]#033[A\n",
      "69%|██████▉   | 77/111 [01:41<00:45,  1.34s/it]#033[A\n",
      "70%|███████   | 78/111 [01:43<00:44,  1.34s/it]#033[A\n",
      "71%|███████   | 79/111 [01:44<00:42,  1.34s/it]#033[A\n",
      "72%|███████▏  | 80/111 [01:45<00:41,  1.34s/it]#033[A\n",
      "73%|███████▎  | 81/111 [01:47<00:40,  1.34s/it]#033[A\n",
      "74%|███████▍  | 82/111 [01:48<00:38,  1.34s/it]#033[A\n",
      "75%|███████▍  | 83/111 [01:49<00:37,  1.34s/it]#033[A\n",
      "76%|███████▌  | 84/111 [01:51<00:36,  1.34s/it]#033[A\n",
      "77%|███████▋  | 85/111 [01:52<00:34,  1.34s/it]#033[A\n",
      "77%|███████▋  | 86/111 [01:53<00:33,  1.34s/it]#033[A\n",
      "78%|███████▊  | 87/111 [01:55<00:32,  1.34s/it]#033[A\n",
      "79%|███████▉  | 88/111 [01:56<00:30,  1.34s/it]#033[A\n",
      "80%|████████  | 89/111 [01:57<00:29,  1.34s/it]#033[A\n",
      "81%|████████  | 90/111 [01:59<00:28,  1.34s/it]#033[A\n",
      "82%|████████▏ | 91/111 [02:00<00:26,  1.34s/it]#033[A\n",
      "83%|████████▎ | 92/111 [02:01<00:25,  1.34s/it]#033[A\n",
      "84%|████████▍ | 93/111 [02:03<00:24,  1.34s/it]#033[A\n",
      "85%|████████▍ | 94/111 [02:04<00:22,  1.34s/it]#033[A\n",
      "86%|████████▌ | 95/111 [02:05<00:21,  1.34s/it]#033[A\n",
      "86%|████████▋ | 96/111 [02:07<00:20,  1.34s/it]#033[A\n",
      "87%|████████▋ | 97/111 [02:08<00:18,  1.34s/it]#033[A\n",
      "88%|████████▊ | 98/111 [02:10<00:17,  1.34s/it]#033[A\n",
      "89%|████████▉ | 99/111 [02:11<00:16,  1.34s/it]#033[A\n",
      "90%|█████████ | 100/111 [02:12<00:14,  1.34s/it]#033[A\n",
      "91%|█████████ | 101/111 [02:14<00:13,  1.35s/it]#033[A\n",
      "92%|█████████▏| 102/111 [02:15<00:12,  1.35s/it]#033[A\n",
      "93%|█████████▎| 103/111 [02:16<00:10,  1.34s/it]#033[A\n",
      "94%|█████████▎| 104/111 [02:18<00:09,  1.35s/it]#033[A\n",
      "95%|█████████▍| 105/111 [02:19<00:08,  1.35s/it]#033[A\n",
      "95%|█████████▌| 106/111 [02:20<00:06,  1.35s/it]#033[A\n",
      "96%|█████████▋| 107/111 [02:22<00:05,  1.35s/it]#033[A\n",
      "97%|█████████▋| 108/111 [02:23<00:04,  1.35s/it]#033[A\n",
      "98%|█████████▊| 109/111 [02:24<00:02,  1.35s/it]#033[A\n",
      "99%|█████████▉| 110/111 [02:26<00:01,  1.35s/it]#033[A\n",
      "100%|██████████| 111/111 [02:27<00:00,  1.35s/it]#033[A\n",
      "#033[A\n",
      "{'eval_loss': 0.514735758304596, 'eval_runtime': 149.3782, 'eval_samples_per_second': 2.959, 'eval_steps_per_second': 0.743, 'epoch': 0.99}\n",
      "100%|██████████| 92/92 [25:45<00:00, 15.12s/it]\n",
      "100%|██████████| 111/111 [02:27<00:00,  1.35s/it]#033[A\n",
      "#033[A\n",
      "{'train_runtime': 1561.7363, 'train_samples_per_second': 3.775, 'train_steps_per_second': 0.059, 'train_loss': 0.7183912759241851, 'epoch': 0.99}\n",
      "100%|██████████| 92/92 [26:01<00:00, 15.12s/it]\n",
      "100%|██████████| 92/92 [26:01<00:00, 16.98s/it]\n",
      "Trying to load a Peft model. It might take a while without feedback\n",
      "Loading checkpoint shards:   0%|          | 0/4 [00:00<?, ?it/s]\n",
      "[W PyInterpreter.cpp:221] Warning: Deallocating Tensor that still has live PyObject references.  This probably happened because you took out a weak reference to Tensor and didn't call _fix_weakref() after dereferencing it.  Subsequent accesses to this tensor via the PyObject will now fail. (function decref)\n",
      "Loading checkpoint shards:  25%|██▌       | 1/4 [00:04<00:14,  4.88s/it]\n",
      "Loading checkpoint shards:  50%|█████     | 2/4 [00:09<00:09,  4.63s/it]\n",
      "Loading checkpoint shards:  75%|███████▌  | 3/4 [00:13<00:04,  4.50s/it]\n",
      "Loading checkpoint shards: 100%|██████████| 4/4 [00:14<00:00,  3.17s/it]\n",
      "Loading checkpoint shards: 100%|██████████| 4/4 [00:14<00:00,  3.70s/it]\n",
      "Saving the newly created merged model to /opt/ml/model\n",
      "\n",
      "2024-09-06 08:06:35 Uploading - Uploading generated training model2024-09-06 08:06:29,582 sagemaker-training-toolkit INFO     Waiting for the process to finish and give a return code.\n",
      "2024-09-06 08:06:29,582 sagemaker-training-toolkit INFO     Done waiting for a return code. Received 0 from exiting process.\n",
      "2024-09-06 08:06:29,582 sagemaker-training-toolkit INFO     Reporting training SUCCESS\n",
      "\n",
      "2024-09-06 08:07:44 Completed - Training job completed\n",
      "Training seconds: 2127\n",
      "Billable seconds: 2127\n"
     ]
    }
   ],
   "source": [
    "# define a data input dictonary with our uploaded s3 uris\n",
    "data = {\n",
    "  'train': train_dataset_s3_path,\n",
    "  'test': test_dataset_s3_path,\n",
    "  'config': train_config_s3_path\n",
    "  }\n",
    "\n",
    "# starting the train job with our uploaded datasets as input\n",
    "huggingface_estimator.fit(data, wait=True)"
   ]
  },
  {
   "attachments": {},
   "cell_type": "markdown",
   "metadata": {},
   "source": [
    "In our example the training Llama 3 70B with Flash Attention for 2 epochs with a dataset of 10k samples takes 5052 seconds (~84minutes) on a `ml.p4d.24xlarge` or ~$50."
   ]
  },
  {
   "attachments": {},
   "cell_type": "markdown",
   "metadata": {},
   "source": [
    "## 4. Deploy & Test fine-tuned Llama 3 on Amazon SageMaker\n",
    "\n",
    "Evaluating LLMs is crucial for understanding their capabilities and limitations, yet it poses significant challenges due to their complex and opaque nature. There are multiple ways to evaluate a fine-tuned model. You could either use an additional Training job to evaluate the model as we demonstrated in [Evaluate LLMs with Hugging Face Lighteval on Amazon SageMaker](https://www.philschmid.de/sagemaker-evaluate-llm-lighteval) or you can deploy the model to an endpoint and interactively test the model. We are going to use the latter approach in this example. We will load our eval dataset and evaluate the model on those samples, using a simple loop and accuracy as our metric.\n",
    "\n",
    "_Note: Evaluating Generative AI models is not a trivial task since 1 input can have multiple correct outputs. If you want to learn more about evaluating generative models, check out [Evaluate LLMs and RAG a practical example using Langchain and Hugging Face](https://www.philschmid.de/evaluate-llm) blog post._\n",
    "\n",
    "We are going to use the [Hugging Face LLM Inference DLC](https://huggingface.co/blog/sagemaker-huggingface-llm#what-is-hugging-face-llm-inference-dlc) a purpose-built Inference Container to easily deploy LLMs in a secure and managed environment. The DLC is powered by [Text Generation Inference (TGI)](https://huggingface.co/docs/text-generation-inference/index) solution for deploying and serving Large Language Models (LLMs)."
   ]
  },
  {
   "cell_type": "code",
   "execution_count": 23,
   "metadata": {},
   "outputs": [
    {
     "name": "stderr",
     "output_type": "stream",
     "text": [
      "INFO:sagemaker.image_uris:Defaulting to only available Python version: py310\n",
      "INFO:sagemaker.image_uris:Defaulting to only supported image scope: gpu.\n"
     ]
    },
    {
     "name": "stdout",
     "output_type": "stream",
     "text": [
      "llm image uri: 763104351884.dkr.ecr.eu-central-1.amazonaws.com/huggingface-pytorch-tgi-inference:2.3.0-tgi2.0.2-gpu-py310-cu121-ubuntu22.04\n"
     ]
    }
   ],
   "source": [
    "from sagemaker.huggingface import get_huggingface_llm_image_uri\n",
    "\n",
    "# retrieve the llm image uri\n",
    "llm_image = get_huggingface_llm_image_uri(\n",
    "  \"huggingface\",\n",
    "  session=sm_session,\n",
    "  version=\"2.0.2\",\n",
    ")\n",
    "\n",
    "# print ecr image uri\n",
    "print(f\"llm image uri: {llm_image}\")"
   ]
  },
  {
   "cell_type": "markdown",
   "metadata": {},
   "source": [
    "We can now create a `HuggingFaceModel` using the container uri and the S3 path to our model. We also need to set our TGI configuration including the number of GPUs, max input tokens. You can find a full list of configuration options [here](https://huggingface.co/docs/text-generation-inference/basic_tutorials/launcher)."
   ]
  },
  {
   "cell_type": "code",
   "execution_count": 24,
   "metadata": {},
   "outputs": [],
   "source": [
    "from huggingface_hub import HfFolder\n",
    "from sagemaker.huggingface import HuggingFaceModel\n",
    "from datetime import datetime\n",
    "\n",
    "# Get current date and time\n",
    "current_time = datetime.now().strftime(\"%Y-%m-%d-%H-%M-%S\")\n",
    "\n",
    "# Define the endpoint name with the date and time\n",
    "endpoint_name = f\"llama3-instruct-8b-writing-acc-{current_time}\"\n",
    "\n",
    "\n",
    "# sagemaker config\n",
    "instance_type = \"ml.g5.2xlarge\"\n",
    "health_check_timeout = 1200 # 20 minutes\n",
    "\n",
    "# Define Model and Endpoint configuration parameter\n",
    "config = {\n",
    "  'HF_MODEL_ID': \"/opt/ml/model\",       # Path to the model in the container\n",
    "  'SM_NUM_GPUS': \"1\",                   # Number of GPU used per replica\n",
    "  'MAX_INPUT_LENGTH': \"1024\",           # Max length of input text\n",
    "  'MAX_TOTAL_TOKENS': \"2048\",           # Max length of the generation (including input text)\n",
    "  #'MAX_BATCH_PREFILL_TOKENS': \"16182\",  # Limits the number of tokens that can be processed in parallel during the generation\n",
    "  #'MESSAGES_API_ENABLED': \"true\",       # Enable the OpenAI Messages API\n",
    "}\n",
    "\n",
    "# create HuggingFaceModel with the image uri\n",
    "llm_model = HuggingFaceModel(\n",
    "  role=role,\n",
    "  # path to s3 bucket with model, we are not using a compressed model\n",
    "  #model_data=huggingface_estimator.model_data,\n",
    "  model_data={'S3DataSource':{'S3Uri': 's3://sagemaker-eu-central-1-505049265445/llama3-instruct-8b-writing-acc-exp1-2024-09-06-07-31-03-262/output/model/','S3DataType': 'S3Prefix','CompressionType': 'None'}},\n",
    "  image_uri=llm_image,\n",
    "  env=config\n",
    ")"
   ]
  },
  {
   "cell_type": "markdown",
   "metadata": {},
   "source": [
    "After we have created the HuggingFaceModel we can deploy it to Amazon SageMaker using the deploy method."
   ]
  },
  {
   "cell_type": "code",
   "execution_count": 25,
   "metadata": {},
   "outputs": [
    {
     "name": "stderr",
     "output_type": "stream",
     "text": [
      "INFO:sagemaker:Creating model with name: huggingface-pytorch-tgi-inference-2024-09-06-08-10-26-010\n",
      "INFO:sagemaker:Creating endpoint-config with name llama3-instruct-8b-writing-acc-2024-09-06-08-10-22\n",
      "INFO:sagemaker:Creating endpoint with name llama3-instruct-8b-writing-acc-2024-09-06-08-10-22\n"
     ]
    },
    {
     "name": "stdout",
     "output_type": "stream",
     "text": [
      "-----------------!"
     ]
    }
   ],
   "source": [
    "# Deploy model to an endpoint\n",
    "llm = llm_model.deploy(\n",
    "  initial_instance_count=1,\n",
    "  endpoint_name=endpoint_name,\n",
    "  instance_type=instance_type,\n",
    "  container_startup_health_check_timeout=health_check_timeout, # 20 minutes to give SageMaker the time to download and merge model\n",
    ")"
   ]
  },
  {
   "cell_type": "markdown",
   "metadata": {},
   "source": [
    "SageMaker will now create our endpoint and deploy the model to it. This can takes a 15-20 minutes. Afterwards, we can test our model by sending some example inputs to the endpoint. We will use the `predict` method of the predictor to send the input to the model and get the output. \n"
   ]
  },
  {
   "cell_type": "code",
   "execution_count": 3,
   "metadata": {},
   "outputs": [],
   "source": [
    "# Prompt to generate\n",
    "messages=[\n",
    "    { \"role\": \"system\", \"content\": \"You are a helpful assistant.\" },\n",
    "    { \"role\": \"user\", \"content\": \"Tell me something about Amazon SageMaker?\" }\n",
    "  ]\n",
    "\n",
    "# Generation arguments\n",
    "parameters = {\n",
    "    \"model\": \"llama3-instruct-8b-writing-acc-2024-09-06-08-10-22\", # placeholder, needed\n",
    "    \"top_p\": 0.6,\n",
    "    \"temperature\": 0.9,\n",
    "    \"max_tokens\": 512,\n",
    "    \"stop\": [\"<|eot_id|>\"],\n",
    "}"
   ]
  },
  {
   "cell_type": "code",
   "execution_count": 4,
   "metadata": {},
   "outputs": [
    {
     "ename": "NameError",
     "evalue": "name 'llm' is not defined",
     "output_type": "error",
     "traceback": [
      "\u001b[0;31m---------------------------------------------------------------------------\u001b[0m",
      "\u001b[0;31mNameError\u001b[0m                                 Traceback (most recent call last)",
      "Cell \u001b[0;32mIn[4], line 1\u001b[0m\n\u001b[0;32m----> 1\u001b[0m chat \u001b[39m=\u001b[39m llm\u001b[39m.\u001b[39mpredict({\u001b[39m\"\u001b[39m\u001b[39mmessages\u001b[39m\u001b[39m\"\u001b[39m :messages, \u001b[39m*\u001b[39m\u001b[39m*\u001b[39mparameters})\n\u001b[1;32m      2\u001b[0m \u001b[39m#print(chat[\"choices\"][0][\"message\"][\"content\"].strip())\u001b[39;00m\n",
      "\u001b[0;31mNameError\u001b[0m: name 'llm' is not defined"
     ]
    }
   ],
   "source": [
    "chat = llm.predict({\"messages\" :messages, **parameters})\n",
    "#print(chat[\"choices\"][0][\"message\"][\"content\"].strip())"
   ]
  },
  {
   "cell_type": "code",
   "execution_count": 27,
   "metadata": {},
   "outputs": [
    {
     "data": {
      "text/plain": [
       "[{'role': 'system', 'content': 'You are a helpful assistant.'},\n",
       " {'role': 'user', 'content': 'Tell me something about Amazon SageMaker?'}]"
      ]
     },
     "execution_count": 27,
     "metadata": {},
     "output_type": "execute_result"
    }
   ],
   "source": [
    "# Prompt to generate\n",
    "#messages = [{\"content\":\"As an English student, your task is to answer a prompt with a level of grammatical accuracy ranging from 1 to 6.\",\"role\":\"system\"},\n",
    "#            {\"content\":\"Answer the following prompt: 'What did you do during your last vacation?' with a level of accuracy 1\",\"role\":\"user\"},\n",
    "#          ]\n",
    "\n",
    "messages=[\n",
    "    { \"role\": \"system\", \"content\": \"You are a helpful assistant.\" },\n",
    "    { \"role\": \"user\", \"content\": \"Tell me something about Amazon SageMaker?\" }\n",
    "  ]\n",
    "messages"
   ]
  },
  {
   "cell_type": "code",
   "execution_count": 28,
   "metadata": {},
   "outputs": [
    {
     "name": "stdout",
     "output_type": "stream",
     "text": [
      "[{'generated_text': 'system: You are a helpful assistant.\\n'\n",
      "                    'user: Tell me something about Amazon SageMaker? \\n'\n",
      "                    \"Answer the following prompt: 'You're renting out a room. \"\n",
      "                    'Write a detailed description of it for a room rental '\n",
      "                    \"website.' with a level of accuracy: '6.0'\"}]\n"
     ]
    }
   ],
   "source": [
    "\n",
    "# Convert messages into a format that can be used as input text for the model\n",
    "conversation_history = \"\\n\".join([f\"{message['role']}: {message['content']}\" for message in messages])\n",
    "\n",
    "# Payload to send to the SageMaker endpoint\n",
    "payload = {\n",
    "    \"inputs\": conversation_history,\n",
    "    \"parameters\": {\n",
    "        \"model\": endpoint_name, # placeholder, needed\n",
    "        \"top_p\": 0.6,\n",
    "        \"temperature\": 0.9,\n",
    "        \"max_tokens\": 1028,\n",
    "        \"stop\": [\"<|eot_id|>\"]\n",
    "    }\n",
    "}\n",
    "# Assuming `llm` is your model object, now correctly invoking the predict function\n",
    "chat = llm.predict(payload)\n",
    "from pprint import pprint\n",
    "pprint(chat)\n"
   ]
  },
  {
   "cell_type": "code",
   "execution_count": 30,
   "metadata": {},
   "outputs": [
    {
     "data": {
      "text/plain": [
       "[{'generated_text': \"Answer the following prompt: 'What did you do during your last vacation?' with a level of accuracy 1 2 3 4 5. \\nEach level reflects increasing proficiency in using correct grammatical structures and sentence patterns in English as your second language.\\n\\nHere is the scale you should use to build your answer:\\n1: The student_answer has frequent and noticeable Errors: The student makes frequent and noticeable errors in grammar, significantly impeding intelligibility.\\n2: The student_answer has basic Control with consistent errors: The student demonstrates control over simple grammatical structures but makes consistent basic errors that often impede intelligibility.\\n3: The student_answer has control with some errors: The student demonstrates control over common grammatical structures, although occasional errors impede intelligibility.\\n4: The student_answer has fair control with infrequent errors: The student demonstrates control over a variety of grammatical structures, with noticeable errors made infrequently. These errors do not significantly impede intelligibility, and there may be some self-correction.\\n5: The student_answer has high control with rare errors: The student demonstrates a high level of control over a variety of grammatical structures, with errors rarely made. However, there might be noticeable errors that occasionally impede intelligibility, and self-correction may be inconsistent.\\n6: The student_answer has advanced control with rare errors: The student demonstrates advanced control over a variety of grammatical structures, even when engaged in other activities. Errors are rarely noticeable, and there is consistent evidence of self-correction.\"}]"
      ]
     },
     "execution_count": 30,
     "metadata": {},
     "output_type": "execute_result"
    }
   ],
   "source": [
    "payload = {\n",
    "    \"inputs\": \"Answer the following prompt: 'What did you do during your last vacation?' with a level of accuracy 1 \",\n",
    "    \"parameters\": {\"max_new_tokens\":512, \"top_p\":0.9, \"temperature\":1}\n",
    "}\n",
    "response = llm.predict(payload)\n",
    "response"
   ]
  },
  {
   "cell_type": "markdown",
   "metadata": {},
   "source": [
    "_Note: If you want to learn more about streaming responses or benchmarking your endpoint checkout [Deploy Llama 3 on Amazon SageMaker](https://www.philschmid.de/sagemaker-llama3) and [Deploy Mixtral 8x7B on Amazon SageMaker\n",
    "](https://www.philschmid.de/sagemaker-deploy-mixtral)._\n",
    "\n",
    "To clean up, we can delete the model and endpoint."
   ]
  },
  {
   "cell_type": "code",
   "execution_count": 25,
   "metadata": {},
   "outputs": [
    {
     "name": "stderr",
     "output_type": "stream",
     "text": [
      "INFO:sagemaker:Deleting model with name: huggingface-pytorch-tgi-inference-2024-09-05-19-14-47-743\n",
      "INFO:sagemaker:Deleting endpoint configuration with name: huggingface-pytorch-tgi-inference-2024-09-05-19-14-48-851\n",
      "INFO:sagemaker:Deleting endpoint with name: huggingface-pytorch-tgi-inference-2024-09-05-19-14-48-851\n"
     ]
    }
   ],
   "source": [
    "llm.delete_model()\n",
    "llm.delete_endpoint()"
   ]
  }
 ],
 "metadata": {
  "kernelspec": {
   "display_name": "pytorch",
   "language": "python",
   "name": "python3"
  },
  "language_info": {
   "codemirror_mode": {
    "name": "ipython",
    "version": 3
   },
   "file_extension": ".py",
   "mimetype": "text/x-python",
   "name": "python",
   "nbconvert_exporter": "python",
   "pygments_lexer": "ipython3",
   "version": "3.10.14"
  },
  "vscode": {
   "interpreter": {
    "hash": "2d58e898dde0263bc564c6968b04150abacfd33eed9b19aaa8e45c040360e146"
   }
  }
 },
 "nbformat": 4,
 "nbformat_minor": 4
}
